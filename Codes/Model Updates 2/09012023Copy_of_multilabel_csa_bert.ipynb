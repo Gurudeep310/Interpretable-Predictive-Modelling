{
  "metadata": {
    "kernelspec": {
      "language": "python",
      "display_name": "Python 3",
      "name": "python3"
    },
    "language_info": {
      "name": "python",
      "version": "3.7.12",
      "mimetype": "text/x-python",
      "codemirror_mode": {
        "name": "ipython",
        "version": 3
      },
      "pygments_lexer": "ipython3",
      "nbconvert_exporter": "python",
      "file_extension": ".py"
    },
    "colab": {
      "provenance": []
    },
    "accelerator": "GPU",
    "gpuClass": "standard",
    "widgets": {
      "application/vnd.jupyter.widget-state+json": {
        "15c6e98a8e8f4aa8ab79322a83e68387": {
          "model_module": "@jupyter-widgets/controls",
          "model_name": "HBoxModel",
          "model_module_version": "1.5.0",
          "state": {
            "_dom_classes": [],
            "_model_module": "@jupyter-widgets/controls",
            "_model_module_version": "1.5.0",
            "_model_name": "HBoxModel",
            "_view_count": null,
            "_view_module": "@jupyter-widgets/controls",
            "_view_module_version": "1.5.0",
            "_view_name": "HBoxView",
            "box_style": "",
            "children": [
              "IPY_MODEL_daf71acb8df24128b0ad42e550c73bb6",
              "IPY_MODEL_a7091cde865344b4ac8a99bbc41babfc",
              "IPY_MODEL_8074deb0d7be4f62987ec04f38104e3d"
            ],
            "layout": "IPY_MODEL_176f33282fbd4d5fa60ed2f963a902b8"
          }
        },
        "daf71acb8df24128b0ad42e550c73bb6": {
          "model_module": "@jupyter-widgets/controls",
          "model_name": "HTMLModel",
          "model_module_version": "1.5.0",
          "state": {
            "_dom_classes": [],
            "_model_module": "@jupyter-widgets/controls",
            "_model_module_version": "1.5.0",
            "_model_name": "HTMLModel",
            "_view_count": null,
            "_view_module": "@jupyter-widgets/controls",
            "_view_module_version": "1.5.0",
            "_view_name": "HTMLView",
            "description": "",
            "description_tooltip": null,
            "layout": "IPY_MODEL_3ea412a7dcb6416796c18c86f344c2c4",
            "placeholder": "​",
            "style": "IPY_MODEL_7f0c9b46d8c6486ab4453418b5561488",
            "value": "Downloading: 100%"
          }
        },
        "a7091cde865344b4ac8a99bbc41babfc": {
          "model_module": "@jupyter-widgets/controls",
          "model_name": "FloatProgressModel",
          "model_module_version": "1.5.0",
          "state": {
            "_dom_classes": [],
            "_model_module": "@jupyter-widgets/controls",
            "_model_module_version": "1.5.0",
            "_model_name": "FloatProgressModel",
            "_view_count": null,
            "_view_module": "@jupyter-widgets/controls",
            "_view_module_version": "1.5.0",
            "_view_name": "ProgressView",
            "bar_style": "success",
            "description": "",
            "description_tooltip": null,
            "layout": "IPY_MODEL_1063f46745e74d9cbcd9bf4b1df1a6d6",
            "max": 898823,
            "min": 0,
            "orientation": "horizontal",
            "style": "IPY_MODEL_366e1afc828949b0aa9e2c39b0906575",
            "value": 898823
          }
        },
        "8074deb0d7be4f62987ec04f38104e3d": {
          "model_module": "@jupyter-widgets/controls",
          "model_name": "HTMLModel",
          "model_module_version": "1.5.0",
          "state": {
            "_dom_classes": [],
            "_model_module": "@jupyter-widgets/controls",
            "_model_module_version": "1.5.0",
            "_model_name": "HTMLModel",
            "_view_count": null,
            "_view_module": "@jupyter-widgets/controls",
            "_view_module_version": "1.5.0",
            "_view_name": "HTMLView",
            "description": "",
            "description_tooltip": null,
            "layout": "IPY_MODEL_92938aed34bc43fcb0dc47dce882759c",
            "placeholder": "​",
            "style": "IPY_MODEL_3bac19050ab94e58a1dfe3ff0bffe164",
            "value": " 899k/899k [00:00&lt;00:00, 2.04MB/s]"
          }
        },
        "176f33282fbd4d5fa60ed2f963a902b8": {
          "model_module": "@jupyter-widgets/base",
          "model_name": "LayoutModel",
          "model_module_version": "1.2.0",
          "state": {
            "_model_module": "@jupyter-widgets/base",
            "_model_module_version": "1.2.0",
            "_model_name": "LayoutModel",
            "_view_count": null,
            "_view_module": "@jupyter-widgets/base",
            "_view_module_version": "1.2.0",
            "_view_name": "LayoutView",
            "align_content": null,
            "align_items": null,
            "align_self": null,
            "border": null,
            "bottom": null,
            "display": null,
            "flex": null,
            "flex_flow": null,
            "grid_area": null,
            "grid_auto_columns": null,
            "grid_auto_flow": null,
            "grid_auto_rows": null,
            "grid_column": null,
            "grid_gap": null,
            "grid_row": null,
            "grid_template_areas": null,
            "grid_template_columns": null,
            "grid_template_rows": null,
            "height": null,
            "justify_content": null,
            "justify_items": null,
            "left": null,
            "margin": null,
            "max_height": null,
            "max_width": null,
            "min_height": null,
            "min_width": null,
            "object_fit": null,
            "object_position": null,
            "order": null,
            "overflow": null,
            "overflow_x": null,
            "overflow_y": null,
            "padding": null,
            "right": null,
            "top": null,
            "visibility": null,
            "width": null
          }
        },
        "3ea412a7dcb6416796c18c86f344c2c4": {
          "model_module": "@jupyter-widgets/base",
          "model_name": "LayoutModel",
          "model_module_version": "1.2.0",
          "state": {
            "_model_module": "@jupyter-widgets/base",
            "_model_module_version": "1.2.0",
            "_model_name": "LayoutModel",
            "_view_count": null,
            "_view_module": "@jupyter-widgets/base",
            "_view_module_version": "1.2.0",
            "_view_name": "LayoutView",
            "align_content": null,
            "align_items": null,
            "align_self": null,
            "border": null,
            "bottom": null,
            "display": null,
            "flex": null,
            "flex_flow": null,
            "grid_area": null,
            "grid_auto_columns": null,
            "grid_auto_flow": null,
            "grid_auto_rows": null,
            "grid_column": null,
            "grid_gap": null,
            "grid_row": null,
            "grid_template_areas": null,
            "grid_template_columns": null,
            "grid_template_rows": null,
            "height": null,
            "justify_content": null,
            "justify_items": null,
            "left": null,
            "margin": null,
            "max_height": null,
            "max_width": null,
            "min_height": null,
            "min_width": null,
            "object_fit": null,
            "object_position": null,
            "order": null,
            "overflow": null,
            "overflow_x": null,
            "overflow_y": null,
            "padding": null,
            "right": null,
            "top": null,
            "visibility": null,
            "width": null
          }
        },
        "7f0c9b46d8c6486ab4453418b5561488": {
          "model_module": "@jupyter-widgets/controls",
          "model_name": "DescriptionStyleModel",
          "model_module_version": "1.5.0",
          "state": {
            "_model_module": "@jupyter-widgets/controls",
            "_model_module_version": "1.5.0",
            "_model_name": "DescriptionStyleModel",
            "_view_count": null,
            "_view_module": "@jupyter-widgets/base",
            "_view_module_version": "1.2.0",
            "_view_name": "StyleView",
            "description_width": ""
          }
        },
        "1063f46745e74d9cbcd9bf4b1df1a6d6": {
          "model_module": "@jupyter-widgets/base",
          "model_name": "LayoutModel",
          "model_module_version": "1.2.0",
          "state": {
            "_model_module": "@jupyter-widgets/base",
            "_model_module_version": "1.2.0",
            "_model_name": "LayoutModel",
            "_view_count": null,
            "_view_module": "@jupyter-widgets/base",
            "_view_module_version": "1.2.0",
            "_view_name": "LayoutView",
            "align_content": null,
            "align_items": null,
            "align_self": null,
            "border": null,
            "bottom": null,
            "display": null,
            "flex": null,
            "flex_flow": null,
            "grid_area": null,
            "grid_auto_columns": null,
            "grid_auto_flow": null,
            "grid_auto_rows": null,
            "grid_column": null,
            "grid_gap": null,
            "grid_row": null,
            "grid_template_areas": null,
            "grid_template_columns": null,
            "grid_template_rows": null,
            "height": null,
            "justify_content": null,
            "justify_items": null,
            "left": null,
            "margin": null,
            "max_height": null,
            "max_width": null,
            "min_height": null,
            "min_width": null,
            "object_fit": null,
            "object_position": null,
            "order": null,
            "overflow": null,
            "overflow_x": null,
            "overflow_y": null,
            "padding": null,
            "right": null,
            "top": null,
            "visibility": null,
            "width": null
          }
        },
        "366e1afc828949b0aa9e2c39b0906575": {
          "model_module": "@jupyter-widgets/controls",
          "model_name": "ProgressStyleModel",
          "model_module_version": "1.5.0",
          "state": {
            "_model_module": "@jupyter-widgets/controls",
            "_model_module_version": "1.5.0",
            "_model_name": "ProgressStyleModel",
            "_view_count": null,
            "_view_module": "@jupyter-widgets/base",
            "_view_module_version": "1.2.0",
            "_view_name": "StyleView",
            "bar_color": null,
            "description_width": ""
          }
        },
        "92938aed34bc43fcb0dc47dce882759c": {
          "model_module": "@jupyter-widgets/base",
          "model_name": "LayoutModel",
          "model_module_version": "1.2.0",
          "state": {
            "_model_module": "@jupyter-widgets/base",
            "_model_module_version": "1.2.0",
            "_model_name": "LayoutModel",
            "_view_count": null,
            "_view_module": "@jupyter-widgets/base",
            "_view_module_version": "1.2.0",
            "_view_name": "LayoutView",
            "align_content": null,
            "align_items": null,
            "align_self": null,
            "border": null,
            "bottom": null,
            "display": null,
            "flex": null,
            "flex_flow": null,
            "grid_area": null,
            "grid_auto_columns": null,
            "grid_auto_flow": null,
            "grid_auto_rows": null,
            "grid_column": null,
            "grid_gap": null,
            "grid_row": null,
            "grid_template_areas": null,
            "grid_template_columns": null,
            "grid_template_rows": null,
            "height": null,
            "justify_content": null,
            "justify_items": null,
            "left": null,
            "margin": null,
            "max_height": null,
            "max_width": null,
            "min_height": null,
            "min_width": null,
            "object_fit": null,
            "object_position": null,
            "order": null,
            "overflow": null,
            "overflow_x": null,
            "overflow_y": null,
            "padding": null,
            "right": null,
            "top": null,
            "visibility": null,
            "width": null
          }
        },
        "3bac19050ab94e58a1dfe3ff0bffe164": {
          "model_module": "@jupyter-widgets/controls",
          "model_name": "DescriptionStyleModel",
          "model_module_version": "1.5.0",
          "state": {
            "_model_module": "@jupyter-widgets/controls",
            "_model_module_version": "1.5.0",
            "_model_name": "DescriptionStyleModel",
            "_view_count": null,
            "_view_module": "@jupyter-widgets/base",
            "_view_module_version": "1.2.0",
            "_view_name": "StyleView",
            "description_width": ""
          }
        },
        "e59bc493d024416d9f7644cd63dacb40": {
          "model_module": "@jupyter-widgets/controls",
          "model_name": "HBoxModel",
          "model_module_version": "1.5.0",
          "state": {
            "_dom_classes": [],
            "_model_module": "@jupyter-widgets/controls",
            "_model_module_version": "1.5.0",
            "_model_name": "HBoxModel",
            "_view_count": null,
            "_view_module": "@jupyter-widgets/controls",
            "_view_module_version": "1.5.0",
            "_view_name": "HBoxView",
            "box_style": "",
            "children": [
              "IPY_MODEL_127c02d0acbb4896b3691e6f1e94ebea",
              "IPY_MODEL_1991d47eb5954333b0ad8ce907a043bd",
              "IPY_MODEL_cd19495d480f4bcca156c1547d79cbaf"
            ],
            "layout": "IPY_MODEL_ea993b8432954c999e76802514358173"
          }
        },
        "127c02d0acbb4896b3691e6f1e94ebea": {
          "model_module": "@jupyter-widgets/controls",
          "model_name": "HTMLModel",
          "model_module_version": "1.5.0",
          "state": {
            "_dom_classes": [],
            "_model_module": "@jupyter-widgets/controls",
            "_model_module_version": "1.5.0",
            "_model_name": "HTMLModel",
            "_view_count": null,
            "_view_module": "@jupyter-widgets/controls",
            "_view_module_version": "1.5.0",
            "_view_name": "HTMLView",
            "description": "",
            "description_tooltip": null,
            "layout": "IPY_MODEL_efbca377cabc46b9af4969448a297a00",
            "placeholder": "​",
            "style": "IPY_MODEL_a76c904c68d14393a5187cd9a3dec336",
            "value": "Downloading: 100%"
          }
        },
        "1991d47eb5954333b0ad8ce907a043bd": {
          "model_module": "@jupyter-widgets/controls",
          "model_name": "FloatProgressModel",
          "model_module_version": "1.5.0",
          "state": {
            "_dom_classes": [],
            "_model_module": "@jupyter-widgets/controls",
            "_model_module_version": "1.5.0",
            "_model_name": "FloatProgressModel",
            "_view_count": null,
            "_view_module": "@jupyter-widgets/controls",
            "_view_module_version": "1.5.0",
            "_view_name": "ProgressView",
            "bar_style": "success",
            "description": "",
            "description_tooltip": null,
            "layout": "IPY_MODEL_9c908cfa199a4582a7a5b65ba396ec4f",
            "max": 456318,
            "min": 0,
            "orientation": "horizontal",
            "style": "IPY_MODEL_a1361909dbbc41918c37d123ae99dd4d",
            "value": 456318
          }
        },
        "cd19495d480f4bcca156c1547d79cbaf": {
          "model_module": "@jupyter-widgets/controls",
          "model_name": "HTMLModel",
          "model_module_version": "1.5.0",
          "state": {
            "_dom_classes": [],
            "_model_module": "@jupyter-widgets/controls",
            "_model_module_version": "1.5.0",
            "_model_name": "HTMLModel",
            "_view_count": null,
            "_view_module": "@jupyter-widgets/controls",
            "_view_module_version": "1.5.0",
            "_view_name": "HTMLView",
            "description": "",
            "description_tooltip": null,
            "layout": "IPY_MODEL_fa41989a1bca49ae859dd567480fcf79",
            "placeholder": "​",
            "style": "IPY_MODEL_60abb59aa54247b3811a73c61f94147e",
            "value": " 456k/456k [00:00&lt;00:00, 1.53MB/s]"
          }
        },
        "ea993b8432954c999e76802514358173": {
          "model_module": "@jupyter-widgets/base",
          "model_name": "LayoutModel",
          "model_module_version": "1.2.0",
          "state": {
            "_model_module": "@jupyter-widgets/base",
            "_model_module_version": "1.2.0",
            "_model_name": "LayoutModel",
            "_view_count": null,
            "_view_module": "@jupyter-widgets/base",
            "_view_module_version": "1.2.0",
            "_view_name": "LayoutView",
            "align_content": null,
            "align_items": null,
            "align_self": null,
            "border": null,
            "bottom": null,
            "display": null,
            "flex": null,
            "flex_flow": null,
            "grid_area": null,
            "grid_auto_columns": null,
            "grid_auto_flow": null,
            "grid_auto_rows": null,
            "grid_column": null,
            "grid_gap": null,
            "grid_row": null,
            "grid_template_areas": null,
            "grid_template_columns": null,
            "grid_template_rows": null,
            "height": null,
            "justify_content": null,
            "justify_items": null,
            "left": null,
            "margin": null,
            "max_height": null,
            "max_width": null,
            "min_height": null,
            "min_width": null,
            "object_fit": null,
            "object_position": null,
            "order": null,
            "overflow": null,
            "overflow_x": null,
            "overflow_y": null,
            "padding": null,
            "right": null,
            "top": null,
            "visibility": null,
            "width": null
          }
        },
        "efbca377cabc46b9af4969448a297a00": {
          "model_module": "@jupyter-widgets/base",
          "model_name": "LayoutModel",
          "model_module_version": "1.2.0",
          "state": {
            "_model_module": "@jupyter-widgets/base",
            "_model_module_version": "1.2.0",
            "_model_name": "LayoutModel",
            "_view_count": null,
            "_view_module": "@jupyter-widgets/base",
            "_view_module_version": "1.2.0",
            "_view_name": "LayoutView",
            "align_content": null,
            "align_items": null,
            "align_self": null,
            "border": null,
            "bottom": null,
            "display": null,
            "flex": null,
            "flex_flow": null,
            "grid_area": null,
            "grid_auto_columns": null,
            "grid_auto_flow": null,
            "grid_auto_rows": null,
            "grid_column": null,
            "grid_gap": null,
            "grid_row": null,
            "grid_template_areas": null,
            "grid_template_columns": null,
            "grid_template_rows": null,
            "height": null,
            "justify_content": null,
            "justify_items": null,
            "left": null,
            "margin": null,
            "max_height": null,
            "max_width": null,
            "min_height": null,
            "min_width": null,
            "object_fit": null,
            "object_position": null,
            "order": null,
            "overflow": null,
            "overflow_x": null,
            "overflow_y": null,
            "padding": null,
            "right": null,
            "top": null,
            "visibility": null,
            "width": null
          }
        },
        "a76c904c68d14393a5187cd9a3dec336": {
          "model_module": "@jupyter-widgets/controls",
          "model_name": "DescriptionStyleModel",
          "model_module_version": "1.5.0",
          "state": {
            "_model_module": "@jupyter-widgets/controls",
            "_model_module_version": "1.5.0",
            "_model_name": "DescriptionStyleModel",
            "_view_count": null,
            "_view_module": "@jupyter-widgets/base",
            "_view_module_version": "1.2.0",
            "_view_name": "StyleView",
            "description_width": ""
          }
        },
        "9c908cfa199a4582a7a5b65ba396ec4f": {
          "model_module": "@jupyter-widgets/base",
          "model_name": "LayoutModel",
          "model_module_version": "1.2.0",
          "state": {
            "_model_module": "@jupyter-widgets/base",
            "_model_module_version": "1.2.0",
            "_model_name": "LayoutModel",
            "_view_count": null,
            "_view_module": "@jupyter-widgets/base",
            "_view_module_version": "1.2.0",
            "_view_name": "LayoutView",
            "align_content": null,
            "align_items": null,
            "align_self": null,
            "border": null,
            "bottom": null,
            "display": null,
            "flex": null,
            "flex_flow": null,
            "grid_area": null,
            "grid_auto_columns": null,
            "grid_auto_flow": null,
            "grid_auto_rows": null,
            "grid_column": null,
            "grid_gap": null,
            "grid_row": null,
            "grid_template_areas": null,
            "grid_template_columns": null,
            "grid_template_rows": null,
            "height": null,
            "justify_content": null,
            "justify_items": null,
            "left": null,
            "margin": null,
            "max_height": null,
            "max_width": null,
            "min_height": null,
            "min_width": null,
            "object_fit": null,
            "object_position": null,
            "order": null,
            "overflow": null,
            "overflow_x": null,
            "overflow_y": null,
            "padding": null,
            "right": null,
            "top": null,
            "visibility": null,
            "width": null
          }
        },
        "a1361909dbbc41918c37d123ae99dd4d": {
          "model_module": "@jupyter-widgets/controls",
          "model_name": "ProgressStyleModel",
          "model_module_version": "1.5.0",
          "state": {
            "_model_module": "@jupyter-widgets/controls",
            "_model_module_version": "1.5.0",
            "_model_name": "ProgressStyleModel",
            "_view_count": null,
            "_view_module": "@jupyter-widgets/base",
            "_view_module_version": "1.2.0",
            "_view_name": "StyleView",
            "bar_color": null,
            "description_width": ""
          }
        },
        "fa41989a1bca49ae859dd567480fcf79": {
          "model_module": "@jupyter-widgets/base",
          "model_name": "LayoutModel",
          "model_module_version": "1.2.0",
          "state": {
            "_model_module": "@jupyter-widgets/base",
            "_model_module_version": "1.2.0",
            "_model_name": "LayoutModel",
            "_view_count": null,
            "_view_module": "@jupyter-widgets/base",
            "_view_module_version": "1.2.0",
            "_view_name": "LayoutView",
            "align_content": null,
            "align_items": null,
            "align_self": null,
            "border": null,
            "bottom": null,
            "display": null,
            "flex": null,
            "flex_flow": null,
            "grid_area": null,
            "grid_auto_columns": null,
            "grid_auto_flow": null,
            "grid_auto_rows": null,
            "grid_column": null,
            "grid_gap": null,
            "grid_row": null,
            "grid_template_areas": null,
            "grid_template_columns": null,
            "grid_template_rows": null,
            "height": null,
            "justify_content": null,
            "justify_items": null,
            "left": null,
            "margin": null,
            "max_height": null,
            "max_width": null,
            "min_height": null,
            "min_width": null,
            "object_fit": null,
            "object_position": null,
            "order": null,
            "overflow": null,
            "overflow_x": null,
            "overflow_y": null,
            "padding": null,
            "right": null,
            "top": null,
            "visibility": null,
            "width": null
          }
        },
        "60abb59aa54247b3811a73c61f94147e": {
          "model_module": "@jupyter-widgets/controls",
          "model_name": "DescriptionStyleModel",
          "model_module_version": "1.5.0",
          "state": {
            "_model_module": "@jupyter-widgets/controls",
            "_model_module_version": "1.5.0",
            "_model_name": "DescriptionStyleModel",
            "_view_count": null,
            "_view_module": "@jupyter-widgets/base",
            "_view_module_version": "1.2.0",
            "_view_name": "StyleView",
            "description_width": ""
          }
        },
        "5508b2c64a4a44e89962f437fc938c49": {
          "model_module": "@jupyter-widgets/controls",
          "model_name": "HBoxModel",
          "model_module_version": "1.5.0",
          "state": {
            "_dom_classes": [],
            "_model_module": "@jupyter-widgets/controls",
            "_model_module_version": "1.5.0",
            "_model_name": "HBoxModel",
            "_view_count": null,
            "_view_module": "@jupyter-widgets/controls",
            "_view_module_version": "1.5.0",
            "_view_name": "HBoxView",
            "box_style": "",
            "children": [
              "IPY_MODEL_80ef24133ac94bffab90b9cffcdb22f7",
              "IPY_MODEL_66793c62d58c4fff8fa3ba173e33be08",
              "IPY_MODEL_b98df6098a0148d3bfafcd63c0c93ad8"
            ],
            "layout": "IPY_MODEL_2c5437545edc47b2991cd11958b68e08"
          }
        },
        "80ef24133ac94bffab90b9cffcdb22f7": {
          "model_module": "@jupyter-widgets/controls",
          "model_name": "HTMLModel",
          "model_module_version": "1.5.0",
          "state": {
            "_dom_classes": [],
            "_model_module": "@jupyter-widgets/controls",
            "_model_module_version": "1.5.0",
            "_model_name": "HTMLModel",
            "_view_count": null,
            "_view_module": "@jupyter-widgets/controls",
            "_view_module_version": "1.5.0",
            "_view_name": "HTMLView",
            "description": "",
            "description_tooltip": null,
            "layout": "IPY_MODEL_d3c7425c382e444796989b4604b4983c",
            "placeholder": "​",
            "style": "IPY_MODEL_c9d216f3054b4a4f9c922d369c3b1bb8",
            "value": "Downloading: 100%"
          }
        },
        "66793c62d58c4fff8fa3ba173e33be08": {
          "model_module": "@jupyter-widgets/controls",
          "model_name": "FloatProgressModel",
          "model_module_version": "1.5.0",
          "state": {
            "_dom_classes": [],
            "_model_module": "@jupyter-widgets/controls",
            "_model_module_version": "1.5.0",
            "_model_name": "FloatProgressModel",
            "_view_count": null,
            "_view_module": "@jupyter-widgets/controls",
            "_view_module_version": "1.5.0",
            "_view_name": "ProgressView",
            "bar_style": "success",
            "description": "",
            "description_tooltip": null,
            "layout": "IPY_MODEL_c3260615cff241849a23c765546de7ea",
            "max": 481,
            "min": 0,
            "orientation": "horizontal",
            "style": "IPY_MODEL_5d5e80aaa57943a8b002658b4d2dbb80",
            "value": 481
          }
        },
        "b98df6098a0148d3bfafcd63c0c93ad8": {
          "model_module": "@jupyter-widgets/controls",
          "model_name": "HTMLModel",
          "model_module_version": "1.5.0",
          "state": {
            "_dom_classes": [],
            "_model_module": "@jupyter-widgets/controls",
            "_model_module_version": "1.5.0",
            "_model_name": "HTMLModel",
            "_view_count": null,
            "_view_module": "@jupyter-widgets/controls",
            "_view_module_version": "1.5.0",
            "_view_name": "HTMLView",
            "description": "",
            "description_tooltip": null,
            "layout": "IPY_MODEL_d59f9a8dda7f4431bedd2a29aea29c6c",
            "placeholder": "​",
            "style": "IPY_MODEL_bfe0ab4c81dc43eca9e3763c0cf577a6",
            "value": " 481/481 [00:00&lt;00:00, 32.3kB/s]"
          }
        },
        "2c5437545edc47b2991cd11958b68e08": {
          "model_module": "@jupyter-widgets/base",
          "model_name": "LayoutModel",
          "model_module_version": "1.2.0",
          "state": {
            "_model_module": "@jupyter-widgets/base",
            "_model_module_version": "1.2.0",
            "_model_name": "LayoutModel",
            "_view_count": null,
            "_view_module": "@jupyter-widgets/base",
            "_view_module_version": "1.2.0",
            "_view_name": "LayoutView",
            "align_content": null,
            "align_items": null,
            "align_self": null,
            "border": null,
            "bottom": null,
            "display": null,
            "flex": null,
            "flex_flow": null,
            "grid_area": null,
            "grid_auto_columns": null,
            "grid_auto_flow": null,
            "grid_auto_rows": null,
            "grid_column": null,
            "grid_gap": null,
            "grid_row": null,
            "grid_template_areas": null,
            "grid_template_columns": null,
            "grid_template_rows": null,
            "height": null,
            "justify_content": null,
            "justify_items": null,
            "left": null,
            "margin": null,
            "max_height": null,
            "max_width": null,
            "min_height": null,
            "min_width": null,
            "object_fit": null,
            "object_position": null,
            "order": null,
            "overflow": null,
            "overflow_x": null,
            "overflow_y": null,
            "padding": null,
            "right": null,
            "top": null,
            "visibility": null,
            "width": null
          }
        },
        "d3c7425c382e444796989b4604b4983c": {
          "model_module": "@jupyter-widgets/base",
          "model_name": "LayoutModel",
          "model_module_version": "1.2.0",
          "state": {
            "_model_module": "@jupyter-widgets/base",
            "_model_module_version": "1.2.0",
            "_model_name": "LayoutModel",
            "_view_count": null,
            "_view_module": "@jupyter-widgets/base",
            "_view_module_version": "1.2.0",
            "_view_name": "LayoutView",
            "align_content": null,
            "align_items": null,
            "align_self": null,
            "border": null,
            "bottom": null,
            "display": null,
            "flex": null,
            "flex_flow": null,
            "grid_area": null,
            "grid_auto_columns": null,
            "grid_auto_flow": null,
            "grid_auto_rows": null,
            "grid_column": null,
            "grid_gap": null,
            "grid_row": null,
            "grid_template_areas": null,
            "grid_template_columns": null,
            "grid_template_rows": null,
            "height": null,
            "justify_content": null,
            "justify_items": null,
            "left": null,
            "margin": null,
            "max_height": null,
            "max_width": null,
            "min_height": null,
            "min_width": null,
            "object_fit": null,
            "object_position": null,
            "order": null,
            "overflow": null,
            "overflow_x": null,
            "overflow_y": null,
            "padding": null,
            "right": null,
            "top": null,
            "visibility": null,
            "width": null
          }
        },
        "c9d216f3054b4a4f9c922d369c3b1bb8": {
          "model_module": "@jupyter-widgets/controls",
          "model_name": "DescriptionStyleModel",
          "model_module_version": "1.5.0",
          "state": {
            "_model_module": "@jupyter-widgets/controls",
            "_model_module_version": "1.5.0",
            "_model_name": "DescriptionStyleModel",
            "_view_count": null,
            "_view_module": "@jupyter-widgets/base",
            "_view_module_version": "1.2.0",
            "_view_name": "StyleView",
            "description_width": ""
          }
        },
        "c3260615cff241849a23c765546de7ea": {
          "model_module": "@jupyter-widgets/base",
          "model_name": "LayoutModel",
          "model_module_version": "1.2.0",
          "state": {
            "_model_module": "@jupyter-widgets/base",
            "_model_module_version": "1.2.0",
            "_model_name": "LayoutModel",
            "_view_count": null,
            "_view_module": "@jupyter-widgets/base",
            "_view_module_version": "1.2.0",
            "_view_name": "LayoutView",
            "align_content": null,
            "align_items": null,
            "align_self": null,
            "border": null,
            "bottom": null,
            "display": null,
            "flex": null,
            "flex_flow": null,
            "grid_area": null,
            "grid_auto_columns": null,
            "grid_auto_flow": null,
            "grid_auto_rows": null,
            "grid_column": null,
            "grid_gap": null,
            "grid_row": null,
            "grid_template_areas": null,
            "grid_template_columns": null,
            "grid_template_rows": null,
            "height": null,
            "justify_content": null,
            "justify_items": null,
            "left": null,
            "margin": null,
            "max_height": null,
            "max_width": null,
            "min_height": null,
            "min_width": null,
            "object_fit": null,
            "object_position": null,
            "order": null,
            "overflow": null,
            "overflow_x": null,
            "overflow_y": null,
            "padding": null,
            "right": null,
            "top": null,
            "visibility": null,
            "width": null
          }
        },
        "5d5e80aaa57943a8b002658b4d2dbb80": {
          "model_module": "@jupyter-widgets/controls",
          "model_name": "ProgressStyleModel",
          "model_module_version": "1.5.0",
          "state": {
            "_model_module": "@jupyter-widgets/controls",
            "_model_module_version": "1.5.0",
            "_model_name": "ProgressStyleModel",
            "_view_count": null,
            "_view_module": "@jupyter-widgets/base",
            "_view_module_version": "1.2.0",
            "_view_name": "StyleView",
            "bar_color": null,
            "description_width": ""
          }
        },
        "d59f9a8dda7f4431bedd2a29aea29c6c": {
          "model_module": "@jupyter-widgets/base",
          "model_name": "LayoutModel",
          "model_module_version": "1.2.0",
          "state": {
            "_model_module": "@jupyter-widgets/base",
            "_model_module_version": "1.2.0",
            "_model_name": "LayoutModel",
            "_view_count": null,
            "_view_module": "@jupyter-widgets/base",
            "_view_module_version": "1.2.0",
            "_view_name": "LayoutView",
            "align_content": null,
            "align_items": null,
            "align_self": null,
            "border": null,
            "bottom": null,
            "display": null,
            "flex": null,
            "flex_flow": null,
            "grid_area": null,
            "grid_auto_columns": null,
            "grid_auto_flow": null,
            "grid_auto_rows": null,
            "grid_column": null,
            "grid_gap": null,
            "grid_row": null,
            "grid_template_areas": null,
            "grid_template_columns": null,
            "grid_template_rows": null,
            "height": null,
            "justify_content": null,
            "justify_items": null,
            "left": null,
            "margin": null,
            "max_height": null,
            "max_width": null,
            "min_height": null,
            "min_width": null,
            "object_fit": null,
            "object_position": null,
            "order": null,
            "overflow": null,
            "overflow_x": null,
            "overflow_y": null,
            "padding": null,
            "right": null,
            "top": null,
            "visibility": null,
            "width": null
          }
        },
        "bfe0ab4c81dc43eca9e3763c0cf577a6": {
          "model_module": "@jupyter-widgets/controls",
          "model_name": "DescriptionStyleModel",
          "model_module_version": "1.5.0",
          "state": {
            "_model_module": "@jupyter-widgets/controls",
            "_model_module_version": "1.5.0",
            "_model_name": "DescriptionStyleModel",
            "_view_count": null,
            "_view_module": "@jupyter-widgets/base",
            "_view_module_version": "1.2.0",
            "_view_name": "StyleView",
            "description_width": ""
          }
        },
        "25ab5c43250e42ecae0fe6a8eb0e5959": {
          "model_module": "@jupyter-widgets/controls",
          "model_name": "HBoxModel",
          "model_module_version": "1.5.0",
          "state": {
            "_dom_classes": [],
            "_model_module": "@jupyter-widgets/controls",
            "_model_module_version": "1.5.0",
            "_model_name": "HBoxModel",
            "_view_count": null,
            "_view_module": "@jupyter-widgets/controls",
            "_view_module_version": "1.5.0",
            "_view_name": "HBoxView",
            "box_style": "",
            "children": [
              "IPY_MODEL_411aa2b622ce4147bf0a99809f648477",
              "IPY_MODEL_9b20f54dbe534fb7b046bde69223c309",
              "IPY_MODEL_0d9ca9dd342145c1a5fa48145dea2d5c"
            ],
            "layout": "IPY_MODEL_f38b5d8b6e2a4bdcb716e00ac23c1e80"
          }
        },
        "411aa2b622ce4147bf0a99809f648477": {
          "model_module": "@jupyter-widgets/controls",
          "model_name": "HTMLModel",
          "model_module_version": "1.5.0",
          "state": {
            "_dom_classes": [],
            "_model_module": "@jupyter-widgets/controls",
            "_model_module_version": "1.5.0",
            "_model_name": "HTMLModel",
            "_view_count": null,
            "_view_module": "@jupyter-widgets/controls",
            "_view_module_version": "1.5.0",
            "_view_name": "HTMLView",
            "description": "",
            "description_tooltip": null,
            "layout": "IPY_MODEL_d857e1fab17d4dda97d777c373be6a54",
            "placeholder": "​",
            "style": "IPY_MODEL_0defda53ae1b4dada9f65006695a9e7f",
            "value": "Downloading: 100%"
          }
        },
        "9b20f54dbe534fb7b046bde69223c309": {
          "model_module": "@jupyter-widgets/controls",
          "model_name": "FloatProgressModel",
          "model_module_version": "1.5.0",
          "state": {
            "_dom_classes": [],
            "_model_module": "@jupyter-widgets/controls",
            "_model_module_version": "1.5.0",
            "_model_name": "FloatProgressModel",
            "_view_count": null,
            "_view_module": "@jupyter-widgets/controls",
            "_view_module_version": "1.5.0",
            "_view_name": "ProgressView",
            "bar_style": "success",
            "description": "",
            "description_tooltip": null,
            "layout": "IPY_MODEL_52824cd57dcf4c45bdcaf42a5609d17c",
            "max": 657434796,
            "min": 0,
            "orientation": "horizontal",
            "style": "IPY_MODEL_98c9623bc0034b68a4a32540279371d5",
            "value": 657434796
          }
        },
        "0d9ca9dd342145c1a5fa48145dea2d5c": {
          "model_module": "@jupyter-widgets/controls",
          "model_name": "HTMLModel",
          "model_module_version": "1.5.0",
          "state": {
            "_dom_classes": [],
            "_model_module": "@jupyter-widgets/controls",
            "_model_module_version": "1.5.0",
            "_model_name": "HTMLModel",
            "_view_count": null,
            "_view_module": "@jupyter-widgets/controls",
            "_view_module_version": "1.5.0",
            "_view_name": "HTMLView",
            "description": "",
            "description_tooltip": null,
            "layout": "IPY_MODEL_e302f4ce8e2e4bcbb8d663eb23d403ad",
            "placeholder": "​",
            "style": "IPY_MODEL_d3db003028d040e8a7c5efe2f80fec5e",
            "value": " 657M/657M [00:10&lt;00:00, 18.7MB/s]"
          }
        },
        "f38b5d8b6e2a4bdcb716e00ac23c1e80": {
          "model_module": "@jupyter-widgets/base",
          "model_name": "LayoutModel",
          "model_module_version": "1.2.0",
          "state": {
            "_model_module": "@jupyter-widgets/base",
            "_model_module_version": "1.2.0",
            "_model_name": "LayoutModel",
            "_view_count": null,
            "_view_module": "@jupyter-widgets/base",
            "_view_module_version": "1.2.0",
            "_view_name": "LayoutView",
            "align_content": null,
            "align_items": null,
            "align_self": null,
            "border": null,
            "bottom": null,
            "display": null,
            "flex": null,
            "flex_flow": null,
            "grid_area": null,
            "grid_auto_columns": null,
            "grid_auto_flow": null,
            "grid_auto_rows": null,
            "grid_column": null,
            "grid_gap": null,
            "grid_row": null,
            "grid_template_areas": null,
            "grid_template_columns": null,
            "grid_template_rows": null,
            "height": null,
            "justify_content": null,
            "justify_items": null,
            "left": null,
            "margin": null,
            "max_height": null,
            "max_width": null,
            "min_height": null,
            "min_width": null,
            "object_fit": null,
            "object_position": null,
            "order": null,
            "overflow": null,
            "overflow_x": null,
            "overflow_y": null,
            "padding": null,
            "right": null,
            "top": null,
            "visibility": null,
            "width": null
          }
        },
        "d857e1fab17d4dda97d777c373be6a54": {
          "model_module": "@jupyter-widgets/base",
          "model_name": "LayoutModel",
          "model_module_version": "1.2.0",
          "state": {
            "_model_module": "@jupyter-widgets/base",
            "_model_module_version": "1.2.0",
            "_model_name": "LayoutModel",
            "_view_count": null,
            "_view_module": "@jupyter-widgets/base",
            "_view_module_version": "1.2.0",
            "_view_name": "LayoutView",
            "align_content": null,
            "align_items": null,
            "align_self": null,
            "border": null,
            "bottom": null,
            "display": null,
            "flex": null,
            "flex_flow": null,
            "grid_area": null,
            "grid_auto_columns": null,
            "grid_auto_flow": null,
            "grid_auto_rows": null,
            "grid_column": null,
            "grid_gap": null,
            "grid_row": null,
            "grid_template_areas": null,
            "grid_template_columns": null,
            "grid_template_rows": null,
            "height": null,
            "justify_content": null,
            "justify_items": null,
            "left": null,
            "margin": null,
            "max_height": null,
            "max_width": null,
            "min_height": null,
            "min_width": null,
            "object_fit": null,
            "object_position": null,
            "order": null,
            "overflow": null,
            "overflow_x": null,
            "overflow_y": null,
            "padding": null,
            "right": null,
            "top": null,
            "visibility": null,
            "width": null
          }
        },
        "0defda53ae1b4dada9f65006695a9e7f": {
          "model_module": "@jupyter-widgets/controls",
          "model_name": "DescriptionStyleModel",
          "model_module_version": "1.5.0",
          "state": {
            "_model_module": "@jupyter-widgets/controls",
            "_model_module_version": "1.5.0",
            "_model_name": "DescriptionStyleModel",
            "_view_count": null,
            "_view_module": "@jupyter-widgets/base",
            "_view_module_version": "1.2.0",
            "_view_name": "StyleView",
            "description_width": ""
          }
        },
        "52824cd57dcf4c45bdcaf42a5609d17c": {
          "model_module": "@jupyter-widgets/base",
          "model_name": "LayoutModel",
          "model_module_version": "1.2.0",
          "state": {
            "_model_module": "@jupyter-widgets/base",
            "_model_module_version": "1.2.0",
            "_model_name": "LayoutModel",
            "_view_count": null,
            "_view_module": "@jupyter-widgets/base",
            "_view_module_version": "1.2.0",
            "_view_name": "LayoutView",
            "align_content": null,
            "align_items": null,
            "align_self": null,
            "border": null,
            "bottom": null,
            "display": null,
            "flex": null,
            "flex_flow": null,
            "grid_area": null,
            "grid_auto_columns": null,
            "grid_auto_flow": null,
            "grid_auto_rows": null,
            "grid_column": null,
            "grid_gap": null,
            "grid_row": null,
            "grid_template_areas": null,
            "grid_template_columns": null,
            "grid_template_rows": null,
            "height": null,
            "justify_content": null,
            "justify_items": null,
            "left": null,
            "margin": null,
            "max_height": null,
            "max_width": null,
            "min_height": null,
            "min_width": null,
            "object_fit": null,
            "object_position": null,
            "order": null,
            "overflow": null,
            "overflow_x": null,
            "overflow_y": null,
            "padding": null,
            "right": null,
            "top": null,
            "visibility": null,
            "width": null
          }
        },
        "98c9623bc0034b68a4a32540279371d5": {
          "model_module": "@jupyter-widgets/controls",
          "model_name": "ProgressStyleModel",
          "model_module_version": "1.5.0",
          "state": {
            "_model_module": "@jupyter-widgets/controls",
            "_model_module_version": "1.5.0",
            "_model_name": "ProgressStyleModel",
            "_view_count": null,
            "_view_module": "@jupyter-widgets/base",
            "_view_module_version": "1.2.0",
            "_view_name": "StyleView",
            "bar_color": null,
            "description_width": ""
          }
        },
        "e302f4ce8e2e4bcbb8d663eb23d403ad": {
          "model_module": "@jupyter-widgets/base",
          "model_name": "LayoutModel",
          "model_module_version": "1.2.0",
          "state": {
            "_model_module": "@jupyter-widgets/base",
            "_model_module_version": "1.2.0",
            "_model_name": "LayoutModel",
            "_view_count": null,
            "_view_module": "@jupyter-widgets/base",
            "_view_module_version": "1.2.0",
            "_view_name": "LayoutView",
            "align_content": null,
            "align_items": null,
            "align_self": null,
            "border": null,
            "bottom": null,
            "display": null,
            "flex": null,
            "flex_flow": null,
            "grid_area": null,
            "grid_auto_columns": null,
            "grid_auto_flow": null,
            "grid_auto_rows": null,
            "grid_column": null,
            "grid_gap": null,
            "grid_row": null,
            "grid_template_areas": null,
            "grid_template_columns": null,
            "grid_template_rows": null,
            "height": null,
            "justify_content": null,
            "justify_items": null,
            "left": null,
            "margin": null,
            "max_height": null,
            "max_width": null,
            "min_height": null,
            "min_width": null,
            "object_fit": null,
            "object_position": null,
            "order": null,
            "overflow": null,
            "overflow_x": null,
            "overflow_y": null,
            "padding": null,
            "right": null,
            "top": null,
            "visibility": null,
            "width": null
          }
        },
        "d3db003028d040e8a7c5efe2f80fec5e": {
          "model_module": "@jupyter-widgets/controls",
          "model_name": "DescriptionStyleModel",
          "model_module_version": "1.5.0",
          "state": {
            "_model_module": "@jupyter-widgets/controls",
            "_model_module_version": "1.5.0",
            "_model_name": "DescriptionStyleModel",
            "_view_count": null,
            "_view_module": "@jupyter-widgets/base",
            "_view_module_version": "1.2.0",
            "_view_name": "StyleView",
            "description_width": ""
          }
        }
      }
    }
  },
  "nbformat_minor": 0,
  "nbformat": 4,
  "cells": [
    {
      "cell_type": "code",
      "source": [
        "!pip install transformers\n",
        "!pip install tensorflow_addons"
      ],
      "metadata": {
        "trusted": true,
        "id": "YKiUz0cmg8P9",
        "colab": {
          "base_uri": "https://localhost:8080/"
        },
        "outputId": "5d791955-3e98-429e-e6b8-241362a84f2e"
      },
      "execution_count": 1,
      "outputs": [
        {
          "output_type": "stream",
          "name": "stdout",
          "text": [
            "Looking in indexes: https://pypi.org/simple, https://us-python.pkg.dev/colab-wheels/public/simple/\n",
            "Collecting transformers\n",
            "  Downloading transformers-4.25.1-py3-none-any.whl (5.8 MB)\n",
            "\u001b[2K     \u001b[90m━━━━━━━━━━━━━━━━━━━━━━━━━━━━━━━━━━━━━━━━\u001b[0m \u001b[32m5.8/5.8 MB\u001b[0m \u001b[31m57.9 MB/s\u001b[0m eta \u001b[36m0:00:00\u001b[0m\n",
            "\u001b[?25hRequirement already satisfied: filelock in /usr/local/lib/python3.8/dist-packages (from transformers) (3.8.2)\n",
            "Requirement already satisfied: pyyaml>=5.1 in /usr/local/lib/python3.8/dist-packages (from transformers) (6.0)\n",
            "Collecting tokenizers!=0.11.3,<0.14,>=0.11.1\n",
            "  Downloading tokenizers-0.13.2-cp38-cp38-manylinux_2_17_x86_64.manylinux2014_x86_64.whl (7.6 MB)\n",
            "\u001b[2K     \u001b[90m━━━━━━━━━━━━━━━━━━━━━━━━━━━━━━━━━━━━━━━━\u001b[0m \u001b[32m7.6/7.6 MB\u001b[0m \u001b[31m63.0 MB/s\u001b[0m eta \u001b[36m0:00:00\u001b[0m\n",
            "\u001b[?25hRequirement already satisfied: regex!=2019.12.17 in /usr/local/lib/python3.8/dist-packages (from transformers) (2022.6.2)\n",
            "Requirement already satisfied: requests in /usr/local/lib/python3.8/dist-packages (from transformers) (2.25.1)\n",
            "Collecting huggingface-hub<1.0,>=0.10.0\n",
            "  Downloading huggingface_hub-0.11.1-py3-none-any.whl (182 kB)\n",
            "\u001b[2K     \u001b[90m━━━━━━━━━━━━━━━━━━━━━━━━━━━━━━━━━━━━━━\u001b[0m \u001b[32m182.4/182.4 KB\u001b[0m \u001b[31m22.9 MB/s\u001b[0m eta \u001b[36m0:00:00\u001b[0m\n",
            "\u001b[?25hRequirement already satisfied: packaging>=20.0 in /usr/local/lib/python3.8/dist-packages (from transformers) (21.3)\n",
            "Requirement already satisfied: numpy>=1.17 in /usr/local/lib/python3.8/dist-packages (from transformers) (1.21.6)\n",
            "Requirement already satisfied: tqdm>=4.27 in /usr/local/lib/python3.8/dist-packages (from transformers) (4.64.1)\n",
            "Requirement already satisfied: typing-extensions>=3.7.4.3 in /usr/local/lib/python3.8/dist-packages (from huggingface-hub<1.0,>=0.10.0->transformers) (4.4.0)\n",
            "Requirement already satisfied: pyparsing!=3.0.5,>=2.0.2 in /usr/local/lib/python3.8/dist-packages (from packaging>=20.0->transformers) (3.0.9)\n",
            "Requirement already satisfied: chardet<5,>=3.0.2 in /usr/local/lib/python3.8/dist-packages (from requests->transformers) (4.0.0)\n",
            "Requirement already satisfied: urllib3<1.27,>=1.21.1 in /usr/local/lib/python3.8/dist-packages (from requests->transformers) (1.24.3)\n",
            "Requirement already satisfied: certifi>=2017.4.17 in /usr/local/lib/python3.8/dist-packages (from requests->transformers) (2022.12.7)\n",
            "Requirement already satisfied: idna<3,>=2.5 in /usr/local/lib/python3.8/dist-packages (from requests->transformers) (2.10)\n",
            "Installing collected packages: tokenizers, huggingface-hub, transformers\n",
            "Successfully installed huggingface-hub-0.11.1 tokenizers-0.13.2 transformers-4.25.1\n",
            "Looking in indexes: https://pypi.org/simple, https://us-python.pkg.dev/colab-wheels/public/simple/\n",
            "Collecting tensorflow_addons\n",
            "  Downloading tensorflow_addons-0.19.0-cp38-cp38-manylinux_2_17_x86_64.manylinux2014_x86_64.whl (1.1 MB)\n",
            "\u001b[2K     \u001b[90m━━━━━━━━━━━━━━━━━━━━━━━━━━━━━━━━━━━━━━━━\u001b[0m \u001b[32m1.1/1.1 MB\u001b[0m \u001b[31m4.2 MB/s\u001b[0m eta \u001b[36m0:00:00\u001b[0m\n",
            "\u001b[?25hRequirement already satisfied: packaging in /usr/local/lib/python3.8/dist-packages (from tensorflow_addons) (21.3)\n",
            "Requirement already satisfied: typeguard>=2.7 in /usr/local/lib/python3.8/dist-packages (from tensorflow_addons) (2.7.1)\n",
            "Requirement already satisfied: pyparsing!=3.0.5,>=2.0.2 in /usr/local/lib/python3.8/dist-packages (from packaging->tensorflow_addons) (3.0.9)\n",
            "Installing collected packages: tensorflow_addons\n",
            "Successfully installed tensorflow_addons-0.19.0\n"
          ]
        }
      ]
    },
    {
      "cell_type": "code",
      "source": [
        "import tensorflow as tf\n",
        "device_name = tf.test.gpu_device_name()\n",
        "if device_name != '/device:GPU:0':\n",
        "  raise SystemError('GPU device not found')\n",
        "print('Found GPU at: {}'.format(device_name))"
      ],
      "metadata": {
        "colab": {
          "base_uri": "https://localhost:8080/"
        },
        "id": "QVPzKc8PCi7F",
        "outputId": "067e6b1d-bdd4-4a0a-c630-d9b61ac61a4c"
      },
      "execution_count": 2,
      "outputs": [
        {
          "output_type": "stream",
          "name": "stdout",
          "text": [
            "Found GPU at: /device:GPU:0\n"
          ]
        }
      ]
    },
    {
      "cell_type": "code",
      "source": [
        "\"\"\"\n",
        "import shutil\n",
        "shutil.rmtree(\"./mlabelBERToverall\")\n",
        "shutil.rmtree(\"./multilabeltokenizer\")\n",
        "import os \n",
        "os.remove(\"./mlabelBERT.zip\")\n",
        "os.remove(\"./y_pred.npy\")\n",
        "\"\"\""
      ],
      "metadata": {
        "trusted": true,
        "id": "eJjgEK8ag8QJ"
      },
      "execution_count": null,
      "outputs": []
    },
    {
      "cell_type": "code",
      "source": [
        "# Explainability with SHAP\n",
        "# Reference: https://shap.readthedocs.io/en/latest/example_notebooks/api_examples/plots/text.html"
      ],
      "metadata": {
        "trusted": true,
        "id": "ZdzaZROxg8QM"
      },
      "execution_count": null,
      "outputs": []
    },
    {
      "cell_type": "code",
      "source": [
        "import pandas as pd\n",
        "import numpy as np\n",
        "import matplotlib.pyplot as plt\n",
        "import tensorflow as tf\n",
        "import torch\n",
        "import warnings\n",
        "import tensorflow_addons as tfa\n",
        "import spacy\n",
        "warnings.filterwarnings(\"ignore\",category=DeprecationWarning)\n",
        "pd.set_option('max_colwidth', 800)\n",
        "pd.set_option('max_columns', 50)"
      ],
      "metadata": {
        "execution": {
          "iopub.status.busy": "2022-10-12T15:34:18.114898Z",
          "iopub.execute_input": "2022-10-12T15:34:18.115820Z",
          "iopub.status.idle": "2022-10-12T15:34:30.028549Z",
          "shell.execute_reply.started": "2022-10-12T15:34:18.115730Z",
          "shell.execute_reply": "2022-10-12T15:34:30.027615Z"
        },
        "trusted": true,
        "id": "BV4ddwGJg8QO"
      },
      "execution_count": 3,
      "outputs": []
    },
    {
      "cell_type": "markdown",
      "source": [
        "# Function for text cleaning"
      ],
      "metadata": {
        "id": "cdRNkQ6ag8QQ"
      }
    },
    {
      "cell_type": "code",
      "source": [
        "# Data Cleaning (Lowering, Removing stopwords)\n",
        "import nltk\n",
        "import re\n",
        "nltk.download('stopwords')\n",
        "from nltk.corpus import stopwords\n",
        "#stop = stopwords.words('english')"
      ],
      "metadata": {
        "execution": {
          "iopub.status.busy": "2022-10-12T15:34:46.149999Z",
          "iopub.execute_input": "2022-10-12T15:34:46.150625Z",
          "iopub.status.idle": "2022-10-12T15:34:46.707805Z",
          "shell.execute_reply.started": "2022-10-12T15:34:46.150590Z",
          "shell.execute_reply": "2022-10-12T15:34:46.706943Z"
        },
        "trusted": true,
        "id": "JT4G-l65g8QV",
        "outputId": "92238ddc-0695-4a66-b87a-ed3cdfbaf0fe"
      },
      "execution_count": null,
      "outputs": [
        {
          "name": "stderr",
          "text": "[nltk_data] Downloading package stopwords to /usr/share/nltk_data...\n[nltk_data]   Package stopwords is already up-to-date!\n",
          "output_type": "stream"
        }
      ]
    },
    {
      "cell_type": "code",
      "source": [
        "def cleaning(data):\n",
        "\n",
        "   corpus = []\n",
        "   for i in range(0, len(data)):\n",
        "     sentence = re.sub('[^a-zA-Z]', ' ', str(data[i]))\n",
        "     sentence = sentence.lower()\n",
        "     sentence = sentence.split()\n",
        "     all_stopwords = stopwords.words('english')\n",
        "     all_stopwords.extend(['from', 'subject','tw', 're','[removed]','hi' 'edu','reddit','subreddit','account','mod','hi','im','w','h','ide','gary',\n",
        "                           'mayb'])\n",
        "     #all_stopwords.remove('not')\n",
        "     sentence = [word for word in sentence if not word in set(all_stopwords)]\n",
        "     sentence = ' '.join(sentence)\n",
        "     corpus.append(sentence)\n",
        "      \n",
        "   return corpus\n"
      ],
      "metadata": {
        "execution": {
          "iopub.status.busy": "2022-10-12T15:34:50.419979Z",
          "iopub.execute_input": "2022-10-12T15:34:50.420400Z",
          "iopub.status.idle": "2022-10-12T15:34:50.432750Z",
          "shell.execute_reply.started": "2022-10-12T15:34:50.420363Z",
          "shell.execute_reply": "2022-10-12T15:34:50.431761Z"
        },
        "trusted": true,
        "id": "rwpgBpnig8QZ"
      },
      "execution_count": null,
      "outputs": []
    },
    {
      "cell_type": "code",
      "source": [
        "def lemmatization(texts, allowed_postags=[\"NOUN\",\"ADV\", \"VERB\"  \"ADJ\"]):    # \"ADV\", \"VERB\"  \"ADJ\"\n",
        "    nlp = spacy.load(\"en_core_web_sm\", disable=[\"parser\", \"ner\"])\n",
        "    texts_out = []\n",
        "    for text in texts:\n",
        "        doc = nlp(text)\n",
        "        new_text = []\n",
        "        for token in doc:\n",
        "            if token.pos_ in allowed_postags:\n",
        "                new_text.append(token.lemma_)\n",
        "        final = \" \".join(new_text)\n",
        "        texts_out.append(final)\n",
        "    return (texts_out)"
      ],
      "metadata": {
        "execution": {
          "iopub.status.busy": "2022-10-12T15:34:53.780113Z",
          "iopub.execute_input": "2022-10-12T15:34:53.780532Z",
          "iopub.status.idle": "2022-10-12T15:34:53.794281Z",
          "shell.execute_reply.started": "2022-10-12T15:34:53.780494Z",
          "shell.execute_reply": "2022-10-12T15:34:53.792831Z"
        },
        "trusted": true,
        "id": "XSI_0H77g8Qb"
      },
      "execution_count": null,
      "outputs": []
    },
    {
      "cell_type": "markdown",
      "source": [
        "# Data loading and preparation"
      ],
      "metadata": {
        "id": "6s_hSwDPg8Qc"
      }
    },
    {
      "cell_type": "code",
      "source": [
        "data = pd.read_csv(\"../input/csa-dataset/total_csaws.csv\")\n",
        "data['cleaned_text'] = cleaning(data['Text'])\n",
        "\"\"\"\n",
        "data['cleaned_text'] = lemmatization(data['cleaned_text'])\n",
        "\"\"\"\n",
        "print(data.shape)\n",
        "data.head(1)"
      ],
      "metadata": {
        "execution": {
          "iopub.status.busy": "2022-10-12T15:34:56.587179Z",
          "iopub.execute_input": "2022-10-12T15:34:56.587655Z",
          "iopub.status.idle": "2022-10-12T15:35:20.054575Z",
          "shell.execute_reply.started": "2022-10-12T15:34:56.587612Z",
          "shell.execute_reply": "2022-10-12T15:35:20.053487Z"
        },
        "trusted": true,
        "id": "ONgi9_hWg8Qe",
        "outputId": "8c0566de-bfaf-48f6-daa2-ccb72c75fa1a"
      },
      "execution_count": null,
      "outputs": [
        {
          "name": "stdout",
          "text": "(7957, 11)\n",
          "output_type": "stream"
        },
        {
          "execution_count": 5,
          "output_type": "execute_result",
          "data": {
            "text/plain": "        subreddit      id    author  num_comments  \\\n0  adultsurvivors  t1r60p  baybecay             1   \n\n                                                                            title  \\\n0  \"Only sex\" - poem I made while coping with depression/feeling empty TW graphic   \n\n                                                                                                                                                                                                                                                                                                                                                                                                                                                                                                                                                                                                                                                                                                                                                                                                                          selftext  \\\n0  Im not sure if this kind of art post is against the rules if so apologies to the mods. \\n\\nI forgot my earliest memory \\n\\nCame back later\\n\\nI was being raped on the bathroom floor \\n\\nOr maybe it was in my bed\\n\\nOr maybe on my bedroom floor \\n\\nIm not sure in what order\\n\\nBut my deepest feelings hurt\\n\\nThe void of love \\n\\nFilled with pain in my chest \\n\\nInescapable no matter how high, \\n\\nhow delirious,\\n\\nhow deep into psychosis I go\\n\\n\\nMy pain is dirty\\n\\nIts pull my hair while you anally rape me pain \\n\\nHave your friend slap me after he pays you \\n\\nFor the rough stuff pain \\n\\nHold a knife to my 5 year old throat\\n\\nThreaten to kill me pain \\n\\nShove the barrel of your gun into my pussy pain\\n\\nCut her head of and rape me next to her body\\n\\non camera pain\\n\\nTrain my bod...   \n\n                                                                                                                                                                                                                                                                                                                                                                                                                                                                                                                                                                                                                                                                                                                                                                                                                              Text  \\\n0  \"Only sex\" - poem I made while coping with depression/feeling empty TW graphic Im not sure if this kind of art post is against the rules if so apologies to the mods. \\n\\nI forgot my earliest memory \\n\\nCame back later\\n\\nI was being raped on the bathroom floor \\n\\nOr maybe it was in my bed\\n\\nOr maybe on my bedroom floor \\n\\nIm not sure in what order\\n\\nBut my deepest feelings hurt\\n\\nThe void of love \\n\\nFilled with pain in my chest \\n\\nInescapable no matter how high, \\n\\nhow delirious,\\n\\nhow deep into psychosis I go\\n\\n\\nMy pain is dirty\\n\\nIts pull my hair while you anally rape me pain \\n\\nHave your friend slap me after he pays you \\n\\nFor the rough stuff pain \\n\\nHold a knife to my 5 year old throat\\n\\nThreaten to kill me pain \\n\\nShove the barrel of your gun into my pussy pain\\n\\...   \n\n   dep  anx  ptsd  \\\n0    1    0     0   \n\n                                                                                                                                                                                                                                                                                                                                                                                                                                                                                                                                                                                                                                                                                                                                                                                                                      cleaned_text  \n0  sex poem made coping depression feeling empty graphic sure kind art post rules apologies mods forgot earliest memory came back later raped bathroom floor maybe bed maybe bedroom floor sure order deepest feelings hurt void love filled pain chest inescapable matter high delirious deep psychosis go pain dirty pull hair anally rape pain friend slap pays rough stuff pain hold knife year old throat threaten kill pain shove barrel gun pussy pain cut head rape next body camera pain train body bend every pleasure pain call babycakes camera sometimes buttercup sunflower tie hit slap shock burn loved eyes judgement felt worthless unloved devolved humiliated intensely afriad knew take addicted meth shoved throat equally addicted loved felt warmth freshly abused year old pussy vibrating whole body ...  ",
            "text/html": "<div>\n<style scoped>\n    .dataframe tbody tr th:only-of-type {\n        vertical-align: middle;\n    }\n\n    .dataframe tbody tr th {\n        vertical-align: top;\n    }\n\n    .dataframe thead th {\n        text-align: right;\n    }\n</style>\n<table border=\"1\" class=\"dataframe\">\n  <thead>\n    <tr style=\"text-align: right;\">\n      <th></th>\n      <th>subreddit</th>\n      <th>id</th>\n      <th>author</th>\n      <th>num_comments</th>\n      <th>title</th>\n      <th>selftext</th>\n      <th>Text</th>\n      <th>dep</th>\n      <th>anx</th>\n      <th>ptsd</th>\n      <th>cleaned_text</th>\n    </tr>\n  </thead>\n  <tbody>\n    <tr>\n      <th>0</th>\n      <td>adultsurvivors</td>\n      <td>t1r60p</td>\n      <td>baybecay</td>\n      <td>1</td>\n      <td>\"Only sex\" - poem I made while coping with depression/feeling empty TW graphic</td>\n      <td>Im not sure if this kind of art post is against the rules if so apologies to the mods. \\n\\nI forgot my earliest memory \\n\\nCame back later\\n\\nI was being raped on the bathroom floor \\n\\nOr maybe it was in my bed\\n\\nOr maybe on my bedroom floor \\n\\nIm not sure in what order\\n\\nBut my deepest feelings hurt\\n\\nThe void of love \\n\\nFilled with pain in my chest \\n\\nInescapable no matter how high, \\n\\nhow delirious,\\n\\nhow deep into psychosis I go\\n\\n\\nMy pain is dirty\\n\\nIts pull my hair while you anally rape me pain \\n\\nHave your friend slap me after he pays you \\n\\nFor the rough stuff pain \\n\\nHold a knife to my 5 year old throat\\n\\nThreaten to kill me pain \\n\\nShove the barrel of your gun into my pussy pain\\n\\nCut her head of and rape me next to her body\\n\\non camera pain\\n\\nTrain my bod...</td>\n      <td>\"Only sex\" - poem I made while coping with depression/feeling empty TW graphic Im not sure if this kind of art post is against the rules if so apologies to the mods. \\n\\nI forgot my earliest memory \\n\\nCame back later\\n\\nI was being raped on the bathroom floor \\n\\nOr maybe it was in my bed\\n\\nOr maybe on my bedroom floor \\n\\nIm not sure in what order\\n\\nBut my deepest feelings hurt\\n\\nThe void of love \\n\\nFilled with pain in my chest \\n\\nInescapable no matter how high, \\n\\nhow delirious,\\n\\nhow deep into psychosis I go\\n\\n\\nMy pain is dirty\\n\\nIts pull my hair while you anally rape me pain \\n\\nHave your friend slap me after he pays you \\n\\nFor the rough stuff pain \\n\\nHold a knife to my 5 year old throat\\n\\nThreaten to kill me pain \\n\\nShove the barrel of your gun into my pussy pain\\n\\...</td>\n      <td>1</td>\n      <td>0</td>\n      <td>0</td>\n      <td>sex poem made coping depression feeling empty graphic sure kind art post rules apologies mods forgot earliest memory came back later raped bathroom floor maybe bed maybe bedroom floor sure order deepest feelings hurt void love filled pain chest inescapable matter high delirious deep psychosis go pain dirty pull hair anally rape pain friend slap pays rough stuff pain hold knife year old throat threaten kill pain shove barrel gun pussy pain cut head rape next body camera pain train body bend every pleasure pain call babycakes camera sometimes buttercup sunflower tie hit slap shock burn loved eyes judgement felt worthless unloved devolved humiliated intensely afriad knew take addicted meth shoved throat equally addicted loved felt warmth freshly abused year old pussy vibrating whole body ...</td>\n    </tr>\n  </tbody>\n</table>\n</div>"
          },
          "metadata": {}
        }
      ]
    },
    {
      "cell_type": "markdown",
      "source": [
        "# Text Preprocessing"
      ],
      "metadata": {
        "id": "ov5h8JXag8Qf"
      }
    },
    {
      "cell_type": "code",
      "source": [
        "data = pd.read_excel(\"Predictions.xlsx\")\n",
        "data = data[['title_text', 'Final Annotation Majority Voting Criteria']]\n",
        "data = data.iloc[1:]\n",
        "data = data.dropna()\n",
        "print(data.shape[0])\n",
        "data_train = data.iloc[0:91][:]\n",
        "data_test = data[91:][:]\n",
        "print(data_train.shape)\n",
        "print(data_test.shape)\n",
        "data['num_words'] = data.title_text.apply(lambda x:len(x.split()))\n",
        "print(data.num_words.max())\n",
        "labels = ['belongingness','safety','esteem','self-actualization','physiological']\n",
        "label_df = []\n",
        "for i in range(data.shape[0]):\n",
        "    lab = []\n",
        "    title_text = data.iloc[i][1]\n",
        "    if title_text.find(labels[0])!=-1:\n",
        "        lab.append(1.0)\n",
        "    else:\n",
        "        lab.append(0.0)\n",
        "\n",
        "    if title_text.find(labels[1])!=-1:\n",
        "        lab.append(1.0)\n",
        "    else:\n",
        "        lab.append(0.0)\n",
        "\n",
        "    if title_text.find(labels[2])!=-1:\n",
        "        lab.append(1.0)\n",
        "    else:\n",
        "        lab.append(0.0)\n",
        "    \n",
        "    if title_text.find(labels[3])!=-1:\n",
        "        lab.append(1.0)\n",
        "    else:\n",
        "        lab.append(0.0)\n",
        "\n",
        "    if title_text.find(labels[4])!=-1:\n",
        "        lab.append(1.0)\n",
        "    else:\n",
        "        lab.append(0.0)\n",
        "    label_df.append(lab)\n",
        "belong = []\n",
        "safety = []\n",
        "esteem = []\n",
        "self_ = []\n",
        "phy = []\n",
        "for i in range(len(label_df)):\n",
        "    lab = label_df[i]\n",
        "    belong.append(lab[0])\n",
        "    safety.append(lab[1])\n",
        "    esteem.append(lab[2])\n",
        "    self_.append(lab[3])\n",
        "    phy.append(lab[4])\n",
        "data[\"belongingness\"] = belong\n",
        "data[\"safety\"] = safety\n",
        "data[\"esteem\"] = esteem\n",
        "data[\"self_actualization\"] = self_\n",
        "data[\"physiological\"] = phy\n",
        "data.head()"
      ],
      "metadata": {
        "colab": {
          "base_uri": "https://localhost:8080/",
          "height": 1000
        },
        "id": "6D6PNoiQ3gaB",
        "outputId": "85c83b85-3534-4337-cd24-e45ef6e1b911"
      },
      "execution_count": 5,
      "outputs": [
        {
          "output_type": "stream",
          "name": "stdout",
          "text": [
            "114\n",
            "(91, 2)\n",
            "(23, 2)\n",
            "136\n"
          ]
        },
        {
          "output_type": "execute_result",
          "data": {
            "text/plain": [
              "                                                                                                                                                                                                                                                                                                                                                                                                                                                                                                                        title_text  \\\n",
              "1                                                               I don't know what to do.. I got my gf pregnant. I don't know what to do and say. I havent slept for 3 days since we found out. She's 4 weeks pregnant and already thinking about \"medical abortion\". She's not talking to me. I'm having thoughts about killing myself to escape all of this. Its the most dumb thing to do but i feel like im running out of choices. We're not financially stable. I'm a student. I should have wore a condom. What should i do.   \n",
              "2                                                                  Every day is an effort I don't want to wake up at mornings. There will be a pile of never-ending tasks awaiting. Problems. Fix those, get new problems. Ad infinitum to the point of nausea. I've had cog-beh. therapy, I have antidepressants, I've hopped through the hoops of NLP, affirmations, binaural beats, meditation, tried to stop drinking. Why bother, I don't seem to get further than the starting point. Fucking wasted effort, money and time.   \n",
              "3                            Electric shock therapy and an all time low. questions. severely suicidal. My doctors want me in the hospital but I refuse to go. been there done that it doesn't help. they want to tinker with my meditation. Im considering ect as a last resort. anyone here have it done? how was it? did it help? I won't make it if I continue to feel this way. This is the worst i've ever been. I have zero hope and zero convincing reasons to want to stay alive. This depression is literally killing me.   \n",
              "4  I don't know why I'm depressed Lately I've been feeling really shitty and very depressed. I feel like I should be really happy, I have a new girlfriend who is great, my family is healthy. But for some reason I just feel so depressed all the time. At first I thought it was because I wasn't with my new girlfriend, because it seems to go away when ever I'm with her. But I've noticed it sometimes even when we are together. Does anyone know any ways to try and keep my mind off depression and how to feel better?   \n",
              "5                                                                                                                                          Telling people I'm suicidal? I already told someone I was suicidal and was put in a mental hospital. A couple days later I was released and suicidal again. I'm still thinking of killing myself, but don't want to tell anyone because I'm just going to be put in a hospital again and come out suicidal. It sucks I have to lie to people. I want help, but not *that* kind of help.   \n",
              "\n",
              "        Final Annotation Majority Voting Criteria  num_words  belongingness  \\\n",
              "1                                          esteem         88            0.0   \n",
              "2                                          safety         75            0.0   \n",
              "3                            belongingness,safety         92            1.0   \n",
              "4  belongingness,safety,esteem,self-actualization         99            1.0   \n",
              "5                            belongingness,esteem         72            1.0   \n",
              "\n",
              "   safety  esteem  self_actualization  physiological  \n",
              "1     0.0     1.0                 0.0            0.0  \n",
              "2     1.0     0.0                 0.0            0.0  \n",
              "3     1.0     0.0                 0.0            0.0  \n",
              "4     1.0     1.0                 1.0            0.0  \n",
              "5     0.0     1.0                 0.0            0.0  "
            ],
            "text/html": [
              "\n",
              "  <div id=\"df-a8919518-282f-43a0-aad3-012e9bbdf024\">\n",
              "    <div class=\"colab-df-container\">\n",
              "      <div>\n",
              "<style scoped>\n",
              "    .dataframe tbody tr th:only-of-type {\n",
              "        vertical-align: middle;\n",
              "    }\n",
              "\n",
              "    .dataframe tbody tr th {\n",
              "        vertical-align: top;\n",
              "    }\n",
              "\n",
              "    .dataframe thead th {\n",
              "        text-align: right;\n",
              "    }\n",
              "</style>\n",
              "<table border=\"1\" class=\"dataframe\">\n",
              "  <thead>\n",
              "    <tr style=\"text-align: right;\">\n",
              "      <th></th>\n",
              "      <th>title_text</th>\n",
              "      <th>Final Annotation Majority Voting Criteria</th>\n",
              "      <th>num_words</th>\n",
              "      <th>belongingness</th>\n",
              "      <th>safety</th>\n",
              "      <th>esteem</th>\n",
              "      <th>self_actualization</th>\n",
              "      <th>physiological</th>\n",
              "    </tr>\n",
              "  </thead>\n",
              "  <tbody>\n",
              "    <tr>\n",
              "      <th>1</th>\n",
              "      <td>I don't know what to do.. I got my gf pregnant. I don't know what to do and say. I havent slept for 3 days since we found out. She's 4 weeks pregnant and already thinking about \"medical abortion\". She's not talking to me. I'm having thoughts about killing myself to escape all of this. Its the most dumb thing to do but i feel like im running out of choices. We're not financially stable. I'm a student. I should have wore a condom. What should i do.</td>\n",
              "      <td>esteem</td>\n",
              "      <td>88</td>\n",
              "      <td>0.0</td>\n",
              "      <td>0.0</td>\n",
              "      <td>1.0</td>\n",
              "      <td>0.0</td>\n",
              "      <td>0.0</td>\n",
              "    </tr>\n",
              "    <tr>\n",
              "      <th>2</th>\n",
              "      <td>Every day is an effort I don't want to wake up at mornings. There will be a pile of never-ending tasks awaiting. Problems. Fix those, get new problems. Ad infinitum to the point of nausea. I've had cog-beh. therapy, I have antidepressants, I've hopped through the hoops of NLP, affirmations, binaural beats, meditation, tried to stop drinking. Why bother, I don't seem to get further than the starting point. Fucking wasted effort, money and time.</td>\n",
              "      <td>safety</td>\n",
              "      <td>75</td>\n",
              "      <td>0.0</td>\n",
              "      <td>1.0</td>\n",
              "      <td>0.0</td>\n",
              "      <td>0.0</td>\n",
              "      <td>0.0</td>\n",
              "    </tr>\n",
              "    <tr>\n",
              "      <th>3</th>\n",
              "      <td>Electric shock therapy and an all time low. questions. severely suicidal. My doctors want me in the hospital but I refuse to go. been there done that it doesn't help. they want to tinker with my meditation. Im considering ect as a last resort. anyone here have it done? how was it? did it help? I won't make it if I continue to feel this way. This is the worst i've ever been. I have zero hope and zero convincing reasons to want to stay alive. This depression is literally killing me.</td>\n",
              "      <td>belongingness,safety</td>\n",
              "      <td>92</td>\n",
              "      <td>1.0</td>\n",
              "      <td>1.0</td>\n",
              "      <td>0.0</td>\n",
              "      <td>0.0</td>\n",
              "      <td>0.0</td>\n",
              "    </tr>\n",
              "    <tr>\n",
              "      <th>4</th>\n",
              "      <td>I don't know why I'm depressed Lately I've been feeling really shitty and very depressed. I feel like I should be really happy, I have a new girlfriend who is great, my family is healthy. But for some reason I just feel so depressed all the time. At first I thought it was because I wasn't with my new girlfriend, because it seems to go away when ever I'm with her. But I've noticed it sometimes even when we are together. Does anyone know any ways to try and keep my mind off depression and how to feel better?</td>\n",
              "      <td>belongingness,safety,esteem,self-actualization</td>\n",
              "      <td>99</td>\n",
              "      <td>1.0</td>\n",
              "      <td>1.0</td>\n",
              "      <td>1.0</td>\n",
              "      <td>1.0</td>\n",
              "      <td>0.0</td>\n",
              "    </tr>\n",
              "    <tr>\n",
              "      <th>5</th>\n",
              "      <td>Telling people I'm suicidal? I already told someone I was suicidal and was put in a mental hospital. A couple days later I was released and suicidal again. I'm still thinking of killing myself, but don't want to tell anyone because I'm just going to be put in a hospital again and come out suicidal. It sucks I have to lie to people. I want help, but not *that* kind of help.</td>\n",
              "      <td>belongingness,esteem</td>\n",
              "      <td>72</td>\n",
              "      <td>1.0</td>\n",
              "      <td>0.0</td>\n",
              "      <td>1.0</td>\n",
              "      <td>0.0</td>\n",
              "      <td>0.0</td>\n",
              "    </tr>\n",
              "  </tbody>\n",
              "</table>\n",
              "</div>\n",
              "      <button class=\"colab-df-convert\" onclick=\"convertToInteractive('df-a8919518-282f-43a0-aad3-012e9bbdf024')\"\n",
              "              title=\"Convert this dataframe to an interactive table.\"\n",
              "              style=\"display:none;\">\n",
              "        \n",
              "  <svg xmlns=\"http://www.w3.org/2000/svg\" height=\"24px\"viewBox=\"0 0 24 24\"\n",
              "       width=\"24px\">\n",
              "    <path d=\"M0 0h24v24H0V0z\" fill=\"none\"/>\n",
              "    <path d=\"M18.56 5.44l.94 2.06.94-2.06 2.06-.94-2.06-.94-.94-2.06-.94 2.06-2.06.94zm-11 1L8.5 8.5l.94-2.06 2.06-.94-2.06-.94L8.5 2.5l-.94 2.06-2.06.94zm10 10l.94 2.06.94-2.06 2.06-.94-2.06-.94-.94-2.06-.94 2.06-2.06.94z\"/><path d=\"M17.41 7.96l-1.37-1.37c-.4-.4-.92-.59-1.43-.59-.52 0-1.04.2-1.43.59L10.3 9.45l-7.72 7.72c-.78.78-.78 2.05 0 2.83L4 21.41c.39.39.9.59 1.41.59.51 0 1.02-.2 1.41-.59l7.78-7.78 2.81-2.81c.8-.78.8-2.07 0-2.86zM5.41 20L4 18.59l7.72-7.72 1.47 1.35L5.41 20z\"/>\n",
              "  </svg>\n",
              "      </button>\n",
              "      \n",
              "  <style>\n",
              "    .colab-df-container {\n",
              "      display:flex;\n",
              "      flex-wrap:wrap;\n",
              "      gap: 12px;\n",
              "    }\n",
              "\n",
              "    .colab-df-convert {\n",
              "      background-color: #E8F0FE;\n",
              "      border: none;\n",
              "      border-radius: 50%;\n",
              "      cursor: pointer;\n",
              "      display: none;\n",
              "      fill: #1967D2;\n",
              "      height: 32px;\n",
              "      padding: 0 0 0 0;\n",
              "      width: 32px;\n",
              "    }\n",
              "\n",
              "    .colab-df-convert:hover {\n",
              "      background-color: #E2EBFA;\n",
              "      box-shadow: 0px 1px 2px rgba(60, 64, 67, 0.3), 0px 1px 3px 1px rgba(60, 64, 67, 0.15);\n",
              "      fill: #174EA6;\n",
              "    }\n",
              "\n",
              "    [theme=dark] .colab-df-convert {\n",
              "      background-color: #3B4455;\n",
              "      fill: #D2E3FC;\n",
              "    }\n",
              "\n",
              "    [theme=dark] .colab-df-convert:hover {\n",
              "      background-color: #434B5C;\n",
              "      box-shadow: 0px 1px 3px 1px rgba(0, 0, 0, 0.15);\n",
              "      filter: drop-shadow(0px 1px 2px rgba(0, 0, 0, 0.3));\n",
              "      fill: #FFFFFF;\n",
              "    }\n",
              "  </style>\n",
              "\n",
              "      <script>\n",
              "        const buttonEl =\n",
              "          document.querySelector('#df-a8919518-282f-43a0-aad3-012e9bbdf024 button.colab-df-convert');\n",
              "        buttonEl.style.display =\n",
              "          google.colab.kernel.accessAllowed ? 'block' : 'none';\n",
              "\n",
              "        async function convertToInteractive(key) {\n",
              "          const element = document.querySelector('#df-a8919518-282f-43a0-aad3-012e9bbdf024');\n",
              "          const dataTable =\n",
              "            await google.colab.kernel.invokeFunction('convertToInteractive',\n",
              "                                                     [key], {});\n",
              "          if (!dataTable) return;\n",
              "\n",
              "          const docLinkHtml = 'Like what you see? Visit the ' +\n",
              "            '<a target=\"_blank\" href=https://colab.research.google.com/notebooks/data_table.ipynb>data table notebook</a>'\n",
              "            + ' to learn more about interactive tables.';\n",
              "          element.innerHTML = '';\n",
              "          dataTable['output_type'] = 'display_data';\n",
              "          await google.colab.output.renderOutput(dataTable, element);\n",
              "          const docLink = document.createElement('div');\n",
              "          docLink.innerHTML = docLinkHtml;\n",
              "          element.appendChild(docLink);\n",
              "        }\n",
              "      </script>\n",
              "    </div>\n",
              "  </div>\n",
              "  "
            ]
          },
          "metadata": {},
          "execution_count": 5
        }
      ]
    },
    {
      "cell_type": "code",
      "source": [
        "lab = ['belongingness','safety','esteem','self_actualization','physiological']\n",
        "x = data['title_text']\n",
        "y = data[lab]\n",
        "print(x.shape)\n",
        "print(y.shape)"
      ],
      "metadata": {
        "execution": {
          "iopub.status.busy": "2022-10-12T15:35:23.094988Z",
          "iopub.execute_input": "2022-10-12T15:35:23.095419Z",
          "iopub.status.idle": "2022-10-12T15:35:23.110759Z",
          "shell.execute_reply.started": "2022-10-12T15:35:23.095386Z",
          "shell.execute_reply": "2022-10-12T15:35:23.109606Z"
        },
        "trusted": true,
        "id": "mFwFU1ykg8Qg",
        "outputId": "8e726a89-b15c-4cba-ee53-16039e988952",
        "colab": {
          "base_uri": "https://localhost:8080/"
        }
      },
      "execution_count": 6,
      "outputs": [
        {
          "output_type": "stream",
          "name": "stdout",
          "text": [
            "(114,)\n",
            "(114, 5)\n"
          ]
        }
      ]
    },
    {
      "cell_type": "code",
      "source": [
        "from sklearn.model_selection import train_test_split\n",
        "X, X_test, Y, y_test = train_test_split(x, y, test_size=0.2, random_state=0)\n",
        "print(X.shape)\n",
        "print(X_test.shape)\n",
        "print(Y.shape)\n",
        "print(y_test.shape)"
      ],
      "metadata": {
        "execution": {
          "iopub.status.busy": "2022-10-12T15:35:30.404659Z",
          "iopub.execute_input": "2022-10-12T15:35:30.405114Z",
          "iopub.status.idle": "2022-10-12T15:35:30.426129Z",
          "shell.execute_reply.started": "2022-10-12T15:35:30.405076Z",
          "shell.execute_reply": "2022-10-12T15:35:30.424705Z"
        },
        "trusted": true,
        "id": "E4LGrsbzg8Qh",
        "outputId": "d2fe35be-09b1-4f6d-e16c-4aad6b76e361",
        "colab": {
          "base_uri": "https://localhost:8080/"
        }
      },
      "execution_count": 7,
      "outputs": [
        {
          "output_type": "stream",
          "name": "stdout",
          "text": [
            "(91,)\n",
            "(23,)\n",
            "(91, 5)\n",
            "(23, 5)\n"
          ]
        }
      ]
    },
    {
      "cell_type": "code",
      "source": [
        "X_train, X_val ,y_train, y_val = train_test_split(X, Y, test_size=0.1, random_state=0)\n",
        "print(X_train.shape)\n",
        "print(X_val.shape)\n",
        "print(y_train.shape)\n",
        "print(y_val.shape)"
      ],
      "metadata": {
        "execution": {
          "iopub.status.busy": "2022-10-12T15:35:34.715138Z",
          "iopub.execute_input": "2022-10-12T15:35:34.715491Z",
          "iopub.status.idle": "2022-10-12T15:35:34.725612Z",
          "shell.execute_reply.started": "2022-10-12T15:35:34.715461Z",
          "shell.execute_reply": "2022-10-12T15:35:34.724527Z"
        },
        "trusted": true,
        "id": "BonrXyrIg8Qi",
        "outputId": "db796ff0-c1a0-44f8-8431-7ad5a5479f41",
        "colab": {
          "base_uri": "https://localhost:8080/"
        }
      },
      "execution_count": 8,
      "outputs": [
        {
          "output_type": "stream",
          "name": "stdout",
          "text": [
            "(81,)\n",
            "(10,)\n",
            "(81, 5)\n",
            "(10, 5)\n"
          ]
        }
      ]
    },
    {
      "cell_type": "markdown",
      "source": [
        "# Building models"
      ],
      "metadata": {
        "id": "lYaugez7g8Qj"
      }
    },
    {
      "cell_type": "code",
      "source": [
        "import pandas as pd\n",
        "import transformers\n",
        "from transformers import TFAutoModelForSequenceClassification, RobertaTokenizer\n",
        "import re\n",
        "import os\n",
        "import matplotlib as mpl\n",
        "import matplotlib.cm\n",
        "import tensorflow as tf\n",
        "import tensorflow.keras as keras\n",
        "import tokenizers\n",
        "from tqdm import tqdm\n",
        "from typing import Optional, Union, List, Dict\n",
        "from IPython.display import HTML\n",
        "from tensorflow.keras.datasets import imdb\n",
        "from tensorflow.keras.utils import to_categorical\n",
        "from tensorflow.keras.preprocessing import sequence\n",
        "from tensorflow.keras.optimizers import Adam\n",
        "from tensorflow.keras.losses import SparseCategoricalCrossentropy\n",
        "from transformers import PreTrainedTokenizer\n",
        "pd.set_option('display.max_colwidth', None)\n",
        "# MentalBERT reference: https://huggingface.co/mental/mental-bert-base-uncased\n",
        "#model_name = \"mental/mental-bert-base-uncased\"\n",
        "#model_name = \"mental/mental-roberta-base\"\n",
        "#model_name = 'distilbert-base-uncased-finetuned-sst-2-english'\n",
        "model_name = 'roberta-base'"
      ],
      "metadata": {
        "execution": {
          "iopub.status.busy": "2022-10-12T15:35:38.699788Z",
          "iopub.execute_input": "2022-10-12T15:35:38.700142Z",
          "iopub.status.idle": "2022-10-12T15:35:39.044491Z",
          "shell.execute_reply.started": "2022-10-12T15:35:38.700114Z",
          "shell.execute_reply": "2022-10-12T15:35:39.043511Z"
        },
        "trusted": true,
        "id": "a4lPjYjdg8Qk"
      },
      "execution_count": 9,
      "outputs": []
    },
    {
      "cell_type": "code",
      "source": [
        "from transformers import RobertaTokenizer, TFRobertaModel,RobertaConfig,TFRobertaForSequenceClassification\n",
        "tokenizer = RobertaTokenizer.from_pretrained(model_name)"
      ],
      "metadata": {
        "execution": {
          "iopub.status.busy": "2022-10-12T15:35:44.620238Z",
          "iopub.execute_input": "2022-10-12T15:35:44.620609Z",
          "iopub.status.idle": "2022-10-12T15:35:51.575857Z",
          "shell.execute_reply.started": "2022-10-12T15:35:44.620571Z",
          "shell.execute_reply": "2022-10-12T15:35:51.574882Z"
        },
        "trusted": true,
        "id": "9JTTcuslg8Ql",
        "outputId": "2b4b0ade-8233-47ec-f930-df15d87e79a4",
        "colab": {
          "referenced_widgets": [
            "15c6e98a8e8f4aa8ab79322a83e68387",
            "daf71acb8df24128b0ad42e550c73bb6",
            "a7091cde865344b4ac8a99bbc41babfc",
            "8074deb0d7be4f62987ec04f38104e3d",
            "176f33282fbd4d5fa60ed2f963a902b8",
            "3ea412a7dcb6416796c18c86f344c2c4",
            "7f0c9b46d8c6486ab4453418b5561488",
            "1063f46745e74d9cbcd9bf4b1df1a6d6",
            "366e1afc828949b0aa9e2c39b0906575",
            "92938aed34bc43fcb0dc47dce882759c",
            "3bac19050ab94e58a1dfe3ff0bffe164",
            "e59bc493d024416d9f7644cd63dacb40",
            "127c02d0acbb4896b3691e6f1e94ebea",
            "1991d47eb5954333b0ad8ce907a043bd",
            "cd19495d480f4bcca156c1547d79cbaf",
            "ea993b8432954c999e76802514358173",
            "efbca377cabc46b9af4969448a297a00",
            "a76c904c68d14393a5187cd9a3dec336",
            "9c908cfa199a4582a7a5b65ba396ec4f",
            "a1361909dbbc41918c37d123ae99dd4d",
            "fa41989a1bca49ae859dd567480fcf79",
            "60abb59aa54247b3811a73c61f94147e",
            "5508b2c64a4a44e89962f437fc938c49",
            "80ef24133ac94bffab90b9cffcdb22f7",
            "66793c62d58c4fff8fa3ba173e33be08",
            "b98df6098a0148d3bfafcd63c0c93ad8",
            "2c5437545edc47b2991cd11958b68e08",
            "d3c7425c382e444796989b4604b4983c",
            "c9d216f3054b4a4f9c922d369c3b1bb8",
            "c3260615cff241849a23c765546de7ea",
            "5d5e80aaa57943a8b002658b4d2dbb80",
            "d59f9a8dda7f4431bedd2a29aea29c6c",
            "bfe0ab4c81dc43eca9e3763c0cf577a6"
          ],
          "base_uri": "https://localhost:8080/",
          "height": 113
        }
      },
      "execution_count": 10,
      "outputs": [
        {
          "output_type": "display_data",
          "data": {
            "text/plain": [
              "Downloading:   0%|          | 0.00/899k [00:00<?, ?B/s]"
            ],
            "application/vnd.jupyter.widget-view+json": {
              "version_major": 2,
              "version_minor": 0,
              "model_id": "15c6e98a8e8f4aa8ab79322a83e68387"
            }
          },
          "metadata": {}
        },
        {
          "output_type": "display_data",
          "data": {
            "text/plain": [
              "Downloading:   0%|          | 0.00/456k [00:00<?, ?B/s]"
            ],
            "application/vnd.jupyter.widget-view+json": {
              "version_major": 2,
              "version_minor": 0,
              "model_id": "e59bc493d024416d9f7644cd63dacb40"
            }
          },
          "metadata": {}
        },
        {
          "output_type": "display_data",
          "data": {
            "text/plain": [
              "Downloading:   0%|          | 0.00/481 [00:00<?, ?B/s]"
            ],
            "application/vnd.jupyter.widget-view+json": {
              "version_major": 2,
              "version_minor": 0,
              "model_id": "5508b2c64a4a44e89962f437fc938c49"
            }
          },
          "metadata": {}
        }
      ]
    },
    {
      "cell_type": "code",
      "source": [
        "print(\"Vocab Size:\",tokenizer.vocab_size)\n",
        "print()\n",
        "print(\"Max sequence length:\",tokenizer.max_len_single_sentence)\n",
        "print()\n",
        "print(\"Model Max length:\",tokenizer.model_max_length )\n",
        "print()\n",
        "print(\"Padding:\", tokenizer.pad)\n",
        "print()\n",
        "print(\"Max model input sizes:\", tokenizer.max_model_input_sizes)"
      ],
      "metadata": {
        "execution": {
          "iopub.status.busy": "2022-10-12T15:35:57.515587Z",
          "iopub.execute_input": "2022-10-12T15:35:57.515936Z",
          "iopub.status.idle": "2022-10-12T15:35:57.523404Z",
          "shell.execute_reply.started": "2022-10-12T15:35:57.515908Z",
          "shell.execute_reply": "2022-10-12T15:35:57.522305Z"
        },
        "trusted": true,
        "id": "9KYMxyEGg8Qm",
        "outputId": "5a9be6ae-e43c-459d-a12c-10107861fe2f",
        "colab": {
          "base_uri": "https://localhost:8080/"
        }
      },
      "execution_count": 11,
      "outputs": [
        {
          "output_type": "stream",
          "name": "stdout",
          "text": [
            "Vocab Size: 50265\n",
            "\n",
            "Max sequence length: 510\n",
            "\n",
            "Model Max length: 512\n",
            "\n",
            "Padding: <bound method PreTrainedTokenizerBase.pad of PreTrainedTokenizer(name_or_path='roberta-base', vocab_size=50265, model_max_len=512, is_fast=False, padding_side='right', truncation_side='right', special_tokens={'bos_token': AddedToken(\"<s>\", rstrip=False, lstrip=False, single_word=False, normalized=True), 'eos_token': AddedToken(\"</s>\", rstrip=False, lstrip=False, single_word=False, normalized=True), 'unk_token': AddedToken(\"<unk>\", rstrip=False, lstrip=False, single_word=False, normalized=True), 'sep_token': AddedToken(\"</s>\", rstrip=False, lstrip=False, single_word=False, normalized=True), 'pad_token': AddedToken(\"<pad>\", rstrip=False, lstrip=False, single_word=False, normalized=True), 'cls_token': AddedToken(\"<s>\", rstrip=False, lstrip=False, single_word=False, normalized=True), 'mask_token': AddedToken(\"<mask>\", rstrip=False, lstrip=True, single_word=False, normalized=True)})>\n",
            "\n",
            "Max model input sizes: {'roberta-base': 512, 'roberta-large': 512, 'roberta-large-mnli': 512, 'distilroberta-base': 512, 'roberta-base-openai-detector': 512, 'roberta-large-openai-detector': 512}\n"
          ]
        }
      ]
    },
    {
      "cell_type": "code",
      "source": [
        "train_encodingsf = tokenizer(list(X_train.values),\n",
        "                                padding = \"max_length\",\n",
        "                                truncation = True,\n",
        "                                return_attention_mask = True,\n",
        "                                return_token_type_ids = True,\n",
        "                                return_tensors = 'np')\n",
        "val_encodingsf = tokenizer(list(X_val.values),\n",
        "                                padding = \"max_length\",\n",
        "                                truncation = True,\n",
        "                                return_attention_mask = True,\n",
        "                                return_token_type_ids = True,\n",
        "                                return_tensors = 'np')\n",
        "test_encodingsf = tokenizer(list(X_test.values),\n",
        "                                padding = \"max_length\",\n",
        "                                truncation = True,\n",
        "                                return_attention_mask = True,\n",
        "                                return_token_type_ids = True,\n",
        "                                return_tensors = 'np')"
      ],
      "metadata": {
        "execution": {
          "iopub.status.busy": "2022-10-12T15:36:00.571425Z",
          "iopub.execute_input": "2022-10-12T15:36:00.572086Z",
          "iopub.status.idle": "2022-10-12T15:36:07.495804Z",
          "shell.execute_reply.started": "2022-10-12T15:36:00.572051Z",
          "shell.execute_reply": "2022-10-12T15:36:07.494796Z"
        },
        "trusted": true,
        "id": "ZrL8iWYdg8Qn"
      },
      "execution_count": 12,
      "outputs": []
    },
    {
      "cell_type": "code",
      "source": [
        "train_encodingsf"
      ],
      "metadata": {
        "colab": {
          "base_uri": "https://localhost:8080/"
        },
        "id": "XFyWZqxXA5cv",
        "outputId": "0f386efe-78a1-432c-8f63-f5612856a53f"
      },
      "execution_count": 13,
      "outputs": [
        {
          "output_type": "execute_result",
          "data": {
            "text/plain": [
              "{'input_ids': array([[    0, 12645,  6537, ...,     1,     1,     1],\n",
              "       [    0,  7682,   183, ...,     1,     1,     1],\n",
              "       [    0,   100,   206, ...,     1,     1,     1],\n",
              "       ...,\n",
              "       [    0, 10127,    38, ...,     1,     1,     1],\n",
              "       [    0, 27847,  1268, ...,     1,     1,     1],\n",
              "       [    0,  2709,    10, ...,     1,     1,     1]]), 'token_type_ids': array([[0, 0, 0, ..., 0, 0, 0],\n",
              "       [0, 0, 0, ..., 0, 0, 0],\n",
              "       [0, 0, 0, ..., 0, 0, 0],\n",
              "       ...,\n",
              "       [0, 0, 0, ..., 0, 0, 0],\n",
              "       [0, 0, 0, ..., 0, 0, 0],\n",
              "       [0, 0, 0, ..., 0, 0, 0]]), 'attention_mask': array([[1, 1, 1, ..., 0, 0, 0],\n",
              "       [1, 1, 1, ..., 0, 0, 0],\n",
              "       [1, 1, 1, ..., 0, 0, 0],\n",
              "       ...,\n",
              "       [1, 1, 1, ..., 0, 0, 0],\n",
              "       [1, 1, 1, ..., 0, 0, 0],\n",
              "       [1, 1, 1, ..., 0, 0, 0]])}"
            ]
          },
          "metadata": {},
          "execution_count": 13
        }
      ]
    },
    {
      "cell_type": "code",
      "source": [
        "print(len(train_encodingsf))"
      ],
      "metadata": {
        "execution": {
          "iopub.status.busy": "2022-10-12T15:36:13.867415Z",
          "iopub.execute_input": "2022-10-12T15:36:13.867939Z",
          "iopub.status.idle": "2022-10-12T15:36:13.873891Z",
          "shell.execute_reply.started": "2022-10-12T15:36:13.867894Z",
          "shell.execute_reply": "2022-10-12T15:36:13.872819Z"
        },
        "trusted": true,
        "id": "QnsGyMylg8Qo",
        "outputId": "1ce5dad3-5679-42cd-ddd4-47591c554a36",
        "colab": {
          "base_uri": "https://localhost:8080/"
        }
      },
      "execution_count": 14,
      "outputs": [
        {
          "output_type": "stream",
          "name": "stdout",
          "text": [
            "3\n"
          ]
        }
      ]
    },
    {
      "cell_type": "code",
      "source": [
        "train_dataset = tf.data.Dataset.from_tensor_slices((dict(train_encodingsf),\n",
        "                                    list(y_train.values)))\n",
        "val_dataset = tf.data.Dataset.from_tensor_slices((dict(val_encodingsf),\n",
        "                                    list(y_val.values)))\n",
        "test_dataset = tf.data.Dataset.from_tensor_slices((dict(test_encodingsf),\n",
        "                                    list(y_test.values)))"
      ],
      "metadata": {
        "execution": {
          "iopub.status.busy": "2022-10-12T15:36:15.588242Z",
          "iopub.execute_input": "2022-10-12T15:36:15.588636Z",
          "iopub.status.idle": "2022-10-12T15:36:23.228311Z",
          "shell.execute_reply.started": "2022-10-12T15:36:15.588605Z",
          "shell.execute_reply": "2022-10-12T15:36:23.227435Z"
        },
        "trusted": true,
        "id": "lYlR70fqg8Qp"
      },
      "execution_count": 15,
      "outputs": []
    },
    {
      "cell_type": "code",
      "source": [
        "from transformers import BertConfig\n",
        "# Initializing a RoBERTa configuration\n",
        "config = RobertaConfig()\n",
        "config.output_hidden_states = False\n",
        "# Initializing a model (with random weights) from the configuration\n",
        "model = TFRobertaModel(config)\n",
        "transformer_model = TFRobertaForSequenceClassification.from_pretrained(model_name)\n",
        "# Accessing the model configuration\n",
        "configuration = model.config\n",
        "'''\n",
        "config = BertConfig(num_labels = 200)   #dropout=0.2, attention_dropout=0.2,\n",
        "config.output_hidden_states = False\n",
        "transformer_model = TFAutoModelForSequenceClassification.from_pretrained(model_name,from_pt = True,config = config)\n",
        "transformer_model.layers[0].trainable = True\n",
        "print(transformer_model.summary())\n",
        "'''"
      ],
      "metadata": {
        "execution": {
          "iopub.status.busy": "2022-10-12T15:36:42.598033Z",
          "iopub.execute_input": "2022-10-12T15:36:42.598394Z",
          "iopub.status.idle": "2022-10-12T15:37:00.606147Z",
          "shell.execute_reply.started": "2022-10-12T15:36:42.598362Z",
          "shell.execute_reply": "2022-10-12T15:37:00.605094Z"
        },
        "trusted": true,
        "id": "4oQNdtpxg8Qq",
        "outputId": "d879a0a1-c8e7-4dde-e9c0-4d6be359fe33",
        "colab": {
          "referenced_widgets": [
            "25ab5c43250e42ecae0fe6a8eb0e5959",
            "411aa2b622ce4147bf0a99809f648477",
            "9b20f54dbe534fb7b046bde69223c309",
            "0d9ca9dd342145c1a5fa48145dea2d5c",
            "f38b5d8b6e2a4bdcb716e00ac23c1e80",
            "d857e1fab17d4dda97d777c373be6a54",
            "0defda53ae1b4dada9f65006695a9e7f",
            "52824cd57dcf4c45bdcaf42a5609d17c",
            "98c9623bc0034b68a4a32540279371d5",
            "e302f4ce8e2e4bcbb8d663eb23d403ad",
            "d3db003028d040e8a7c5efe2f80fec5e"
          ],
          "base_uri": "https://localhost:8080/",
          "height": 192
        }
      },
      "execution_count": 16,
      "outputs": [
        {
          "output_type": "display_data",
          "data": {
            "text/plain": [
              "Downloading:   0%|          | 0.00/657M [00:00<?, ?B/s]"
            ],
            "application/vnd.jupyter.widget-view+json": {
              "version_major": 2,
              "version_minor": 0,
              "model_id": "25ab5c43250e42ecae0fe6a8eb0e5959"
            }
          },
          "metadata": {}
        },
        {
          "output_type": "stream",
          "name": "stderr",
          "text": [
            "All model checkpoint layers were used when initializing TFRobertaForSequenceClassification.\n",
            "\n",
            "Some layers of TFRobertaForSequenceClassification were not initialized from the model checkpoint at roberta-base and are newly initialized: ['classifier']\n",
            "You should probably TRAIN this model on a down-stream task to be able to use it for predictions and inference.\n"
          ]
        },
        {
          "output_type": "execute_result",
          "data": {
            "text/plain": [
              "'\\nconfig = BertConfig(num_labels = 200)   #dropout=0.2, attention_dropout=0.2,\\nconfig.output_hidden_states = False\\ntransformer_model = TFAutoModelForSequenceClassification.from_pretrained(model_name,from_pt = True,config = config)\\ntransformer_model.layers[0].trainable = True\\nprint(transformer_model.summary())\\n'"
            ],
            "application/vnd.google.colaboratory.intrinsic+json": {
              "type": "string"
            }
          },
          "metadata": {},
          "execution_count": 16
        }
      ]
    },
    {
      "cell_type": "code",
      "source": [
        "transformer_model"
      ],
      "metadata": {
        "colab": {
          "base_uri": "https://localhost:8080/"
        },
        "id": "e8h_ahPJ6fZo",
        "outputId": "dc0c9ba6-536e-4756-ebfb-4c01337e06cf"
      },
      "execution_count": 17,
      "outputs": [
        {
          "output_type": "execute_result",
          "data": {
            "text/plain": [
              "<transformers.models.roberta.modeling_tf_roberta.TFRobertaForSequenceClassification at 0x7f1d67bea3d0>"
            ]
          },
          "metadata": {},
          "execution_count": 17
        }
      ]
    },
    {
      "cell_type": "code",
      "source": [
        "transformer_model.roberta?"
      ],
      "metadata": {
        "id": "9X_6hzCa7TZf"
      },
      "execution_count": 18,
      "outputs": []
    },
    {
      "cell_type": "code",
      "source": [
        "# Reference: https://towardsdatascience.com/working-with-hugging-face-transformers-and-tf-2-0-89bf35e3555a (For BERT)\n",
        "# The reference is for creating the BERT model\n",
        "def create_model():\n",
        "   input_token = tf.keras.layers.Input(shape=(None,), name='input_ids',dtype='int32')\n",
        "   seq_token = tf.keras.layers.Input(shape=(None,), name='token_type_ids',dtype='int32')\n",
        "   masked_token = tf.keras.layers.Input(shape=(None,), name='attention_mask',dtype='int32')\n",
        "\n",
        "   embedding_layer = transformer_model.roberta(input_token,masked_token,seq_token)[0]\n",
        "   #X = tf.keras.layers.Bidirectional(tf.keras.layers.LSTM(50, return_sequences=True, dropout=0.1, recurrent_dropout=0.1))(embedding_layer)\n",
        "   #X = tf.keras.layers.GlobalMaxPool1D()(X)\n",
        "    \n",
        "   X = tf.keras.layers.Dense(100, activation='relu')(embedding_layer[:,0,:])\n",
        "   X = tf.keras.layers.Dropout(0.2)(X)\n",
        "   X = tf.keras.layers.Dense(30, activation = 'relu',)(X)\n",
        "   # Designing last layer reference: \n",
        "   # https://medium.com/deep-learning-with-keras/how-to-solve-multi-label-classification-problems-in-deep-learning-with-tensorflow-keras-7fb933243595\n",
        "   X = tf.keras.layers.Dense(5, activation='sigmoid', kernel_regularizer=tf.keras.regularizers.l2(0.01), bias_regularizer=tf.keras.regularizers.l2(0.01))(X)\n",
        "   model = tf.keras.Model(inputs=[input_token,masked_token,seq_token], outputs = X)\n",
        "   \"\"\"\n",
        "   for layer in model.layers[:0]:\n",
        "    layer.trainable = False\n",
        "   \"\"\"\n",
        "   return model\n",
        "\n",
        "model = create_model()\n",
        "print(model.summary())"
      ],
      "metadata": {
        "execution": {
          "iopub.status.busy": "2022-10-12T15:37:03.668809Z",
          "iopub.execute_input": "2022-10-12T15:37:03.669182Z",
          "iopub.status.idle": "2022-10-12T15:37:11.003283Z",
          "shell.execute_reply.started": "2022-10-12T15:37:03.669152Z",
          "shell.execute_reply": "2022-10-12T15:37:11.002241Z"
        },
        "trusted": true,
        "id": "uN3oPSl8g8Qr",
        "outputId": "507ab736-0675-4c26-e595-ec16933aa973",
        "colab": {
          "base_uri": "https://localhost:8080/"
        }
      },
      "execution_count": 19,
      "outputs": [
        {
          "output_type": "stream",
          "name": "stdout",
          "text": [
            "Model: \"model\"\n",
            "__________________________________________________________________________________________________\n",
            " Layer (type)                   Output Shape         Param #     Connected to                     \n",
            "==================================================================================================\n",
            " input_ids (InputLayer)         [(None, None)]       0           []                               \n",
            "                                                                                                  \n",
            " attention_mask (InputLayer)    [(None, None)]       0           []                               \n",
            "                                                                                                  \n",
            " token_type_ids (InputLayer)    [(None, None)]       0           []                               \n",
            "                                                                                                  \n",
            " roberta (TFRobertaMainLayer)   TFBaseModelOutputWi  124055040   ['input_ids[0][0]',              \n",
            "                                thPoolingAndCrossAt               'attention_mask[0][0]',         \n",
            "                                tentions(last_hidde               'token_type_ids[0][0]']         \n",
            "                                n_state=(None, None                                               \n",
            "                                , 768),                                                           \n",
            "                                 pooler_output=None                                               \n",
            "                                , past_key_values=N                                               \n",
            "                                one, hidden_states=                                               \n",
            "                                None, attentions=No                                               \n",
            "                                ne, cross_attention                                               \n",
            "                                s=None)                                                           \n",
            "                                                                                                  \n",
            " tf.__operators__.getitem (Slic  (None, 768)         0           ['roberta[0][0]']                \n",
            " ingOpLambda)                                                                                     \n",
            "                                                                                                  \n",
            " dense (Dense)                  (None, 100)          76900       ['tf.__operators__.getitem[0][0]'\n",
            "                                                                 ]                                \n",
            "                                                                                                  \n",
            " dropout_75 (Dropout)           (None, 100)          0           ['dense[0][0]']                  \n",
            "                                                                                                  \n",
            " dense_1 (Dense)                (None, 30)           3030        ['dropout_75[0][0]']             \n",
            "                                                                                                  \n",
            " dense_2 (Dense)                (None, 5)            155         ['dense_1[0][0]']                \n",
            "                                                                                                  \n",
            "==================================================================================================\n",
            "Total params: 124,135,125\n",
            "Trainable params: 124,135,125\n",
            "Non-trainable params: 0\n",
            "__________________________________________________________________________________________________\n",
            "None\n"
          ]
        }
      ]
    },
    {
      "cell_type": "code",
      "source": [
        " #['input_token', 'masked_token', 'seq_token']\n",
        "    # 'input_ids', 'token_type_ids', 'attention_mask'"
      ],
      "metadata": {
        "trusted": true,
        "id": "ftvdXqcJg8Qs"
      },
      "execution_count": 20,
      "outputs": []
    },
    {
      "cell_type": "code",
      "source": [
        "# Reference: https://towardsdatascience.com/working-with-hugging-face-transformers-and-tf-2-0-89bf35e3555a\n",
        "# For implementing the BERT architecture with custom layers on top of it"
      ],
      "metadata": {
        "trusted": true,
        "id": "aMQ_9ZORg8Qt"
      },
      "execution_count": 21,
      "outputs": []
    },
    {
      "cell_type": "code",
      "source": [
        "earlystopping = tf.keras.callbacks.EarlyStopping(\n",
        "    monitor='val_binary_accuracy',\n",
        "    min_delta=0,\n",
        "    patience=3,\n",
        "    verbose=1,\n",
        "    mode='auto',\n",
        "    baseline=None,\n",
        "    restore_best_weights=False\n",
        ")\n",
        "\n",
        "reduce_lr = tf.keras.callbacks.ReduceLROnPlateau(monitor = 'val_binary_accuracy',\n",
        "                                                 factor = 0.2,\n",
        "                                                 patience = 1,\n",
        "                                                 verbose = 1,\n",
        "                                                 min_delta = 1e-4,\n",
        "                                                 min_lr = 1e-11,\n",
        "                                                 mode = 'max')\n",
        "\n",
        "checkpointer = tf.keras.callbacks.ModelCheckpoint(filepath = './ROBERTA',\n",
        "                                                  monitor = 'val_binary_accuracy', \n",
        "                                                  verbose = 1, \n",
        "                                                  save_best_only = True,\n",
        "                                                  save_weights_only = False,\n",
        "                                                  mode = 'max')\n",
        "\n",
        "callbacks = [earlystopping, reduce_lr, checkpointer]"
      ],
      "metadata": {
        "execution": {
          "iopub.status.busy": "2022-10-12T15:37:43.218198Z",
          "iopub.execute_input": "2022-10-12T15:37:43.218550Z",
          "iopub.status.idle": "2022-10-12T15:37:43.225703Z",
          "shell.execute_reply.started": "2022-10-12T15:37:43.218519Z",
          "shell.execute_reply": "2022-10-12T15:37:43.224695Z"
        },
        "trusted": true,
        "id": "SQZUa01Jg8Qt"
      },
      "execution_count": 22,
      "outputs": []
    },
    {
      "cell_type": "code",
      "source": [
        "BATCH_SIZE = 8\n",
        "N_EPOCHS = 10\n",
        "optimizerr = tf.keras.optimizers.Adam(learning_rate=1e-3)\n",
        "#optimizerr = tfa.optimizers.RectifiedAdam(learning_rate=5e-5)\n",
        "losss = tf.keras.losses.BinaryCrossentropy()\n",
        "model.compile(optimizer=optimizerr,\n",
        "              loss=losss,\n",
        "              metrics=tf.keras.metrics.binary_accuracy)\n",
        "history = model.fit(train_dataset.shuffle(len(X_train)).batch(BATCH_SIZE),\n",
        "          epochs=N_EPOCHS,\n",
        "          batch_size=BATCH_SIZE,\n",
        "          validation_data = test_dataset.shuffle(len(X_test)).batch(BATCH_SIZE),\n",
        "          callbacks = callbacks)"
      ],
      "metadata": {
        "execution": {
          "iopub.status.busy": "2022-10-12T15:37:47.309192Z",
          "iopub.execute_input": "2022-10-12T15:37:47.309600Z",
          "iopub.status.idle": "2022-10-12T16:17:53.267077Z",
          "shell.execute_reply.started": "2022-10-12T15:37:47.309541Z",
          "shell.execute_reply": "2022-10-12T16:17:53.266165Z"
        },
        "trusted": true,
        "id": "lLrcmRaVg8Qu",
        "outputId": "cab98586-b70c-453a-982b-98dbec0ffa8d",
        "colab": {
          "base_uri": "https://localhost:8080/"
        }
      },
      "execution_count": null,
      "outputs": [
        {
          "output_type": "stream",
          "name": "stdout",
          "text": [
            "Epoch 1/10\n",
            "11/11 [==============================] - ETA: 0s - loss: 0.7982 - binary_accuracy: 0.6148\n",
            "Epoch 1: val_binary_accuracy improved from -inf to 0.64348, saving model to ./ROBERTA\n"
          ]
        },
        {
          "output_type": "stream",
          "name": "stderr",
          "text": [
            "WARNING:absl:Found untraced functions such as encoder_layer_call_fn, encoder_layer_call_and_return_conditional_losses, embeddings_layer_call_fn, embeddings_layer_call_and_return_conditional_losses, LayerNorm_layer_call_fn while saving (showing 5 of 416). These functions will not be directly callable after loading.\n"
          ]
        },
        {
          "output_type": "stream",
          "name": "stdout",
          "text": [
            "\b\b\b\b\b\b\b\b\b\b\b\b\b\b\b\b\b\b\b\b\b\b\b\b\b\b\b\b\b\b\b\b\b\b\b\b\b\b\b\b\b\b\b\b\b\b\b\b\b\b\b\b\b\b\b\b\b\b\b\b\b\b\b\b\b\b\b\b\b\b\b\b\b\b\b\b\b\b\b\b\b\b\b\b\b\b\b\b\b\r11/11 [==============================] - 59s 4s/step - loss: 0.7982 - binary_accuracy: 0.6148 - val_loss: 0.7310 - val_binary_accuracy: 0.6435 - lr: 0.0010\n"
          ]
        }
      ]
    },
    {
      "cell_type": "code",
      "source": [
        "trial =list(X_test)\n",
        "trial_y = list(y_test)\n",
        "print(len(trial))"
      ],
      "metadata": {
        "execution": {
          "iopub.status.busy": "2022-10-12T16:18:03.791360Z",
          "iopub.execute_input": "2022-10-12T16:18:03.791746Z",
          "iopub.status.idle": "2022-10-12T16:18:03.798266Z",
          "shell.execute_reply.started": "2022-10-12T16:18:03.791715Z",
          "shell.execute_reply": "2022-10-12T16:18:03.797226Z"
        },
        "trusted": true,
        "id": "87iWXwZog8Qv",
        "outputId": "ed1d671c-d230-480e-b3c2-e09ba39f7db8"
      },
      "execution_count": null,
      "outputs": [
        {
          "name": "stdout",
          "text": "1592\n",
          "output_type": "stream"
        }
      ]
    },
    {
      "cell_type": "code",
      "source": [
        "def predict_proba(text_list, model, tokenizer, threshold):  \n",
        "    #tokenize the text\n",
        "    encodings = tokenizer(text_list,\n",
        "                  padding = \"max_length\",\n",
        "                  truncation = True,\n",
        "                  return_attention_mask = True,\n",
        "                  return_tensors = 'np')\n",
        "    #transform to tf.Dataset\n",
        "    dataset = tf.data.Dataset.from_tensor_slices((dict(encodings)))\n",
        "    #predict\n",
        "    preds = model.predict(dataset.batch(1))\n",
        "    \n",
        "    #transform to array with probabilities\n",
        "    #res = tf.nn.softmax(preds, axis=1).numpy()    \n",
        "    #opp = tf.math.argmax(res, axis = 1)\n",
        "    opp = preds>threshold\n",
        "    opp = opp.astype('int')\n",
        "    \n",
        "    return opp"
      ],
      "metadata": {
        "execution": {
          "iopub.status.busy": "2022-10-12T16:18:06.542168Z",
          "iopub.execute_input": "2022-10-12T16:18:06.542515Z",
          "iopub.status.idle": "2022-10-12T16:18:06.549075Z",
          "shell.execute_reply.started": "2022-10-12T16:18:06.542486Z",
          "shell.execute_reply": "2022-10-12T16:18:06.548017Z"
        },
        "trusted": true,
        "id": "SOwS-MCug8Qv"
      },
      "execution_count": null,
      "outputs": []
    },
    {
      "cell_type": "code",
      "source": [
        "y_pred = predict_proba(trial, model, tokenizer, 0.5)\n",
        "print(y_pred.shape)\n",
        "print(len(y_pred))"
      ],
      "metadata": {
        "execution": {
          "iopub.status.busy": "2022-10-12T16:18:09.789037Z",
          "iopub.execute_input": "2022-10-12T16:18:09.789383Z",
          "iopub.status.idle": "2022-10-12T16:19:20.484265Z",
          "shell.execute_reply.started": "2022-10-12T16:18:09.789353Z",
          "shell.execute_reply": "2022-10-12T16:19:20.483193Z"
        },
        "trusted": true,
        "id": "KNrcXFSyg8Qw",
        "outputId": "984bda22-ef1e-47be-f14b-9a829e4cec7b"
      },
      "execution_count": null,
      "outputs": [
        {
          "name": "stdout",
          "text": "(1592, 3)\n1592\n",
          "output_type": "stream"
        }
      ]
    },
    {
      "cell_type": "code",
      "source": [
        "np.save(\"./y_testBERT.npy\", y_test)\n",
        "np.save(\"./y_predBERT.npy\",y_pred)"
      ],
      "metadata": {
        "execution": {
          "iopub.status.busy": "2022-10-12T16:20:33.358075Z",
          "iopub.execute_input": "2022-10-12T16:20:33.358440Z",
          "iopub.status.idle": "2022-10-12T16:20:33.364744Z",
          "shell.execute_reply.started": "2022-10-12T16:20:33.358409Z",
          "shell.execute_reply": "2022-10-12T16:20:33.363704Z"
        },
        "trusted": true,
        "id": "dVxgyBOvg8Qx"
      },
      "execution_count": null,
      "outputs": []
    },
    {
      "cell_type": "code",
      "source": [
        "y_testnp =y_test.to_numpy()\n",
        "\n",
        "def Accuracy(y_true, y_pred):\n",
        "    temp = 0\n",
        "    for i in range(y_true.shape[0]):\n",
        "        temp += sum(np.logical_and(y_true[i], y_pred[i])) / sum(np.logical_or(y_true[i], y_pred[i]))\n",
        "    return temp / y_true.shape[0]\n",
        "\n",
        "print(\"Averall Accuracy or Hamming score:\",Accuracy(y_testnp, y_pred))"
      ],
      "metadata": {
        "execution": {
          "iopub.status.busy": "2022-10-12T16:20:36.054134Z",
          "iopub.execute_input": "2022-10-12T16:20:36.054500Z",
          "iopub.status.idle": "2022-10-12T16:20:36.087520Z",
          "shell.execute_reply.started": "2022-10-12T16:20:36.054469Z",
          "shell.execute_reply": "2022-10-12T16:20:36.086360Z"
        },
        "trusted": true,
        "id": "Znde0qPog8Qx",
        "outputId": "e08b53ef-318c-4798-c0d3-fa548b0c645d"
      },
      "execution_count": null,
      "outputs": [
        {
          "name": "stdout",
          "text": "Averall Accuracy or Hamming score: 0.5797738693467344\n",
          "output_type": "stream"
        }
      ]
    },
    {
      "cell_type": "code",
      "source": [
        "! zip BERT.zip ./BERT"
      ],
      "metadata": {
        "execution": {
          "iopub.status.busy": "2022-10-12T16:20:45.801404Z",
          "iopub.execute_input": "2022-10-12T16:20:45.801765Z",
          "iopub.status.idle": "2022-10-12T16:20:46.959168Z",
          "shell.execute_reply.started": "2022-10-12T16:20:45.801734Z",
          "shell.execute_reply": "2022-10-12T16:20:46.958014Z"
        },
        "trusted": true,
        "id": "Q1F-59K-g8Qy",
        "outputId": "b84df901-030c-4ed4-be20-f2a06cc2a511"
      },
      "execution_count": null,
      "outputs": [
        {
          "name": "stdout",
          "text": "huggingface/tokenizers: The current process just got forked, after parallelism has already been used. Disabling parallelism to avoid deadlocks...\nTo disable this warning, you can either:\n\t- Avoid using `tokenizers` before the fork if possible\n\t- Explicitly set the environment variable TOKENIZERS_PARALLELISM=(true | false)\n  adding: BERT/ (stored 0%)\n",
          "output_type": "stream"
        }
      ]
    },
    {
      "cell_type": "code",
      "source": [
        "import os\n",
        "os.chdir(r'/kaggle/working')\n",
        "r'./BERT.zip'\n",
        "\n",
        "from IPython.display import FileLink\n",
        "FileLink(r'./BERT.zip')"
      ],
      "metadata": {
        "execution": {
          "iopub.status.busy": "2022-10-12T16:20:48.988427Z",
          "iopub.execute_input": "2022-10-12T16:20:48.989201Z",
          "iopub.status.idle": "2022-10-12T16:20:48.998575Z",
          "shell.execute_reply.started": "2022-10-12T16:20:48.989166Z",
          "shell.execute_reply": "2022-10-12T16:20:48.997633Z"
        },
        "trusted": true,
        "id": "pQVCKWYVg8Qz",
        "outputId": "106d0cd1-1325-4bde-b294-5289e9333bd9"
      },
      "execution_count": null,
      "outputs": [
        {
          "execution_count": 26,
          "output_type": "execute_result",
          "data": {
            "text/plain": "/kaggle/working/BERT.zip",
            "text/html": "<a href='./BERT.zip' target='_blank'>./BERT.zip</a><br>"
          },
          "metadata": {}
        }
      ]
    },
    {
      "cell_type": "code",
      "source": [
        "new_model = tf.keras.models.load_model('./BERT')"
      ],
      "metadata": {
        "execution": {
          "iopub.status.busy": "2022-10-12T16:20:52.201776Z",
          "iopub.execute_input": "2022-10-12T16:20:52.202136Z",
          "iopub.status.idle": "2022-10-12T16:21:04.308679Z",
          "shell.execute_reply.started": "2022-10-12T16:20:52.202109Z",
          "shell.execute_reply": "2022-10-12T16:21:04.307673Z"
        },
        "trusted": true,
        "id": "ehmLbPvlg8Qz"
      },
      "execution_count": null,
      "outputs": []
    },
    {
      "cell_type": "code",
      "source": [
        "# Evakuating the loaded model on overall test\n",
        "new_model.evaluate(test_dataset.shuffle(len(X_test)).batch(BATCH_SIZE), \n",
        "               return_dict=True, \n",
        "               batch_size=BATCH_SIZE)"
      ],
      "metadata": {
        "trusted": true,
        "id": "odfbndEcg8Q0"
      },
      "execution_count": null,
      "outputs": []
    }
  ]
}