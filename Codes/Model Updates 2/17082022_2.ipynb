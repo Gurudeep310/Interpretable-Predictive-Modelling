{
  "metadata": {
    "kernelspec": {
      "language": "python",
      "display_name": "Python 3",
      "name": "python3"
    },
    "language_info": {
      "name": "python",
      "version": "3.7.12",
      "mimetype": "text/x-python",
      "codemirror_mode": {
        "name": "ipython",
        "version": 3
      },
      "pygments_lexer": "ipython3",
      "nbconvert_exporter": "python",
      "file_extension": ".py"
    },
    "colab": {
      "name": "17082022_2.ipynb",
      "provenance": []
    },
    "gpuClass": "standard",
    "accelerator": "GPU"
  },
  "nbformat_minor": 0,
  "nbformat": 4,
  "cells": [
    {
      "cell_type": "code",
      "source": [
        "!pip install -q -U \"tensorflow-text==2.8.*\"\n",
        "!pip install -q tf-models-official==2.7.0\n",
        "!pip install transformers\n",
        "#!pip install focal_loss\n",
        "#!pip install focal-loss"
      ],
      "metadata": {
        "execution": {
          "iopub.status.busy": "2022-08-12T08:29:10.541362Z",
          "iopub.execute_input": "2022-08-12T08:29:10.541966Z",
          "iopub.status.idle": "2022-08-12T08:31:16.727768Z",
          "shell.execute_reply.started": "2022-08-12T08:29:10.541922Z",
          "shell.execute_reply": "2022-08-12T08:31:16.726598Z"
        },
        "trusted": true,
        "colab": {
          "base_uri": "https://localhost:8080/"
        },
        "id": "6x5VUQnwAoRV",
        "outputId": "66a9643c-047a-4b0a-985a-05403670bac9"
      },
      "execution_count": 1,
      "outputs": [
        {
          "output_type": "stream",
          "name": "stdout",
          "text": [
            "\u001b[K     |████████████████████████████████| 4.9 MB 4.4 MB/s \n",
            "\u001b[K     |████████████████████████████████| 1.8 MB 4.6 MB/s \n",
            "\u001b[K     |████████████████████████████████| 116 kB 52.1 MB/s \n",
            "\u001b[K     |████████████████████████████████| 352 kB 52.7 MB/s \n",
            "\u001b[K     |████████████████████████████████| 1.3 MB 40.4 MB/s \n",
            "\u001b[K     |████████████████████████████████| 596 kB 50.8 MB/s \n",
            "\u001b[K     |████████████████████████████████| 99 kB 10.4 MB/s \n",
            "\u001b[K     |████████████████████████████████| 43 kB 1.4 MB/s \n",
            "\u001b[K     |████████████████████████████████| 1.1 MB 16.5 MB/s \n",
            "\u001b[K     |████████████████████████████████| 238 kB 49.8 MB/s \n",
            "\u001b[?25h  Building wheel for py-cpuinfo (setup.py) ... \u001b[?25l\u001b[?25hdone\n",
            "  Building wheel for seqeval (setup.py) ... \u001b[?25l\u001b[?25hdone\n",
            "Looking in indexes: https://pypi.org/simple, https://us-python.pkg.dev/colab-wheels/public/simple/\n",
            "Collecting transformers\n",
            "  Downloading transformers-4.21.1-py3-none-any.whl (4.7 MB)\n",
            "\u001b[K     |████████████████████████████████| 4.7 MB 5.2 MB/s \n",
            "\u001b[?25hRequirement already satisfied: filelock in /usr/local/lib/python3.7/dist-packages (from transformers) (3.8.0)\n",
            "Requirement already satisfied: numpy>=1.17 in /usr/local/lib/python3.7/dist-packages (from transformers) (1.21.6)\n",
            "Requirement already satisfied: requests in /usr/local/lib/python3.7/dist-packages (from transformers) (2.23.0)\n",
            "Requirement already satisfied: importlib-metadata in /usr/local/lib/python3.7/dist-packages (from transformers) (4.12.0)\n",
            "Requirement already satisfied: pyyaml>=5.1 in /usr/local/lib/python3.7/dist-packages (from transformers) (6.0)\n",
            "Requirement already satisfied: packaging>=20.0 in /usr/local/lib/python3.7/dist-packages (from transformers) (21.3)\n",
            "Requirement already satisfied: tqdm>=4.27 in /usr/local/lib/python3.7/dist-packages (from transformers) (4.64.0)\n",
            "Collecting huggingface-hub<1.0,>=0.1.0\n",
            "  Downloading huggingface_hub-0.8.1-py3-none-any.whl (101 kB)\n",
            "\u001b[K     |████████████████████████████████| 101 kB 15.0 MB/s \n",
            "\u001b[?25hRequirement already satisfied: regex!=2019.12.17 in /usr/local/lib/python3.7/dist-packages (from transformers) (2022.6.2)\n",
            "Collecting tokenizers!=0.11.3,<0.13,>=0.11.1\n",
            "  Downloading tokenizers-0.12.1-cp37-cp37m-manylinux_2_12_x86_64.manylinux2010_x86_64.whl (6.6 MB)\n",
            "\u001b[K     |████████████████████████████████| 6.6 MB 39.8 MB/s \n",
            "\u001b[?25hRequirement already satisfied: typing-extensions>=3.7.4.3 in /usr/local/lib/python3.7/dist-packages (from huggingface-hub<1.0,>=0.1.0->transformers) (4.1.1)\n",
            "Requirement already satisfied: pyparsing!=3.0.5,>=2.0.2 in /usr/local/lib/python3.7/dist-packages (from packaging>=20.0->transformers) (3.0.9)\n",
            "Requirement already satisfied: zipp>=0.5 in /usr/local/lib/python3.7/dist-packages (from importlib-metadata->transformers) (3.8.1)\n",
            "Requirement already satisfied: certifi>=2017.4.17 in /usr/local/lib/python3.7/dist-packages (from requests->transformers) (2022.6.15)\n",
            "Requirement already satisfied: chardet<4,>=3.0.2 in /usr/local/lib/python3.7/dist-packages (from requests->transformers) (3.0.4)\n",
            "Requirement already satisfied: idna<3,>=2.5 in /usr/local/lib/python3.7/dist-packages (from requests->transformers) (2.10)\n",
            "Requirement already satisfied: urllib3!=1.25.0,!=1.25.1,<1.26,>=1.21.1 in /usr/local/lib/python3.7/dist-packages (from requests->transformers) (1.24.3)\n",
            "Installing collected packages: tokenizers, huggingface-hub, transformers\n",
            "Successfully installed huggingface-hub-0.8.1 tokenizers-0.12.1 transformers-4.21.1\n"
          ]
        }
      ]
    },
    {
      "cell_type": "code",
      "source": [
        "import pandas as pd \n",
        "import numpy as np\n",
        "import seaborn as sns \n",
        "import matplotlib.pyplot as plt\n",
        "from sklearn.utils import shuffle\n",
        "from sklearn.preprocessing import LabelEncoder\n",
        "from sklearn.model_selection import train_test_split\n",
        "#from tensorflow.keras.utils import to_categorical\n",
        "from sklearn.metrics import classification_report\n",
        "import sklearn\n",
        "from sklearn.utils import shuffle\n",
        "\n",
        "#from focal_loss import SparseCategoricalFocalLoss\n",
        "import os\n",
        "import shutil\n",
        "import tensorflow as tf\n",
        "import tensorflow_hub as hub\n",
        "import tensorflow_text as text\n",
        "from official.nlp import optimization  # to create AdamW optimizer\n",
        "import keras\n",
        "tf.get_logger().setLevel('ERROR')\n",
        "\n",
        "#from nltk.corpus import stopwords  \n",
        "#from nltk.stem import WordNetLemmatizer\n",
        "#from nltk.stem import PorterStemmer\n",
        "#from string import punctuation\n",
        "#from collections import Counter \n",
        "#import wordcloud\n",
        "#from nltk.corpus import stopwords \n",
        "#from textblob import Word \n",
        "#import re\n",
        "#import nltk"
      ],
      "metadata": {
        "execution": {
          "iopub.status.busy": "2022-08-12T09:57:05.286552Z",
          "iopub.execute_input": "2022-08-12T09:57:05.286926Z",
          "iopub.status.idle": "2022-08-12T09:57:05.294384Z",
          "shell.execute_reply.started": "2022-08-12T09:57:05.286895Z",
          "shell.execute_reply": "2022-08-12T09:57:05.293171Z"
        },
        "trusted": true,
        "id": "cQowRQWUAoRX"
      },
      "execution_count": 2,
      "outputs": []
    },
    {
      "cell_type": "code",
      "source": [
        "#nltk.download('stopwords')\n",
        "#nltk.download('wordnet')\n",
        "#nltk.download('omw-1.4')\n",
        "#nltk.download('punkt')"
      ],
      "metadata": {
        "execution": {
          "iopub.status.busy": "2022-08-12T08:31:21.110704Z",
          "iopub.execute_input": "2022-08-12T08:31:21.111406Z",
          "iopub.status.idle": "2022-08-12T08:31:21.118138Z",
          "shell.execute_reply.started": "2022-08-12T08:31:21.111366Z",
          "shell.execute_reply": "2022-08-12T08:31:21.116917Z"
        },
        "trusted": true,
        "id": "f_lZ--iyAoRZ"
      },
      "execution_count": 3,
      "outputs": []
    },
    {
      "cell_type": "code",
      "source": [
        "original_train_data = pd.read_csv(\"/content/original_train_data.csv\")"
      ],
      "metadata": {
        "execution": {
          "iopub.status.busy": "2022-08-12T10:25:03.806492Z",
          "iopub.execute_input": "2022-08-12T10:25:03.807013Z",
          "iopub.status.idle": "2022-08-12T10:25:03.868321Z",
          "shell.execute_reply.started": "2022-08-12T10:25:03.806977Z",
          "shell.execute_reply": "2022-08-12T10:25:03.867320Z"
        },
        "trusted": true,
        "id": "gBJcw_KgAoRa"
      },
      "execution_count": 4,
      "outputs": []
    },
    {
      "cell_type": "code",
      "source": [
        "original_train_data = original_train_data[['sentence','maslow']]\n",
        "original_train_data['maslow'] = original_train_data['maslow'].replace(['physiological','love','stability','esteem','spiritual growth'],['basic_needs','basic_needs','basic_needs','advanced_needs','advanced_needs'])"
      ],
      "metadata": {
        "id": "K7Od3Ed2QRjA"
      },
      "execution_count": 5,
      "outputs": []
    },
    {
      "cell_type": "code",
      "source": [
        "original_train_data.head(2)"
      ],
      "metadata": {
        "colab": {
          "base_uri": "https://localhost:8080/",
          "height": 112
        },
        "id": "_CmO_T-QQOmC",
        "outputId": "8d2cb540-8689-4635-d729-ce1f9d7b0fb5"
      },
      "execution_count": 6,
      "outputs": [
        {
          "output_type": "execute_result",
          "data": {
            "text/plain": [
              "                                            sentence       maslow\n",
              "0  Melissa never drank wine.Melissa broke up with...  basic_needs\n",
              "1  Ray couldn't get an irritating tune out of his...         none"
            ],
            "text/html": [
              "\n",
              "  <div id=\"df-ec0975bd-c4f9-4a18-8bfb-bc3674ea4f5b\">\n",
              "    <div class=\"colab-df-container\">\n",
              "      <div>\n",
              "<style scoped>\n",
              "    .dataframe tbody tr th:only-of-type {\n",
              "        vertical-align: middle;\n",
              "    }\n",
              "\n",
              "    .dataframe tbody tr th {\n",
              "        vertical-align: top;\n",
              "    }\n",
              "\n",
              "    .dataframe thead th {\n",
              "        text-align: right;\n",
              "    }\n",
              "</style>\n",
              "<table border=\"1\" class=\"dataframe\">\n",
              "  <thead>\n",
              "    <tr style=\"text-align: right;\">\n",
              "      <th></th>\n",
              "      <th>sentence</th>\n",
              "      <th>maslow</th>\n",
              "    </tr>\n",
              "  </thead>\n",
              "  <tbody>\n",
              "    <tr>\n",
              "      <th>0</th>\n",
              "      <td>Melissa never drank wine.Melissa broke up with...</td>\n",
              "      <td>basic_needs</td>\n",
              "    </tr>\n",
              "    <tr>\n",
              "      <th>1</th>\n",
              "      <td>Ray couldn't get an irritating tune out of his...</td>\n",
              "      <td>none</td>\n",
              "    </tr>\n",
              "  </tbody>\n",
              "</table>\n",
              "</div>\n",
              "      <button class=\"colab-df-convert\" onclick=\"convertToInteractive('df-ec0975bd-c4f9-4a18-8bfb-bc3674ea4f5b')\"\n",
              "              title=\"Convert this dataframe to an interactive table.\"\n",
              "              style=\"display:none;\">\n",
              "        \n",
              "  <svg xmlns=\"http://www.w3.org/2000/svg\" height=\"24px\"viewBox=\"0 0 24 24\"\n",
              "       width=\"24px\">\n",
              "    <path d=\"M0 0h24v24H0V0z\" fill=\"none\"/>\n",
              "    <path d=\"M18.56 5.44l.94 2.06.94-2.06 2.06-.94-2.06-.94-.94-2.06-.94 2.06-2.06.94zm-11 1L8.5 8.5l.94-2.06 2.06-.94-2.06-.94L8.5 2.5l-.94 2.06-2.06.94zm10 10l.94 2.06.94-2.06 2.06-.94-2.06-.94-.94-2.06-.94 2.06-2.06.94z\"/><path d=\"M17.41 7.96l-1.37-1.37c-.4-.4-.92-.59-1.43-.59-.52 0-1.04.2-1.43.59L10.3 9.45l-7.72 7.72c-.78.78-.78 2.05 0 2.83L4 21.41c.39.39.9.59 1.41.59.51 0 1.02-.2 1.41-.59l7.78-7.78 2.81-2.81c.8-.78.8-2.07 0-2.86zM5.41 20L4 18.59l7.72-7.72 1.47 1.35L5.41 20z\"/>\n",
              "  </svg>\n",
              "      </button>\n",
              "      \n",
              "  <style>\n",
              "    .colab-df-container {\n",
              "      display:flex;\n",
              "      flex-wrap:wrap;\n",
              "      gap: 12px;\n",
              "    }\n",
              "\n",
              "    .colab-df-convert {\n",
              "      background-color: #E8F0FE;\n",
              "      border: none;\n",
              "      border-radius: 50%;\n",
              "      cursor: pointer;\n",
              "      display: none;\n",
              "      fill: #1967D2;\n",
              "      height: 32px;\n",
              "      padding: 0 0 0 0;\n",
              "      width: 32px;\n",
              "    }\n",
              "\n",
              "    .colab-df-convert:hover {\n",
              "      background-color: #E2EBFA;\n",
              "      box-shadow: 0px 1px 2px rgba(60, 64, 67, 0.3), 0px 1px 3px 1px rgba(60, 64, 67, 0.15);\n",
              "      fill: #174EA6;\n",
              "    }\n",
              "\n",
              "    [theme=dark] .colab-df-convert {\n",
              "      background-color: #3B4455;\n",
              "      fill: #D2E3FC;\n",
              "    }\n",
              "\n",
              "    [theme=dark] .colab-df-convert:hover {\n",
              "      background-color: #434B5C;\n",
              "      box-shadow: 0px 1px 3px 1px rgba(0, 0, 0, 0.15);\n",
              "      filter: drop-shadow(0px 1px 2px rgba(0, 0, 0, 0.3));\n",
              "      fill: #FFFFFF;\n",
              "    }\n",
              "  </style>\n",
              "\n",
              "      <script>\n",
              "        const buttonEl =\n",
              "          document.querySelector('#df-ec0975bd-c4f9-4a18-8bfb-bc3674ea4f5b button.colab-df-convert');\n",
              "        buttonEl.style.display =\n",
              "          google.colab.kernel.accessAllowed ? 'block' : 'none';\n",
              "\n",
              "        async function convertToInteractive(key) {\n",
              "          const element = document.querySelector('#df-ec0975bd-c4f9-4a18-8bfb-bc3674ea4f5b');\n",
              "          const dataTable =\n",
              "            await google.colab.kernel.invokeFunction('convertToInteractive',\n",
              "                                                     [key], {});\n",
              "          if (!dataTable) return;\n",
              "\n",
              "          const docLinkHtml = 'Like what you see? Visit the ' +\n",
              "            '<a target=\"_blank\" href=https://colab.research.google.com/notebooks/data_table.ipynb>data table notebook</a>'\n",
              "            + ' to learn more about interactive tables.';\n",
              "          element.innerHTML = '';\n",
              "          dataTable['output_type'] = 'display_data';\n",
              "          await google.colab.output.renderOutput(dataTable, element);\n",
              "          const docLink = document.createElement('div');\n",
              "          docLink.innerHTML = docLinkHtml;\n",
              "          element.appendChild(docLink);\n",
              "        }\n",
              "      </script>\n",
              "    </div>\n",
              "  </div>\n",
              "  "
            ]
          },
          "metadata": {},
          "execution_count": 6
        }
      ]
    },
    {
      "cell_type": "code",
      "source": [
        "original_train_data['maslow'] = original_train_data['maslow'].replace(['basic_needs','basic_needs','basic_needs','advanced_needs','advanced_needs','none'],['need','need','need','need','need','no need'])"
      ],
      "metadata": {
        "execution": {
          "iopub.status.busy": "2022-08-12T10:25:07.161902Z",
          "iopub.execute_input": "2022-08-12T10:25:07.162360Z",
          "iopub.status.idle": "2022-08-12T10:25:07.188452Z",
          "shell.execute_reply.started": "2022-08-12T10:25:07.162320Z",
          "shell.execute_reply": "2022-08-12T10:25:07.187460Z"
        },
        "trusted": true,
        "id": "epuct1IpAoRb"
      },
      "execution_count": 7,
      "outputs": []
    },
    {
      "cell_type": "code",
      "source": [
        "original_train_data.head(2)"
      ],
      "metadata": {
        "execution": {
          "iopub.status.busy": "2022-08-12T09:59:49.920383Z",
          "iopub.execute_input": "2022-08-12T09:59:49.920787Z",
          "iopub.status.idle": "2022-08-12T09:59:49.933029Z",
          "shell.execute_reply.started": "2022-08-12T09:59:49.920729Z",
          "shell.execute_reply": "2022-08-12T09:59:49.931966Z"
        },
        "trusted": true,
        "colab": {
          "base_uri": "https://localhost:8080/",
          "height": 112
        },
        "id": "DT1ko5KVAoRc",
        "outputId": "268e18f2-6143-4dd5-f2d6-a5e5758815f3"
      },
      "execution_count": 8,
      "outputs": [
        {
          "output_type": "execute_result",
          "data": {
            "text/plain": [
              "                                            sentence   maslow\n",
              "0  Melissa never drank wine.Melissa broke up with...     need\n",
              "1  Ray couldn't get an irritating tune out of his...  no need"
            ],
            "text/html": [
              "\n",
              "  <div id=\"df-31287298-6c20-4cff-a449-95f5cf663a2f\">\n",
              "    <div class=\"colab-df-container\">\n",
              "      <div>\n",
              "<style scoped>\n",
              "    .dataframe tbody tr th:only-of-type {\n",
              "        vertical-align: middle;\n",
              "    }\n",
              "\n",
              "    .dataframe tbody tr th {\n",
              "        vertical-align: top;\n",
              "    }\n",
              "\n",
              "    .dataframe thead th {\n",
              "        text-align: right;\n",
              "    }\n",
              "</style>\n",
              "<table border=\"1\" class=\"dataframe\">\n",
              "  <thead>\n",
              "    <tr style=\"text-align: right;\">\n",
              "      <th></th>\n",
              "      <th>sentence</th>\n",
              "      <th>maslow</th>\n",
              "    </tr>\n",
              "  </thead>\n",
              "  <tbody>\n",
              "    <tr>\n",
              "      <th>0</th>\n",
              "      <td>Melissa never drank wine.Melissa broke up with...</td>\n",
              "      <td>need</td>\n",
              "    </tr>\n",
              "    <tr>\n",
              "      <th>1</th>\n",
              "      <td>Ray couldn't get an irritating tune out of his...</td>\n",
              "      <td>no need</td>\n",
              "    </tr>\n",
              "  </tbody>\n",
              "</table>\n",
              "</div>\n",
              "      <button class=\"colab-df-convert\" onclick=\"convertToInteractive('df-31287298-6c20-4cff-a449-95f5cf663a2f')\"\n",
              "              title=\"Convert this dataframe to an interactive table.\"\n",
              "              style=\"display:none;\">\n",
              "        \n",
              "  <svg xmlns=\"http://www.w3.org/2000/svg\" height=\"24px\"viewBox=\"0 0 24 24\"\n",
              "       width=\"24px\">\n",
              "    <path d=\"M0 0h24v24H0V0z\" fill=\"none\"/>\n",
              "    <path d=\"M18.56 5.44l.94 2.06.94-2.06 2.06-.94-2.06-.94-.94-2.06-.94 2.06-2.06.94zm-11 1L8.5 8.5l.94-2.06 2.06-.94-2.06-.94L8.5 2.5l-.94 2.06-2.06.94zm10 10l.94 2.06.94-2.06 2.06-.94-2.06-.94-.94-2.06-.94 2.06-2.06.94z\"/><path d=\"M17.41 7.96l-1.37-1.37c-.4-.4-.92-.59-1.43-.59-.52 0-1.04.2-1.43.59L10.3 9.45l-7.72 7.72c-.78.78-.78 2.05 0 2.83L4 21.41c.39.39.9.59 1.41.59.51 0 1.02-.2 1.41-.59l7.78-7.78 2.81-2.81c.8-.78.8-2.07 0-2.86zM5.41 20L4 18.59l7.72-7.72 1.47 1.35L5.41 20z\"/>\n",
              "  </svg>\n",
              "      </button>\n",
              "      \n",
              "  <style>\n",
              "    .colab-df-container {\n",
              "      display:flex;\n",
              "      flex-wrap:wrap;\n",
              "      gap: 12px;\n",
              "    }\n",
              "\n",
              "    .colab-df-convert {\n",
              "      background-color: #E8F0FE;\n",
              "      border: none;\n",
              "      border-radius: 50%;\n",
              "      cursor: pointer;\n",
              "      display: none;\n",
              "      fill: #1967D2;\n",
              "      height: 32px;\n",
              "      padding: 0 0 0 0;\n",
              "      width: 32px;\n",
              "    }\n",
              "\n",
              "    .colab-df-convert:hover {\n",
              "      background-color: #E2EBFA;\n",
              "      box-shadow: 0px 1px 2px rgba(60, 64, 67, 0.3), 0px 1px 3px 1px rgba(60, 64, 67, 0.15);\n",
              "      fill: #174EA6;\n",
              "    }\n",
              "\n",
              "    [theme=dark] .colab-df-convert {\n",
              "      background-color: #3B4455;\n",
              "      fill: #D2E3FC;\n",
              "    }\n",
              "\n",
              "    [theme=dark] .colab-df-convert:hover {\n",
              "      background-color: #434B5C;\n",
              "      box-shadow: 0px 1px 3px 1px rgba(0, 0, 0, 0.15);\n",
              "      filter: drop-shadow(0px 1px 2px rgba(0, 0, 0, 0.3));\n",
              "      fill: #FFFFFF;\n",
              "    }\n",
              "  </style>\n",
              "\n",
              "      <script>\n",
              "        const buttonEl =\n",
              "          document.querySelector('#df-31287298-6c20-4cff-a449-95f5cf663a2f button.colab-df-convert');\n",
              "        buttonEl.style.display =\n",
              "          google.colab.kernel.accessAllowed ? 'block' : 'none';\n",
              "\n",
              "        async function convertToInteractive(key) {\n",
              "          const element = document.querySelector('#df-31287298-6c20-4cff-a449-95f5cf663a2f');\n",
              "          const dataTable =\n",
              "            await google.colab.kernel.invokeFunction('convertToInteractive',\n",
              "                                                     [key], {});\n",
              "          if (!dataTable) return;\n",
              "\n",
              "          const docLinkHtml = 'Like what you see? Visit the ' +\n",
              "            '<a target=\"_blank\" href=https://colab.research.google.com/notebooks/data_table.ipynb>data table notebook</a>'\n",
              "            + ' to learn more about interactive tables.';\n",
              "          element.innerHTML = '';\n",
              "          dataTable['output_type'] = 'display_data';\n",
              "          await google.colab.output.renderOutput(dataTable, element);\n",
              "          const docLink = document.createElement('div');\n",
              "          docLink.innerHTML = docLinkHtml;\n",
              "          element.appendChild(docLink);\n",
              "        }\n",
              "      </script>\n",
              "    </div>\n",
              "  </div>\n",
              "  "
            ]
          },
          "metadata": {},
          "execution_count": 8
        }
      ]
    },
    {
      "cell_type": "code",
      "source": [
        "lb = LabelEncoder() \n",
        "original_train_data['maslowLabel'] = lb.fit_transform(original_train_data['maslow'])\n",
        "print(original_train_data['maslow'].unique())\n",
        "print(original_train_data['maslowLabel'].unique())"
      ],
      "metadata": {
        "execution": {
          "iopub.status.busy": "2022-08-12T10:00:02.337611Z",
          "iopub.execute_input": "2022-08-12T10:00:02.338199Z",
          "iopub.status.idle": "2022-08-12T10:00:02.357698Z",
          "shell.execute_reply.started": "2022-08-12T10:00:02.338163Z",
          "shell.execute_reply": "2022-08-12T10:00:02.356767Z"
        },
        "trusted": true,
        "colab": {
          "base_uri": "https://localhost:8080/"
        },
        "id": "Pg7oJaT3AoRe",
        "outputId": "bf439b47-86a7-4982-905e-4e51d650dc3b"
      },
      "execution_count": 9,
      "outputs": [
        {
          "output_type": "stream",
          "name": "stdout",
          "text": [
            "['need' 'no need']\n",
            "[0 1]\n"
          ]
        }
      ]
    },
    {
      "cell_type": "code",
      "source": [
        "original_train_data.head(2)"
      ],
      "metadata": {
        "execution": {
          "iopub.status.busy": "2022-08-12T10:00:13.029447Z",
          "iopub.execute_input": "2022-08-12T10:00:13.029903Z",
          "iopub.status.idle": "2022-08-12T10:00:13.040884Z",
          "shell.execute_reply.started": "2022-08-12T10:00:13.029868Z",
          "shell.execute_reply": "2022-08-12T10:00:13.039889Z"
        },
        "trusted": true,
        "colab": {
          "base_uri": "https://localhost:8080/",
          "height": 112
        },
        "id": "fj6YACEKAoRg",
        "outputId": "29ab0cbc-2d21-429f-9888-131b6b3bcd5f"
      },
      "execution_count": 10,
      "outputs": [
        {
          "output_type": "execute_result",
          "data": {
            "text/plain": [
              "                                            sentence   maslow  maslowLabel\n",
              "0  Melissa never drank wine.Melissa broke up with...     need            0\n",
              "1  Ray couldn't get an irritating tune out of his...  no need            1"
            ],
            "text/html": [
              "\n",
              "  <div id=\"df-37581069-7cb7-4f0b-8eeb-4e6b0d3b86fe\">\n",
              "    <div class=\"colab-df-container\">\n",
              "      <div>\n",
              "<style scoped>\n",
              "    .dataframe tbody tr th:only-of-type {\n",
              "        vertical-align: middle;\n",
              "    }\n",
              "\n",
              "    .dataframe tbody tr th {\n",
              "        vertical-align: top;\n",
              "    }\n",
              "\n",
              "    .dataframe thead th {\n",
              "        text-align: right;\n",
              "    }\n",
              "</style>\n",
              "<table border=\"1\" class=\"dataframe\">\n",
              "  <thead>\n",
              "    <tr style=\"text-align: right;\">\n",
              "      <th></th>\n",
              "      <th>sentence</th>\n",
              "      <th>maslow</th>\n",
              "      <th>maslowLabel</th>\n",
              "    </tr>\n",
              "  </thead>\n",
              "  <tbody>\n",
              "    <tr>\n",
              "      <th>0</th>\n",
              "      <td>Melissa never drank wine.Melissa broke up with...</td>\n",
              "      <td>need</td>\n",
              "      <td>0</td>\n",
              "    </tr>\n",
              "    <tr>\n",
              "      <th>1</th>\n",
              "      <td>Ray couldn't get an irritating tune out of his...</td>\n",
              "      <td>no need</td>\n",
              "      <td>1</td>\n",
              "    </tr>\n",
              "  </tbody>\n",
              "</table>\n",
              "</div>\n",
              "      <button class=\"colab-df-convert\" onclick=\"convertToInteractive('df-37581069-7cb7-4f0b-8eeb-4e6b0d3b86fe')\"\n",
              "              title=\"Convert this dataframe to an interactive table.\"\n",
              "              style=\"display:none;\">\n",
              "        \n",
              "  <svg xmlns=\"http://www.w3.org/2000/svg\" height=\"24px\"viewBox=\"0 0 24 24\"\n",
              "       width=\"24px\">\n",
              "    <path d=\"M0 0h24v24H0V0z\" fill=\"none\"/>\n",
              "    <path d=\"M18.56 5.44l.94 2.06.94-2.06 2.06-.94-2.06-.94-.94-2.06-.94 2.06-2.06.94zm-11 1L8.5 8.5l.94-2.06 2.06-.94-2.06-.94L8.5 2.5l-.94 2.06-2.06.94zm10 10l.94 2.06.94-2.06 2.06-.94-2.06-.94-.94-2.06-.94 2.06-2.06.94z\"/><path d=\"M17.41 7.96l-1.37-1.37c-.4-.4-.92-.59-1.43-.59-.52 0-1.04.2-1.43.59L10.3 9.45l-7.72 7.72c-.78.78-.78 2.05 0 2.83L4 21.41c.39.39.9.59 1.41.59.51 0 1.02-.2 1.41-.59l7.78-7.78 2.81-2.81c.8-.78.8-2.07 0-2.86zM5.41 20L4 18.59l7.72-7.72 1.47 1.35L5.41 20z\"/>\n",
              "  </svg>\n",
              "      </button>\n",
              "      \n",
              "  <style>\n",
              "    .colab-df-container {\n",
              "      display:flex;\n",
              "      flex-wrap:wrap;\n",
              "      gap: 12px;\n",
              "    }\n",
              "\n",
              "    .colab-df-convert {\n",
              "      background-color: #E8F0FE;\n",
              "      border: none;\n",
              "      border-radius: 50%;\n",
              "      cursor: pointer;\n",
              "      display: none;\n",
              "      fill: #1967D2;\n",
              "      height: 32px;\n",
              "      padding: 0 0 0 0;\n",
              "      width: 32px;\n",
              "    }\n",
              "\n",
              "    .colab-df-convert:hover {\n",
              "      background-color: #E2EBFA;\n",
              "      box-shadow: 0px 1px 2px rgba(60, 64, 67, 0.3), 0px 1px 3px 1px rgba(60, 64, 67, 0.15);\n",
              "      fill: #174EA6;\n",
              "    }\n",
              "\n",
              "    [theme=dark] .colab-df-convert {\n",
              "      background-color: #3B4455;\n",
              "      fill: #D2E3FC;\n",
              "    }\n",
              "\n",
              "    [theme=dark] .colab-df-convert:hover {\n",
              "      background-color: #434B5C;\n",
              "      box-shadow: 0px 1px 3px 1px rgba(0, 0, 0, 0.15);\n",
              "      filter: drop-shadow(0px 1px 2px rgba(0, 0, 0, 0.3));\n",
              "      fill: #FFFFFF;\n",
              "    }\n",
              "  </style>\n",
              "\n",
              "      <script>\n",
              "        const buttonEl =\n",
              "          document.querySelector('#df-37581069-7cb7-4f0b-8eeb-4e6b0d3b86fe button.colab-df-convert');\n",
              "        buttonEl.style.display =\n",
              "          google.colab.kernel.accessAllowed ? 'block' : 'none';\n",
              "\n",
              "        async function convertToInteractive(key) {\n",
              "          const element = document.querySelector('#df-37581069-7cb7-4f0b-8eeb-4e6b0d3b86fe');\n",
              "          const dataTable =\n",
              "            await google.colab.kernel.invokeFunction('convertToInteractive',\n",
              "                                                     [key], {});\n",
              "          if (!dataTable) return;\n",
              "\n",
              "          const docLinkHtml = 'Like what you see? Visit the ' +\n",
              "            '<a target=\"_blank\" href=https://colab.research.google.com/notebooks/data_table.ipynb>data table notebook</a>'\n",
              "            + ' to learn more about interactive tables.';\n",
              "          element.innerHTML = '';\n",
              "          dataTable['output_type'] = 'display_data';\n",
              "          await google.colab.output.renderOutput(dataTable, element);\n",
              "          const docLink = document.createElement('div');\n",
              "          docLink.innerHTML = docLinkHtml;\n",
              "          element.appendChild(docLink);\n",
              "        }\n",
              "      </script>\n",
              "    </div>\n",
              "  </div>\n",
              "  "
            ]
          },
          "metadata": {},
          "execution_count": 10
        }
      ]
    },
    {
      "cell_type": "code",
      "source": [
        "original_train_data[['sentence','maslow']].groupby('maslow').count()"
      ],
      "metadata": {
        "execution": {
          "iopub.status.busy": "2022-08-12T10:00:16.072156Z",
          "iopub.execute_input": "2022-08-12T10:00:16.072711Z",
          "iopub.status.idle": "2022-08-12T10:00:16.090417Z",
          "shell.execute_reply.started": "2022-08-12T10:00:16.072666Z",
          "shell.execute_reply": "2022-08-12T10:00:16.089172Z"
        },
        "trusted": true,
        "colab": {
          "base_uri": "https://localhost:8080/",
          "height": 143
        },
        "id": "mvA12TkWAoRh",
        "outputId": "92641a72-7a89-4016-a973-e0e26c9330d8"
      },
      "execution_count": 11,
      "outputs": [
        {
          "output_type": "execute_result",
          "data": {
            "text/plain": [
              "         sentence\n",
              "maslow           \n",
              "need        14440\n",
              "no need      2034"
            ],
            "text/html": [
              "\n",
              "  <div id=\"df-a563b4e9-f2d9-4258-97d5-3d2109ef86a4\">\n",
              "    <div class=\"colab-df-container\">\n",
              "      <div>\n",
              "<style scoped>\n",
              "    .dataframe tbody tr th:only-of-type {\n",
              "        vertical-align: middle;\n",
              "    }\n",
              "\n",
              "    .dataframe tbody tr th {\n",
              "        vertical-align: top;\n",
              "    }\n",
              "\n",
              "    .dataframe thead th {\n",
              "        text-align: right;\n",
              "    }\n",
              "</style>\n",
              "<table border=\"1\" class=\"dataframe\">\n",
              "  <thead>\n",
              "    <tr style=\"text-align: right;\">\n",
              "      <th></th>\n",
              "      <th>sentence</th>\n",
              "    </tr>\n",
              "    <tr>\n",
              "      <th>maslow</th>\n",
              "      <th></th>\n",
              "    </tr>\n",
              "  </thead>\n",
              "  <tbody>\n",
              "    <tr>\n",
              "      <th>need</th>\n",
              "      <td>14440</td>\n",
              "    </tr>\n",
              "    <tr>\n",
              "      <th>no need</th>\n",
              "      <td>2034</td>\n",
              "    </tr>\n",
              "  </tbody>\n",
              "</table>\n",
              "</div>\n",
              "      <button class=\"colab-df-convert\" onclick=\"convertToInteractive('df-a563b4e9-f2d9-4258-97d5-3d2109ef86a4')\"\n",
              "              title=\"Convert this dataframe to an interactive table.\"\n",
              "              style=\"display:none;\">\n",
              "        \n",
              "  <svg xmlns=\"http://www.w3.org/2000/svg\" height=\"24px\"viewBox=\"0 0 24 24\"\n",
              "       width=\"24px\">\n",
              "    <path d=\"M0 0h24v24H0V0z\" fill=\"none\"/>\n",
              "    <path d=\"M18.56 5.44l.94 2.06.94-2.06 2.06-.94-2.06-.94-.94-2.06-.94 2.06-2.06.94zm-11 1L8.5 8.5l.94-2.06 2.06-.94-2.06-.94L8.5 2.5l-.94 2.06-2.06.94zm10 10l.94 2.06.94-2.06 2.06-.94-2.06-.94-.94-2.06-.94 2.06-2.06.94z\"/><path d=\"M17.41 7.96l-1.37-1.37c-.4-.4-.92-.59-1.43-.59-.52 0-1.04.2-1.43.59L10.3 9.45l-7.72 7.72c-.78.78-.78 2.05 0 2.83L4 21.41c.39.39.9.59 1.41.59.51 0 1.02-.2 1.41-.59l7.78-7.78 2.81-2.81c.8-.78.8-2.07 0-2.86zM5.41 20L4 18.59l7.72-7.72 1.47 1.35L5.41 20z\"/>\n",
              "  </svg>\n",
              "      </button>\n",
              "      \n",
              "  <style>\n",
              "    .colab-df-container {\n",
              "      display:flex;\n",
              "      flex-wrap:wrap;\n",
              "      gap: 12px;\n",
              "    }\n",
              "\n",
              "    .colab-df-convert {\n",
              "      background-color: #E8F0FE;\n",
              "      border: none;\n",
              "      border-radius: 50%;\n",
              "      cursor: pointer;\n",
              "      display: none;\n",
              "      fill: #1967D2;\n",
              "      height: 32px;\n",
              "      padding: 0 0 0 0;\n",
              "      width: 32px;\n",
              "    }\n",
              "\n",
              "    .colab-df-convert:hover {\n",
              "      background-color: #E2EBFA;\n",
              "      box-shadow: 0px 1px 2px rgba(60, 64, 67, 0.3), 0px 1px 3px 1px rgba(60, 64, 67, 0.15);\n",
              "      fill: #174EA6;\n",
              "    }\n",
              "\n",
              "    [theme=dark] .colab-df-convert {\n",
              "      background-color: #3B4455;\n",
              "      fill: #D2E3FC;\n",
              "    }\n",
              "\n",
              "    [theme=dark] .colab-df-convert:hover {\n",
              "      background-color: #434B5C;\n",
              "      box-shadow: 0px 1px 3px 1px rgba(0, 0, 0, 0.15);\n",
              "      filter: drop-shadow(0px 1px 2px rgba(0, 0, 0, 0.3));\n",
              "      fill: #FFFFFF;\n",
              "    }\n",
              "  </style>\n",
              "\n",
              "      <script>\n",
              "        const buttonEl =\n",
              "          document.querySelector('#df-a563b4e9-f2d9-4258-97d5-3d2109ef86a4 button.colab-df-convert');\n",
              "        buttonEl.style.display =\n",
              "          google.colab.kernel.accessAllowed ? 'block' : 'none';\n",
              "\n",
              "        async function convertToInteractive(key) {\n",
              "          const element = document.querySelector('#df-a563b4e9-f2d9-4258-97d5-3d2109ef86a4');\n",
              "          const dataTable =\n",
              "            await google.colab.kernel.invokeFunction('convertToInteractive',\n",
              "                                                     [key], {});\n",
              "          if (!dataTable) return;\n",
              "\n",
              "          const docLinkHtml = 'Like what you see? Visit the ' +\n",
              "            '<a target=\"_blank\" href=https://colab.research.google.com/notebooks/data_table.ipynb>data table notebook</a>'\n",
              "            + ' to learn more about interactive tables.';\n",
              "          element.innerHTML = '';\n",
              "          dataTable['output_type'] = 'display_data';\n",
              "          await google.colab.output.renderOutput(dataTable, element);\n",
              "          const docLink = document.createElement('div');\n",
              "          docLink.innerHTML = docLinkHtml;\n",
              "          element.appendChild(docLink);\n",
              "        }\n",
              "      </script>\n",
              "    </div>\n",
              "  </div>\n",
              "  "
            ]
          },
          "metadata": {},
          "execution_count": 11
        }
      ]
    },
    {
      "cell_type": "code",
      "source": [
        "#x_train, x_test, y_train, y_test = train_test_split(df2oftype2['sentence'],df2oftype2['maslowLabel'],test_size = 0.2, random_state = 0, stratify = df2oftype2['maslowLabel'])\n",
        "x_train_text = original_train_data['sentence']\n",
        "y_train_text = original_train_data['maslow']\n",
        "x_train = original_train_data['sentence']\n",
        "y_train = original_train_data['maslowLabel']\n",
        "print(x_train.shape)\n",
        "#print(x_val.shape)"
      ],
      "metadata": {
        "execution": {
          "iopub.status.busy": "2022-08-12T10:00:52.321172Z",
          "iopub.execute_input": "2022-08-12T10:00:52.321549Z",
          "iopub.status.idle": "2022-08-12T10:00:52.328998Z",
          "shell.execute_reply.started": "2022-08-12T10:00:52.321519Z",
          "shell.execute_reply": "2022-08-12T10:00:52.327700Z"
        },
        "trusted": true,
        "colab": {
          "base_uri": "https://localhost:8080/"
        },
        "id": "wnZgi-8hAoRi",
        "outputId": "9f6b83c4-5dbf-49a3-b2d6-d0fdc4b1af45"
      },
      "execution_count": 12,
      "outputs": [
        {
          "output_type": "stream",
          "name": "stdout",
          "text": [
            "(16474,)\n"
          ]
        }
      ]
    },
    {
      "cell_type": "code",
      "source": [
        "unique, counts = np.unique(y_train, return_counts=True)\n",
        "result = np.column_stack((unique, counts)) \n",
        "print (result)"
      ],
      "metadata": {
        "execution": {
          "iopub.status.busy": "2022-08-12T10:01:05.108255Z",
          "iopub.execute_input": "2022-08-12T10:01:05.108609Z",
          "iopub.status.idle": "2022-08-12T10:01:05.116010Z",
          "shell.execute_reply.started": "2022-08-12T10:01:05.108578Z",
          "shell.execute_reply": "2022-08-12T10:01:05.114970Z"
        },
        "trusted": true,
        "colab": {
          "base_uri": "https://localhost:8080/"
        },
        "id": "BsC0L_-UAoRk",
        "outputId": "d566386d-49e7-4177-c89d-a0e5767e1a89"
      },
      "execution_count": 13,
      "outputs": [
        {
          "output_type": "stream",
          "name": "stdout",
          "text": [
            "[[    0 14440]\n",
            " [    1  2034]]\n"
          ]
        }
      ]
    },
    {
      "cell_type": "code",
      "source": [
        "y_train = tf.keras.utils.to_categorical(y_train)\n",
        "y_train"
      ],
      "metadata": {
        "execution": {
          "iopub.status.busy": "2022-08-12T10:01:11.023497Z",
          "iopub.execute_input": "2022-08-12T10:01:11.023952Z",
          "iopub.status.idle": "2022-08-12T10:01:11.034116Z",
          "shell.execute_reply.started": "2022-08-12T10:01:11.023918Z",
          "shell.execute_reply": "2022-08-12T10:01:11.032565Z"
        },
        "trusted": true,
        "colab": {
          "base_uri": "https://localhost:8080/"
        },
        "id": "UoSYHV4rAoRl",
        "outputId": "8854eff4-17d5-4b2f-eddb-d25fa791a5f6"
      },
      "execution_count": 14,
      "outputs": [
        {
          "output_type": "execute_result",
          "data": {
            "text/plain": [
              "array([[1., 0.],\n",
              "       [0., 1.],\n",
              "       [1., 0.],\n",
              "       ...,\n",
              "       [1., 0.],\n",
              "       [1., 0.],\n",
              "       [1., 0.]], dtype=float32)"
            ]
          },
          "metadata": {},
          "execution_count": 14
        }
      ]
    },
    {
      "cell_type": "code",
      "source": [
        "print(\"Num GPUs Available: \", len(tf.config.list_physical_devices('GPU')))"
      ],
      "metadata": {
        "execution": {
          "iopub.status.busy": "2022-08-12T10:01:13.662468Z",
          "iopub.execute_input": "2022-08-12T10:01:13.662846Z",
          "iopub.status.idle": "2022-08-12T10:01:13.668597Z",
          "shell.execute_reply.started": "2022-08-12T10:01:13.662812Z",
          "shell.execute_reply": "2022-08-12T10:01:13.667596Z"
        },
        "trusted": true,
        "colab": {
          "base_uri": "https://localhost:8080/"
        },
        "id": "VzRY98t7AoRl",
        "outputId": "1bb026c9-496c-4ff1-bac5-3f6ad8aa8266"
      },
      "execution_count": 15,
      "outputs": [
        {
          "output_type": "stream",
          "name": "stdout",
          "text": [
            "Num GPUs Available:  1\n"
          ]
        }
      ]
    },
    {
      "cell_type": "code",
      "source": [
        "bert_model_name = 'small_bert/bert_en_uncased_L-4_H-768_A-12' \n",
        "\n",
        "map_name_to_handle = {\n",
        "    'bert_en_uncased_L-12_H-768_A-12':\n",
        "        'https://tfhub.dev/tensorflow/bert_en_uncased_L-12_H-768_A-12/3',\n",
        "    'bert_en_cased_L-12_H-768_A-12':\n",
        "        'https://tfhub.dev/tensorflow/bert_en_cased_L-12_H-768_A-12/3',\n",
        "    'bert_multi_cased_L-12_H-768_A-12':\n",
        "        'https://tfhub.dev/tensorflow/bert_multi_cased_L-12_H-768_A-12/3',\n",
        "    'small_bert/bert_en_uncased_L-2_H-128_A-2':\n",
        "        'https://tfhub.dev/tensorflow/small_bert/bert_en_uncased_L-2_H-128_A-2/1',\n",
        "    'small_bert/bert_en_uncased_L-2_H-256_A-4':\n",
        "        'https://tfhub.dev/tensorflow/small_bert/bert_en_uncased_L-2_H-256_A-4/1',\n",
        "    'small_bert/bert_en_uncased_L-2_H-512_A-8':\n",
        "        'https://tfhub.dev/tensorflow/small_bert/bert_en_uncased_L-2_H-512_A-8/1',\n",
        "    'small_bert/bert_en_uncased_L-2_H-768_A-12':\n",
        "        'https://tfhub.dev/tensorflow/small_bert/bert_en_uncased_L-2_H-768_A-12/1',\n",
        "    'small_bert/bert_en_uncased_L-4_H-128_A-2':\n",
        "        'https://tfhub.dev/tensorflow/small_bert/bert_en_uncased_L-4_H-128_A-2/1',\n",
        "    'small_bert/bert_en_uncased_L-4_H-256_A-4':\n",
        "        'https://tfhub.dev/tensorflow/small_bert/bert_en_uncased_L-4_H-256_A-4/1',\n",
        "    'small_bert/bert_en_uncased_L-4_H-512_A-8':\n",
        "        'https://tfhub.dev/tensorflow/small_bert/bert_en_uncased_L-4_H-512_A-8/1',\n",
        "    'small_bert/bert_en_uncased_L-4_H-768_A-12':\n",
        "        'https://tfhub.dev/tensorflow/small_bert/bert_en_uncased_L-4_H-768_A-12/1',\n",
        "    'small_bert/bert_en_uncased_L-6_H-128_A-2':\n",
        "        'https://tfhub.dev/tensorflow/small_bert/bert_en_uncased_L-6_H-128_A-2/1',\n",
        "    'small_bert/bert_en_uncased_L-6_H-256_A-4':\n",
        "        'https://tfhub.dev/tensorflow/small_bert/bert_en_uncased_L-6_H-256_A-4/1',\n",
        "    'small_bert/bert_en_uncased_L-6_H-512_A-8':\n",
        "        'https://tfhub.dev/tensorflow/small_bert/bert_en_uncased_L-6_H-512_A-8/1',\n",
        "    'small_bert/bert_en_uncased_L-6_H-768_A-12':\n",
        "        'https://tfhub.dev/tensorflow/small_bert/bert_en_uncased_L-6_H-768_A-12/1',\n",
        "    'small_bert/bert_en_uncased_L-8_H-128_A-2':\n",
        "        'https://tfhub.dev/tensorflow/small_bert/bert_en_uncased_L-8_H-128_A-2/1',\n",
        "    'small_bert/bert_en_uncased_L-8_H-256_A-4':\n",
        "        'https://tfhub.dev/tensorflow/small_bert/bert_en_uncased_L-8_H-256_A-4/1',\n",
        "    'small_bert/bert_en_uncased_L-8_H-512_A-8':\n",
        "        'https://tfhub.dev/tensorflow/small_bert/bert_en_uncased_L-8_H-512_A-8/1',\n",
        "    'small_bert/bert_en_uncased_L-8_H-768_A-12':\n",
        "        'https://tfhub.dev/tensorflow/small_bert/bert_en_uncased_L-8_H-768_A-12/1',\n",
        "    'small_bert/bert_en_uncased_L-10_H-128_A-2':\n",
        "        'https://tfhub.dev/tensorflow/small_bert/bert_en_uncased_L-10_H-128_A-2/1',\n",
        "    'small_bert/bert_en_uncased_L-10_H-256_A-4':\n",
        "        'https://tfhub.dev/tensorflow/small_bert/bert_en_uncased_L-10_H-256_A-4/1',\n",
        "    'small_bert/bert_en_uncased_L-10_H-512_A-8':\n",
        "        'https://tfhub.dev/tensorflow/small_bert/bert_en_uncased_L-10_H-512_A-8/1',\n",
        "    'small_bert/bert_en_uncased_L-10_H-768_A-12':\n",
        "        'https://tfhub.dev/tensorflow/small_bert/bert_en_uncased_L-10_H-768_A-12/1',\n",
        "    'small_bert/bert_en_uncased_L-12_H-128_A-2':\n",
        "        'https://tfhub.dev/tensorflow/small_bert/bert_en_uncased_L-12_H-128_A-2/1',\n",
        "    'small_bert/bert_en_uncased_L-12_H-256_A-4':\n",
        "        'https://tfhub.dev/tensorflow/small_bert/bert_en_uncased_L-12_H-256_A-4/1',\n",
        "    'small_bert/bert_en_uncased_L-12_H-512_A-8':\n",
        "        'https://tfhub.dev/tensorflow/small_bert/bert_en_uncased_L-12_H-512_A-8/1',\n",
        "    'small_bert/bert_en_uncased_L-12_H-768_A-12':\n",
        "        'https://tfhub.dev/tensorflow/small_bert/bert_en_uncased_L-12_H-768_A-12/1',\n",
        "    'albert_en_base':\n",
        "        'https://tfhub.dev/tensorflow/albert_en_base/2',\n",
        "    'electra_small':\n",
        "        'https://tfhub.dev/google/electra_small/2',\n",
        "    'electra_base':\n",
        "        'https://tfhub.dev/google/electra_base/2',\n",
        "    'experts_pubmed':\n",
        "        'https://tfhub.dev/google/experts/bert/pubmed/2',\n",
        "    'experts_wiki_books':\n",
        "        'https://tfhub.dev/google/experts/bert/wiki_books/2',\n",
        "    'talking-heads_base':\n",
        "        'https://tfhub.dev/tensorflow/talkheads_ggelu_bert_en_base/1',\n",
        "}\n",
        "\n",
        "map_model_to_preprocess = {\n",
        "    'bert_en_uncased_L-12_H-768_A-12':\n",
        "        'https://tfhub.dev/tensorflow/bert_en_uncased_preprocess/3',\n",
        "    'bert_en_cased_L-12_H-768_A-12':\n",
        "        'https://tfhub.dev/tensorflow/bert_en_cased_preprocess/3',\n",
        "    'small_bert/bert_en_uncased_L-2_H-128_A-2':\n",
        "        'https://tfhub.dev/tensorflow/bert_en_uncased_preprocess/3',\n",
        "    'small_bert/bert_en_uncased_L-2_H-256_A-4':\n",
        "        'https://tfhub.dev/tensorflow/bert_en_uncased_preprocess/3',\n",
        "    'small_bert/bert_en_uncased_L-2_H-512_A-8':\n",
        "        'https://tfhub.dev/tensorflow/bert_en_uncased_preprocess/3',\n",
        "    'small_bert/bert_en_uncased_L-2_H-768_A-12':\n",
        "        'https://tfhub.dev/tensorflow/bert_en_uncased_preprocess/3',\n",
        "    'small_bert/bert_en_uncased_L-4_H-128_A-2':\n",
        "        'https://tfhub.dev/tensorflow/bert_en_uncased_preprocess/3',\n",
        "    'small_bert/bert_en_uncased_L-4_H-256_A-4':\n",
        "        'https://tfhub.dev/tensorflow/bert_en_uncased_preprocess/3',\n",
        "    'small_bert/bert_en_uncased_L-4_H-512_A-8':\n",
        "        'https://tfhub.dev/tensorflow/bert_en_uncased_preprocess/3',\n",
        "    'small_bert/bert_en_uncased_L-4_H-768_A-12':\n",
        "        'https://tfhub.dev/tensorflow/bert_en_uncased_preprocess/3',\n",
        "    'small_bert/bert_en_uncased_L-6_H-128_A-2':\n",
        "        'https://tfhub.dev/tensorflow/bert_en_uncased_preprocess/3',\n",
        "    'small_bert/bert_en_uncased_L-6_H-256_A-4':\n",
        "        'https://tfhub.dev/tensorflow/bert_en_uncased_preprocess/3',\n",
        "    'small_bert/bert_en_uncased_L-6_H-512_A-8':\n",
        "        'https://tfhub.dev/tensorflow/bert_en_uncased_preprocess/3',\n",
        "    'small_bert/bert_en_uncased_L-6_H-768_A-12':\n",
        "        'https://tfhub.dev/tensorflow/bert_en_uncased_preprocess/3',\n",
        "    'small_bert/bert_en_uncased_L-8_H-128_A-2':\n",
        "        'https://tfhub.dev/tensorflow/bert_en_uncased_preprocess/3',\n",
        "    'small_bert/bert_en_uncased_L-8_H-256_A-4':\n",
        "        'https://tfhub.dev/tensorflow/bert_en_uncased_preprocess/3',\n",
        "    'small_bert/bert_en_uncased_L-8_H-512_A-8':\n",
        "        'https://tfhub.dev/tensorflow/bert_en_uncased_preprocess/3',\n",
        "    'small_bert/bert_en_uncased_L-8_H-768_A-12':\n",
        "        'https://tfhub.dev/tensorflow/bert_en_uncased_preprocess/3',\n",
        "    'small_bert/bert_en_uncased_L-10_H-128_A-2':\n",
        "        'https://tfhub.dev/tensorflow/bert_en_uncased_preprocess/3',\n",
        "    'small_bert/bert_en_uncased_L-10_H-256_A-4':\n",
        "        'https://tfhub.dev/tensorflow/bert_en_uncased_preprocess/3',\n",
        "    'small_bert/bert_en_uncased_L-10_H-512_A-8':\n",
        "        'https://tfhub.dev/tensorflow/bert_en_uncased_preprocess/3',\n",
        "    'small_bert/bert_en_uncased_L-10_H-768_A-12':\n",
        "        'https://tfhub.dev/tensorflow/bert_en_uncased_preprocess/3',\n",
        "    'small_bert/bert_en_uncased_L-12_H-128_A-2':\n",
        "        'https://tfhub.dev/tensorflow/bert_en_uncased_preprocess/3',\n",
        "    'small_bert/bert_en_uncased_L-12_H-256_A-4':\n",
        "        'https://tfhub.dev/tensorflow/bert_en_uncased_preprocess/3',\n",
        "    'small_bert/bert_en_uncased_L-12_H-512_A-8':\n",
        "        'https://tfhub.dev/tensorflow/bert_en_uncased_preprocess/3',\n",
        "    'small_bert/bert_en_uncased_L-12_H-768_A-12':\n",
        "        'https://tfhub.dev/tensorflow/bert_en_uncased_preprocess/3',\n",
        "    'bert_multi_cased_L-12_H-768_A-12':\n",
        "        'https://tfhub.dev/tensorflow/bert_multi_cased_preprocess/3',\n",
        "    'albert_en_base':\n",
        "        'https://tfhub.dev/tensorflow/albert_en_preprocess/3',\n",
        "    'electra_small':\n",
        "        'https://tfhub.dev/tensorflow/bert_en_uncased_preprocess/3',\n",
        "    'electra_base':\n",
        "        'https://tfhub.dev/tensorflow/bert_en_uncased_preprocess/3',\n",
        "    'experts_pubmed':\n",
        "        'https://tfhub.dev/tensorflow/bert_en_uncased_preprocess/3',\n",
        "    'experts_wiki_books':\n",
        "        'https://tfhub.dev/tensorflow/bert_en_uncased_preprocess/3',\n",
        "    'talking-heads_base':\n",
        "        'https://tfhub.dev/tensorflow/bert_en_uncased_preprocess/3',\n",
        "}\n",
        "\n",
        "bert_encoder = map_name_to_handle[bert_model_name]\n",
        "bert_preprocess = map_model_to_preprocess[bert_model_name]\n",
        "\n",
        "print(f'BERT model selected           : {bert_encoder}')\n",
        "print(f'Preprocess model auto-selected: {bert_preprocess}')"
      ],
      "metadata": {
        "execution": {
          "iopub.status.busy": "2022-08-12T10:01:15.296951Z",
          "iopub.execute_input": "2022-08-12T10:01:15.297305Z",
          "iopub.status.idle": "2022-08-12T10:01:15.313798Z",
          "shell.execute_reply.started": "2022-08-12T10:01:15.297268Z",
          "shell.execute_reply": "2022-08-12T10:01:15.312695Z"
        },
        "trusted": true,
        "colab": {
          "base_uri": "https://localhost:8080/"
        },
        "id": "eEpvWaP6AoRm",
        "outputId": "85346f15-7a81-42ee-da44-ab49852c583e"
      },
      "execution_count": 16,
      "outputs": [
        {
          "output_type": "stream",
          "name": "stdout",
          "text": [
            "BERT model selected           : https://tfhub.dev/tensorflow/small_bert/bert_en_uncased_L-4_H-768_A-12/1\n",
            "Preprocess model auto-selected: https://tfhub.dev/tensorflow/bert_en_uncased_preprocess/3\n"
          ]
        }
      ]
    },
    {
      "cell_type": "code",
      "source": [
        "bert_preprocess = hub.KerasLayer(\"https://tfhub.dev/tensorflow/bert_en_uncased_preprocess/3\")\n",
        "bert_encoder = hub.KerasLayer(\"https://tfhub.dev/tensorflow/small_bert/bert_en_uncased_L-4_H-768_A-12/1\")"
      ],
      "metadata": {
        "execution": {
          "iopub.status.busy": "2022-08-12T10:01:17.397635Z",
          "iopub.execute_input": "2022-08-12T10:01:17.398318Z",
          "iopub.status.idle": "2022-08-12T10:01:24.666762Z",
          "shell.execute_reply.started": "2022-08-12T10:01:17.398283Z",
          "shell.execute_reply": "2022-08-12T10:01:24.665784Z"
        },
        "trusted": true,
        "id": "N5vl7cT9AoRo"
      },
      "execution_count": 17,
      "outputs": []
    },
    {
      "cell_type": "code",
      "source": [
        "#!pip install keras-tuner --upgrade\n",
        "#import keras_tuner"
      ],
      "metadata": {
        "execution": {
          "iopub.status.busy": "2022-08-12T08:31:32.648711Z",
          "iopub.execute_input": "2022-08-12T08:31:32.649078Z",
          "iopub.status.idle": "2022-08-12T08:31:32.653597Z",
          "shell.execute_reply.started": "2022-08-12T08:31:32.649042Z",
          "shell.execute_reply": "2022-08-12T08:31:32.652609Z"
        },
        "trusted": true,
        "id": "05mlMSgRAoRo"
      },
      "execution_count": 18,
      "outputs": []
    },
    {
      "cell_type": "code",
      "source": [
        "def focal_loss(gamma=2., alpha=4.):   \n",
        "\n",
        "    gamma = float(gamma)\n",
        "    alpha = float(alpha)\n",
        "\n",
        "    def focal_loss_fixed(y_true, y_pred):\n",
        "        \"\"\"Focal loss for multi-classification\n",
        "        FL(p_t)=-alpha(1-p_t)^{gamma}ln(p_t)\n",
        "        Notice: y_pred is probability after softmax\n",
        "        gradient is d(Fl)/d(p_t) not d(Fl)/d(x) as described in paper\n",
        "        d(Fl)/d(p_t) * [p_t(1-p_t)] = d(Fl)/d(x)\n",
        "        Focal Loss for Dense Object Detection\n",
        "        https://arxiv.org/abs/1708.02002\n",
        "\n",
        "        Arguments:\n",
        "            y_true {tensor} -- ground truth labels, shape of [batch_size, num_cls]\n",
        "            y_pred {tensor} -- model's output, shape of [batch_size, num_cls]\n",
        "\n",
        "        Keyword Arguments:\n",
        "            gamma {float} -- (default: {2.0})\n",
        "            alpha {float} -- (default: {4.0})\n",
        "\n",
        "        Returns:\n",
        "            [tensor] -- loss.\n",
        "        \"\"\"\n",
        "        epsilon = 1.e-9\n",
        "        y_true = tf.convert_to_tensor(y_true, tf.float32)\n",
        "        y_pred = tf.convert_to_tensor(y_pred, tf.float32)\n",
        "\n",
        "        model_out = tf.add(y_pred, epsilon)\n",
        "        ce = tf.multiply(y_true, -tf.math.log(model_out))\n",
        "        weight = tf.multiply(y_true, tf.pow(tf.subtract(1., model_out), gamma))\n",
        "        fl = tf.multiply(alpha, tf.multiply(weight, ce))\n",
        "        reduced_fl = tf.reduce_max(fl, axis=1)\n",
        "        return tf.reduce_mean(reduced_fl)\n",
        "    return focal_loss_fixed\n",
        "\n",
        "METRICS = [\n",
        "      keras.metrics.TruePositives(name='tp'),\n",
        "      keras.metrics.FalsePositives(name='fp'),\n",
        "      keras.metrics.TrueNegatives(name='tn'),\n",
        "      keras.metrics.FalseNegatives(name='fn'), \n",
        "      keras.metrics.CategoricalCrossentropy(name='categorical_cross_entropy'),\n",
        "      keras.metrics.Precision(name='precision'),\n",
        "      keras.metrics.Recall(name='recall'),\n",
        "      keras.metrics.AUC(name='auc'),\n",
        "      keras.metrics.AUC(name='prc', curve='PR'), # precision-recall curve\n",
        "      'accuracy'\n",
        "]"
      ],
      "metadata": {
        "execution": {
          "iopub.status.busy": "2022-08-12T10:01:24.668801Z",
          "iopub.execute_input": "2022-08-12T10:01:24.669160Z",
          "iopub.status.idle": "2022-08-12T10:01:24.699935Z",
          "shell.execute_reply.started": "2022-08-12T10:01:24.669125Z",
          "shell.execute_reply": "2022-08-12T10:01:24.699055Z"
        },
        "trusted": true,
        "id": "n0ncJMEwAoRp"
      },
      "execution_count": 19,
      "outputs": []
    },
    {
      "cell_type": "code",
      "source": [
        "# Note the training variable in the Batch Normalization function. This is required because Batch Normalization operates differently during training vs. the application stage– during training the z score is computed using the batch mean and variance, while in inference, it’s computed using a mean and variance estimated from the entire training set.\n",
        "text_input = tf.keras.layers.Input(shape=(), dtype=tf.string, name='text')\n",
        "preprocessed_text = bert_preprocess(text_input)\n",
        "outputs = bert_encoder(preprocessed_text)\n",
        "l = tf.keras.layers.Dropout(0.6, name=\"dropout1\")(outputs['pooled_output'])\n",
        "l = tf.keras.layers.Dense(units = 128, activation = 'relu', kernel_initializer = 'he_uniform',name = 'layer1')(l)\n",
        "l = tf.keras.layers.BatchNormalization()(l, training= True)\n",
        "\n",
        "l = tf.keras.layers.Dropout(0.5, name=\"dropout2\")(l)\n",
        "l = tf.keras.layers.Dense(units = 128, activation = None, kernel_initializer = 'he_uniform',name = 'layer2')(l)\n",
        "l = tf.keras.layers.BatchNormalization()(l, training= True)\n",
        "\n",
        "l = tf.keras.layers.Dropout(0.6, name=\"dropout3\")(l)\n",
        "l = tf.keras.layers.Dense(units = 128, activation = None, kernel_initializer = 'he_uniform',name = 'layer3')(l)\n",
        "l = tf.keras.layers.Dense(2, activation='softmax', name=\"output\")(l)\n",
        "model = tf.keras.Model(inputs=[text_input], outputs = [l])\n",
        "model.compile(loss= focal_loss(alpha=0.1, gamma = 2) , optimizer='adam', metrics=METRICS)"
      ],
      "metadata": {
        "execution": {
          "iopub.status.busy": "2022-08-12T10:01:24.701496Z",
          "iopub.execute_input": "2022-08-12T10:01:24.701896Z",
          "iopub.status.idle": "2022-08-12T10:01:24.931952Z",
          "shell.execute_reply.started": "2022-08-12T10:01:24.701861Z",
          "shell.execute_reply": "2022-08-12T10:01:24.930920Z"
        },
        "trusted": true,
        "id": "VJR8WJ1IAoRq"
      },
      "execution_count": 20,
      "outputs": []
    },
    {
      "cell_type": "code",
      "source": [
        "model.summary()"
      ],
      "metadata": {
        "execution": {
          "iopub.status.busy": "2022-08-12T10:01:24.934095Z",
          "iopub.execute_input": "2022-08-12T10:01:24.934450Z",
          "iopub.status.idle": "2022-08-12T10:01:24.981308Z",
          "shell.execute_reply.started": "2022-08-12T10:01:24.934414Z",
          "shell.execute_reply": "2022-08-12T10:01:24.980525Z"
        },
        "trusted": true,
        "colab": {
          "base_uri": "https://localhost:8080/"
        },
        "id": "1qEo3MJsAoR1",
        "outputId": "640306f0-7bee-428e-be09-7237420bc72d"
      },
      "execution_count": 21,
      "outputs": [
        {
          "output_type": "stream",
          "name": "stdout",
          "text": [
            "Model: \"model\"\n",
            "__________________________________________________________________________________________________\n",
            " Layer (type)                   Output Shape         Param #     Connected to                     \n",
            "==================================================================================================\n",
            " text (InputLayer)              [(None,)]            0           []                               \n",
            "                                                                                                  \n",
            " keras_layer (KerasLayer)       {'input_word_ids':   0           ['text[0][0]']                   \n",
            "                                (None, 128),                                                      \n",
            "                                 'input_type_ids':                                                \n",
            "                                (None, 128),                                                      \n",
            "                                 'input_mask': (Non                                               \n",
            "                                e, 128)}                                                          \n",
            "                                                                                                  \n",
            " keras_layer_1 (KerasLayer)     {'pooled_output': (  52779265    ['keras_layer[0][0]',            \n",
            "                                None, 768),                       'keras_layer[0][1]',            \n",
            "                                 'encoder_outputs':               'keras_layer[0][2]']            \n",
            "                                 [(None, 128, 768),                                               \n",
            "                                 (None, 128, 768),                                                \n",
            "                                 (None, 128, 768),                                                \n",
            "                                 (None, 128, 768)],                                               \n",
            "                                 'sequence_output':                                               \n",
            "                                 (None, 128, 768),                                                \n",
            "                                 'default': (None,                                                \n",
            "                                768)}                                                             \n",
            "                                                                                                  \n",
            " dropout1 (Dropout)             (None, 768)          0           ['keras_layer_1[0][5]']          \n",
            "                                                                                                  \n",
            " layer1 (Dense)                 (None, 128)          98432       ['dropout1[0][0]']               \n",
            "                                                                                                  \n",
            " batch_normalization (BatchNorm  (None, 128)         512         ['layer1[0][0]']                 \n",
            " alization)                                                                                       \n",
            "                                                                                                  \n",
            " dropout2 (Dropout)             (None, 128)          0           ['batch_normalization[0][0]']    \n",
            "                                                                                                  \n",
            " layer2 (Dense)                 (None, 128)          16512       ['dropout2[0][0]']               \n",
            "                                                                                                  \n",
            " batch_normalization_1 (BatchNo  (None, 128)         512         ['layer2[0][0]']                 \n",
            " rmalization)                                                                                     \n",
            "                                                                                                  \n",
            " dropout3 (Dropout)             (None, 128)          0           ['batch_normalization_1[0][0]']  \n",
            "                                                                                                  \n",
            " layer3 (Dense)                 (None, 128)          16512       ['dropout3[0][0]']               \n",
            "                                                                                                  \n",
            " output (Dense)                 (None, 2)            258         ['layer3[0][0]']                 \n",
            "                                                                                                  \n",
            "==================================================================================================\n",
            "Total params: 52,912,003\n",
            "Trainable params: 132,226\n",
            "Non-trainable params: 52,779,777\n",
            "__________________________________________________________________________________________________\n"
          ]
        }
      ]
    },
    {
      "cell_type": "markdown",
      "source": [
        "#### Test Set"
      ],
      "metadata": {
        "id": "LLwtF4ICH-aC"
      }
    },
    {
      "cell_type": "code",
      "source": [
        "original_test_data = pd.read_csv(\"/content/original_test_data.csv\")\n",
        "annotated_noneedcat_test_data_1 = pd.read_excel(\"/content/test_data_noneed_with_predictions_set_1.xlsx\")\n",
        "annotated_noneedcat_test_data_2 = pd.read_excel('/content/test_data_noneed_with_predictions_set_2.xlsx')\n",
        "annotated_noneedcat_test_data_3 = pd.read_excel('/content/test_data_noneed_with_predictions_set_3.xlsx')\n",
        "annotated_noneedcat_test_data_4 = pd.read_excel('/content/test_data_noneed_with_predictions_set_4.xlsx')\n",
        "annotated_noneedcat_test_data = pd.concat([annotated_noneedcat_test_data_1,annotated_noneedcat_test_data_2,annotated_noneedcat_test_data_3,annotated_noneedcat_test_data_4])\n",
        "annotated_noneedcat_test_data = shuffle(annotated_noneedcat_test_data)\n",
        "annotated_noneedcat_test_data['our'] = annotated_noneedcat_test_data['our'].replace([1,0],['no need','need'])\n",
        "annotated_noneedcat_test_data = annotated_noneedcat_test_data[['sentence','our','annotator']]\n",
        "annotated_noneedcat_test_data.rename(columns = {'our':'maslow'},inplace = True)\n",
        "annotated_noneedcat_test_data.head(2)"
      ],
      "metadata": {
        "colab": {
          "base_uri": "https://localhost:8080/",
          "height": 112
        },
        "id": "dx6SOx2cH9n9",
        "outputId": "d88e7f1a-e236-41b8-dc9d-434cbabcecc2"
      },
      "execution_count": 22,
      "outputs": [
        {
          "output_type": "execute_result",
          "data": {
            "text/plain": [
              "                                             sentence maslow annotator\n",
              "70  Donnie is working at his job.He is cutting woo...   need   ajinkya\n",
              "96  Mary had been feeling depressed lately.She dec...   need  gurudeep"
            ],
            "text/html": [
              "\n",
              "  <div id=\"df-8274497f-51d1-4036-9721-c9e2c52404e9\">\n",
              "    <div class=\"colab-df-container\">\n",
              "      <div>\n",
              "<style scoped>\n",
              "    .dataframe tbody tr th:only-of-type {\n",
              "        vertical-align: middle;\n",
              "    }\n",
              "\n",
              "    .dataframe tbody tr th {\n",
              "        vertical-align: top;\n",
              "    }\n",
              "\n",
              "    .dataframe thead th {\n",
              "        text-align: right;\n",
              "    }\n",
              "</style>\n",
              "<table border=\"1\" class=\"dataframe\">\n",
              "  <thead>\n",
              "    <tr style=\"text-align: right;\">\n",
              "      <th></th>\n",
              "      <th>sentence</th>\n",
              "      <th>maslow</th>\n",
              "      <th>annotator</th>\n",
              "    </tr>\n",
              "  </thead>\n",
              "  <tbody>\n",
              "    <tr>\n",
              "      <th>70</th>\n",
              "      <td>Donnie is working at his job.He is cutting woo...</td>\n",
              "      <td>need</td>\n",
              "      <td>ajinkya</td>\n",
              "    </tr>\n",
              "    <tr>\n",
              "      <th>96</th>\n",
              "      <td>Mary had been feeling depressed lately.She dec...</td>\n",
              "      <td>need</td>\n",
              "      <td>gurudeep</td>\n",
              "    </tr>\n",
              "  </tbody>\n",
              "</table>\n",
              "</div>\n",
              "      <button class=\"colab-df-convert\" onclick=\"convertToInteractive('df-8274497f-51d1-4036-9721-c9e2c52404e9')\"\n",
              "              title=\"Convert this dataframe to an interactive table.\"\n",
              "              style=\"display:none;\">\n",
              "        \n",
              "  <svg xmlns=\"http://www.w3.org/2000/svg\" height=\"24px\"viewBox=\"0 0 24 24\"\n",
              "       width=\"24px\">\n",
              "    <path d=\"M0 0h24v24H0V0z\" fill=\"none\"/>\n",
              "    <path d=\"M18.56 5.44l.94 2.06.94-2.06 2.06-.94-2.06-.94-.94-2.06-.94 2.06-2.06.94zm-11 1L8.5 8.5l.94-2.06 2.06-.94-2.06-.94L8.5 2.5l-.94 2.06-2.06.94zm10 10l.94 2.06.94-2.06 2.06-.94-2.06-.94-.94-2.06-.94 2.06-2.06.94z\"/><path d=\"M17.41 7.96l-1.37-1.37c-.4-.4-.92-.59-1.43-.59-.52 0-1.04.2-1.43.59L10.3 9.45l-7.72 7.72c-.78.78-.78 2.05 0 2.83L4 21.41c.39.39.9.59 1.41.59.51 0 1.02-.2 1.41-.59l7.78-7.78 2.81-2.81c.8-.78.8-2.07 0-2.86zM5.41 20L4 18.59l7.72-7.72 1.47 1.35L5.41 20z\"/>\n",
              "  </svg>\n",
              "      </button>\n",
              "      \n",
              "  <style>\n",
              "    .colab-df-container {\n",
              "      display:flex;\n",
              "      flex-wrap:wrap;\n",
              "      gap: 12px;\n",
              "    }\n",
              "\n",
              "    .colab-df-convert {\n",
              "      background-color: #E8F0FE;\n",
              "      border: none;\n",
              "      border-radius: 50%;\n",
              "      cursor: pointer;\n",
              "      display: none;\n",
              "      fill: #1967D2;\n",
              "      height: 32px;\n",
              "      padding: 0 0 0 0;\n",
              "      width: 32px;\n",
              "    }\n",
              "\n",
              "    .colab-df-convert:hover {\n",
              "      background-color: #E2EBFA;\n",
              "      box-shadow: 0px 1px 2px rgba(60, 64, 67, 0.3), 0px 1px 3px 1px rgba(60, 64, 67, 0.15);\n",
              "      fill: #174EA6;\n",
              "    }\n",
              "\n",
              "    [theme=dark] .colab-df-convert {\n",
              "      background-color: #3B4455;\n",
              "      fill: #D2E3FC;\n",
              "    }\n",
              "\n",
              "    [theme=dark] .colab-df-convert:hover {\n",
              "      background-color: #434B5C;\n",
              "      box-shadow: 0px 1px 3px 1px rgba(0, 0, 0, 0.15);\n",
              "      filter: drop-shadow(0px 1px 2px rgba(0, 0, 0, 0.3));\n",
              "      fill: #FFFFFF;\n",
              "    }\n",
              "  </style>\n",
              "\n",
              "      <script>\n",
              "        const buttonEl =\n",
              "          document.querySelector('#df-8274497f-51d1-4036-9721-c9e2c52404e9 button.colab-df-convert');\n",
              "        buttonEl.style.display =\n",
              "          google.colab.kernel.accessAllowed ? 'block' : 'none';\n",
              "\n",
              "        async function convertToInteractive(key) {\n",
              "          const element = document.querySelector('#df-8274497f-51d1-4036-9721-c9e2c52404e9');\n",
              "          const dataTable =\n",
              "            await google.colab.kernel.invokeFunction('convertToInteractive',\n",
              "                                                     [key], {});\n",
              "          if (!dataTable) return;\n",
              "\n",
              "          const docLinkHtml = 'Like what you see? Visit the ' +\n",
              "            '<a target=\"_blank\" href=https://colab.research.google.com/notebooks/data_table.ipynb>data table notebook</a>'\n",
              "            + ' to learn more about interactive tables.';\n",
              "          element.innerHTML = '';\n",
              "          dataTable['output_type'] = 'display_data';\n",
              "          await google.colab.output.renderOutput(dataTable, element);\n",
              "          const docLink = document.createElement('div');\n",
              "          docLink.innerHTML = docLinkHtml;\n",
              "          element.appendChild(docLink);\n",
              "        }\n",
              "      </script>\n",
              "    </div>\n",
              "  </div>\n",
              "  "
            ]
          },
          "metadata": {},
          "execution_count": 22
        }
      ]
    },
    {
      "cell_type": "code",
      "source": [
        "original_test_data = original_test_data[['sentence','maslow']]\n",
        "original_test_data['maslow'] = original_test_data['maslow'].replace(['physiological','love','stability','esteem','spiritual growth'],['basic_needs','basic_needs','basic_needs','advanced_needs','advanced_needs'])\n",
        "original_test_data['maslow'] = original_test_data['maslow'].replace(['basic_needs','basic_needs','basic_needs','advanced_needs','advanced_needs','none'],['need','need','need','need','need','no need'])\n",
        "original_test_data = original_test_data[original_test_data['maslow']!='no need']\n",
        "original_test_data['annotator'] = 'na'\n",
        "original_test_data = pd.concat([original_test_data,annotated_noneedcat_test_data])\n",
        "original_test_data = shuffle(original_test_data)\n",
        "original_test_data[['sentence','maslow','annotator']].groupby(['maslow','annotator']).count()"
      ],
      "metadata": {
        "colab": {
          "base_uri": "https://localhost:8080/",
          "height": 571
        },
        "id": "qGG_ivK_JSPi",
        "outputId": "5ba141cf-3fa1-4da9-ff2c-d7a567259767"
      },
      "execution_count": 29,
      "outputs": [
        {
          "output_type": "stream",
          "name": "stderr",
          "text": [
            "/usr/local/lib/python3.7/dist-packages/ipykernel_launcher.py:2: SettingWithCopyWarning: \n",
            "A value is trying to be set on a copy of a slice from a DataFrame.\n",
            "Try using .loc[row_indexer,col_indexer] = value instead\n",
            "\n",
            "See the caveats in the documentation: https://pandas.pydata.org/pandas-docs/stable/user_guide/indexing.html#returning-a-view-versus-a-copy\n",
            "  \n",
            "/usr/local/lib/python3.7/dist-packages/ipykernel_launcher.py:3: SettingWithCopyWarning: \n",
            "A value is trying to be set on a copy of a slice from a DataFrame.\n",
            "Try using .loc[row_indexer,col_indexer] = value instead\n",
            "\n",
            "See the caveats in the documentation: https://pandas.pydata.org/pandas-docs/stable/user_guide/indexing.html#returning-a-view-versus-a-copy\n",
            "  This is separate from the ipykernel package so we can avoid doing imports until\n"
          ]
        },
        {
          "output_type": "execute_result",
          "data": {
            "text/plain": [
              "                   sentence\n",
              "maslow  annotator          \n",
              "need    ajinkya          95\n",
              "        anish            94\n",
              "        gurudeep         58\n",
              "        na             3862\n",
              "        vivek             5\n",
              "no need ajinkya          32\n",
              "        anish            33\n",
              "        gurudeep         68\n",
              "        vivek           122"
            ],
            "text/html": [
              "\n",
              "  <div id=\"df-19f49e7d-ef26-424c-9ef6-11acc5c1409e\">\n",
              "    <div class=\"colab-df-container\">\n",
              "      <div>\n",
              "<style scoped>\n",
              "    .dataframe tbody tr th:only-of-type {\n",
              "        vertical-align: middle;\n",
              "    }\n",
              "\n",
              "    .dataframe tbody tr th {\n",
              "        vertical-align: top;\n",
              "    }\n",
              "\n",
              "    .dataframe thead th {\n",
              "        text-align: right;\n",
              "    }\n",
              "</style>\n",
              "<table border=\"1\" class=\"dataframe\">\n",
              "  <thead>\n",
              "    <tr style=\"text-align: right;\">\n",
              "      <th></th>\n",
              "      <th></th>\n",
              "      <th>sentence</th>\n",
              "    </tr>\n",
              "    <tr>\n",
              "      <th>maslow</th>\n",
              "      <th>annotator</th>\n",
              "      <th></th>\n",
              "    </tr>\n",
              "  </thead>\n",
              "  <tbody>\n",
              "    <tr>\n",
              "      <th rowspan=\"5\" valign=\"top\">need</th>\n",
              "      <th>ajinkya</th>\n",
              "      <td>95</td>\n",
              "    </tr>\n",
              "    <tr>\n",
              "      <th>anish</th>\n",
              "      <td>94</td>\n",
              "    </tr>\n",
              "    <tr>\n",
              "      <th>gurudeep</th>\n",
              "      <td>58</td>\n",
              "    </tr>\n",
              "    <tr>\n",
              "      <th>na</th>\n",
              "      <td>3862</td>\n",
              "    </tr>\n",
              "    <tr>\n",
              "      <th>vivek</th>\n",
              "      <td>5</td>\n",
              "    </tr>\n",
              "    <tr>\n",
              "      <th rowspan=\"4\" valign=\"top\">no need</th>\n",
              "      <th>ajinkya</th>\n",
              "      <td>32</td>\n",
              "    </tr>\n",
              "    <tr>\n",
              "      <th>anish</th>\n",
              "      <td>33</td>\n",
              "    </tr>\n",
              "    <tr>\n",
              "      <th>gurudeep</th>\n",
              "      <td>68</td>\n",
              "    </tr>\n",
              "    <tr>\n",
              "      <th>vivek</th>\n",
              "      <td>122</td>\n",
              "    </tr>\n",
              "  </tbody>\n",
              "</table>\n",
              "</div>\n",
              "      <button class=\"colab-df-convert\" onclick=\"convertToInteractive('df-19f49e7d-ef26-424c-9ef6-11acc5c1409e')\"\n",
              "              title=\"Convert this dataframe to an interactive table.\"\n",
              "              style=\"display:none;\">\n",
              "        \n",
              "  <svg xmlns=\"http://www.w3.org/2000/svg\" height=\"24px\"viewBox=\"0 0 24 24\"\n",
              "       width=\"24px\">\n",
              "    <path d=\"M0 0h24v24H0V0z\" fill=\"none\"/>\n",
              "    <path d=\"M18.56 5.44l.94 2.06.94-2.06 2.06-.94-2.06-.94-.94-2.06-.94 2.06-2.06.94zm-11 1L8.5 8.5l.94-2.06 2.06-.94-2.06-.94L8.5 2.5l-.94 2.06-2.06.94zm10 10l.94 2.06.94-2.06 2.06-.94-2.06-.94-.94-2.06-.94 2.06-2.06.94z\"/><path d=\"M17.41 7.96l-1.37-1.37c-.4-.4-.92-.59-1.43-.59-.52 0-1.04.2-1.43.59L10.3 9.45l-7.72 7.72c-.78.78-.78 2.05 0 2.83L4 21.41c.39.39.9.59 1.41.59.51 0 1.02-.2 1.41-.59l7.78-7.78 2.81-2.81c.8-.78.8-2.07 0-2.86zM5.41 20L4 18.59l7.72-7.72 1.47 1.35L5.41 20z\"/>\n",
              "  </svg>\n",
              "      </button>\n",
              "      \n",
              "  <style>\n",
              "    .colab-df-container {\n",
              "      display:flex;\n",
              "      flex-wrap:wrap;\n",
              "      gap: 12px;\n",
              "    }\n",
              "\n",
              "    .colab-df-convert {\n",
              "      background-color: #E8F0FE;\n",
              "      border: none;\n",
              "      border-radius: 50%;\n",
              "      cursor: pointer;\n",
              "      display: none;\n",
              "      fill: #1967D2;\n",
              "      height: 32px;\n",
              "      padding: 0 0 0 0;\n",
              "      width: 32px;\n",
              "    }\n",
              "\n",
              "    .colab-df-convert:hover {\n",
              "      background-color: #E2EBFA;\n",
              "      box-shadow: 0px 1px 2px rgba(60, 64, 67, 0.3), 0px 1px 3px 1px rgba(60, 64, 67, 0.15);\n",
              "      fill: #174EA6;\n",
              "    }\n",
              "\n",
              "    [theme=dark] .colab-df-convert {\n",
              "      background-color: #3B4455;\n",
              "      fill: #D2E3FC;\n",
              "    }\n",
              "\n",
              "    [theme=dark] .colab-df-convert:hover {\n",
              "      background-color: #434B5C;\n",
              "      box-shadow: 0px 1px 3px 1px rgba(0, 0, 0, 0.15);\n",
              "      filter: drop-shadow(0px 1px 2px rgba(0, 0, 0, 0.3));\n",
              "      fill: #FFFFFF;\n",
              "    }\n",
              "  </style>\n",
              "\n",
              "      <script>\n",
              "        const buttonEl =\n",
              "          document.querySelector('#df-19f49e7d-ef26-424c-9ef6-11acc5c1409e button.colab-df-convert');\n",
              "        buttonEl.style.display =\n",
              "          google.colab.kernel.accessAllowed ? 'block' : 'none';\n",
              "\n",
              "        async function convertToInteractive(key) {\n",
              "          const element = document.querySelector('#df-19f49e7d-ef26-424c-9ef6-11acc5c1409e');\n",
              "          const dataTable =\n",
              "            await google.colab.kernel.invokeFunction('convertToInteractive',\n",
              "                                                     [key], {});\n",
              "          if (!dataTable) return;\n",
              "\n",
              "          const docLinkHtml = 'Like what you see? Visit the ' +\n",
              "            '<a target=\"_blank\" href=https://colab.research.google.com/notebooks/data_table.ipynb>data table notebook</a>'\n",
              "            + ' to learn more about interactive tables.';\n",
              "          element.innerHTML = '';\n",
              "          dataTable['output_type'] = 'display_data';\n",
              "          await google.colab.output.renderOutput(dataTable, element);\n",
              "          const docLink = document.createElement('div');\n",
              "          docLink.innerHTML = docLinkHtml;\n",
              "          element.appendChild(docLink);\n",
              "        }\n",
              "      </script>\n",
              "    </div>\n",
              "  </div>\n",
              "  "
            ]
          },
          "metadata": {},
          "execution_count": 29
        }
      ]
    },
    {
      "cell_type": "code",
      "source": [
        "original_test_data[['sentence','maslow']].groupby(['maslow']).count()"
      ],
      "metadata": {
        "colab": {
          "base_uri": "https://localhost:8080/",
          "height": 143
        },
        "id": "5UL-guJDQ1aG",
        "outputId": "0944bcb5-0afd-4e34-8cc8-ba949eada687"
      },
      "execution_count": 30,
      "outputs": [
        {
          "output_type": "execute_result",
          "data": {
            "text/plain": [
              "         sentence\n",
              "maslow           \n",
              "need         4114\n",
              "no need       255"
            ],
            "text/html": [
              "\n",
              "  <div id=\"df-46004ab2-a492-49e5-8c5c-41fea46379da\">\n",
              "    <div class=\"colab-df-container\">\n",
              "      <div>\n",
              "<style scoped>\n",
              "    .dataframe tbody tr th:only-of-type {\n",
              "        vertical-align: middle;\n",
              "    }\n",
              "\n",
              "    .dataframe tbody tr th {\n",
              "        vertical-align: top;\n",
              "    }\n",
              "\n",
              "    .dataframe thead th {\n",
              "        text-align: right;\n",
              "    }\n",
              "</style>\n",
              "<table border=\"1\" class=\"dataframe\">\n",
              "  <thead>\n",
              "    <tr style=\"text-align: right;\">\n",
              "      <th></th>\n",
              "      <th>sentence</th>\n",
              "    </tr>\n",
              "    <tr>\n",
              "      <th>maslow</th>\n",
              "      <th></th>\n",
              "    </tr>\n",
              "  </thead>\n",
              "  <tbody>\n",
              "    <tr>\n",
              "      <th>need</th>\n",
              "      <td>4114</td>\n",
              "    </tr>\n",
              "    <tr>\n",
              "      <th>no need</th>\n",
              "      <td>255</td>\n",
              "    </tr>\n",
              "  </tbody>\n",
              "</table>\n",
              "</div>\n",
              "      <button class=\"colab-df-convert\" onclick=\"convertToInteractive('df-46004ab2-a492-49e5-8c5c-41fea46379da')\"\n",
              "              title=\"Convert this dataframe to an interactive table.\"\n",
              "              style=\"display:none;\">\n",
              "        \n",
              "  <svg xmlns=\"http://www.w3.org/2000/svg\" height=\"24px\"viewBox=\"0 0 24 24\"\n",
              "       width=\"24px\">\n",
              "    <path d=\"M0 0h24v24H0V0z\" fill=\"none\"/>\n",
              "    <path d=\"M18.56 5.44l.94 2.06.94-2.06 2.06-.94-2.06-.94-.94-2.06-.94 2.06-2.06.94zm-11 1L8.5 8.5l.94-2.06 2.06-.94-2.06-.94L8.5 2.5l-.94 2.06-2.06.94zm10 10l.94 2.06.94-2.06 2.06-.94-2.06-.94-.94-2.06-.94 2.06-2.06.94z\"/><path d=\"M17.41 7.96l-1.37-1.37c-.4-.4-.92-.59-1.43-.59-.52 0-1.04.2-1.43.59L10.3 9.45l-7.72 7.72c-.78.78-.78 2.05 0 2.83L4 21.41c.39.39.9.59 1.41.59.51 0 1.02-.2 1.41-.59l7.78-7.78 2.81-2.81c.8-.78.8-2.07 0-2.86zM5.41 20L4 18.59l7.72-7.72 1.47 1.35L5.41 20z\"/>\n",
              "  </svg>\n",
              "      </button>\n",
              "      \n",
              "  <style>\n",
              "    .colab-df-container {\n",
              "      display:flex;\n",
              "      flex-wrap:wrap;\n",
              "      gap: 12px;\n",
              "    }\n",
              "\n",
              "    .colab-df-convert {\n",
              "      background-color: #E8F0FE;\n",
              "      border: none;\n",
              "      border-radius: 50%;\n",
              "      cursor: pointer;\n",
              "      display: none;\n",
              "      fill: #1967D2;\n",
              "      height: 32px;\n",
              "      padding: 0 0 0 0;\n",
              "      width: 32px;\n",
              "    }\n",
              "\n",
              "    .colab-df-convert:hover {\n",
              "      background-color: #E2EBFA;\n",
              "      box-shadow: 0px 1px 2px rgba(60, 64, 67, 0.3), 0px 1px 3px 1px rgba(60, 64, 67, 0.15);\n",
              "      fill: #174EA6;\n",
              "    }\n",
              "\n",
              "    [theme=dark] .colab-df-convert {\n",
              "      background-color: #3B4455;\n",
              "      fill: #D2E3FC;\n",
              "    }\n",
              "\n",
              "    [theme=dark] .colab-df-convert:hover {\n",
              "      background-color: #434B5C;\n",
              "      box-shadow: 0px 1px 3px 1px rgba(0, 0, 0, 0.15);\n",
              "      filter: drop-shadow(0px 1px 2px rgba(0, 0, 0, 0.3));\n",
              "      fill: #FFFFFF;\n",
              "    }\n",
              "  </style>\n",
              "\n",
              "      <script>\n",
              "        const buttonEl =\n",
              "          document.querySelector('#df-46004ab2-a492-49e5-8c5c-41fea46379da button.colab-df-convert');\n",
              "        buttonEl.style.display =\n",
              "          google.colab.kernel.accessAllowed ? 'block' : 'none';\n",
              "\n",
              "        async function convertToInteractive(key) {\n",
              "          const element = document.querySelector('#df-46004ab2-a492-49e5-8c5c-41fea46379da');\n",
              "          const dataTable =\n",
              "            await google.colab.kernel.invokeFunction('convertToInteractive',\n",
              "                                                     [key], {});\n",
              "          if (!dataTable) return;\n",
              "\n",
              "          const docLinkHtml = 'Like what you see? Visit the ' +\n",
              "            '<a target=\"_blank\" href=https://colab.research.google.com/notebooks/data_table.ipynb>data table notebook</a>'\n",
              "            + ' to learn more about interactive tables.';\n",
              "          element.innerHTML = '';\n",
              "          dataTable['output_type'] = 'display_data';\n",
              "          await google.colab.output.renderOutput(dataTable, element);\n",
              "          const docLink = document.createElement('div');\n",
              "          docLink.innerHTML = docLinkHtml;\n",
              "          element.appendChild(docLink);\n",
              "        }\n",
              "      </script>\n",
              "    </div>\n",
              "  </div>\n",
              "  "
            ]
          },
          "metadata": {},
          "execution_count": 30
        }
      ]
    },
    {
      "cell_type": "code",
      "source": [
        "original_test_data['maslowLabel'] = lb.fit_transform(original_test_data['maslow'])\n",
        "print(original_test_data['maslow'].unique())\n",
        "print(original_test_data['maslowLabel'].unique())"
      ],
      "metadata": {
        "colab": {
          "base_uri": "https://localhost:8080/"
        },
        "id": "ghPcjdYaJXtQ",
        "outputId": "c6356cb4-d591-4fc0-b521-a81075cea8ab"
      },
      "execution_count": 31,
      "outputs": [
        {
          "output_type": "stream",
          "name": "stdout",
          "text": [
            "['need' 'no need']\n",
            "[0 1]\n"
          ]
        }
      ]
    },
    {
      "cell_type": "code",
      "source": [
        "x_test_text = original_test_data['sentence']\n",
        "y_test_text = original_test_data['maslow']\n",
        "x_test = original_test_data['sentence']\n",
        "y_test = original_test_data['maslowLabel']\n",
        "print(x_test.shape)"
      ],
      "metadata": {
        "colab": {
          "base_uri": "https://localhost:8080/"
        },
        "id": "BIFVmjuSJaxp",
        "outputId": "4529a760-3f91-497e-919d-4ece4e3b73fe"
      },
      "execution_count": 32,
      "outputs": [
        {
          "output_type": "stream",
          "name": "stdout",
          "text": [
            "(4369,)\n"
          ]
        }
      ]
    },
    {
      "cell_type": "code",
      "source": [
        "unique, counts = np.unique(y_test, return_counts=True)\n",
        "result = np.column_stack((unique, counts)) \n",
        "print (result)"
      ],
      "metadata": {
        "colab": {
          "base_uri": "https://localhost:8080/"
        },
        "id": "le4hnM1CJc5C",
        "outputId": "ec1f6e46-eaf4-4e85-ca6d-9d003ef57393"
      },
      "execution_count": 33,
      "outputs": [
        {
          "output_type": "stream",
          "name": "stdout",
          "text": [
            "[[   0 4114]\n",
            " [   1  255]]\n"
          ]
        }
      ]
    },
    {
      "cell_type": "code",
      "source": [
        "y_test =  tf.keras.utils.to_categorical(y_test)"
      ],
      "metadata": {
        "id": "R8NzJFfWJf4G"
      },
      "execution_count": 34,
      "outputs": []
    },
    {
      "cell_type": "markdown",
      "source": [
        "#### Training"
      ],
      "metadata": {
        "id": "y6rphNFyIBnI"
      }
    },
    {
      "cell_type": "code",
      "source": [
        "checkpoint_filepath = '/tmp/checkpoint'\n",
        "model_checkpoint_callback = tf.keras.callbacks.ModelCheckpoint(\n",
        "    filepath=checkpoint_filepath,\n",
        "    save_weights_only=True,\n",
        "    monitor='val_accuracy',\n",
        "    mode='max',\n",
        "    save_best_only=True)\n",
        "\n",
        "callback = tf.keras.callbacks.EarlyStopping(\n",
        "    monitor='val_loss',\n",
        "    min_delta=0,\n",
        "    patience=5,\n",
        "    verbose=0,\n",
        "    mode='auto',\n",
        "    baseline=None,\n",
        "    restore_best_weights=False,\n",
        "\n",
        ")\n",
        "\n",
        "reduce_lr = tf.keras.callbacks.ReduceLROnPlateau(monitor = 'val_accuracy',\n",
        "                                                 factor = 0.2,\n",
        "                                                 patience = 1,\n",
        "                                                 verbose = 1,\n",
        "                                                 min_delta = 1e-4,\n",
        "                                                 min_lr = 1e-7,\n",
        "                                                 mode = 'max')          # Reduce learning rate when a metric has stopped improving.\n",
        "\n",
        "# Model weights are saved at the end of every epoch, if it's the best seen\n",
        "# so far.\n",
        "# compile model\n",
        "model.compile(loss= focal_loss(alpha=0.1, gamma = 2) , optimizer='adam', metrics=METRICS)\n",
        "history = model.fit(x_train, y_train,epochs=20, verbose=1, validation_data = (x_test,y_test), batch_size  = 8,callbacks=[model_checkpoint_callback,callback, reduce_lr])"
      ],
      "metadata": {
        "execution": {
          "iopub.status.busy": "2022-08-12T10:01:34.214830Z",
          "iopub.execute_input": "2022-08-12T10:01:34.215622Z",
          "iopub.status.idle": "2022-08-12T10:13:34.006174Z",
          "shell.execute_reply.started": "2022-08-12T10:01:34.215585Z",
          "shell.execute_reply": "2022-08-12T10:13:34.005156Z"
        },
        "trusted": true,
        "colab": {
          "base_uri": "https://localhost:8080/"
        },
        "id": "12R5I-NCAoR2",
        "outputId": "3c41b121-3161-4300-8c71-4ae32f63aa0a"
      },
      "execution_count": 35,
      "outputs": [
        {
          "output_type": "stream",
          "name": "stdout",
          "text": [
            "Epoch 1/20\n",
            "2060/2060 [==============================] - 109s 48ms/step - loss: 0.0193 - tp: 13167.0000 - fp: 3307.0000 - tn: 13167.0000 - fn: 3307.0000 - categorical_cross_entropy: 0.5163 - precision: 0.7993 - recall: 0.7993 - auc: 0.8388 - prc: 0.8047 - accuracy: 0.7993 - val_loss: 0.0070 - val_tp: 4106.0000 - val_fp: 263.0000 - val_tn: 4106.0000 - val_fn: 263.0000 - val_categorical_cross_entropy: 0.4258 - val_precision: 0.9398 - val_recall: 0.9398 - val_auc: 0.9546 - val_prc: 0.9440 - val_accuracy: 0.9398 - lr: 0.0010\n",
            "Epoch 2/20\n",
            "2060/2060 [==============================] - ETA: 0s - loss: 0.0116 - tp: 14042.0000 - fp: 2432.0000 - tn: 14042.0000 - fn: 2432.0000 - categorical_cross_entropy: 0.4804 - precision: 0.8524 - recall: 0.8524 - auc: 0.8802 - prc: 0.8560 - accuracy: 0.8524\n",
            "Epoch 2: ReduceLROnPlateau reducing learning rate to 0.00020000000949949026.\n",
            "2060/2060 [==============================] - 98s 47ms/step - loss: 0.0116 - tp: 14042.0000 - fp: 2432.0000 - tn: 14042.0000 - fn: 2432.0000 - categorical_cross_entropy: 0.4804 - precision: 0.8524 - recall: 0.8524 - auc: 0.8802 - prc: 0.8560 - accuracy: 0.8524 - val_loss: 0.0073 - val_tp: 4005.0000 - val_fp: 364.0000 - val_tn: 4005.0000 - val_fn: 364.0000 - val_categorical_cross_entropy: 0.4161 - val_precision: 0.9167 - val_recall: 0.9167 - val_auc: 0.9555 - val_prc: 0.9492 - val_accuracy: 0.9167 - lr: 0.0010\n",
            "Epoch 3/20\n",
            "2060/2060 [==============================] - 97s 47ms/step - loss: 0.0100 - tp: 14424.0000 - fp: 2050.0000 - tn: 14424.0000 - fn: 2050.0000 - categorical_cross_entropy: 0.4717 - precision: 0.8756 - recall: 0.8756 - auc: 0.8948 - prc: 0.8744 - accuracy: 0.8756 - val_loss: 0.0067 - val_tp: 4112.0000 - val_fp: 257.0000 - val_tn: 4112.0000 - val_fn: 257.0000 - val_categorical_cross_entropy: 0.4212 - val_precision: 0.9412 - val_recall: 0.9412 - val_auc: 0.9615 - val_prc: 0.9562 - val_accuracy: 0.9412 - lr: 2.0000e-04\n",
            "Epoch 4/20\n",
            "2060/2060 [==============================] - ETA: 0s - loss: 0.0099 - tp: 14426.0000 - fp: 2048.0000 - tn: 14426.0000 - fn: 2048.0000 - categorical_cross_entropy: 0.4720 - precision: 0.8757 - recall: 0.8757 - auc: 0.8975 - prc: 0.8804 - accuracy: 0.8757\n",
            "Epoch 4: ReduceLROnPlateau reducing learning rate to 4.0000001899898055e-05.\n",
            "2060/2060 [==============================] - 96s 46ms/step - loss: 0.0099 - tp: 14426.0000 - fp: 2048.0000 - tn: 14426.0000 - fn: 2048.0000 - categorical_cross_entropy: 0.4720 - precision: 0.8757 - recall: 0.8757 - auc: 0.8975 - prc: 0.8804 - accuracy: 0.8757 - val_loss: 0.0068 - val_tp: 4112.0000 - val_fp: 257.0000 - val_tn: 4112.0000 - val_fn: 257.0000 - val_categorical_cross_entropy: 0.4249 - val_precision: 0.9412 - val_recall: 0.9412 - val_auc: 0.9621 - val_prc: 0.9566 - val_accuracy: 0.9412 - lr: 2.0000e-04\n",
            "Epoch 5/20\n",
            "2060/2060 [==============================] - ETA: 0s - loss: 0.0098 - tp: 14435.0000 - fp: 2039.0000 - tn: 14435.0000 - fn: 2039.0000 - categorical_cross_entropy: 0.4722 - precision: 0.8762 - recall: 0.8762 - auc: 0.9005 - prc: 0.8842 - accuracy: 0.8762\n",
            "Epoch 5: ReduceLROnPlateau reducing learning rate to 8.000000525498762e-06.\n",
            "2060/2060 [==============================] - 96s 47ms/step - loss: 0.0098 - tp: 14435.0000 - fp: 2039.0000 - tn: 14435.0000 - fn: 2039.0000 - categorical_cross_entropy: 0.4722 - precision: 0.8762 - recall: 0.8762 - auc: 0.9005 - prc: 0.8842 - accuracy: 0.8762 - val_loss: 0.0069 - val_tp: 4107.0000 - val_fp: 262.0000 - val_tn: 4107.0000 - val_fn: 262.0000 - val_categorical_cross_entropy: 0.4262 - val_precision: 0.9400 - val_recall: 0.9400 - val_auc: 0.9622 - val_prc: 0.9573 - val_accuracy: 0.9400 - lr: 4.0000e-05\n",
            "Epoch 6/20\n",
            "2059/2060 [============================>.] - ETA: 0s - loss: 0.0097 - tp: 14436.0000 - fp: 2036.0000 - tn: 14436.0000 - fn: 2036.0000 - categorical_cross_entropy: 0.4705 - precision: 0.8764 - recall: 0.8764 - auc: 0.9044 - prc: 0.8906 - accuracy: 0.8764\n",
            "Epoch 6: ReduceLROnPlateau reducing learning rate to 1.6000001778593287e-06.\n",
            "2060/2060 [==============================] - 97s 47ms/step - loss: 0.0097 - tp: 14438.0000 - fp: 2036.0000 - tn: 14438.0000 - fn: 2036.0000 - categorical_cross_entropy: 0.4705 - precision: 0.8764 - recall: 0.8764 - auc: 0.9044 - prc: 0.8906 - accuracy: 0.8764 - val_loss: 0.0068 - val_tp: 4110.0000 - val_fp: 259.0000 - val_tn: 4110.0000 - val_fn: 259.0000 - val_categorical_cross_entropy: 0.4252 - val_precision: 0.9407 - val_recall: 0.9407 - val_auc: 0.9623 - val_prc: 0.9572 - val_accuracy: 0.9407 - lr: 8.0000e-06\n",
            "Epoch 7/20\n",
            "2059/2060 [============================>.] - ETA: 0s - loss: 0.0097 - tp: 14439.0000 - fp: 2033.0000 - tn: 14439.0000 - fn: 2033.0000 - categorical_cross_entropy: 0.4710 - precision: 0.8766 - recall: 0.8766 - auc: 0.9036 - prc: 0.8891 - accuracy: 0.8766\n",
            "Epoch 7: ReduceLROnPlateau reducing learning rate to 3.200000264769187e-07.\n",
            "2060/2060 [==============================] - 95s 46ms/step - loss: 0.0097 - tp: 14440.0000 - fp: 2034.0000 - tn: 14440.0000 - fn: 2034.0000 - categorical_cross_entropy: 0.4710 - precision: 0.8765 - recall: 0.8765 - auc: 0.9036 - prc: 0.8891 - accuracy: 0.8765 - val_loss: 0.0068 - val_tp: 4110.0000 - val_fp: 259.0000 - val_tn: 4110.0000 - val_fn: 259.0000 - val_categorical_cross_entropy: 0.4251 - val_precision: 0.9407 - val_recall: 0.9407 - val_auc: 0.9623 - val_prc: 0.9573 - val_accuracy: 0.9407 - lr: 1.6000e-06\n",
            "Epoch 8/20\n",
            "2059/2060 [============================>.] - ETA: 0s - loss: 0.0097 - tp: 14435.0000 - fp: 2037.0000 - tn: 14435.0000 - fn: 2037.0000 - categorical_cross_entropy: 0.4707 - precision: 0.8763 - recall: 0.8763 - auc: 0.9043 - prc: 0.8887 - accuracy: 0.8763\n",
            "Epoch 8: ReduceLROnPlateau reducing learning rate to 1e-07.\n",
            "2060/2060 [==============================] - 95s 46ms/step - loss: 0.0097 - tp: 14437.0000 - fp: 2037.0000 - tn: 14437.0000 - fn: 2037.0000 - categorical_cross_entropy: 0.4707 - precision: 0.8764 - recall: 0.8764 - auc: 0.9043 - prc: 0.8887 - accuracy: 0.8764 - val_loss: 0.0068 - val_tp: 4110.0000 - val_fp: 259.0000 - val_tn: 4110.0000 - val_fn: 259.0000 - val_categorical_cross_entropy: 0.4251 - val_precision: 0.9407 - val_recall: 0.9407 - val_auc: 0.9622 - val_prc: 0.9572 - val_accuracy: 0.9407 - lr: 3.2000e-07\n"
          ]
        }
      ]
    },
    {
      "cell_type": "code",
      "source": [
        "model.load_weights(checkpoint_filepath)\n",
        "model.evaluate(x_test, y_test)\n",
        "# 0.1,0.1,0.01"
      ],
      "metadata": {
        "execution": {
          "iopub.status.busy": "2022-08-12T10:19:22.607503Z",
          "iopub.execute_input": "2022-08-12T10:19:22.607911Z",
          "iopub.status.idle": "2022-08-12T10:20:22.725534Z",
          "shell.execute_reply.started": "2022-08-12T10:19:22.607880Z",
          "shell.execute_reply": "2022-08-12T10:20:22.724428Z"
        },
        "trusted": true,
        "colab": {
          "base_uri": "https://localhost:8080/"
        },
        "id": "1oxskZgHAoR2",
        "outputId": "003284de-b608-4bcb-bf52-1d2560ed6144"
      },
      "execution_count": 36,
      "outputs": [
        {
          "output_type": "stream",
          "name": "stdout",
          "text": [
            "137/137 [==============================] - 19s 139ms/step - loss: 0.0067 - tp: 4107.0000 - fp: 262.0000 - tn: 4107.0000 - fn: 262.0000 - categorical_cross_entropy: 0.4201 - precision: 0.9400 - recall: 0.9400 - auc: 0.9633 - prc: 0.9588 - accuracy: 0.9400\n"
          ]
        },
        {
          "output_type": "execute_result",
          "data": {
            "text/plain": [
              "[0.006650099065154791,\n",
              " 4107.0,\n",
              " 262.0,\n",
              " 4107.0,\n",
              " 262.0,\n",
              " 0.4201087951660156,\n",
              " 0.9400320649147034,\n",
              " 0.9400320649147034,\n",
              " 0.9633466601371765,\n",
              " 0.9587632417678833,\n",
              " 0.9400320649147034]"
            ]
          },
          "metadata": {},
          "execution_count": 36
        }
      ]
    },
    {
      "cell_type": "code",
      "source": [
        "print(history.history.keys())"
      ],
      "metadata": {
        "execution": {
          "iopub.status.busy": "2022-08-12T10:20:22.727712Z",
          "iopub.execute_input": "2022-08-12T10:20:22.728113Z",
          "iopub.status.idle": "2022-08-12T10:20:22.733567Z",
          "shell.execute_reply.started": "2022-08-12T10:20:22.728077Z",
          "shell.execute_reply": "2022-08-12T10:20:22.732518Z"
        },
        "trusted": true,
        "colab": {
          "base_uri": "https://localhost:8080/"
        },
        "id": "DKfdRDqvAoR2",
        "outputId": "6966e8f0-5531-4c57-99b6-bcbaf58a1e4b"
      },
      "execution_count": 37,
      "outputs": [
        {
          "output_type": "stream",
          "name": "stdout",
          "text": [
            "dict_keys(['loss', 'tp', 'fp', 'tn', 'fn', 'categorical_cross_entropy', 'precision', 'recall', 'auc', 'prc', 'accuracy', 'val_loss', 'val_tp', 'val_fp', 'val_tn', 'val_fn', 'val_categorical_cross_entropy', 'val_precision', 'val_recall', 'val_auc', 'val_prc', 'val_accuracy', 'lr'])\n"
          ]
        }
      ]
    },
    {
      "cell_type": "code",
      "source": [
        "plt.plot(history.history['loss'], '-o', label='Train Loss')\n",
        "plt.plot(history.history['val_loss'], '-o', label = 'Val Loss')\n",
        "plt.legend()"
      ],
      "metadata": {
        "execution": {
          "iopub.status.busy": "2022-08-12T10:20:22.735402Z",
          "iopub.execute_input": "2022-08-12T10:20:22.735845Z",
          "iopub.status.idle": "2022-08-12T10:20:22.960737Z",
          "shell.execute_reply.started": "2022-08-12T10:20:22.735811Z",
          "shell.execute_reply": "2022-08-12T10:20:22.959850Z"
        },
        "trusted": true,
        "colab": {
          "base_uri": "https://localhost:8080/",
          "height": 282
        },
        "id": "fM6zwngxAoR3",
        "outputId": "a3e38923-d3bc-4d23-e521-84cae33757ae"
      },
      "execution_count": 38,
      "outputs": [
        {
          "output_type": "execute_result",
          "data": {
            "text/plain": [
              "<matplotlib.legend.Legend at 0x7f14ea129b50>"
            ]
          },
          "metadata": {},
          "execution_count": 38
        },
        {
          "output_type": "display_data",
          "data": {
            "text/plain": [
              "<Figure size 432x288 with 1 Axes>"
            ],
            "image/png": "[encoded data removed]"
          },
          "metadata": {
            "needs_background": "light"
          }
        }
      ]
    },
    {
      "cell_type": "code",
      "source": [
        "plt.plot(history.history['accuracy'], '-o', label='Train Accuracy')\n",
        "plt.plot(history.history['val_accuracy'], '-o', label = 'Val Accuracy')\n",
        "plt.legend()"
      ],
      "metadata": {
        "execution": {
          "iopub.status.busy": "2022-08-12T10:20:22.964050Z",
          "iopub.execute_input": "2022-08-12T10:20:22.964369Z",
          "iopub.status.idle": "2022-08-12T10:20:23.169377Z",
          "shell.execute_reply.started": "2022-08-12T10:20:22.964340Z",
          "shell.execute_reply": "2022-08-12T10:20:23.168511Z"
        },
        "trusted": true,
        "colab": {
          "base_uri": "https://localhost:8080/",
          "height": 282
        },
        "id": "mC1o6XQqAoR3",
        "outputId": "964faddb-055b-4122-de9c-7902fa2d5d40"
      },
      "execution_count": 39,
      "outputs": [
        {
          "output_type": "execute_result",
          "data": {
            "text/plain": [
              "<matplotlib.legend.Legend at 0x7f14cff85990>"
            ]
          },
          "metadata": {},
          "execution_count": 39
        },
        {
          "output_type": "display_data",
          "data": {
            "text/plain": [
              "<Figure size 432x288 with 1 Axes>"
            ],
            "image/png": "[encoded data removed]"
          },
          "metadata": {
            "needs_background": "light"
          }
        }
      ]
    },
    {
      "cell_type": "code",
      "source": [
        "plt.plot(history.history['precision'], '-o', label='Train Precision')\n",
        "plt.plot(history.history['recall'], '-o', label = 'Train Recall')\n",
        "plt.plot(history.history['val_precision'], '-o', label='Val Precision')\n",
        "plt.plot(history.history['val_recall'], '-o', label = 'Val Recall')\n",
        "plt.legend()"
      ],
      "metadata": {
        "execution": {
          "iopub.status.busy": "2022-08-12T10:20:23.170968Z",
          "iopub.execute_input": "2022-08-12T10:20:23.171311Z",
          "iopub.status.idle": "2022-08-12T10:20:23.386781Z",
          "shell.execute_reply.started": "2022-08-12T10:20:23.171267Z",
          "shell.execute_reply": "2022-08-12T10:20:23.385752Z"
        },
        "trusted": true,
        "colab": {
          "base_uri": "https://localhost:8080/",
          "height": 286
        },
        "id": "gh_CnrczAoR3",
        "outputId": "f58f5023-bf6d-4149-b92d-69313db48e48"
      },
      "execution_count": null,
      "outputs": [
        {
          "output_type": "execute_result",
          "data": {
            "text/plain": [
              "<matplotlib.legend.Legend at 0x7f2a88d2e8d0>"
            ]
          },
          "metadata": {},
          "execution_count": 40
        },
        {
          "output_type": "display_data",
          "data": {
            "text/plain": [
              "<Figure size 432x288 with 1 Axes>"
            ],
            "image/png": "[encoded data removed]"
          },
          "metadata": {
            "needs_background": "light"
          }
        }
      ]
    },
    {
      "cell_type": "code",
      "source": [
        "y_pred2 = model.predict(x_test)"
      ],
      "metadata": {
        "execution": {
          "iopub.status.busy": "2022-08-12T10:20:23.388172Z",
          "iopub.execute_input": "2022-08-12T10:20:23.388637Z",
          "iopub.status.idle": "2022-08-12T10:20:44.366659Z",
          "shell.execute_reply.started": "2022-08-12T10:20:23.388600Z",
          "shell.execute_reply": "2022-08-12T10:20:44.365571Z"
        },
        "trusted": true,
        "id": "ar6djSsXAoR4"
      },
      "execution_count": 40,
      "outputs": []
    },
    {
      "cell_type": "code",
      "source": [
        "y_pred2[2]"
      ],
      "metadata": {
        "execution": {
          "iopub.status.busy": "2022-08-12T10:20:44.368532Z",
          "iopub.execute_input": "2022-08-12T10:20:44.370012Z",
          "iopub.status.idle": "2022-08-12T10:20:44.379708Z",
          "shell.execute_reply.started": "2022-08-12T10:20:44.369973Z",
          "shell.execute_reply": "2022-08-12T10:20:44.378437Z"
        },
        "trusted": true,
        "colab": {
          "base_uri": "https://localhost:8080/"
        },
        "id": "D12WGwGvAoR4",
        "outputId": "e17dac7c-f0e6-472f-ce47-0b2aabc575d7"
      },
      "execution_count": 41,
      "outputs": [
        {
          "output_type": "execute_result",
          "data": {
            "text/plain": [
              "array([0.7397296 , 0.26027042], dtype=float32)"
            ]
          },
          "metadata": {},
          "execution_count": 41
        }
      ]
    },
    {
      "cell_type": "code",
      "source": [
        "def get_predictions(y_pred2):\n",
        "    review_predictions2 = []\n",
        "    for prediction in y_pred2:\n",
        "        x = prediction\n",
        "        review_predictions2.append(np.argmax(x))\n",
        "\n",
        "    review_predictions2 = np.array(review_predictions2)\n",
        "    review_predictions2.reshape(1,-1)\n",
        "    print(review_predictions2.shape)\n",
        "    return review_predictions2"
      ],
      "metadata": {
        "execution": {
          "iopub.status.busy": "2022-08-12T10:20:44.384849Z",
          "iopub.execute_input": "2022-08-12T10:20:44.385628Z",
          "iopub.status.idle": "2022-08-12T10:20:44.391850Z",
          "shell.execute_reply.started": "2022-08-12T10:20:44.385589Z",
          "shell.execute_reply": "2022-08-12T10:20:44.390770Z"
        },
        "trusted": true,
        "id": "XDoNN6dtAoR4"
      },
      "execution_count": 42,
      "outputs": []
    },
    {
      "cell_type": "code",
      "source": [
        "review_predictions2 = get_predictions(y_pred2)"
      ],
      "metadata": {
        "execution": {
          "iopub.status.busy": "2022-08-12T10:20:44.393283Z",
          "iopub.execute_input": "2022-08-12T10:20:44.394264Z",
          "iopub.status.idle": "2022-08-12T10:20:44.415293Z",
          "shell.execute_reply.started": "2022-08-12T10:20:44.394218Z",
          "shell.execute_reply": "2022-08-12T10:20:44.414241Z"
        },
        "trusted": true,
        "colab": {
          "base_uri": "https://localhost:8080/"
        },
        "id": "37LAg56-AoR4",
        "outputId": "9c9bcabe-1891-435b-e8a4-6871d062ea5e"
      },
      "execution_count": 43,
      "outputs": [
        {
          "output_type": "stream",
          "name": "stdout",
          "text": [
            "(4369,)\n"
          ]
        }
      ]
    },
    {
      "cell_type": "code",
      "source": [
        "review_predictions2"
      ],
      "metadata": {
        "execution": {
          "iopub.status.busy": "2022-08-12T10:20:44.419812Z",
          "iopub.execute_input": "2022-08-12T10:20:44.420140Z",
          "iopub.status.idle": "2022-08-12T10:20:44.431435Z",
          "shell.execute_reply.started": "2022-08-12T10:20:44.420110Z",
          "shell.execute_reply": "2022-08-12T10:20:44.430064Z"
        },
        "trusted": true,
        "colab": {
          "base_uri": "https://localhost:8080/"
        },
        "id": "I-JcZ9htAoR5",
        "outputId": "03666ba8-56b3-4280-8f35-73779caea601"
      },
      "execution_count": 44,
      "outputs": [
        {
          "output_type": "execute_result",
          "data": {
            "text/plain": [
              "array([0, 0, 0, ..., 0, 0, 0])"
            ]
          },
          "metadata": {},
          "execution_count": 44
        }
      ]
    },
    {
      "cell_type": "code",
      "source": [
        "k = pd.DataFrame(review_predictions2, columns = ['Label'])\n",
        "k.groupby('Label')['Label'].count()"
      ],
      "metadata": {
        "execution": {
          "iopub.status.busy": "2022-08-12T10:20:44.433067Z",
          "iopub.execute_input": "2022-08-12T10:20:44.433932Z",
          "iopub.status.idle": "2022-08-12T10:20:44.446747Z",
          "shell.execute_reply.started": "2022-08-12T10:20:44.433890Z",
          "shell.execute_reply": "2022-08-12T10:20:44.445268Z"
        },
        "trusted": true,
        "colab": {
          "base_uri": "https://localhost:8080/"
        },
        "id": "A5q6bWmaAoR5",
        "outputId": "53a82c07-6ce7-45b7-d4a0-853aab2605f3"
      },
      "execution_count": 45,
      "outputs": [
        {
          "output_type": "execute_result",
          "data": {
            "text/plain": [
              "Label\n",
              "0    4358\n",
              "1      11\n",
              "Name: Label, dtype: int64"
            ]
          },
          "metadata": {},
          "execution_count": 45
        }
      ]
    },
    {
      "cell_type": "code",
      "source": [
        "y_test_text"
      ],
      "metadata": {
        "execution": {
          "iopub.status.busy": "2022-08-12T10:20:44.448410Z",
          "iopub.execute_input": "2022-08-12T10:20:44.449152Z",
          "iopub.status.idle": "2022-08-12T10:20:44.458388Z",
          "shell.execute_reply.started": "2022-08-12T10:20:44.449109Z",
          "shell.execute_reply": "2022-08-12T10:20:44.457203Z"
        },
        "trusted": true,
        "colab": {
          "base_uri": "https://localhost:8080/"
        },
        "id": "j7hcF8PKAoR5",
        "outputId": "da582757-8c1a-4ed4-dc21-aad05e917c1e"
      },
      "execution_count": 46,
      "outputs": [
        {
          "output_type": "execute_result",
          "data": {
            "text/plain": [
              "1364    need\n",
              "3293    need\n",
              "82      need\n",
              "1322    need\n",
              "3558    need\n",
              "        ... \n",
              "1324    need\n",
              "2925    need\n",
              "2921    need\n",
              "3103    need\n",
              "165     need\n",
              "Name: maslow, Length: 4369, dtype: object"
            ]
          },
          "metadata": {},
          "execution_count": 46
        }
      ]
    },
    {
      "cell_type": "code",
      "source": [
        "integer_label = original_test_data['maslowLabel']"
      ],
      "metadata": {
        "execution": {
          "iopub.status.busy": "2022-08-12T10:20:44.460021Z",
          "iopub.execute_input": "2022-08-12T10:20:44.460713Z",
          "iopub.status.idle": "2022-08-12T10:20:44.466320Z",
          "shell.execute_reply.started": "2022-08-12T10:20:44.460673Z",
          "shell.execute_reply": "2022-08-12T10:20:44.465275Z"
        },
        "trusted": true,
        "id": "OtTdrnZpAoR6"
      },
      "execution_count": 47,
      "outputs": []
    },
    {
      "cell_type": "code",
      "source": [
        "integer_label = integer_label.reset_index(drop = True)"
      ],
      "metadata": {
        "execution": {
          "iopub.status.busy": "2022-08-12T10:20:44.467938Z",
          "iopub.execute_input": "2022-08-12T10:20:44.468784Z",
          "iopub.status.idle": "2022-08-12T10:20:44.475304Z",
          "shell.execute_reply.started": "2022-08-12T10:20:44.468721Z",
          "shell.execute_reply": "2022-08-12T10:20:44.474414Z"
        },
        "trusted": true,
        "id": "xBX2FRw1AoR6"
      },
      "execution_count": 48,
      "outputs": []
    },
    {
      "cell_type": "code",
      "source": [
        "integer_label"
      ],
      "metadata": {
        "execution": {
          "iopub.status.busy": "2022-08-12T10:20:44.477851Z",
          "iopub.execute_input": "2022-08-12T10:20:44.478975Z",
          "iopub.status.idle": "2022-08-12T10:20:44.487624Z",
          "shell.execute_reply.started": "2022-08-12T10:20:44.478940Z",
          "shell.execute_reply": "2022-08-12T10:20:44.486540Z"
        },
        "trusted": true,
        "colab": {
          "base_uri": "https://localhost:8080/"
        },
        "id": "6F1WpnnJAoR6",
        "outputId": "4a2d4fb4-8dcb-4a01-eca7-5a6596f1d14b"
      },
      "execution_count": 49,
      "outputs": [
        {
          "output_type": "execute_result",
          "data": {
            "text/plain": [
              "0       0\n",
              "1       0\n",
              "2       0\n",
              "3       0\n",
              "4       0\n",
              "       ..\n",
              "4364    0\n",
              "4365    0\n",
              "4366    0\n",
              "4367    0\n",
              "4368    0\n",
              "Name: maslowLabel, Length: 4369, dtype: int64"
            ]
          },
          "metadata": {},
          "execution_count": 49
        }
      ]
    },
    {
      "cell_type": "code",
      "source": [
        "review_predictions2[:10]"
      ],
      "metadata": {
        "execution": {
          "iopub.status.busy": "2022-08-12T10:20:44.490927Z",
          "iopub.execute_input": "2022-08-12T10:20:44.493097Z",
          "iopub.status.idle": "2022-08-12T10:20:44.499663Z",
          "shell.execute_reply.started": "2022-08-12T10:20:44.493070Z",
          "shell.execute_reply": "2022-08-12T10:20:44.498619Z"
        },
        "trusted": true,
        "colab": {
          "base_uri": "https://localhost:8080/"
        },
        "id": "PpdCUQmLAoR6",
        "outputId": "06460463-8b70-4f6d-d18c-76cf36d6bfa4"
      },
      "execution_count": 50,
      "outputs": [
        {
          "output_type": "execute_result",
          "data": {
            "text/plain": [
              "array([0, 0, 0, 0, 0, 0, 0, 0, 0, 0])"
            ]
          },
          "metadata": {},
          "execution_count": 50
        }
      ]
    },
    {
      "cell_type": "code",
      "source": [
        "def make_confusion_matrix(cf,group_names=None,categories='auto',count=True,\n",
        "                          percent=True,\n",
        "                          cbar=True,\n",
        "                          xyticks=True,\n",
        "                          xyplotlabels=True,\n",
        "                          sum_stats=True,\n",
        "                          figsize=None,\n",
        "                          cmap='Blues',\n",
        "                          title=None):\n",
        "    '''\n",
        "    This function will make a pretty plot of an sklearn Confusion Matrix cm using a Seaborn heatmap visualization.\n",
        "    Arguments\n",
        "    ---------\n",
        "    cf:            confusion matrix to be passed in\n",
        "    group_names:   List of strings that represent the labels row by row to be shown in each square.\n",
        "    categories:    List of strings containing the categories to be displayed on the x,y axis. Default is 'auto'\n",
        "    count:         If True, show the raw number in the confusion matrix. Default is True.\n",
        "    normalize:     If True, show the proportions for each category. Default is True.\n",
        "    cbar:          If True, show the color bar. The cbar values are based off the values in the confusion matrix.\n",
        "                   Default is True.\n",
        "    xyticks:       If True, show x and y ticks. Default is True.\n",
        "    xyplotlabels:  If True, show 'True Label' and 'Predicted Label' on the figure. Default is True.\n",
        "    sum_stats:     If True, display summary statistics below the figure. Default is True.\n",
        "    figsize:       Tuple representing the figure size. Default will be the matplotlib rcParams value.\n",
        "    cmap:          Colormap of the values displayed from matplotlib.pyplot.cm. Default is 'Blues'\n",
        "                   See http://matplotlib.org/examples/color/colormaps_reference.html\n",
        "                   \n",
        "    title:         Title for the heatmap. Default is None.\n",
        "    '''\n",
        "\n",
        "\n",
        "    # CODE TO GENERATE TEXT INSIDE EACH SQUARE\n",
        "    blanks = ['' for i in range(cf.size)]\n",
        "\n",
        "    if group_names and len(group_names)==cf.size:\n",
        "        group_labels = [\"{}\\n\".format(value) for value in group_names]\n",
        "    else:\n",
        "        group_labels = blanks\n",
        "\n",
        "    if count:\n",
        "        group_counts = [\"{0:0.0f}\\n\".format(value) for value in cf.flatten()]\n",
        "    else:\n",
        "        group_counts = blanks\n",
        "\n",
        "    if percent:\n",
        "        group_percentages = [\"{0:.2%}\".format(value) for value in cf.flatten()/np.sum(cf)]\n",
        "    else:\n",
        "        group_percentages = blanks\n",
        "\n",
        "    box_labels = [f\"{v1}{v2}{v3}\".strip() for v1, v2, v3 in zip(group_labels,group_counts,group_percentages)]\n",
        "    box_labels = np.asarray(box_labels).reshape(cf.shape[0],cf.shape[1])\n",
        "\n",
        "\n",
        "    # CODE TO GENERATE SUMMARY STATISTICS & TEXT FOR SUMMARY STATS\n",
        "    if sum_stats:\n",
        "        #Accuracy is sum of diagonal divided by total observations\n",
        "        accuracy  = np.trace(cf) / float(np.sum(cf))\n",
        "\n",
        "        #if it is a binary confusion matrix, show some more stats\n",
        "        if len(cf)==2:\n",
        "            #Metrics for Binary Confusion Matrices\n",
        "            precision = cf[1,1] / sum(cf[:,1])\n",
        "            recall    = cf[1,1] / sum(cf[1,:])\n",
        "            f1_score  = 2*precision*recall / (precision + recall)\n",
        "            stats_text = \"\\n\\nAccuracy={:0.3f}\\nPrecision={:0.3f}\\nRecall={:0.3f}\\nF1 Score={:0.3f}\".format(\n",
        "                accuracy,precision,recall,f1_score)\n",
        "        else:\n",
        "            stats_text = \"\\n\\nAccuracy={:0.3f}\".format(accuracy)\n",
        "    else:\n",
        "        stats_text = \"\"\n",
        "\n",
        "\n",
        "    # SET FIGURE PARAMETERS ACCORDING TO OTHER ARGUMENTS\n",
        "    if figsize==None:\n",
        "        #Get default figure size if not set\n",
        "        figsize = plt.rcParams.get('figure.figsize')\n",
        "\n",
        "    if xyticks==False:\n",
        "        #Do not show categories if xyticks is False\n",
        "        categories=False\n",
        "\n",
        "\n",
        "    # MAKE THE HEATMAP VISUALIZATION\n",
        "    plt.figure(figsize=figsize)\n",
        "    sns.heatmap(cf,annot=box_labels,fmt=\"\",cmap=cmap,cbar=cbar,xticklabels=categories,yticklabels=categories)\n",
        "\n",
        "    if xyplotlabels:\n",
        "        plt.ylabel('True label')\n",
        "        plt.xlabel('Predicted label' + stats_text)\n",
        "    else:\n",
        "        plt.xlabel(stats_text)\n",
        "    \n",
        "    if title:\n",
        "        plt.title(title)"
      ],
      "metadata": {
        "execution": {
          "iopub.status.busy": "2022-08-12T10:20:44.501281Z",
          "iopub.execute_input": "2022-08-12T10:20:44.501898Z",
          "iopub.status.idle": "2022-08-12T10:20:44.517120Z",
          "shell.execute_reply.started": "2022-08-12T10:20:44.501862Z",
          "shell.execute_reply": "2022-08-12T10:20:44.516082Z"
        },
        "trusted": true,
        "id": "czwxhTHLAoR7"
      },
      "execution_count": 51,
      "outputs": []
    },
    {
      "cell_type": "code",
      "source": [
        "original_test_data.head()\n",
        "uniqueClassesMaslowLabel2 = list(original_test_data['maslow'].unique())\n",
        "uniqueClassesMaslow2 = list(original_test_data['maslowLabel'].unique())\n",
        "uniqueClassesMaslowLabel2 = ['need','no need']\n",
        "uniqueClassesMaslow2 = [0,1]\n",
        "print(uniqueClassesMaslowLabel2)\n",
        "print(uniqueClassesMaslow2)\n",
        "print(classification_report(review_predictions2, integer_label,target_names = uniqueClassesMaslowLabel2))"
      ],
      "metadata": {
        "execution": {
          "iopub.status.busy": "2022-08-12T10:22:02.270975Z",
          "iopub.execute_input": "2022-08-12T10:22:02.271333Z",
          "iopub.status.idle": "2022-08-12T10:22:02.289527Z",
          "shell.execute_reply.started": "2022-08-12T10:22:02.271303Z",
          "shell.execute_reply": "2022-08-12T10:22:02.288506Z"
        },
        "trusted": true,
        "colab": {
          "base_uri": "https://localhost:8080/"
        },
        "id": "yCqhuSeeAoR7",
        "outputId": "e3a8f53b-08b4-49e1-c409-5986edc5a10e"
      },
      "execution_count": 52,
      "outputs": [
        {
          "output_type": "stream",
          "name": "stdout",
          "text": [
            "['need', 'no need']\n",
            "[0, 1]\n",
            "              precision    recall  f1-score   support\n",
            "\n",
            "        need       1.00      0.94      0.97      4358\n",
            "     no need       0.01      0.18      0.02        11\n",
            "\n",
            "    accuracy                           0.94      4369\n",
            "   macro avg       0.50      0.56      0.49      4369\n",
            "weighted avg       1.00      0.94      0.97      4369\n",
            "\n"
          ]
        }
      ]
    },
    {
      "cell_type": "code",
      "source": [
        "review_predictions2"
      ],
      "metadata": {
        "execution": {
          "iopub.status.busy": "2022-08-12T10:22:08.440678Z",
          "iopub.execute_input": "2022-08-12T10:22:08.441374Z",
          "iopub.status.idle": "2022-08-12T10:22:08.448185Z",
          "shell.execute_reply.started": "2022-08-12T10:22:08.441338Z",
          "shell.execute_reply": "2022-08-12T10:22:08.447035Z"
        },
        "trusted": true,
        "colab": {
          "base_uri": "https://localhost:8080/"
        },
        "id": "m8v_JQp7AoR7",
        "outputId": "f19d6900-dc5b-44d8-84d5-e77586f2432b"
      },
      "execution_count": 53,
      "outputs": [
        {
          "output_type": "execute_result",
          "data": {
            "text/plain": [
              "array([0, 0, 0, ..., 0, 0, 0])"
            ]
          },
          "metadata": {},
          "execution_count": 53
        }
      ]
    },
    {
      "cell_type": "code",
      "source": [
        "import seaborn as sns\n",
        "r2 = sklearn.metrics.confusion_matrix(review_predictions2, integer_label)\n",
        "print(r2)\n",
        "ax = sns.heatmap(r2, annot=True, cmap='Blues')\n",
        "\n",
        "ax.set_title('Seaborn Confusion Matrix with labels\\n\\n');\n",
        "ax.set_xlabel('\\nPredicted Values')\n",
        "ax.set_ylabel('Actual Values ');"
      ],
      "metadata": {
        "execution": {
          "iopub.status.busy": "2022-08-12T10:22:10.089544Z",
          "iopub.execute_input": "2022-08-12T10:22:10.089914Z",
          "iopub.status.idle": "2022-08-12T10:22:10.319592Z",
          "shell.execute_reply.started": "2022-08-12T10:22:10.089884Z",
          "shell.execute_reply": "2022-08-12T10:22:10.318624Z"
        },
        "trusted": true,
        "colab": {
          "base_uri": "https://localhost:8080/",
          "height": 372
        },
        "id": "JwkC_PhKAoR8",
        "outputId": "742188cc-7ad7-4167-cbbd-44fb1373da34"
      },
      "execution_count": 54,
      "outputs": [
        {
          "output_type": "stream",
          "name": "stdout",
          "text": [
            "[[4105  253]\n",
            " [   9    2]]\n"
          ]
        },
        {
          "output_type": "display_data",
          "data": {
            "text/plain": [
              "<Figure size 432x288 with 2 Axes>"
            ],
            "image/png": "[encoded data removed]"
          },
          "metadata": {
            "needs_background": "light"
          }
        }
      ]
    },
    {
      "cell_type": "code",
      "source": [
        "make_confusion_matrix(r2, group_names=uniqueClassesMaslow2, categories=uniqueClassesMaslowLabel2, cmap='Blues')"
      ],
      "metadata": {
        "execution": {
          "iopub.status.busy": "2022-08-12T10:22:11.937281Z",
          "iopub.execute_input": "2022-08-12T10:22:11.937944Z",
          "iopub.status.idle": "2022-08-12T10:22:12.164523Z",
          "shell.execute_reply.started": "2022-08-12T10:22:11.937907Z",
          "shell.execute_reply": "2022-08-12T10:22:12.163595Z"
        },
        "trusted": true,
        "colab": {
          "base_uri": "https://localhost:8080/",
          "height": 337
        },
        "id": "w9zutvaeAoR8",
        "outputId": "81cb2eab-c559-4852-963c-cf6afb90d4a2"
      },
      "execution_count": 55,
      "outputs": [
        {
          "output_type": "display_data",
          "data": {
            "text/plain": [
              "<Figure size 432x288 with 2 Axes>"
            ],
            "image/png": "[encoded data removed]"
          },
          "metadata": {
            "needs_background": "light"
          }
        }
      ]
    },
    {
      "cell_type": "code",
      "source": [
        "print(uniqueClassesMaslowLabel2)\n",
        "print(uniqueClassesMaslow2)"
      ],
      "metadata": {
        "execution": {
          "iopub.status.busy": "2022-08-12T10:22:13.937656Z",
          "iopub.execute_input": "2022-08-12T10:22:13.938329Z",
          "iopub.status.idle": "2022-08-12T10:22:13.943195Z",
          "shell.execute_reply.started": "2022-08-12T10:22:13.938294Z",
          "shell.execute_reply": "2022-08-12T10:22:13.942216Z"
        },
        "trusted": true,
        "colab": {
          "base_uri": "https://localhost:8080/"
        },
        "id": "TycBJO9iAoR8",
        "outputId": "33ab6cdf-8993-4333-baae-afb21e473fb5"
      },
      "execution_count": 56,
      "outputs": [
        {
          "output_type": "stream",
          "name": "stdout",
          "text": [
            "['need', 'no need']\n",
            "[0, 1]\n"
          ]
        }
      ]
    },
    {
      "cell_type": "code",
      "source": [
        "x_test_text = x_test_text.reset_index(drop = True)\n",
        "x_test_text[0:5]"
      ],
      "metadata": {
        "execution": {
          "iopub.status.busy": "2022-08-12T10:22:15.977981Z",
          "iopub.execute_input": "2022-08-12T10:22:15.978544Z",
          "iopub.status.idle": "2022-08-12T10:22:15.986531Z",
          "shell.execute_reply.started": "2022-08-12T10:22:15.978510Z",
          "shell.execute_reply": "2022-08-12T10:22:15.985579Z"
        },
        "trusted": true,
        "colab": {
          "base_uri": "https://localhost:8080/"
        },
        "id": "rIULqsGwAoR9",
        "outputId": "9494daf2-8d3e-4627-f686-65d4eb847caf"
      },
      "execution_count": 57,
      "outputs": [
        {
          "output_type": "execute_result",
          "data": {
            "text/plain": [
              "0    Johnny loved his red and blue ball.He'd spend ...\n",
              "1                   The magician pulled out a top hat.\n",
              "2    Linda loved capuchin monkeys.After years of sa...\n",
              "3    I bought an ocarina in 1973.I had always wante...\n",
              "4    Jacob loved gorillas a lot.In fact, he liked t...\n",
              "Name: sentence, dtype: object"
            ]
          },
          "metadata": {},
          "execution_count": 57
        }
      ]
    },
    {
      "cell_type": "code",
      "source": [
        "y_test"
      ],
      "metadata": {
        "execution": {
          "iopub.status.busy": "2022-08-12T10:22:18.969063Z",
          "iopub.execute_input": "2022-08-12T10:22:18.970161Z",
          "iopub.status.idle": "2022-08-12T10:22:18.978225Z",
          "shell.execute_reply.started": "2022-08-12T10:22:18.970118Z",
          "shell.execute_reply": "2022-08-12T10:22:18.977234Z"
        },
        "trusted": true,
        "colab": {
          "base_uri": "https://localhost:8080/"
        },
        "id": "DA-y8-P1AoR9",
        "outputId": "26275901-0fc3-4f1d-b570-0be7bd11b3a9"
      },
      "execution_count": 58,
      "outputs": [
        {
          "output_type": "execute_result",
          "data": {
            "text/plain": [
              "array([[1., 0.],\n",
              "       [1., 0.],\n",
              "       [1., 0.],\n",
              "       ...,\n",
              "       [1., 0.],\n",
              "       [1., 0.],\n",
              "       [1., 0.]], dtype=float32)"
            ]
          },
          "metadata": {},
          "execution_count": 58
        }
      ]
    },
    {
      "cell_type": "code",
      "source": [
        "print(uniqueClassesMaslowLabel2)\n",
        "print(uniqueClassesMaslow2)"
      ],
      "metadata": {
        "execution": {
          "iopub.status.busy": "2022-08-12T10:22:20.832233Z",
          "iopub.execute_input": "2022-08-12T10:22:20.832581Z",
          "iopub.status.idle": "2022-08-12T10:22:20.837895Z",
          "shell.execute_reply.started": "2022-08-12T10:22:20.832550Z",
          "shell.execute_reply": "2022-08-12T10:22:20.836820Z"
        },
        "trusted": true,
        "colab": {
          "base_uri": "https://localhost:8080/"
        },
        "id": "pgvfYiMGAoR9",
        "outputId": "e62f0f8f-63ba-494e-fb3f-9df3d5b231eb"
      },
      "execution_count": 59,
      "outputs": [
        {
          "output_type": "stream",
          "name": "stdout",
          "text": [
            "['need', 'no need']\n",
            "[0, 1]\n"
          ]
        }
      ]
    },
    {
      "cell_type": "code",
      "source": [
        "original_test_data.head(2)"
      ],
      "metadata": {
        "colab": {
          "base_uri": "https://localhost:8080/",
          "height": 112
        },
        "id": "mWDVGNStGqhw",
        "outputId": "1e40ff26-5cc5-4171-beb3-e6d777642d93"
      },
      "execution_count": 76,
      "outputs": [
        {
          "output_type": "execute_result",
          "data": {
            "text/plain": [
              "                                               sentence maslow annotator  \\\n",
              "1364  Johnny loved his red and blue ball.He'd spend ...   need        na   \n",
              "3293                 The magician pulled out a top hat.   need        na   \n",
              "\n",
              "      maslowLabel  \n",
              "1364            0  \n",
              "3293            0  "
            ],
            "text/html": [
              "\n",
              "  <div id=\"df-6814daa3-3739-46ee-bd6d-71e2721bf860\">\n",
              "    <div class=\"colab-df-container\">\n",
              "      <div>\n",
              "<style scoped>\n",
              "    .dataframe tbody tr th:only-of-type {\n",
              "        vertical-align: middle;\n",
              "    }\n",
              "\n",
              "    .dataframe tbody tr th {\n",
              "        vertical-align: top;\n",
              "    }\n",
              "\n",
              "    .dataframe thead th {\n",
              "        text-align: right;\n",
              "    }\n",
              "</style>\n",
              "<table border=\"1\" class=\"dataframe\">\n",
              "  <thead>\n",
              "    <tr style=\"text-align: right;\">\n",
              "      <th></th>\n",
              "      <th>sentence</th>\n",
              "      <th>maslow</th>\n",
              "      <th>annotator</th>\n",
              "      <th>maslowLabel</th>\n",
              "    </tr>\n",
              "  </thead>\n",
              "  <tbody>\n",
              "    <tr>\n",
              "      <th>1364</th>\n",
              "      <td>Johnny loved his red and blue ball.He'd spend ...</td>\n",
              "      <td>need</td>\n",
              "      <td>na</td>\n",
              "      <td>0</td>\n",
              "    </tr>\n",
              "    <tr>\n",
              "      <th>3293</th>\n",
              "      <td>The magician pulled out a top hat.</td>\n",
              "      <td>need</td>\n",
              "      <td>na</td>\n",
              "      <td>0</td>\n",
              "    </tr>\n",
              "  </tbody>\n",
              "</table>\n",
              "</div>\n",
              "      <button class=\"colab-df-convert\" onclick=\"convertToInteractive('df-6814daa3-3739-46ee-bd6d-71e2721bf860')\"\n",
              "              title=\"Convert this dataframe to an interactive table.\"\n",
              "              style=\"display:none;\">\n",
              "        \n",
              "  <svg xmlns=\"http://www.w3.org/2000/svg\" height=\"24px\"viewBox=\"0 0 24 24\"\n",
              "       width=\"24px\">\n",
              "    <path d=\"M0 0h24v24H0V0z\" fill=\"none\"/>\n",
              "    <path d=\"M18.56 5.44l.94 2.06.94-2.06 2.06-.94-2.06-.94-.94-2.06-.94 2.06-2.06.94zm-11 1L8.5 8.5l.94-2.06 2.06-.94-2.06-.94L8.5 2.5l-.94 2.06-2.06.94zm10 10l.94 2.06.94-2.06 2.06-.94-2.06-.94-.94-2.06-.94 2.06-2.06.94z\"/><path d=\"M17.41 7.96l-1.37-1.37c-.4-.4-.92-.59-1.43-.59-.52 0-1.04.2-1.43.59L10.3 9.45l-7.72 7.72c-.78.78-.78 2.05 0 2.83L4 21.41c.39.39.9.59 1.41.59.51 0 1.02-.2 1.41-.59l7.78-7.78 2.81-2.81c.8-.78.8-2.07 0-2.86zM5.41 20L4 18.59l7.72-7.72 1.47 1.35L5.41 20z\"/>\n",
              "  </svg>\n",
              "      </button>\n",
              "      \n",
              "  <style>\n",
              "    .colab-df-container {\n",
              "      display:flex;\n",
              "      flex-wrap:wrap;\n",
              "      gap: 12px;\n",
              "    }\n",
              "\n",
              "    .colab-df-convert {\n",
              "      background-color: #E8F0FE;\n",
              "      border: none;\n",
              "      border-radius: 50%;\n",
              "      cursor: pointer;\n",
              "      display: none;\n",
              "      fill: #1967D2;\n",
              "      height: 32px;\n",
              "      padding: 0 0 0 0;\n",
              "      width: 32px;\n",
              "    }\n",
              "\n",
              "    .colab-df-convert:hover {\n",
              "      background-color: #E2EBFA;\n",
              "      box-shadow: 0px 1px 2px rgba(60, 64, 67, 0.3), 0px 1px 3px 1px rgba(60, 64, 67, 0.15);\n",
              "      fill: #174EA6;\n",
              "    }\n",
              "\n",
              "    [theme=dark] .colab-df-convert {\n",
              "      background-color: #3B4455;\n",
              "      fill: #D2E3FC;\n",
              "    }\n",
              "\n",
              "    [theme=dark] .colab-df-convert:hover {\n",
              "      background-color: #434B5C;\n",
              "      box-shadow: 0px 1px 3px 1px rgba(0, 0, 0, 0.15);\n",
              "      filter: drop-shadow(0px 1px 2px rgba(0, 0, 0, 0.3));\n",
              "      fill: #FFFFFF;\n",
              "    }\n",
              "  </style>\n",
              "\n",
              "      <script>\n",
              "        const buttonEl =\n",
              "          document.querySelector('#df-6814daa3-3739-46ee-bd6d-71e2721bf860 button.colab-df-convert');\n",
              "        buttonEl.style.display =\n",
              "          google.colab.kernel.accessAllowed ? 'block' : 'none';\n",
              "\n",
              "        async function convertToInteractive(key) {\n",
              "          const element = document.querySelector('#df-6814daa3-3739-46ee-bd6d-71e2721bf860');\n",
              "          const dataTable =\n",
              "            await google.colab.kernel.invokeFunction('convertToInteractive',\n",
              "                                                     [key], {});\n",
              "          if (!dataTable) return;\n",
              "\n",
              "          const docLinkHtml = 'Like what you see? Visit the ' +\n",
              "            '<a target=\"_blank\" href=https://colab.research.google.com/notebooks/data_table.ipynb>data table notebook</a>'\n",
              "            + ' to learn more about interactive tables.';\n",
              "          element.innerHTML = '';\n",
              "          dataTable['output_type'] = 'display_data';\n",
              "          await google.colab.output.renderOutput(dataTable, element);\n",
              "          const docLink = document.createElement('div');\n",
              "          docLink.innerHTML = docLinkHtml;\n",
              "          element.appendChild(docLink);\n",
              "        }\n",
              "      </script>\n",
              "    </div>\n",
              "  </div>\n",
              "  "
            ]
          },
          "metadata": {},
          "execution_count": 76
        }
      ]
    },
    {
      "cell_type": "code",
      "source": [
        "def get_mistakes(prediction_values, actual_values, test_sentences, actual_category, predicted_category,samples_shown):\n",
        "    # Make sure you Map uniqueClassesMaslowLabell2 catgory with the labels mapping as index. If label is 0 then the category index in the list should be 0\n",
        "    count = 0\n",
        "    correct_index = uniqueClassesMaslowLabel2.index(actual_category)\n",
        "    incorrect_index = uniqueClassesMaslowLabel2.index(predicted_category)\n",
        "    print('Text classified as ',uniqueClassesMaslowLabel2[incorrect_index],\" but actual category is \",uniqueClassesMaslowLabel2[correct_index])\n",
        "    for i in range(0,len(prediction_values)):\n",
        "        if prediction_values[i] == incorrect_index and actual_values[i] == correct_index and count != samples_shown:\n",
        "            print(str(i),original_test_data.iloc[i][0])\n",
        "            count = count + 1\n",
        "\n",
        "   \n",
        "get_mistakes(prediction_values = review_predictions2,\n",
        "             actual_values = integer_label,\n",
        "             test_sentences = x_test_text,\n",
        "             actual_category = 'need', \n",
        "             predicted_category = 'no need',\n",
        "             samples_shown = 10)\n"
      ],
      "metadata": {
        "execution": {
          "iopub.status.busy": "2022-08-12T10:22:22.615243Z",
          "iopub.execute_input": "2022-08-12T10:22:22.616265Z",
          "iopub.status.idle": "2022-08-12T10:22:22.626221Z",
          "shell.execute_reply.started": "2022-08-12T10:22:22.616228Z",
          "shell.execute_reply": "2022-08-12T10:22:22.624989Z"
        },
        "trusted": true,
        "colab": {
          "base_uri": "https://localhost:8080/"
        },
        "id": "uY-gKgKmAoSA",
        "outputId": "23830b49-afe1-4ef0-9f3e-b52c32f7f17e"
      },
      "execution_count": 84,
      "outputs": [
        {
          "output_type": "stream",
          "name": "stdout",
          "text": [
            "Text classified as  no need  but actual category is  need\n",
            "926 It was 2 AM.And Carl saw a spider in his room.But it got away.\n",
            "1388 The man got angry.\n",
            "2466 Angie liked going fast.\n",
            "3405 Billy's cat got stuck in a tree.\n",
            "3706 Anna saw a quarter on the ground.She bent to pick it up.But she couldn't.\n",
            "3726 There was a squirrel running around outside of my apartment.\n",
            "3786 Sam was riding her bike.She was going really fast down the sidewalk.A dog jumped out in front of her.\n",
            "3860 Gale was walking her dog down the street.There was a cat in the sidewalk.Gale's dog saw the cat.\n",
            "4341 The office was abuzz with talk of the new, blonde secretary.\n"
          ]
        }
      ]
    },
    {
      "cell_type": "code",
      "source": [
        "get_mistakes(prediction_values = review_predictions2,\n",
        "             actual_values = integer_label,\n",
        "             test_sentences = x_test_text,\n",
        "             actual_category = 'no need', \n",
        "             predicted_category = 'need',\n",
        "             samples_shown = 50)"
      ],
      "metadata": {
        "execution": {
          "iopub.status.busy": "2022-08-12T09:46:23.805750Z",
          "iopub.execute_input": "2022-08-12T09:46:23.806386Z",
          "iopub.status.idle": "2022-08-12T09:46:23.823797Z",
          "shell.execute_reply.started": "2022-08-12T09:46:23.806348Z",
          "shell.execute_reply": "2022-08-12T09:46:23.822631Z"
        },
        "trusted": true,
        "colab": {
          "base_uri": "https://localhost:8080/"
        },
        "id": "CSr06J5-AoSA",
        "outputId": "12942ad7-f73a-4e29-ef33-7b860cd475bd"
      },
      "execution_count": 85,
      "outputs": [
        {
          "output_type": "stream",
          "name": "stdout",
          "text": [
            "Text classified as  need  but actual category is  no need\n",
            "22 John forgot he had a gig after work.\n",
            "24 Joe and Jane were two candidates for a job.Joe was knowledgeable and intelligent.However, the hiring manager liked Jane's personality.The hiring manager decided to flip a coin to decide who to hire.\n",
            "51 Tom was going to turn 80 years old.\n",
            "61 Jessica liked tormenting her brother.She also liked to get him into trouble.\n",
            "79 Kim was grocery shopping.\n",
            "91 Tom liked to drink.One day, he drove when he was drunk.He drove right through a red light.He hit someone who was crossing the road.The person he hit died a few days later.\n",
            "131 Tina was out for a walk in the street.All of the sudden it started to rain.Tina got caught in the rain.She didn't have an umbrella.\n",
            "138 My wife collects vintage dolls.She saw a doll selling on eBay for $10.She put in a proxy bid of $25.She was outbid quickly.The doll sold for $50.\n",
            "155 Ray walked home from school everyday.And he noticed that the same man had his garage open every Monday.\n",
            "160 Marcus told his eldest son to watch his younger brother.The older brother however, only wanted to play.He left the child unsupervised.\n",
            "200 David's dad bought a new television.That night David is playing ball near the television.\n",
            "234 Sam is a comedian.He was selected for a nationwide comedy tour.On the road, his colleagues realized that he is a slob to live with.They tried bribing him, but Sam just wouldn't clean up after himself.\n",
            "305 Angela was a rude and angry person.She was the boss at the office.None of her subordinates liked her.\n",
            "307 For some reason Ben's toothbrush was by the kitchen sink.\n",
            "310 Tim was never good with dates.He always forgot his mom's birthday.Last year he called her at the last minute.\n",
            "313 Kate spared a centipede baby.Two weeks later she saw a young one that could be the same one.\n",
            "316 Suzy was about to head home from class.\n",
            "317 Harry wanted to eat pizza.So he put frozen pizza in his oven.An hour later, he smelled something burning.And he rushed to his oven.\n",
            "339 Georgina's life was fraught with difficulty.\n",
            "359 Leah had to have her wisdom teeth out.They gave her lots of drugs to put her out.When she woke up she kept talking about these bananas.\n",
            "382 Bob had a stuffed bear when he was young.He used to play with it all the time.Until one day he got sick and threw up on the bear.\n",
            "391 Brett gets home from school.\n",
            "448 I hadn't heard from my brother in over a year.The last time we had contact was at Christmas last year.\n",
            "454 There was snow everywhere.I finally got my motorcycle started.I was driving really slow.I got a quarter mile from the house.And I slid into a snowbank.\n",
            "487 Juanita had always wanted to learn how to play the flute.She decided to start taking lessons.At first the flute lessons were very difficult.\n",
            "521 The man swung a bat.\n",
            "528 I have a confession.I was driving along in the rainy the other day.\n",
            "532 Adam found out he and his wife were having a baby.He hoped for a son.When he found out it was a girl, he hid his disappointment.But he still thought a son would be better, until he met his daughter.\n",
            "551 Trent got a brand new tent for his birthday.\n",
            "578 Anita wanted to make her son's father upset.She asked him to come and pick up their baby.When he arrived, she said she'd take the baby on her date.The father was upset and asked for his son.Anita left with her date and her son, his father chasing behind them.\n",
            "579 Jamie signed up to run a race.He trained hard for weeks.During the race he saw another runner trip and fall.\n",
            "587 The woman hushed the man.The man looked surprised.\n",
            "595 Dale woke up unable to produce a sound.He panicked as he had to speak at a big meeting that day.He drove to the doctor to see what was wrong with him.He was diagnosed with laryngitis.\n",
            "611 Brenda went out to the city one night with her friends.They walked around town and went to several bars.After leaving one bar, creepy men began to follow them.Brenda became worried and they hid inside a restaurant.\n",
            "617 One day a huge storm blew over a tree in Tom's backyard.\n",
            "621 Erin was using his computer when it suddenly crashed.He felt scared and worried since he had homework to do.Erin took his computer to a repair shop.The repair man fixed his computer but charged a lot of money.\n",
            "687 I went to the office to follow up with my appointment.\n",
            "695 Sam needed help to move a couch in his house.\n",
            "698 Jeff was the new kid in school.The school bully tripped him in the hall.Jeff crashed into Sara, the prettiest girl there.\n",
            "715 Everyone was coughing on campus.\n",
            "722 Gina tried to access the internet.\n",
            "746 Teddy curled his arm hair.\n",
            "770 Jessie's birthday was coming up the following Monday.\n",
            "784 A band was playing a college graduation.Trombone players were bored.\n",
            "811 Tom gave me a shirt for my birthday.I thought the shirt was very ugly and not my style.Mary's birthday was coming up next month.I put the shirt back in the box and rewrapped it.\n",
            "838 Bob was playing league of legends.\n",
            "865 Tom was driving home.He got a speeding ticket.\n",
            "873 Kariem loved chickens and wanted to raise his own for the eggs.He ordered him some hens and rooster to get started.When the chickens grew up, he saw he had more roosters than he needed.Later that spring, several hens began to set and hatch off chicks.\n",
            "897 It was Evan's first birthday party.He wasn't feeling well.Evan's mom postponed the party.\n",
            "911 Sally was so excited because today was the day the package would come.She had ordered a gift for her mother online.The mailman came to the door and dropped off the package.\n"
          ]
        }
      ]
    },
    {
      "cell_type": "code",
      "source": [
        ""
      ],
      "metadata": {
        "id": "Xre2fYiHGQKG"
      },
      "execution_count": null,
      "outputs": []
    }
  ]
}