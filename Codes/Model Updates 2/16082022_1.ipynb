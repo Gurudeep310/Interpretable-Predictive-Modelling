{
  "metadata": {
    "kernelspec": {
      "language": "python",
      "display_name": "Python 3",
      "name": "python3"
    },
    "language_info": {
      "name": "python",
      "version": "3.7.12",
      "mimetype": "text/x-python",
      "codemirror_mode": {
        "name": "ipython",
        "version": 3
      },
      "pygments_lexer": "ipython3",
      "nbconvert_exporter": "python",
      "file_extension": ".py"
    },
    "colab": {
      "name": "16082022_1.ipynb",
      "provenance": []
    },
    "accelerator": "GPU",
    "gpuClass": "standard"
  },
  "nbformat_minor": 0,
  "nbformat": 4,
  "cells": [
    {
      "cell_type": "code",
      "source": [
        "!pip install -q -U \"tensorflow-text==2.8.*\"\n",
        "!pip install -q tf-models-official==2.7.0\n",
        "!pip install transformers\n",
        "#!pip install focal_loss\n",
        "#!pip install focal-loss"
      ],
      "metadata": {
        "execution": {
          "iopub.status.busy": "2022-08-12T08:29:10.541362Z",
          "iopub.execute_input": "2022-08-12T08:29:10.541966Z",
          "iopub.status.idle": "2022-08-12T08:31:16.727768Z",
          "shell.execute_reply.started": "2022-08-12T08:29:10.541922Z",
          "shell.execute_reply": "2022-08-12T08:31:16.726598Z"
        },
        "trusted": true,
        "colab": {
          "base_uri": "https://localhost:8080/"
        },
        "id": "6x5VUQnwAoRV",
        "outputId": "b2f48503-9c06-4f2e-d477-2d9fd80c7e4a"
      },
      "execution_count": 1,
      "outputs": [
        {
          "output_type": "stream",
          "name": "stdout",
          "text": [
            "\u001b[K     |████████████████████████████████| 4.9 MB 4.4 MB/s \n",
            "\u001b[K     |████████████████████████████████| 1.8 MB 5.2 MB/s \n",
            "\u001b[K     |████████████████████████████████| 116 kB 73.3 MB/s \n",
            "\u001b[K     |████████████████████████████████| 99 kB 10.0 MB/s \n",
            "\u001b[K     |████████████████████████████████| 352 kB 55.1 MB/s \n",
            "\u001b[K     |████████████████████████████████| 596 kB 66.3 MB/s \n",
            "\u001b[K     |████████████████████████████████| 43 kB 2.3 MB/s \n",
            "\u001b[K     |████████████████████████████████| 238 kB 57.4 MB/s \n",
            "\u001b[K     |████████████████████████████████| 1.3 MB 51.4 MB/s \n",
            "\u001b[K     |████████████████████████████████| 1.1 MB 55.3 MB/s \n",
            "\u001b[?25h  Building wheel for py-cpuinfo (setup.py) ... \u001b[?25l\u001b[?25hdone\n",
            "  Building wheel for seqeval (setup.py) ... \u001b[?25l\u001b[?25hdone\n",
            "Looking in indexes: https://pypi.org/simple, https://us-python.pkg.dev/colab-wheels/public/simple/\n",
            "Collecting transformers\n",
            "  Downloading transformers-4.21.1-py3-none-any.whl (4.7 MB)\n",
            "\u001b[K     |████████████████████████████████| 4.7 MB 5.2 MB/s \n",
            "\u001b[?25hRequirement already satisfied: packaging>=20.0 in /usr/local/lib/python3.7/dist-packages (from transformers) (21.3)\n",
            "Requirement already satisfied: tqdm>=4.27 in /usr/local/lib/python3.7/dist-packages (from transformers) (4.64.0)\n",
            "Requirement already satisfied: filelock in /usr/local/lib/python3.7/dist-packages (from transformers) (3.8.0)\n",
            "Requirement already satisfied: regex!=2019.12.17 in /usr/local/lib/python3.7/dist-packages (from transformers) (2022.6.2)\n",
            "Collecting tokenizers!=0.11.3,<0.13,>=0.11.1\n",
            "  Downloading tokenizers-0.12.1-cp37-cp37m-manylinux_2_12_x86_64.manylinux2010_x86_64.whl (6.6 MB)\n",
            "\u001b[K     |████████████████████████████████| 6.6 MB 42.2 MB/s \n",
            "\u001b[?25hRequirement already satisfied: importlib-metadata in /usr/local/lib/python3.7/dist-packages (from transformers) (4.12.0)\n",
            "Requirement already satisfied: requests in /usr/local/lib/python3.7/dist-packages (from transformers) (2.23.0)\n",
            "Requirement already satisfied: numpy>=1.17 in /usr/local/lib/python3.7/dist-packages (from transformers) (1.21.6)\n",
            "Collecting huggingface-hub<1.0,>=0.1.0\n",
            "  Downloading huggingface_hub-0.8.1-py3-none-any.whl (101 kB)\n",
            "\u001b[K     |████████████████████████████████| 101 kB 3.1 MB/s \n",
            "\u001b[?25hRequirement already satisfied: pyyaml>=5.1 in /usr/local/lib/python3.7/dist-packages (from transformers) (6.0)\n",
            "Requirement already satisfied: typing-extensions>=3.7.4.3 in /usr/local/lib/python3.7/dist-packages (from huggingface-hub<1.0,>=0.1.0->transformers) (4.1.1)\n",
            "Requirement already satisfied: pyparsing!=3.0.5,>=2.0.2 in /usr/local/lib/python3.7/dist-packages (from packaging>=20.0->transformers) (3.0.9)\n",
            "Requirement already satisfied: zipp>=0.5 in /usr/local/lib/python3.7/dist-packages (from importlib-metadata->transformers) (3.8.1)\n",
            "Requirement already satisfied: chardet<4,>=3.0.2 in /usr/local/lib/python3.7/dist-packages (from requests->transformers) (3.0.4)\n",
            "Requirement already satisfied: certifi>=2017.4.17 in /usr/local/lib/python3.7/dist-packages (from requests->transformers) (2022.6.15)\n",
            "Requirement already satisfied: urllib3!=1.25.0,!=1.25.1,<1.26,>=1.21.1 in /usr/local/lib/python3.7/dist-packages (from requests->transformers) (1.24.3)\n",
            "Requirement already satisfied: idna<3,>=2.5 in /usr/local/lib/python3.7/dist-packages (from requests->transformers) (2.10)\n",
            "Installing collected packages: tokenizers, huggingface-hub, transformers\n",
            "Successfully installed huggingface-hub-0.8.1 tokenizers-0.12.1 transformers-4.21.1\n"
          ]
        }
      ]
    },
    {
      "cell_type": "code",
      "source": [
        "import pandas as pd \n",
        "import numpy as np\n",
        "import seaborn as sns \n",
        "import matplotlib.pyplot as plt\n",
        "from sklearn.utils import shuffle\n",
        "from sklearn.preprocessing import LabelEncoder\n",
        "from sklearn.model_selection import train_test_split\n",
        "#from tensorflow.keras.utils import to_categorical\n",
        "from sklearn.metrics import classification_report\n",
        "import sklearn\n",
        "from sklearn.utils import shuffle\n",
        "\n",
        "#from focal_loss import SparseCategoricalFocalLoss\n",
        "import os\n",
        "import shutil\n",
        "import tensorflow as tf\n",
        "import tensorflow_hub as hub\n",
        "import tensorflow_text as text\n",
        "from official.nlp import optimization  # to create AdamW optimizer\n",
        "import keras\n",
        "tf.get_logger().setLevel('ERROR')\n",
        "\n",
        "#from nltk.corpus import stopwords  \n",
        "#from nltk.stem import WordNetLemmatizer\n",
        "#from nltk.stem import PorterStemmer\n",
        "#from string import punctuation\n",
        "#from collections import Counter \n",
        "#import wordcloud\n",
        "#from nltk.corpus import stopwords \n",
        "#from textblob import Word \n",
        "#import re\n",
        "#import nltk"
      ],
      "metadata": {
        "execution": {
          "iopub.status.busy": "2022-08-12T09:57:05.286552Z",
          "iopub.execute_input": "2022-08-12T09:57:05.286926Z",
          "iopub.status.idle": "2022-08-12T09:57:05.294384Z",
          "shell.execute_reply.started": "2022-08-12T09:57:05.286895Z",
          "shell.execute_reply": "2022-08-12T09:57:05.293171Z"
        },
        "trusted": true,
        "id": "cQowRQWUAoRX"
      },
      "execution_count": 2,
      "outputs": []
    },
    {
      "cell_type": "code",
      "source": [
        "#nltk.download('stopwords')\n",
        "#nltk.download('wordnet')\n",
        "#nltk.download('omw-1.4')\n",
        "#nltk.download('punkt')"
      ],
      "metadata": {
        "execution": {
          "iopub.status.busy": "2022-08-12T08:31:21.110704Z",
          "iopub.execute_input": "2022-08-12T08:31:21.111406Z",
          "iopub.status.idle": "2022-08-12T08:31:21.118138Z",
          "shell.execute_reply.started": "2022-08-12T08:31:21.111366Z",
          "shell.execute_reply": "2022-08-12T08:31:21.116917Z"
        },
        "trusted": true,
        "id": "f_lZ--iyAoRZ"
      },
      "execution_count": 3,
      "outputs": []
    },
    {
      "cell_type": "code",
      "source": [
        "original_train_data = pd.read_csv(\"/content/original_train_data.csv\")\n",
        "original_test_data = pd.read_csv(\"/content/original_test_data.csv\")"
      ],
      "metadata": {
        "execution": {
          "iopub.status.busy": "2022-08-12T10:25:03.806492Z",
          "iopub.execute_input": "2022-08-12T10:25:03.807013Z",
          "iopub.status.idle": "2022-08-12T10:25:03.868321Z",
          "shell.execute_reply.started": "2022-08-12T10:25:03.806977Z",
          "shell.execute_reply": "2022-08-12T10:25:03.867320Z"
        },
        "trusted": true,
        "id": "gBJcw_KgAoRa"
      },
      "execution_count": 12,
      "outputs": []
    },
    {
      "cell_type": "code",
      "source": [
        "original_test_data = original_test_data[['sentence','maslow']]\n",
        "original_train_data = original_train_data[['sentence','maslow']]\n",
        "original_test_data['maslow'] = original_test_data['maslow'].replace(['physiological','love','stability','esteem','spiritual growth'],['basic_needs','basic_needs','basic_needs','advanced_needs','advanced_needs'])\n",
        "original_train_data['maslow'] = original_train_data['maslow'].replace(['physiological','love','stability','esteem','spiritual growth'],['basic_needs','basic_needs','basic_needs','advanced_needs','advanced_needs'])"
      ],
      "metadata": {
        "colab": {
          "base_uri": "https://localhost:8080/"
        },
        "id": "K7Od3Ed2QRjA",
        "outputId": "4f45f43d-4020-449b-b7de-24a53f05130e"
      },
      "execution_count": 13,
      "outputs": [
        {
          "output_type": "stream",
          "name": "stderr",
          "text": [
            "/usr/local/lib/python3.7/dist-packages/ipykernel_launcher.py:3: SettingWithCopyWarning: \n",
            "A value is trying to be set on a copy of a slice from a DataFrame.\n",
            "Try using .loc[row_indexer,col_indexer] = value instead\n",
            "\n",
            "See the caveats in the documentation: https://pandas.pydata.org/pandas-docs/stable/user_guide/indexing.html#returning-a-view-versus-a-copy\n",
            "  This is separate from the ipykernel package so we can avoid doing imports until\n",
            "/usr/local/lib/python3.7/dist-packages/ipykernel_launcher.py:4: SettingWithCopyWarning: \n",
            "A value is trying to be set on a copy of a slice from a DataFrame.\n",
            "Try using .loc[row_indexer,col_indexer] = value instead\n",
            "\n",
            "See the caveats in the documentation: https://pandas.pydata.org/pandas-docs/stable/user_guide/indexing.html#returning-a-view-versus-a-copy\n",
            "  after removing the cwd from sys.path.\n"
          ]
        }
      ]
    },
    {
      "cell_type": "code",
      "source": [
        "original_train_data.head()"
      ],
      "metadata": {
        "colab": {
          "base_uri": "https://localhost:8080/",
          "height": 206
        },
        "id": "_CmO_T-QQOmC",
        "outputId": "7332990d-0f7f-4e7b-904a-b8e53244f841"
      },
      "execution_count": 14,
      "outputs": [
        {
          "output_type": "execute_result",
          "data": {
            "text/plain": [
              "                                            sentence       maslow\n",
              "0  Melissa never drank wine.Melissa broke up with...  basic_needs\n",
              "1  Ray couldn't get an irritating tune out of his...         none\n",
              "2  The family shared a basket of fries.The son at...  basic_needs\n",
              "3  Poppy started going to dance school.She knew s...  basic_needs\n",
              "4  Our neighbor Tracy has a boy and a girl in ele...  basic_needs"
            ],
            "text/html": [
              "\n",
              "  <div id=\"df-beec85e2-ef97-4393-b582-a0a3e6cb5283\">\n",
              "    <div class=\"colab-df-container\">\n",
              "      <div>\n",
              "<style scoped>\n",
              "    .dataframe tbody tr th:only-of-type {\n",
              "        vertical-align: middle;\n",
              "    }\n",
              "\n",
              "    .dataframe tbody tr th {\n",
              "        vertical-align: top;\n",
              "    }\n",
              "\n",
              "    .dataframe thead th {\n",
              "        text-align: right;\n",
              "    }\n",
              "</style>\n",
              "<table border=\"1\" class=\"dataframe\">\n",
              "  <thead>\n",
              "    <tr style=\"text-align: right;\">\n",
              "      <th></th>\n",
              "      <th>sentence</th>\n",
              "      <th>maslow</th>\n",
              "    </tr>\n",
              "  </thead>\n",
              "  <tbody>\n",
              "    <tr>\n",
              "      <th>0</th>\n",
              "      <td>Melissa never drank wine.Melissa broke up with...</td>\n",
              "      <td>basic_needs</td>\n",
              "    </tr>\n",
              "    <tr>\n",
              "      <th>1</th>\n",
              "      <td>Ray couldn't get an irritating tune out of his...</td>\n",
              "      <td>none</td>\n",
              "    </tr>\n",
              "    <tr>\n",
              "      <th>2</th>\n",
              "      <td>The family shared a basket of fries.The son at...</td>\n",
              "      <td>basic_needs</td>\n",
              "    </tr>\n",
              "    <tr>\n",
              "      <th>3</th>\n",
              "      <td>Poppy started going to dance school.She knew s...</td>\n",
              "      <td>basic_needs</td>\n",
              "    </tr>\n",
              "    <tr>\n",
              "      <th>4</th>\n",
              "      <td>Our neighbor Tracy has a boy and a girl in ele...</td>\n",
              "      <td>basic_needs</td>\n",
              "    </tr>\n",
              "  </tbody>\n",
              "</table>\n",
              "</div>\n",
              "      <button class=\"colab-df-convert\" onclick=\"convertToInteractive('df-beec85e2-ef97-4393-b582-a0a3e6cb5283')\"\n",
              "              title=\"Convert this dataframe to an interactive table.\"\n",
              "              style=\"display:none;\">\n",
              "        \n",
              "  <svg xmlns=\"http://www.w3.org/2000/svg\" height=\"24px\"viewBox=\"0 0 24 24\"\n",
              "       width=\"24px\">\n",
              "    <path d=\"M0 0h24v24H0V0z\" fill=\"none\"/>\n",
              "    <path d=\"M18.56 5.44l.94 2.06.94-2.06 2.06-.94-2.06-.94-.94-2.06-.94 2.06-2.06.94zm-11 1L8.5 8.5l.94-2.06 2.06-.94-2.06-.94L8.5 2.5l-.94 2.06-2.06.94zm10 10l.94 2.06.94-2.06 2.06-.94-2.06-.94-.94-2.06-.94 2.06-2.06.94z\"/><path d=\"M17.41 7.96l-1.37-1.37c-.4-.4-.92-.59-1.43-.59-.52 0-1.04.2-1.43.59L10.3 9.45l-7.72 7.72c-.78.78-.78 2.05 0 2.83L4 21.41c.39.39.9.59 1.41.59.51 0 1.02-.2 1.41-.59l7.78-7.78 2.81-2.81c.8-.78.8-2.07 0-2.86zM5.41 20L4 18.59l7.72-7.72 1.47 1.35L5.41 20z\"/>\n",
              "  </svg>\n",
              "      </button>\n",
              "      \n",
              "  <style>\n",
              "    .colab-df-container {\n",
              "      display:flex;\n",
              "      flex-wrap:wrap;\n",
              "      gap: 12px;\n",
              "    }\n",
              "\n",
              "    .colab-df-convert {\n",
              "      background-color: #E8F0FE;\n",
              "      border: none;\n",
              "      border-radius: 50%;\n",
              "      cursor: pointer;\n",
              "      display: none;\n",
              "      fill: #1967D2;\n",
              "      height: 32px;\n",
              "      padding: 0 0 0 0;\n",
              "      width: 32px;\n",
              "    }\n",
              "\n",
              "    .colab-df-convert:hover {\n",
              "      background-color: #E2EBFA;\n",
              "      box-shadow: 0px 1px 2px rgba(60, 64, 67, 0.3), 0px 1px 3px 1px rgba(60, 64, 67, 0.15);\n",
              "      fill: #174EA6;\n",
              "    }\n",
              "\n",
              "    [theme=dark] .colab-df-convert {\n",
              "      background-color: #3B4455;\n",
              "      fill: #D2E3FC;\n",
              "    }\n",
              "\n",
              "    [theme=dark] .colab-df-convert:hover {\n",
              "      background-color: #434B5C;\n",
              "      box-shadow: 0px 1px 3px 1px rgba(0, 0, 0, 0.15);\n",
              "      filter: drop-shadow(0px 1px 2px rgba(0, 0, 0, 0.3));\n",
              "      fill: #FFFFFF;\n",
              "    }\n",
              "  </style>\n",
              "\n",
              "      <script>\n",
              "        const buttonEl =\n",
              "          document.querySelector('#df-beec85e2-ef97-4393-b582-a0a3e6cb5283 button.colab-df-convert');\n",
              "        buttonEl.style.display =\n",
              "          google.colab.kernel.accessAllowed ? 'block' : 'none';\n",
              "\n",
              "        async function convertToInteractive(key) {\n",
              "          const element = document.querySelector('#df-beec85e2-ef97-4393-b582-a0a3e6cb5283');\n",
              "          const dataTable =\n",
              "            await google.colab.kernel.invokeFunction('convertToInteractive',\n",
              "                                                     [key], {});\n",
              "          if (!dataTable) return;\n",
              "\n",
              "          const docLinkHtml = 'Like what you see? Visit the ' +\n",
              "            '<a target=\"_blank\" href=https://colab.research.google.com/notebooks/data_table.ipynb>data table notebook</a>'\n",
              "            + ' to learn more about interactive tables.';\n",
              "          element.innerHTML = '';\n",
              "          dataTable['output_type'] = 'display_data';\n",
              "          await google.colab.output.renderOutput(dataTable, element);\n",
              "          const docLink = document.createElement('div');\n",
              "          docLink.innerHTML = docLinkHtml;\n",
              "          element.appendChild(docLink);\n",
              "        }\n",
              "      </script>\n",
              "    </div>\n",
              "  </div>\n",
              "  "
            ]
          },
          "metadata": {},
          "execution_count": 14
        }
      ]
    },
    {
      "cell_type": "code",
      "source": [
        "original_test_data['maslow'] = original_test_data['maslow'].replace(['basic_needs','basic_needs','basic_needs','advanced_needs','advanced_needs','none'],['need','need','need','need','need','no need'])\n",
        "original_train_data['maslow'] = original_train_data['maslow'].replace(['basic_needs','basic_needs','basic_needs','advanced_needs','advanced_needs','none'],['need','need','need','need','need','no need'])"
      ],
      "metadata": {
        "execution": {
          "iopub.status.busy": "2022-08-12T10:25:07.161902Z",
          "iopub.execute_input": "2022-08-12T10:25:07.162360Z",
          "iopub.status.idle": "2022-08-12T10:25:07.188452Z",
          "shell.execute_reply.started": "2022-08-12T10:25:07.162320Z",
          "shell.execute_reply": "2022-08-12T10:25:07.187460Z"
        },
        "trusted": true,
        "id": "epuct1IpAoRb"
      },
      "execution_count": 15,
      "outputs": []
    },
    {
      "cell_type": "code",
      "source": [
        "original_train_data.head(2)"
      ],
      "metadata": {
        "execution": {
          "iopub.status.busy": "2022-08-12T09:59:49.920383Z",
          "iopub.execute_input": "2022-08-12T09:59:49.920787Z",
          "iopub.status.idle": "2022-08-12T09:59:49.933029Z",
          "shell.execute_reply.started": "2022-08-12T09:59:49.920729Z",
          "shell.execute_reply": "2022-08-12T09:59:49.931966Z"
        },
        "trusted": true,
        "colab": {
          "base_uri": "https://localhost:8080/",
          "height": 112
        },
        "id": "DT1ko5KVAoRc",
        "outputId": "e9eb63ff-711d-4883-b9dd-a5d78f75aea5"
      },
      "execution_count": 16,
      "outputs": [
        {
          "output_type": "execute_result",
          "data": {
            "text/plain": [
              "                                            sentence   maslow\n",
              "0  Melissa never drank wine.Melissa broke up with...     need\n",
              "1  Ray couldn't get an irritating tune out of his...  no need"
            ],
            "text/html": [
              "\n",
              "  <div id=\"df-a336859e-c0e7-4cd5-806a-8d0f04364cbf\">\n",
              "    <div class=\"colab-df-container\">\n",
              "      <div>\n",
              "<style scoped>\n",
              "    .dataframe tbody tr th:only-of-type {\n",
              "        vertical-align: middle;\n",
              "    }\n",
              "\n",
              "    .dataframe tbody tr th {\n",
              "        vertical-align: top;\n",
              "    }\n",
              "\n",
              "    .dataframe thead th {\n",
              "        text-align: right;\n",
              "    }\n",
              "</style>\n",
              "<table border=\"1\" class=\"dataframe\">\n",
              "  <thead>\n",
              "    <tr style=\"text-align: right;\">\n",
              "      <th></th>\n",
              "      <th>sentence</th>\n",
              "      <th>maslow</th>\n",
              "    </tr>\n",
              "  </thead>\n",
              "  <tbody>\n",
              "    <tr>\n",
              "      <th>0</th>\n",
              "      <td>Melissa never drank wine.Melissa broke up with...</td>\n",
              "      <td>need</td>\n",
              "    </tr>\n",
              "    <tr>\n",
              "      <th>1</th>\n",
              "      <td>Ray couldn't get an irritating tune out of his...</td>\n",
              "      <td>no need</td>\n",
              "    </tr>\n",
              "  </tbody>\n",
              "</table>\n",
              "</div>\n",
              "      <button class=\"colab-df-convert\" onclick=\"convertToInteractive('df-a336859e-c0e7-4cd5-806a-8d0f04364cbf')\"\n",
              "              title=\"Convert this dataframe to an interactive table.\"\n",
              "              style=\"display:none;\">\n",
              "        \n",
              "  <svg xmlns=\"http://www.w3.org/2000/svg\" height=\"24px\"viewBox=\"0 0 24 24\"\n",
              "       width=\"24px\">\n",
              "    <path d=\"M0 0h24v24H0V0z\" fill=\"none\"/>\n",
              "    <path d=\"M18.56 5.44l.94 2.06.94-2.06 2.06-.94-2.06-.94-.94-2.06-.94 2.06-2.06.94zm-11 1L8.5 8.5l.94-2.06 2.06-.94-2.06-.94L8.5 2.5l-.94 2.06-2.06.94zm10 10l.94 2.06.94-2.06 2.06-.94-2.06-.94-.94-2.06-.94 2.06-2.06.94z\"/><path d=\"M17.41 7.96l-1.37-1.37c-.4-.4-.92-.59-1.43-.59-.52 0-1.04.2-1.43.59L10.3 9.45l-7.72 7.72c-.78.78-.78 2.05 0 2.83L4 21.41c.39.39.9.59 1.41.59.51 0 1.02-.2 1.41-.59l7.78-7.78 2.81-2.81c.8-.78.8-2.07 0-2.86zM5.41 20L4 18.59l7.72-7.72 1.47 1.35L5.41 20z\"/>\n",
              "  </svg>\n",
              "      </button>\n",
              "      \n",
              "  <style>\n",
              "    .colab-df-container {\n",
              "      display:flex;\n",
              "      flex-wrap:wrap;\n",
              "      gap: 12px;\n",
              "    }\n",
              "\n",
              "    .colab-df-convert {\n",
              "      background-color: #E8F0FE;\n",
              "      border: none;\n",
              "      border-radius: 50%;\n",
              "      cursor: pointer;\n",
              "      display: none;\n",
              "      fill: #1967D2;\n",
              "      height: 32px;\n",
              "      padding: 0 0 0 0;\n",
              "      width: 32px;\n",
              "    }\n",
              "\n",
              "    .colab-df-convert:hover {\n",
              "      background-color: #E2EBFA;\n",
              "      box-shadow: 0px 1px 2px rgba(60, 64, 67, 0.3), 0px 1px 3px 1px rgba(60, 64, 67, 0.15);\n",
              "      fill: #174EA6;\n",
              "    }\n",
              "\n",
              "    [theme=dark] .colab-df-convert {\n",
              "      background-color: #3B4455;\n",
              "      fill: #D2E3FC;\n",
              "    }\n",
              "\n",
              "    [theme=dark] .colab-df-convert:hover {\n",
              "      background-color: #434B5C;\n",
              "      box-shadow: 0px 1px 3px 1px rgba(0, 0, 0, 0.15);\n",
              "      filter: drop-shadow(0px 1px 2px rgba(0, 0, 0, 0.3));\n",
              "      fill: #FFFFFF;\n",
              "    }\n",
              "  </style>\n",
              "\n",
              "      <script>\n",
              "        const buttonEl =\n",
              "          document.querySelector('#df-a336859e-c0e7-4cd5-806a-8d0f04364cbf button.colab-df-convert');\n",
              "        buttonEl.style.display =\n",
              "          google.colab.kernel.accessAllowed ? 'block' : 'none';\n",
              "\n",
              "        async function convertToInteractive(key) {\n",
              "          const element = document.querySelector('#df-a336859e-c0e7-4cd5-806a-8d0f04364cbf');\n",
              "          const dataTable =\n",
              "            await google.colab.kernel.invokeFunction('convertToInteractive',\n",
              "                                                     [key], {});\n",
              "          if (!dataTable) return;\n",
              "\n",
              "          const docLinkHtml = 'Like what you see? Visit the ' +\n",
              "            '<a target=\"_blank\" href=https://colab.research.google.com/notebooks/data_table.ipynb>data table notebook</a>'\n",
              "            + ' to learn more about interactive tables.';\n",
              "          element.innerHTML = '';\n",
              "          dataTable['output_type'] = 'display_data';\n",
              "          await google.colab.output.renderOutput(dataTable, element);\n",
              "          const docLink = document.createElement('div');\n",
              "          docLink.innerHTML = docLinkHtml;\n",
              "          element.appendChild(docLink);\n",
              "        }\n",
              "      </script>\n",
              "    </div>\n",
              "  </div>\n",
              "  "
            ]
          },
          "metadata": {},
          "execution_count": 16
        }
      ]
    },
    {
      "cell_type": "code",
      "source": [
        "original_test_data.head(2)"
      ],
      "metadata": {
        "execution": {
          "iopub.status.busy": "2022-08-12T09:59:52.710964Z",
          "iopub.execute_input": "2022-08-12T09:59:52.711532Z",
          "iopub.status.idle": "2022-08-12T09:59:52.721633Z",
          "shell.execute_reply.started": "2022-08-12T09:59:52.711497Z",
          "shell.execute_reply": "2022-08-12T09:59:52.720318Z"
        },
        "trusted": true,
        "colab": {
          "base_uri": "https://localhost:8080/",
          "height": 112
        },
        "id": "jiyCAr6RAoRd",
        "outputId": "6c309732-4a96-466d-9452-77ebcf706deb"
      },
      "execution_count": 17,
      "outputs": [
        {
          "output_type": "execute_result",
          "data": {
            "text/plain": [
              "                                            sentence maslow\n",
              "0  Jamies job requires her to travel a lot.She ha...   need\n",
              "1  Andy was craving some cereal.He picked out som...   need"
            ],
            "text/html": [
              "\n",
              "  <div id=\"df-517704b3-99db-49f2-8749-15f9a780f0ee\">\n",
              "    <div class=\"colab-df-container\">\n",
              "      <div>\n",
              "<style scoped>\n",
              "    .dataframe tbody tr th:only-of-type {\n",
              "        vertical-align: middle;\n",
              "    }\n",
              "\n",
              "    .dataframe tbody tr th {\n",
              "        vertical-align: top;\n",
              "    }\n",
              "\n",
              "    .dataframe thead th {\n",
              "        text-align: right;\n",
              "    }\n",
              "</style>\n",
              "<table border=\"1\" class=\"dataframe\">\n",
              "  <thead>\n",
              "    <tr style=\"text-align: right;\">\n",
              "      <th></th>\n",
              "      <th>sentence</th>\n",
              "      <th>maslow</th>\n",
              "    </tr>\n",
              "  </thead>\n",
              "  <tbody>\n",
              "    <tr>\n",
              "      <th>0</th>\n",
              "      <td>Jamies job requires her to travel a lot.She ha...</td>\n",
              "      <td>need</td>\n",
              "    </tr>\n",
              "    <tr>\n",
              "      <th>1</th>\n",
              "      <td>Andy was craving some cereal.He picked out som...</td>\n",
              "      <td>need</td>\n",
              "    </tr>\n",
              "  </tbody>\n",
              "</table>\n",
              "</div>\n",
              "      <button class=\"colab-df-convert\" onclick=\"convertToInteractive('df-517704b3-99db-49f2-8749-15f9a780f0ee')\"\n",
              "              title=\"Convert this dataframe to an interactive table.\"\n",
              "              style=\"display:none;\">\n",
              "        \n",
              "  <svg xmlns=\"http://www.w3.org/2000/svg\" height=\"24px\"viewBox=\"0 0 24 24\"\n",
              "       width=\"24px\">\n",
              "    <path d=\"M0 0h24v24H0V0z\" fill=\"none\"/>\n",
              "    <path d=\"M18.56 5.44l.94 2.06.94-2.06 2.06-.94-2.06-.94-.94-2.06-.94 2.06-2.06.94zm-11 1L8.5 8.5l.94-2.06 2.06-.94-2.06-.94L8.5 2.5l-.94 2.06-2.06.94zm10 10l.94 2.06.94-2.06 2.06-.94-2.06-.94-.94-2.06-.94 2.06-2.06.94z\"/><path d=\"M17.41 7.96l-1.37-1.37c-.4-.4-.92-.59-1.43-.59-.52 0-1.04.2-1.43.59L10.3 9.45l-7.72 7.72c-.78.78-.78 2.05 0 2.83L4 21.41c.39.39.9.59 1.41.59.51 0 1.02-.2 1.41-.59l7.78-7.78 2.81-2.81c.8-.78.8-2.07 0-2.86zM5.41 20L4 18.59l7.72-7.72 1.47 1.35L5.41 20z\"/>\n",
              "  </svg>\n",
              "      </button>\n",
              "      \n",
              "  <style>\n",
              "    .colab-df-container {\n",
              "      display:flex;\n",
              "      flex-wrap:wrap;\n",
              "      gap: 12px;\n",
              "    }\n",
              "\n",
              "    .colab-df-convert {\n",
              "      background-color: #E8F0FE;\n",
              "      border: none;\n",
              "      border-radius: 50%;\n",
              "      cursor: pointer;\n",
              "      display: none;\n",
              "      fill: #1967D2;\n",
              "      height: 32px;\n",
              "      padding: 0 0 0 0;\n",
              "      width: 32px;\n",
              "    }\n",
              "\n",
              "    .colab-df-convert:hover {\n",
              "      background-color: #E2EBFA;\n",
              "      box-shadow: 0px 1px 2px rgba(60, 64, 67, 0.3), 0px 1px 3px 1px rgba(60, 64, 67, 0.15);\n",
              "      fill: #174EA6;\n",
              "    }\n",
              "\n",
              "    [theme=dark] .colab-df-convert {\n",
              "      background-color: #3B4455;\n",
              "      fill: #D2E3FC;\n",
              "    }\n",
              "\n",
              "    [theme=dark] .colab-df-convert:hover {\n",
              "      background-color: #434B5C;\n",
              "      box-shadow: 0px 1px 3px 1px rgba(0, 0, 0, 0.15);\n",
              "      filter: drop-shadow(0px 1px 2px rgba(0, 0, 0, 0.3));\n",
              "      fill: #FFFFFF;\n",
              "    }\n",
              "  </style>\n",
              "\n",
              "      <script>\n",
              "        const buttonEl =\n",
              "          document.querySelector('#df-517704b3-99db-49f2-8749-15f9a780f0ee button.colab-df-convert');\n",
              "        buttonEl.style.display =\n",
              "          google.colab.kernel.accessAllowed ? 'block' : 'none';\n",
              "\n",
              "        async function convertToInteractive(key) {\n",
              "          const element = document.querySelector('#df-517704b3-99db-49f2-8749-15f9a780f0ee');\n",
              "          const dataTable =\n",
              "            await google.colab.kernel.invokeFunction('convertToInteractive',\n",
              "                                                     [key], {});\n",
              "          if (!dataTable) return;\n",
              "\n",
              "          const docLinkHtml = 'Like what you see? Visit the ' +\n",
              "            '<a target=\"_blank\" href=https://colab.research.google.com/notebooks/data_table.ipynb>data table notebook</a>'\n",
              "            + ' to learn more about interactive tables.';\n",
              "          element.innerHTML = '';\n",
              "          dataTable['output_type'] = 'display_data';\n",
              "          await google.colab.output.renderOutput(dataTable, element);\n",
              "          const docLink = document.createElement('div');\n",
              "          docLink.innerHTML = docLinkHtml;\n",
              "          element.appendChild(docLink);\n",
              "        }\n",
              "      </script>\n",
              "    </div>\n",
              "  </div>\n",
              "  "
            ]
          },
          "metadata": {},
          "execution_count": 17
        }
      ]
    },
    {
      "cell_type": "code",
      "source": [
        "#final_data = final_data[final_data['maslow'] != 'none']\n",
        "#final_data = final_data[['sentence','maslow']]\n",
        "#final_none = pd.read_csv('../input/nlpresearch/final_none_orig_french_spanish.csv')\n",
        "#frames = [final_data, final_none]\n",
        "#result = pd.concat(frames)\n",
        "\n",
        "#result = shuffle(result)\n",
        "#result['maslow'].unique()\n",
        "#result.head()\n",
        "#final_data = result.copy()\n",
        "#final_data[['sentence','maslow']].groupby('maslow').count()\n",
        "#final_data['maslow'].unique()\n",
        "#type2 = final_data.copy()\n",
        "#type2['maslow'] = type2['maslow'].replace(['physiological','love','stability','esteem','spiritual growth'],['basic_needs','basic_needs','basic_needs','advanced_needs','advanced_needs'])\n",
        "#print(type2['maslow'].unique())\n",
        "#type2[['sentence','maslow']].groupby('maslow').count()\n",
        "#final_data[['sentence','maslow']].groupby('maslow').count()\n",
        "#df2oftype2 = type2.copy()\n",
        "lb = LabelEncoder() \n",
        "original_train_data['maslowLabel'] = lb.fit_transform(original_train_data['maslow'])\n",
        "original_test_data['maslowLabel'] = lb.fit_transform(original_test_data['maslow'])\n",
        "print(original_train_data['maslow'].unique())\n",
        "print(original_train_data['maslowLabel'].unique())\n",
        "#df2oftype2.info()\n",
        "#df2oftype2.head()"
      ],
      "metadata": {
        "execution": {
          "iopub.status.busy": "2022-08-12T10:00:02.337611Z",
          "iopub.execute_input": "2022-08-12T10:00:02.338199Z",
          "iopub.status.idle": "2022-08-12T10:00:02.357698Z",
          "shell.execute_reply.started": "2022-08-12T10:00:02.338163Z",
          "shell.execute_reply": "2022-08-12T10:00:02.356767Z"
        },
        "trusted": true,
        "colab": {
          "base_uri": "https://localhost:8080/"
        },
        "id": "Pg7oJaT3AoRe",
        "outputId": "bd89e79f-7dba-4778-9097-66256bfe88af"
      },
      "execution_count": 18,
      "outputs": [
        {
          "output_type": "stream",
          "name": "stdout",
          "text": [
            "['need' 'no need']\n",
            "[0 1]\n"
          ]
        }
      ]
    },
    {
      "cell_type": "code",
      "source": [
        "print(original_test_data['maslow'].unique())\n",
        "print(original_test_data['maslowLabel'].unique())"
      ],
      "metadata": {
        "execution": {
          "iopub.status.busy": "2022-08-12T10:00:08.005637Z",
          "iopub.execute_input": "2022-08-12T10:00:08.006004Z",
          "iopub.status.idle": "2022-08-12T10:00:08.013669Z",
          "shell.execute_reply.started": "2022-08-12T10:00:08.005975Z",
          "shell.execute_reply": "2022-08-12T10:00:08.012478Z"
        },
        "trusted": true,
        "colab": {
          "base_uri": "https://localhost:8080/"
        },
        "id": "12CE-22RAoRg",
        "outputId": "f35e16eb-5d17-44a6-f60c-0bc542ff9256"
      },
      "execution_count": 19,
      "outputs": [
        {
          "output_type": "stream",
          "name": "stdout",
          "text": [
            "['need' 'no need']\n",
            "[0 1]\n"
          ]
        }
      ]
    },
    {
      "cell_type": "code",
      "source": [
        "original_train_data.head(2)"
      ],
      "metadata": {
        "execution": {
          "iopub.status.busy": "2022-08-12T10:00:13.029447Z",
          "iopub.execute_input": "2022-08-12T10:00:13.029903Z",
          "iopub.status.idle": "2022-08-12T10:00:13.040884Z",
          "shell.execute_reply.started": "2022-08-12T10:00:13.029868Z",
          "shell.execute_reply": "2022-08-12T10:00:13.039889Z"
        },
        "trusted": true,
        "colab": {
          "base_uri": "https://localhost:8080/",
          "height": 112
        },
        "id": "fj6YACEKAoRg",
        "outputId": "0b5bec8a-99b8-4b93-dff1-1c86e07f86a9"
      },
      "execution_count": 20,
      "outputs": [
        {
          "output_type": "execute_result",
          "data": {
            "text/plain": [
              "                                            sentence   maslow  maslowLabel\n",
              "0  Melissa never drank wine.Melissa broke up with...     need            0\n",
              "1  Ray couldn't get an irritating tune out of his...  no need            1"
            ],
            "text/html": [
              "\n",
              "  <div id=\"df-ff1d6cb5-4d02-4ac7-b518-b620de22e014\">\n",
              "    <div class=\"colab-df-container\">\n",
              "      <div>\n",
              "<style scoped>\n",
              "    .dataframe tbody tr th:only-of-type {\n",
              "        vertical-align: middle;\n",
              "    }\n",
              "\n",
              "    .dataframe tbody tr th {\n",
              "        vertical-align: top;\n",
              "    }\n",
              "\n",
              "    .dataframe thead th {\n",
              "        text-align: right;\n",
              "    }\n",
              "</style>\n",
              "<table border=\"1\" class=\"dataframe\">\n",
              "  <thead>\n",
              "    <tr style=\"text-align: right;\">\n",
              "      <th></th>\n",
              "      <th>sentence</th>\n",
              "      <th>maslow</th>\n",
              "      <th>maslowLabel</th>\n",
              "    </tr>\n",
              "  </thead>\n",
              "  <tbody>\n",
              "    <tr>\n",
              "      <th>0</th>\n",
              "      <td>Melissa never drank wine.Melissa broke up with...</td>\n",
              "      <td>need</td>\n",
              "      <td>0</td>\n",
              "    </tr>\n",
              "    <tr>\n",
              "      <th>1</th>\n",
              "      <td>Ray couldn't get an irritating tune out of his...</td>\n",
              "      <td>no need</td>\n",
              "      <td>1</td>\n",
              "    </tr>\n",
              "  </tbody>\n",
              "</table>\n",
              "</div>\n",
              "      <button class=\"colab-df-convert\" onclick=\"convertToInteractive('df-ff1d6cb5-4d02-4ac7-b518-b620de22e014')\"\n",
              "              title=\"Convert this dataframe to an interactive table.\"\n",
              "              style=\"display:none;\">\n",
              "        \n",
              "  <svg xmlns=\"http://www.w3.org/2000/svg\" height=\"24px\"viewBox=\"0 0 24 24\"\n",
              "       width=\"24px\">\n",
              "    <path d=\"M0 0h24v24H0V0z\" fill=\"none\"/>\n",
              "    <path d=\"M18.56 5.44l.94 2.06.94-2.06 2.06-.94-2.06-.94-.94-2.06-.94 2.06-2.06.94zm-11 1L8.5 8.5l.94-2.06 2.06-.94-2.06-.94L8.5 2.5l-.94 2.06-2.06.94zm10 10l.94 2.06.94-2.06 2.06-.94-2.06-.94-.94-2.06-.94 2.06-2.06.94z\"/><path d=\"M17.41 7.96l-1.37-1.37c-.4-.4-.92-.59-1.43-.59-.52 0-1.04.2-1.43.59L10.3 9.45l-7.72 7.72c-.78.78-.78 2.05 0 2.83L4 21.41c.39.39.9.59 1.41.59.51 0 1.02-.2 1.41-.59l7.78-7.78 2.81-2.81c.8-.78.8-2.07 0-2.86zM5.41 20L4 18.59l7.72-7.72 1.47 1.35L5.41 20z\"/>\n",
              "  </svg>\n",
              "      </button>\n",
              "      \n",
              "  <style>\n",
              "    .colab-df-container {\n",
              "      display:flex;\n",
              "      flex-wrap:wrap;\n",
              "      gap: 12px;\n",
              "    }\n",
              "\n",
              "    .colab-df-convert {\n",
              "      background-color: #E8F0FE;\n",
              "      border: none;\n",
              "      border-radius: 50%;\n",
              "      cursor: pointer;\n",
              "      display: none;\n",
              "      fill: #1967D2;\n",
              "      height: 32px;\n",
              "      padding: 0 0 0 0;\n",
              "      width: 32px;\n",
              "    }\n",
              "\n",
              "    .colab-df-convert:hover {\n",
              "      background-color: #E2EBFA;\n",
              "      box-shadow: 0px 1px 2px rgba(60, 64, 67, 0.3), 0px 1px 3px 1px rgba(60, 64, 67, 0.15);\n",
              "      fill: #174EA6;\n",
              "    }\n",
              "\n",
              "    [theme=dark] .colab-df-convert {\n",
              "      background-color: #3B4455;\n",
              "      fill: #D2E3FC;\n",
              "    }\n",
              "\n",
              "    [theme=dark] .colab-df-convert:hover {\n",
              "      background-color: #434B5C;\n",
              "      box-shadow: 0px 1px 3px 1px rgba(0, 0, 0, 0.15);\n",
              "      filter: drop-shadow(0px 1px 2px rgba(0, 0, 0, 0.3));\n",
              "      fill: #FFFFFF;\n",
              "    }\n",
              "  </style>\n",
              "\n",
              "      <script>\n",
              "        const buttonEl =\n",
              "          document.querySelector('#df-ff1d6cb5-4d02-4ac7-b518-b620de22e014 button.colab-df-convert');\n",
              "        buttonEl.style.display =\n",
              "          google.colab.kernel.accessAllowed ? 'block' : 'none';\n",
              "\n",
              "        async function convertToInteractive(key) {\n",
              "          const element = document.querySelector('#df-ff1d6cb5-4d02-4ac7-b518-b620de22e014');\n",
              "          const dataTable =\n",
              "            await google.colab.kernel.invokeFunction('convertToInteractive',\n",
              "                                                     [key], {});\n",
              "          if (!dataTable) return;\n",
              "\n",
              "          const docLinkHtml = 'Like what you see? Visit the ' +\n",
              "            '<a target=\"_blank\" href=https://colab.research.google.com/notebooks/data_table.ipynb>data table notebook</a>'\n",
              "            + ' to learn more about interactive tables.';\n",
              "          element.innerHTML = '';\n",
              "          dataTable['output_type'] = 'display_data';\n",
              "          await google.colab.output.renderOutput(dataTable, element);\n",
              "          const docLink = document.createElement('div');\n",
              "          docLink.innerHTML = docLinkHtml;\n",
              "          element.appendChild(docLink);\n",
              "        }\n",
              "      </script>\n",
              "    </div>\n",
              "  </div>\n",
              "  "
            ]
          },
          "metadata": {},
          "execution_count": 20
        }
      ]
    },
    {
      "cell_type": "code",
      "source": [
        "original_train_data[['sentence','maslow']].groupby('maslow').count()"
      ],
      "metadata": {
        "execution": {
          "iopub.status.busy": "2022-08-12T10:00:16.072156Z",
          "iopub.execute_input": "2022-08-12T10:00:16.072711Z",
          "iopub.status.idle": "2022-08-12T10:00:16.090417Z",
          "shell.execute_reply.started": "2022-08-12T10:00:16.072666Z",
          "shell.execute_reply": "2022-08-12T10:00:16.089172Z"
        },
        "trusted": true,
        "colab": {
          "base_uri": "https://localhost:8080/",
          "height": 143
        },
        "id": "mvA12TkWAoRh",
        "outputId": "1e59e932-08ef-42b9-d633-3a3b677586ad"
      },
      "execution_count": 21,
      "outputs": [
        {
          "output_type": "execute_result",
          "data": {
            "text/plain": [
              "         sentence\n",
              "maslow           \n",
              "need        14440\n",
              "no need      2034"
            ],
            "text/html": [
              "\n",
              "  <div id=\"df-6224ecf0-851c-4e1c-bb20-749e626a2ea1\">\n",
              "    <div class=\"colab-df-container\">\n",
              "      <div>\n",
              "<style scoped>\n",
              "    .dataframe tbody tr th:only-of-type {\n",
              "        vertical-align: middle;\n",
              "    }\n",
              "\n",
              "    .dataframe tbody tr th {\n",
              "        vertical-align: top;\n",
              "    }\n",
              "\n",
              "    .dataframe thead th {\n",
              "        text-align: right;\n",
              "    }\n",
              "</style>\n",
              "<table border=\"1\" class=\"dataframe\">\n",
              "  <thead>\n",
              "    <tr style=\"text-align: right;\">\n",
              "      <th></th>\n",
              "      <th>sentence</th>\n",
              "    </tr>\n",
              "    <tr>\n",
              "      <th>maslow</th>\n",
              "      <th></th>\n",
              "    </tr>\n",
              "  </thead>\n",
              "  <tbody>\n",
              "    <tr>\n",
              "      <th>need</th>\n",
              "      <td>14440</td>\n",
              "    </tr>\n",
              "    <tr>\n",
              "      <th>no need</th>\n",
              "      <td>2034</td>\n",
              "    </tr>\n",
              "  </tbody>\n",
              "</table>\n",
              "</div>\n",
              "      <button class=\"colab-df-convert\" onclick=\"convertToInteractive('df-6224ecf0-851c-4e1c-bb20-749e626a2ea1')\"\n",
              "              title=\"Convert this dataframe to an interactive table.\"\n",
              "              style=\"display:none;\">\n",
              "        \n",
              "  <svg xmlns=\"http://www.w3.org/2000/svg\" height=\"24px\"viewBox=\"0 0 24 24\"\n",
              "       width=\"24px\">\n",
              "    <path d=\"M0 0h24v24H0V0z\" fill=\"none\"/>\n",
              "    <path d=\"M18.56 5.44l.94 2.06.94-2.06 2.06-.94-2.06-.94-.94-2.06-.94 2.06-2.06.94zm-11 1L8.5 8.5l.94-2.06 2.06-.94-2.06-.94L8.5 2.5l-.94 2.06-2.06.94zm10 10l.94 2.06.94-2.06 2.06-.94-2.06-.94-.94-2.06-.94 2.06-2.06.94z\"/><path d=\"M17.41 7.96l-1.37-1.37c-.4-.4-.92-.59-1.43-.59-.52 0-1.04.2-1.43.59L10.3 9.45l-7.72 7.72c-.78.78-.78 2.05 0 2.83L4 21.41c.39.39.9.59 1.41.59.51 0 1.02-.2 1.41-.59l7.78-7.78 2.81-2.81c.8-.78.8-2.07 0-2.86zM5.41 20L4 18.59l7.72-7.72 1.47 1.35L5.41 20z\"/>\n",
              "  </svg>\n",
              "      </button>\n",
              "      \n",
              "  <style>\n",
              "    .colab-df-container {\n",
              "      display:flex;\n",
              "      flex-wrap:wrap;\n",
              "      gap: 12px;\n",
              "    }\n",
              "\n",
              "    .colab-df-convert {\n",
              "      background-color: #E8F0FE;\n",
              "      border: none;\n",
              "      border-radius: 50%;\n",
              "      cursor: pointer;\n",
              "      display: none;\n",
              "      fill: #1967D2;\n",
              "      height: 32px;\n",
              "      padding: 0 0 0 0;\n",
              "      width: 32px;\n",
              "    }\n",
              "\n",
              "    .colab-df-convert:hover {\n",
              "      background-color: #E2EBFA;\n",
              "      box-shadow: 0px 1px 2px rgba(60, 64, 67, 0.3), 0px 1px 3px 1px rgba(60, 64, 67, 0.15);\n",
              "      fill: #174EA6;\n",
              "    }\n",
              "\n",
              "    [theme=dark] .colab-df-convert {\n",
              "      background-color: #3B4455;\n",
              "      fill: #D2E3FC;\n",
              "    }\n",
              "\n",
              "    [theme=dark] .colab-df-convert:hover {\n",
              "      background-color: #434B5C;\n",
              "      box-shadow: 0px 1px 3px 1px rgba(0, 0, 0, 0.15);\n",
              "      filter: drop-shadow(0px 1px 2px rgba(0, 0, 0, 0.3));\n",
              "      fill: #FFFFFF;\n",
              "    }\n",
              "  </style>\n",
              "\n",
              "      <script>\n",
              "        const buttonEl =\n",
              "          document.querySelector('#df-6224ecf0-851c-4e1c-bb20-749e626a2ea1 button.colab-df-convert');\n",
              "        buttonEl.style.display =\n",
              "          google.colab.kernel.accessAllowed ? 'block' : 'none';\n",
              "\n",
              "        async function convertToInteractive(key) {\n",
              "          const element = document.querySelector('#df-6224ecf0-851c-4e1c-bb20-749e626a2ea1');\n",
              "          const dataTable =\n",
              "            await google.colab.kernel.invokeFunction('convertToInteractive',\n",
              "                                                     [key], {});\n",
              "          if (!dataTable) return;\n",
              "\n",
              "          const docLinkHtml = 'Like what you see? Visit the ' +\n",
              "            '<a target=\"_blank\" href=https://colab.research.google.com/notebooks/data_table.ipynb>data table notebook</a>'\n",
              "            + ' to learn more about interactive tables.';\n",
              "          element.innerHTML = '';\n",
              "          dataTable['output_type'] = 'display_data';\n",
              "          await google.colab.output.renderOutput(dataTable, element);\n",
              "          const docLink = document.createElement('div');\n",
              "          docLink.innerHTML = docLinkHtml;\n",
              "          element.appendChild(docLink);\n",
              "        }\n",
              "      </script>\n",
              "    </div>\n",
              "  </div>\n",
              "  "
            ]
          },
          "metadata": {},
          "execution_count": 21
        }
      ]
    },
    {
      "cell_type": "code",
      "source": [
        "original_test_data.head(10)"
      ],
      "metadata": {
        "execution": {
          "iopub.status.busy": "2022-08-12T10:00:48.536599Z",
          "iopub.execute_input": "2022-08-12T10:00:48.537382Z",
          "iopub.status.idle": "2022-08-12T10:00:48.548074Z",
          "shell.execute_reply.started": "2022-08-12T10:00:48.537341Z",
          "shell.execute_reply": "2022-08-12T10:00:48.547093Z"
        },
        "trusted": true,
        "colab": {
          "base_uri": "https://localhost:8080/",
          "height": 363
        },
        "id": "OGcpCvD2AoRi",
        "outputId": "047582c8-b769-4be3-d2f7-e178bc5ca25f"
      },
      "execution_count": 22,
      "outputs": [
        {
          "output_type": "execute_result",
          "data": {
            "text/plain": [
              "                                            sentence   maslow  maslowLabel\n",
              "0  Jamies job requires her to travel a lot.She ha...     need            0\n",
              "1  Andy was craving some cereal.He picked out som...     need            0\n",
              "2                               Karl locked his car.     need            0\n",
              "3  I was bullied in high school.I had one bully i...     need            0\n",
              "4           Kay was at work when a headache started.     need            0\n",
              "5  Kay was taking piano lessons.Her teacher was a...  no need            1\n",
              "6                     Tim was never good with dates.  no need            1\n",
              "7                          Tammy wanted a new puppy.  no need            1\n",
              "8  One day, Bob's dog ran out the door as Bob was...     need            0\n",
              "9          Lily was flying alone for the first time.     need            0"
            ],
            "text/html": [
              "\n",
              "  <div id=\"df-46b58920-856d-4998-9858-3c7c11548b12\">\n",
              "    <div class=\"colab-df-container\">\n",
              "      <div>\n",
              "<style scoped>\n",
              "    .dataframe tbody tr th:only-of-type {\n",
              "        vertical-align: middle;\n",
              "    }\n",
              "\n",
              "    .dataframe tbody tr th {\n",
              "        vertical-align: top;\n",
              "    }\n",
              "\n",
              "    .dataframe thead th {\n",
              "        text-align: right;\n",
              "    }\n",
              "</style>\n",
              "<table border=\"1\" class=\"dataframe\">\n",
              "  <thead>\n",
              "    <tr style=\"text-align: right;\">\n",
              "      <th></th>\n",
              "      <th>sentence</th>\n",
              "      <th>maslow</th>\n",
              "      <th>maslowLabel</th>\n",
              "    </tr>\n",
              "  </thead>\n",
              "  <tbody>\n",
              "    <tr>\n",
              "      <th>0</th>\n",
              "      <td>Jamies job requires her to travel a lot.She ha...</td>\n",
              "      <td>need</td>\n",
              "      <td>0</td>\n",
              "    </tr>\n",
              "    <tr>\n",
              "      <th>1</th>\n",
              "      <td>Andy was craving some cereal.He picked out som...</td>\n",
              "      <td>need</td>\n",
              "      <td>0</td>\n",
              "    </tr>\n",
              "    <tr>\n",
              "      <th>2</th>\n",
              "      <td>Karl locked his car.</td>\n",
              "      <td>need</td>\n",
              "      <td>0</td>\n",
              "    </tr>\n",
              "    <tr>\n",
              "      <th>3</th>\n",
              "      <td>I was bullied in high school.I had one bully i...</td>\n",
              "      <td>need</td>\n",
              "      <td>0</td>\n",
              "    </tr>\n",
              "    <tr>\n",
              "      <th>4</th>\n",
              "      <td>Kay was at work when a headache started.</td>\n",
              "      <td>need</td>\n",
              "      <td>0</td>\n",
              "    </tr>\n",
              "    <tr>\n",
              "      <th>5</th>\n",
              "      <td>Kay was taking piano lessons.Her teacher was a...</td>\n",
              "      <td>no need</td>\n",
              "      <td>1</td>\n",
              "    </tr>\n",
              "    <tr>\n",
              "      <th>6</th>\n",
              "      <td>Tim was never good with dates.</td>\n",
              "      <td>no need</td>\n",
              "      <td>1</td>\n",
              "    </tr>\n",
              "    <tr>\n",
              "      <th>7</th>\n",
              "      <td>Tammy wanted a new puppy.</td>\n",
              "      <td>no need</td>\n",
              "      <td>1</td>\n",
              "    </tr>\n",
              "    <tr>\n",
              "      <th>8</th>\n",
              "      <td>One day, Bob's dog ran out the door as Bob was...</td>\n",
              "      <td>need</td>\n",
              "      <td>0</td>\n",
              "    </tr>\n",
              "    <tr>\n",
              "      <th>9</th>\n",
              "      <td>Lily was flying alone for the first time.</td>\n",
              "      <td>need</td>\n",
              "      <td>0</td>\n",
              "    </tr>\n",
              "  </tbody>\n",
              "</table>\n",
              "</div>\n",
              "      <button class=\"colab-df-convert\" onclick=\"convertToInteractive('df-46b58920-856d-4998-9858-3c7c11548b12')\"\n",
              "              title=\"Convert this dataframe to an interactive table.\"\n",
              "              style=\"display:none;\">\n",
              "        \n",
              "  <svg xmlns=\"http://www.w3.org/2000/svg\" height=\"24px\"viewBox=\"0 0 24 24\"\n",
              "       width=\"24px\">\n",
              "    <path d=\"M0 0h24v24H0V0z\" fill=\"none\"/>\n",
              "    <path d=\"M18.56 5.44l.94 2.06.94-2.06 2.06-.94-2.06-.94-.94-2.06-.94 2.06-2.06.94zm-11 1L8.5 8.5l.94-2.06 2.06-.94-2.06-.94L8.5 2.5l-.94 2.06-2.06.94zm10 10l.94 2.06.94-2.06 2.06-.94-2.06-.94-.94-2.06-.94 2.06-2.06.94z\"/><path d=\"M17.41 7.96l-1.37-1.37c-.4-.4-.92-.59-1.43-.59-.52 0-1.04.2-1.43.59L10.3 9.45l-7.72 7.72c-.78.78-.78 2.05 0 2.83L4 21.41c.39.39.9.59 1.41.59.51 0 1.02-.2 1.41-.59l7.78-7.78 2.81-2.81c.8-.78.8-2.07 0-2.86zM5.41 20L4 18.59l7.72-7.72 1.47 1.35L5.41 20z\"/>\n",
              "  </svg>\n",
              "      </button>\n",
              "      \n",
              "  <style>\n",
              "    .colab-df-container {\n",
              "      display:flex;\n",
              "      flex-wrap:wrap;\n",
              "      gap: 12px;\n",
              "    }\n",
              "\n",
              "    .colab-df-convert {\n",
              "      background-color: #E8F0FE;\n",
              "      border: none;\n",
              "      border-radius: 50%;\n",
              "      cursor: pointer;\n",
              "      display: none;\n",
              "      fill: #1967D2;\n",
              "      height: 32px;\n",
              "      padding: 0 0 0 0;\n",
              "      width: 32px;\n",
              "    }\n",
              "\n",
              "    .colab-df-convert:hover {\n",
              "      background-color: #E2EBFA;\n",
              "      box-shadow: 0px 1px 2px rgba(60, 64, 67, 0.3), 0px 1px 3px 1px rgba(60, 64, 67, 0.15);\n",
              "      fill: #174EA6;\n",
              "    }\n",
              "\n",
              "    [theme=dark] .colab-df-convert {\n",
              "      background-color: #3B4455;\n",
              "      fill: #D2E3FC;\n",
              "    }\n",
              "\n",
              "    [theme=dark] .colab-df-convert:hover {\n",
              "      background-color: #434B5C;\n",
              "      box-shadow: 0px 1px 3px 1px rgba(0, 0, 0, 0.15);\n",
              "      filter: drop-shadow(0px 1px 2px rgba(0, 0, 0, 0.3));\n",
              "      fill: #FFFFFF;\n",
              "    }\n",
              "  </style>\n",
              "\n",
              "      <script>\n",
              "        const buttonEl =\n",
              "          document.querySelector('#df-46b58920-856d-4998-9858-3c7c11548b12 button.colab-df-convert');\n",
              "        buttonEl.style.display =\n",
              "          google.colab.kernel.accessAllowed ? 'block' : 'none';\n",
              "\n",
              "        async function convertToInteractive(key) {\n",
              "          const element = document.querySelector('#df-46b58920-856d-4998-9858-3c7c11548b12');\n",
              "          const dataTable =\n",
              "            await google.colab.kernel.invokeFunction('convertToInteractive',\n",
              "                                                     [key], {});\n",
              "          if (!dataTable) return;\n",
              "\n",
              "          const docLinkHtml = 'Like what you see? Visit the ' +\n",
              "            '<a target=\"_blank\" href=https://colab.research.google.com/notebooks/data_table.ipynb>data table notebook</a>'\n",
              "            + ' to learn more about interactive tables.';\n",
              "          element.innerHTML = '';\n",
              "          dataTable['output_type'] = 'display_data';\n",
              "          await google.colab.output.renderOutput(dataTable, element);\n",
              "          const docLink = document.createElement('div');\n",
              "          docLink.innerHTML = docLinkHtml;\n",
              "          element.appendChild(docLink);\n",
              "        }\n",
              "      </script>\n",
              "    </div>\n",
              "  </div>\n",
              "  "
            ]
          },
          "metadata": {},
          "execution_count": 22
        }
      ]
    },
    {
      "cell_type": "code",
      "source": [
        "#x_train, x_test, y_train, y_test = train_test_split(df2oftype2['sentence'],df2oftype2['maslowLabel'],test_size = 0.2, random_state = 0, stratify = df2oftype2['maslowLabel'])\n",
        "x_train_text = original_train_data['sentence']\n",
        "y_train_text = original_train_data['maslow']\n",
        "x_test_text = original_test_data['sentence']\n",
        "y_test_text = original_test_data['maslow']\n",
        "\n",
        "x_train = original_train_data['sentence']\n",
        "y_train = original_train_data['maslowLabel']\n",
        "x_test = original_test_data['sentence']\n",
        "y_test = original_test_data['maslowLabel']\n",
        "print(x_train.shape)\n",
        "print(x_test.shape)\n",
        "#print(x_val.shape)"
      ],
      "metadata": {
        "execution": {
          "iopub.status.busy": "2022-08-12T10:00:52.321172Z",
          "iopub.execute_input": "2022-08-12T10:00:52.321549Z",
          "iopub.status.idle": "2022-08-12T10:00:52.328998Z",
          "shell.execute_reply.started": "2022-08-12T10:00:52.321519Z",
          "shell.execute_reply": "2022-08-12T10:00:52.327700Z"
        },
        "trusted": true,
        "colab": {
          "base_uri": "https://localhost:8080/"
        },
        "id": "wnZgi-8hAoRi",
        "outputId": "a68a6d77-1901-4ff7-ea31-43d012f4b015"
      },
      "execution_count": 23,
      "outputs": [
        {
          "output_type": "stream",
          "name": "stdout",
          "text": [
            "(16474,)\n",
            "(4119,)\n"
          ]
        }
      ]
    },
    {
      "cell_type": "code",
      "source": [
        "y_test_text"
      ],
      "metadata": {
        "execution": {
          "iopub.status.busy": "2022-08-12T10:00:55.478568Z",
          "iopub.execute_input": "2022-08-12T10:00:55.478939Z",
          "iopub.status.idle": "2022-08-12T10:00:55.487630Z",
          "shell.execute_reply.started": "2022-08-12T10:00:55.478908Z",
          "shell.execute_reply": "2022-08-12T10:00:55.486437Z"
        },
        "trusted": true,
        "colab": {
          "base_uri": "https://localhost:8080/"
        },
        "id": "rjOWlKTTAoRj",
        "outputId": "6d4db53d-d63a-4b2e-b703-8f7f6beb4f44"
      },
      "execution_count": 24,
      "outputs": [
        {
          "output_type": "execute_result",
          "data": {
            "text/plain": [
              "0          need\n",
              "1          need\n",
              "2          need\n",
              "3          need\n",
              "4          need\n",
              "         ...   \n",
              "4114       need\n",
              "4115       need\n",
              "4116    no need\n",
              "4117    no need\n",
              "4118       need\n",
              "Name: maslow, Length: 4119, dtype: object"
            ]
          },
          "metadata": {},
          "execution_count": 24
        }
      ]
    },
    {
      "cell_type": "code",
      "source": [
        "y_test"
      ],
      "metadata": {
        "execution": {
          "iopub.status.busy": "2022-08-12T10:01:01.891620Z",
          "iopub.execute_input": "2022-08-12T10:01:01.892285Z",
          "iopub.status.idle": "2022-08-12T10:01:01.901686Z",
          "shell.execute_reply.started": "2022-08-12T10:01:01.892249Z",
          "shell.execute_reply": "2022-08-12T10:01:01.900501Z"
        },
        "trusted": true,
        "colab": {
          "base_uri": "https://localhost:8080/"
        },
        "id": "ElPvKLtRAoRj",
        "outputId": "e135a5d4-112e-45c6-e461-2bc2f01a2f57"
      },
      "execution_count": 25,
      "outputs": [
        {
          "output_type": "execute_result",
          "data": {
            "text/plain": [
              "0       0\n",
              "1       0\n",
              "2       0\n",
              "3       0\n",
              "4       0\n",
              "       ..\n",
              "4114    0\n",
              "4115    0\n",
              "4116    1\n",
              "4117    1\n",
              "4118    0\n",
              "Name: maslowLabel, Length: 4119, dtype: int64"
            ]
          },
          "metadata": {},
          "execution_count": 25
        }
      ]
    },
    {
      "cell_type": "code",
      "source": [
        "unique, counts = np.unique(y_train, return_counts=True)\n",
        "result = np.column_stack((unique, counts)) \n",
        "print (result)"
      ],
      "metadata": {
        "execution": {
          "iopub.status.busy": "2022-08-12T10:01:05.108255Z",
          "iopub.execute_input": "2022-08-12T10:01:05.108609Z",
          "iopub.status.idle": "2022-08-12T10:01:05.116010Z",
          "shell.execute_reply.started": "2022-08-12T10:01:05.108578Z",
          "shell.execute_reply": "2022-08-12T10:01:05.114970Z"
        },
        "trusted": true,
        "colab": {
          "base_uri": "https://localhost:8080/"
        },
        "id": "BsC0L_-UAoRk",
        "outputId": "a2bfe17e-a8eb-42d4-96c7-1d8c9cd76b2e"
      },
      "execution_count": 26,
      "outputs": [
        {
          "output_type": "stream",
          "name": "stdout",
          "text": [
            "[[    0 14440]\n",
            " [    1  2034]]\n"
          ]
        }
      ]
    },
    {
      "cell_type": "code",
      "source": [
        "unique, counts = np.unique(y_test, return_counts=True)\n",
        "result = np.column_stack((unique, counts)) \n",
        "print (result)"
      ],
      "metadata": {
        "execution": {
          "iopub.status.busy": "2022-08-12T10:01:08.415153Z",
          "iopub.execute_input": "2022-08-12T10:01:08.415523Z",
          "iopub.status.idle": "2022-08-12T10:01:08.423126Z",
          "shell.execute_reply.started": "2022-08-12T10:01:08.415491Z",
          "shell.execute_reply": "2022-08-12T10:01:08.421893Z"
        },
        "trusted": true,
        "colab": {
          "base_uri": "https://localhost:8080/"
        },
        "id": "W7UviYFdAoRk",
        "outputId": "64ac4dcd-173d-41f5-f7d1-b0e7e95ed507"
      },
      "execution_count": 27,
      "outputs": [
        {
          "output_type": "stream",
          "name": "stdout",
          "text": [
            "[[   0 3610]\n",
            " [   1  509]]\n"
          ]
        }
      ]
    },
    {
      "cell_type": "code",
      "source": [
        "y_train = tf.keras.utils.to_categorical(y_train)\n",
        "y_test =  tf.keras.utils.to_categorical(y_test)\n",
        "y_train"
      ],
      "metadata": {
        "execution": {
          "iopub.status.busy": "2022-08-12T10:01:11.023497Z",
          "iopub.execute_input": "2022-08-12T10:01:11.023952Z",
          "iopub.status.idle": "2022-08-12T10:01:11.034116Z",
          "shell.execute_reply.started": "2022-08-12T10:01:11.023918Z",
          "shell.execute_reply": "2022-08-12T10:01:11.032565Z"
        },
        "trusted": true,
        "colab": {
          "base_uri": "https://localhost:8080/"
        },
        "id": "UoSYHV4rAoRl",
        "outputId": "803d9429-9e89-4b53-faac-6a3a3567f8c5"
      },
      "execution_count": 28,
      "outputs": [
        {
          "output_type": "execute_result",
          "data": {
            "text/plain": [
              "array([[1., 0.],\n",
              "       [0., 1.],\n",
              "       [1., 0.],\n",
              "       ...,\n",
              "       [1., 0.],\n",
              "       [1., 0.],\n",
              "       [1., 0.]], dtype=float32)"
            ]
          },
          "metadata": {},
          "execution_count": 28
        }
      ]
    },
    {
      "cell_type": "code",
      "source": [
        "print(\"Num GPUs Available: \", len(tf.config.list_physical_devices('GPU')))"
      ],
      "metadata": {
        "execution": {
          "iopub.status.busy": "2022-08-12T10:01:13.662468Z",
          "iopub.execute_input": "2022-08-12T10:01:13.662846Z",
          "iopub.status.idle": "2022-08-12T10:01:13.668597Z",
          "shell.execute_reply.started": "2022-08-12T10:01:13.662812Z",
          "shell.execute_reply": "2022-08-12T10:01:13.667596Z"
        },
        "trusted": true,
        "colab": {
          "base_uri": "https://localhost:8080/"
        },
        "id": "VzRY98t7AoRl",
        "outputId": "1b0852a0-c56d-4a2c-ee6f-d696c6e56f04"
      },
      "execution_count": 29,
      "outputs": [
        {
          "output_type": "stream",
          "name": "stdout",
          "text": [
            "Num GPUs Available:  1\n"
          ]
        }
      ]
    },
    {
      "cell_type": "code",
      "source": [
        "bert_model_name = 'small_bert/bert_en_uncased_L-4_H-768_A-12' \n",
        "\n",
        "map_name_to_handle = {\n",
        "    'bert_en_uncased_L-12_H-768_A-12':\n",
        "        'https://tfhub.dev/tensorflow/bert_en_uncased_L-12_H-768_A-12/3',\n",
        "    'bert_en_cased_L-12_H-768_A-12':\n",
        "        'https://tfhub.dev/tensorflow/bert_en_cased_L-12_H-768_A-12/3',\n",
        "    'bert_multi_cased_L-12_H-768_A-12':\n",
        "        'https://tfhub.dev/tensorflow/bert_multi_cased_L-12_H-768_A-12/3',\n",
        "    'small_bert/bert_en_uncased_L-2_H-128_A-2':\n",
        "        'https://tfhub.dev/tensorflow/small_bert/bert_en_uncased_L-2_H-128_A-2/1',\n",
        "    'small_bert/bert_en_uncased_L-2_H-256_A-4':\n",
        "        'https://tfhub.dev/tensorflow/small_bert/bert_en_uncased_L-2_H-256_A-4/1',\n",
        "    'small_bert/bert_en_uncased_L-2_H-512_A-8':\n",
        "        'https://tfhub.dev/tensorflow/small_bert/bert_en_uncased_L-2_H-512_A-8/1',\n",
        "    'small_bert/bert_en_uncased_L-2_H-768_A-12':\n",
        "        'https://tfhub.dev/tensorflow/small_bert/bert_en_uncased_L-2_H-768_A-12/1',\n",
        "    'small_bert/bert_en_uncased_L-4_H-128_A-2':\n",
        "        'https://tfhub.dev/tensorflow/small_bert/bert_en_uncased_L-4_H-128_A-2/1',\n",
        "    'small_bert/bert_en_uncased_L-4_H-256_A-4':\n",
        "        'https://tfhub.dev/tensorflow/small_bert/bert_en_uncased_L-4_H-256_A-4/1',\n",
        "    'small_bert/bert_en_uncased_L-4_H-512_A-8':\n",
        "        'https://tfhub.dev/tensorflow/small_bert/bert_en_uncased_L-4_H-512_A-8/1',\n",
        "    'small_bert/bert_en_uncased_L-4_H-768_A-12':\n",
        "        'https://tfhub.dev/tensorflow/small_bert/bert_en_uncased_L-4_H-768_A-12/1',\n",
        "    'small_bert/bert_en_uncased_L-6_H-128_A-2':\n",
        "        'https://tfhub.dev/tensorflow/small_bert/bert_en_uncased_L-6_H-128_A-2/1',\n",
        "    'small_bert/bert_en_uncased_L-6_H-256_A-4':\n",
        "        'https://tfhub.dev/tensorflow/small_bert/bert_en_uncased_L-6_H-256_A-4/1',\n",
        "    'small_bert/bert_en_uncased_L-6_H-512_A-8':\n",
        "        'https://tfhub.dev/tensorflow/small_bert/bert_en_uncased_L-6_H-512_A-8/1',\n",
        "    'small_bert/bert_en_uncased_L-6_H-768_A-12':\n",
        "        'https://tfhub.dev/tensorflow/small_bert/bert_en_uncased_L-6_H-768_A-12/1',\n",
        "    'small_bert/bert_en_uncased_L-8_H-128_A-2':\n",
        "        'https://tfhub.dev/tensorflow/small_bert/bert_en_uncased_L-8_H-128_A-2/1',\n",
        "    'small_bert/bert_en_uncased_L-8_H-256_A-4':\n",
        "        'https://tfhub.dev/tensorflow/small_bert/bert_en_uncased_L-8_H-256_A-4/1',\n",
        "    'small_bert/bert_en_uncased_L-8_H-512_A-8':\n",
        "        'https://tfhub.dev/tensorflow/small_bert/bert_en_uncased_L-8_H-512_A-8/1',\n",
        "    'small_bert/bert_en_uncased_L-8_H-768_A-12':\n",
        "        'https://tfhub.dev/tensorflow/small_bert/bert_en_uncased_L-8_H-768_A-12/1',\n",
        "    'small_bert/bert_en_uncased_L-10_H-128_A-2':\n",
        "        'https://tfhub.dev/tensorflow/small_bert/bert_en_uncased_L-10_H-128_A-2/1',\n",
        "    'small_bert/bert_en_uncased_L-10_H-256_A-4':\n",
        "        'https://tfhub.dev/tensorflow/small_bert/bert_en_uncased_L-10_H-256_A-4/1',\n",
        "    'small_bert/bert_en_uncased_L-10_H-512_A-8':\n",
        "        'https://tfhub.dev/tensorflow/small_bert/bert_en_uncased_L-10_H-512_A-8/1',\n",
        "    'small_bert/bert_en_uncased_L-10_H-768_A-12':\n",
        "        'https://tfhub.dev/tensorflow/small_bert/bert_en_uncased_L-10_H-768_A-12/1',\n",
        "    'small_bert/bert_en_uncased_L-12_H-128_A-2':\n",
        "        'https://tfhub.dev/tensorflow/small_bert/bert_en_uncased_L-12_H-128_A-2/1',\n",
        "    'small_bert/bert_en_uncased_L-12_H-256_A-4':\n",
        "        'https://tfhub.dev/tensorflow/small_bert/bert_en_uncased_L-12_H-256_A-4/1',\n",
        "    'small_bert/bert_en_uncased_L-12_H-512_A-8':\n",
        "        'https://tfhub.dev/tensorflow/small_bert/bert_en_uncased_L-12_H-512_A-8/1',\n",
        "    'small_bert/bert_en_uncased_L-12_H-768_A-12':\n",
        "        'https://tfhub.dev/tensorflow/small_bert/bert_en_uncased_L-12_H-768_A-12/1',\n",
        "    'albert_en_base':\n",
        "        'https://tfhub.dev/tensorflow/albert_en_base/2',\n",
        "    'electra_small':\n",
        "        'https://tfhub.dev/google/electra_small/2',\n",
        "    'electra_base':\n",
        "        'https://tfhub.dev/google/electra_base/2',\n",
        "    'experts_pubmed':\n",
        "        'https://tfhub.dev/google/experts/bert/pubmed/2',\n",
        "    'experts_wiki_books':\n",
        "        'https://tfhub.dev/google/experts/bert/wiki_books/2',\n",
        "    'talking-heads_base':\n",
        "        'https://tfhub.dev/tensorflow/talkheads_ggelu_bert_en_base/1',\n",
        "}\n",
        "\n",
        "map_model_to_preprocess = {\n",
        "    'bert_en_uncased_L-12_H-768_A-12':\n",
        "        'https://tfhub.dev/tensorflow/bert_en_uncased_preprocess/3',\n",
        "    'bert_en_cased_L-12_H-768_A-12':\n",
        "        'https://tfhub.dev/tensorflow/bert_en_cased_preprocess/3',\n",
        "    'small_bert/bert_en_uncased_L-2_H-128_A-2':\n",
        "        'https://tfhub.dev/tensorflow/bert_en_uncased_preprocess/3',\n",
        "    'small_bert/bert_en_uncased_L-2_H-256_A-4':\n",
        "        'https://tfhub.dev/tensorflow/bert_en_uncased_preprocess/3',\n",
        "    'small_bert/bert_en_uncased_L-2_H-512_A-8':\n",
        "        'https://tfhub.dev/tensorflow/bert_en_uncased_preprocess/3',\n",
        "    'small_bert/bert_en_uncased_L-2_H-768_A-12':\n",
        "        'https://tfhub.dev/tensorflow/bert_en_uncased_preprocess/3',\n",
        "    'small_bert/bert_en_uncased_L-4_H-128_A-2':\n",
        "        'https://tfhub.dev/tensorflow/bert_en_uncased_preprocess/3',\n",
        "    'small_bert/bert_en_uncased_L-4_H-256_A-4':\n",
        "        'https://tfhub.dev/tensorflow/bert_en_uncased_preprocess/3',\n",
        "    'small_bert/bert_en_uncased_L-4_H-512_A-8':\n",
        "        'https://tfhub.dev/tensorflow/bert_en_uncased_preprocess/3',\n",
        "    'small_bert/bert_en_uncased_L-4_H-768_A-12':\n",
        "        'https://tfhub.dev/tensorflow/bert_en_uncased_preprocess/3',\n",
        "    'small_bert/bert_en_uncased_L-6_H-128_A-2':\n",
        "        'https://tfhub.dev/tensorflow/bert_en_uncased_preprocess/3',\n",
        "    'small_bert/bert_en_uncased_L-6_H-256_A-4':\n",
        "        'https://tfhub.dev/tensorflow/bert_en_uncased_preprocess/3',\n",
        "    'small_bert/bert_en_uncased_L-6_H-512_A-8':\n",
        "        'https://tfhub.dev/tensorflow/bert_en_uncased_preprocess/3',\n",
        "    'small_bert/bert_en_uncased_L-6_H-768_A-12':\n",
        "        'https://tfhub.dev/tensorflow/bert_en_uncased_preprocess/3',\n",
        "    'small_bert/bert_en_uncased_L-8_H-128_A-2':\n",
        "        'https://tfhub.dev/tensorflow/bert_en_uncased_preprocess/3',\n",
        "    'small_bert/bert_en_uncased_L-8_H-256_A-4':\n",
        "        'https://tfhub.dev/tensorflow/bert_en_uncased_preprocess/3',\n",
        "    'small_bert/bert_en_uncased_L-8_H-512_A-8':\n",
        "        'https://tfhub.dev/tensorflow/bert_en_uncased_preprocess/3',\n",
        "    'small_bert/bert_en_uncased_L-8_H-768_A-12':\n",
        "        'https://tfhub.dev/tensorflow/bert_en_uncased_preprocess/3',\n",
        "    'small_bert/bert_en_uncased_L-10_H-128_A-2':\n",
        "        'https://tfhub.dev/tensorflow/bert_en_uncased_preprocess/3',\n",
        "    'small_bert/bert_en_uncased_L-10_H-256_A-4':\n",
        "        'https://tfhub.dev/tensorflow/bert_en_uncased_preprocess/3',\n",
        "    'small_bert/bert_en_uncased_L-10_H-512_A-8':\n",
        "        'https://tfhub.dev/tensorflow/bert_en_uncased_preprocess/3',\n",
        "    'small_bert/bert_en_uncased_L-10_H-768_A-12':\n",
        "        'https://tfhub.dev/tensorflow/bert_en_uncased_preprocess/3',\n",
        "    'small_bert/bert_en_uncased_L-12_H-128_A-2':\n",
        "        'https://tfhub.dev/tensorflow/bert_en_uncased_preprocess/3',\n",
        "    'small_bert/bert_en_uncased_L-12_H-256_A-4':\n",
        "        'https://tfhub.dev/tensorflow/bert_en_uncased_preprocess/3',\n",
        "    'small_bert/bert_en_uncased_L-12_H-512_A-8':\n",
        "        'https://tfhub.dev/tensorflow/bert_en_uncased_preprocess/3',\n",
        "    'small_bert/bert_en_uncased_L-12_H-768_A-12':\n",
        "        'https://tfhub.dev/tensorflow/bert_en_uncased_preprocess/3',\n",
        "    'bert_multi_cased_L-12_H-768_A-12':\n",
        "        'https://tfhub.dev/tensorflow/bert_multi_cased_preprocess/3',\n",
        "    'albert_en_base':\n",
        "        'https://tfhub.dev/tensorflow/albert_en_preprocess/3',\n",
        "    'electra_small':\n",
        "        'https://tfhub.dev/tensorflow/bert_en_uncased_preprocess/3',\n",
        "    'electra_base':\n",
        "        'https://tfhub.dev/tensorflow/bert_en_uncased_preprocess/3',\n",
        "    'experts_pubmed':\n",
        "        'https://tfhub.dev/tensorflow/bert_en_uncased_preprocess/3',\n",
        "    'experts_wiki_books':\n",
        "        'https://tfhub.dev/tensorflow/bert_en_uncased_preprocess/3',\n",
        "    'talking-heads_base':\n",
        "        'https://tfhub.dev/tensorflow/bert_en_uncased_preprocess/3',\n",
        "}\n",
        "\n",
        "bert_encoder = map_name_to_handle[bert_model_name]\n",
        "bert_preprocess = map_model_to_preprocess[bert_model_name]\n",
        "\n",
        "print(f'BERT model selected           : {bert_encoder}')\n",
        "print(f'Preprocess model auto-selected: {bert_preprocess}')"
      ],
      "metadata": {
        "execution": {
          "iopub.status.busy": "2022-08-12T10:01:15.296951Z",
          "iopub.execute_input": "2022-08-12T10:01:15.297305Z",
          "iopub.status.idle": "2022-08-12T10:01:15.313798Z",
          "shell.execute_reply.started": "2022-08-12T10:01:15.297268Z",
          "shell.execute_reply": "2022-08-12T10:01:15.312695Z"
        },
        "trusted": true,
        "colab": {
          "base_uri": "https://localhost:8080/"
        },
        "id": "eEpvWaP6AoRm",
        "outputId": "6aabb633-c61c-4b80-b0fa-16d929ea60f6"
      },
      "execution_count": 30,
      "outputs": [
        {
          "output_type": "stream",
          "name": "stdout",
          "text": [
            "BERT model selected           : https://tfhub.dev/tensorflow/small_bert/bert_en_uncased_L-4_H-768_A-12/1\n",
            "Preprocess model auto-selected: https://tfhub.dev/tensorflow/bert_en_uncased_preprocess/3\n"
          ]
        }
      ]
    },
    {
      "cell_type": "code",
      "source": [
        "bert_preprocess = hub.KerasLayer(\"https://tfhub.dev/tensorflow/bert_en_uncased_preprocess/3\")\n",
        "bert_encoder = hub.KerasLayer(\"https://tfhub.dev/tensorflow/small_bert/bert_en_uncased_L-4_H-768_A-12/1\")"
      ],
      "metadata": {
        "execution": {
          "iopub.status.busy": "2022-08-12T10:01:17.397635Z",
          "iopub.execute_input": "2022-08-12T10:01:17.398318Z",
          "iopub.status.idle": "2022-08-12T10:01:24.666762Z",
          "shell.execute_reply.started": "2022-08-12T10:01:17.398283Z",
          "shell.execute_reply": "2022-08-12T10:01:24.665784Z"
        },
        "trusted": true,
        "id": "N5vl7cT9AoRo"
      },
      "execution_count": 31,
      "outputs": []
    },
    {
      "cell_type": "code",
      "source": [
        "#!pip install keras-tuner --upgrade\n",
        "#import keras_tuner"
      ],
      "metadata": {
        "execution": {
          "iopub.status.busy": "2022-08-12T08:31:32.648711Z",
          "iopub.execute_input": "2022-08-12T08:31:32.649078Z",
          "iopub.status.idle": "2022-08-12T08:31:32.653597Z",
          "shell.execute_reply.started": "2022-08-12T08:31:32.649042Z",
          "shell.execute_reply": "2022-08-12T08:31:32.652609Z"
        },
        "trusted": true,
        "id": "05mlMSgRAoRo"
      },
      "execution_count": null,
      "outputs": []
    },
    {
      "cell_type": "code",
      "source": [
        "def focal_loss(gamma=2., alpha=4.):   \n",
        "\n",
        "    gamma = float(gamma)\n",
        "    alpha = float(alpha)\n",
        "\n",
        "    def focal_loss_fixed(y_true, y_pred):\n",
        "        \"\"\"Focal loss for multi-classification\n",
        "        FL(p_t)=-alpha(1-p_t)^{gamma}ln(p_t)\n",
        "        Notice: y_pred is probability after softmax\n",
        "        gradient is d(Fl)/d(p_t) not d(Fl)/d(x) as described in paper\n",
        "        d(Fl)/d(p_t) * [p_t(1-p_t)] = d(Fl)/d(x)\n",
        "        Focal Loss for Dense Object Detection\n",
        "        https://arxiv.org/abs/1708.02002\n",
        "\n",
        "        Arguments:\n",
        "            y_true {tensor} -- ground truth labels, shape of [batch_size, num_cls]\n",
        "            y_pred {tensor} -- model's output, shape of [batch_size, num_cls]\n",
        "\n",
        "        Keyword Arguments:\n",
        "            gamma {float} -- (default: {2.0})\n",
        "            alpha {float} -- (default: {4.0})\n",
        "\n",
        "        Returns:\n",
        "            [tensor] -- loss.\n",
        "        \"\"\"\n",
        "        epsilon = 1.e-9\n",
        "        y_true = tf.convert_to_tensor(y_true, tf.float32)\n",
        "        y_pred = tf.convert_to_tensor(y_pred, tf.float32)\n",
        "\n",
        "        model_out = tf.add(y_pred, epsilon)\n",
        "        ce = tf.multiply(y_true, -tf.math.log(model_out))\n",
        "        weight = tf.multiply(y_true, tf.pow(tf.subtract(1., model_out), gamma))\n",
        "        fl = tf.multiply(alpha, tf.multiply(weight, ce))\n",
        "        reduced_fl = tf.reduce_max(fl, axis=1)\n",
        "        return tf.reduce_mean(reduced_fl)\n",
        "    return focal_loss_fixed\n",
        "\n",
        "METRICS = [\n",
        "      keras.metrics.TruePositives(name='tp'),\n",
        "      keras.metrics.FalsePositives(name='fp'),\n",
        "      keras.metrics.TrueNegatives(name='tn'),\n",
        "      keras.metrics.FalseNegatives(name='fn'), \n",
        "      keras.metrics.CategoricalCrossentropy(name='categorical_cross_entropy'),\n",
        "      keras.metrics.Precision(name='precision'),\n",
        "      keras.metrics.Recall(name='recall'),\n",
        "      keras.metrics.AUC(name='auc'),\n",
        "      keras.metrics.AUC(name='prc', curve='PR'), # precision-recall curve\n",
        "      'accuracy'\n",
        "]"
      ],
      "metadata": {
        "execution": {
          "iopub.status.busy": "2022-08-12T10:01:24.668801Z",
          "iopub.execute_input": "2022-08-12T10:01:24.669160Z",
          "iopub.status.idle": "2022-08-12T10:01:24.699935Z",
          "shell.execute_reply.started": "2022-08-12T10:01:24.669125Z",
          "shell.execute_reply": "2022-08-12T10:01:24.699055Z"
        },
        "trusted": true,
        "id": "n0ncJMEwAoRp"
      },
      "execution_count": 32,
      "outputs": []
    },
    {
      "cell_type": "code",
      "source": [
        "\n",
        "# Note the training variable in the Batch Normalization function. This is required because Batch Normalization operates differently during training vs. the application stage– during training the z score is computed using the batch mean and variance, while in inference, it’s computed using a mean and variance estimated from the entire training set.\n",
        "text_input = tf.keras.layers.Input(shape=(), dtype=tf.string, name='text')\n",
        "preprocessed_text = bert_preprocess(text_input)\n",
        "outputs = bert_encoder(preprocessed_text)\n",
        "l = tf.keras.layers.Dropout(0.6, name=\"dropout1\")(outputs['pooled_output'])\n",
        "l = tf.keras.layers.Dense(units = 128, activation = 'relu', kernel_initializer = 'he_uniform',name = 'layer1')(l)\n",
        "l = tf.keras.layers.BatchNormalization()(l, training= True)\n",
        "\n",
        "l = tf.keras.layers.Dropout(0.5, name=\"dropout2\")(l)\n",
        "l = tf.keras.layers.Dense(units = 128, activation = None, kernel_initializer = 'he_uniform',name = 'layer2')(l)\n",
        "l = tf.keras.layers.BatchNormalization()(l, training= True)\n",
        "\n",
        "l = tf.keras.layers.Dropout(0.6, name=\"dropout3\")(l)\n",
        "l = tf.keras.layers.Dense(units = 128, activation = None, kernel_initializer = 'he_uniform',name = 'layer3')(l)\n",
        "l = tf.keras.layers.Dense(2, activation='softmax', name=\"output\")(l)\n",
        "model = tf.keras.Model(inputs=[text_input], outputs = [l])\n",
        "model.compile(loss= focal_loss(alpha=0.1, gamma = 2) , optimizer='adam', metrics=METRICS)"
      ],
      "metadata": {
        "execution": {
          "iopub.status.busy": "2022-08-12T10:01:24.701496Z",
          "iopub.execute_input": "2022-08-12T10:01:24.701896Z",
          "iopub.status.idle": "2022-08-12T10:01:24.931952Z",
          "shell.execute_reply.started": "2022-08-12T10:01:24.701861Z",
          "shell.execute_reply": "2022-08-12T10:01:24.930920Z"
        },
        "trusted": true,
        "id": "VJR8WJ1IAoRq"
      },
      "execution_count": 33,
      "outputs": []
    },
    {
      "cell_type": "code",
      "source": [
        "model.summary()"
      ],
      "metadata": {
        "execution": {
          "iopub.status.busy": "2022-08-12T10:01:24.934095Z",
          "iopub.execute_input": "2022-08-12T10:01:24.934450Z",
          "iopub.status.idle": "2022-08-12T10:01:24.981308Z",
          "shell.execute_reply.started": "2022-08-12T10:01:24.934414Z",
          "shell.execute_reply": "2022-08-12T10:01:24.980525Z"
        },
        "trusted": true,
        "colab": {
          "base_uri": "https://localhost:8080/"
        },
        "id": "1qEo3MJsAoR1",
        "outputId": "a8cd1621-0fc1-43a1-b6f4-f4f5e874eb84"
      },
      "execution_count": 34,
      "outputs": [
        {
          "output_type": "stream",
          "name": "stdout",
          "text": [
            "Model: \"model\"\n",
            "__________________________________________________________________________________________________\n",
            " Layer (type)                   Output Shape         Param #     Connected to                     \n",
            "==================================================================================================\n",
            " text (InputLayer)              [(None,)]            0           []                               \n",
            "                                                                                                  \n",
            " keras_layer (KerasLayer)       {'input_word_ids':   0           ['text[0][0]']                   \n",
            "                                (None, 128),                                                      \n",
            "                                 'input_mask': (Non                                               \n",
            "                                e, 128),                                                          \n",
            "                                 'input_type_ids':                                                \n",
            "                                (None, 128)}                                                      \n",
            "                                                                                                  \n",
            " keras_layer_1 (KerasLayer)     {'pooled_output': (  52779265    ['keras_layer[0][0]',            \n",
            "                                None, 768),                       'keras_layer[0][1]',            \n",
            "                                 'encoder_outputs':               'keras_layer[0][2]']            \n",
            "                                 [(None, 128, 768),                                               \n",
            "                                 (None, 128, 768),                                                \n",
            "                                 (None, 128, 768),                                                \n",
            "                                 (None, 128, 768)],                                               \n",
            "                                 'sequence_output':                                               \n",
            "                                 (None, 128, 768),                                                \n",
            "                                 'default': (None,                                                \n",
            "                                768)}                                                             \n",
            "                                                                                                  \n",
            " dropout1 (Dropout)             (None, 768)          0           ['keras_layer_1[0][5]']          \n",
            "                                                                                                  \n",
            " layer1 (Dense)                 (None, 128)          98432       ['dropout1[0][0]']               \n",
            "                                                                                                  \n",
            " batch_normalization (BatchNorm  (None, 128)         512         ['layer1[0][0]']                 \n",
            " alization)                                                                                       \n",
            "                                                                                                  \n",
            " dropout2 (Dropout)             (None, 128)          0           ['batch_normalization[0][0]']    \n",
            "                                                                                                  \n",
            " layer2 (Dense)                 (None, 128)          16512       ['dropout2[0][0]']               \n",
            "                                                                                                  \n",
            " batch_normalization_1 (BatchNo  (None, 128)         512         ['layer2[0][0]']                 \n",
            " rmalization)                                                                                     \n",
            "                                                                                                  \n",
            " dropout3 (Dropout)             (None, 128)          0           ['batch_normalization_1[0][0]']  \n",
            "                                                                                                  \n",
            " layer3 (Dense)                 (None, 128)          16512       ['dropout3[0][0]']               \n",
            "                                                                                                  \n",
            " output (Dense)                 (None, 2)            258         ['layer3[0][0]']                 \n",
            "                                                                                                  \n",
            "==================================================================================================\n",
            "Total params: 52,912,003\n",
            "Trainable params: 132,226\n",
            "Non-trainable params: 52,779,777\n",
            "__________________________________________________________________________________________________\n"
          ]
        }
      ]
    },
    {
      "cell_type": "code",
      "source": [
        "checkpoint_filepath = '/tmp/checkpoint'\n",
        "model_checkpoint_callback = tf.keras.callbacks.ModelCheckpoint(\n",
        "    filepath=checkpoint_filepath,\n",
        "    save_weights_only=True,\n",
        "    monitor='val_accuracy',\n",
        "    mode='max',\n",
        "    save_best_only=True)\n",
        "\n",
        "callback = tf.keras.callbacks.EarlyStopping(\n",
        "    monitor='val_loss',\n",
        "    min_delta=0,\n",
        "    patience=5,\n",
        "    verbose=0,\n",
        "    mode='auto',\n",
        "    baseline=None,\n",
        "    restore_best_weights=False,\n",
        "\n",
        ")\n",
        "\n",
        "reduce_lr = tf.keras.callbacks.ReduceLROnPlateau(monitor = 'val_accuracy',\n",
        "                                                 factor = 0.2,\n",
        "                                                 patience = 1,\n",
        "                                                 verbose = 1,\n",
        "                                                 min_delta = 1e-4,\n",
        "                                                 min_lr = 1e-7,\n",
        "                                                 mode = 'max')          # Reduce learning rate when a metric has stopped improving.\n",
        "\n",
        "# Model weights are saved at the end of every epoch, if it's the best seen\n",
        "# so far.\n",
        "# compile model\n",
        "model.compile(loss= focal_loss(alpha=0.1, gamma = 2) , optimizer='adam', metrics=METRICS)\n",
        "history = model.fit(x_train, y_train,epochs=20, verbose=1, validation_data = (x_test,y_test), batch_size  = 8,callbacks=[model_checkpoint_callback,callback, reduce_lr])"
      ],
      "metadata": {
        "execution": {
          "iopub.status.busy": "2022-08-12T10:01:34.214830Z",
          "iopub.execute_input": "2022-08-12T10:01:34.215622Z",
          "iopub.status.idle": "2022-08-12T10:13:34.006174Z",
          "shell.execute_reply.started": "2022-08-12T10:01:34.215585Z",
          "shell.execute_reply": "2022-08-12T10:13:34.005156Z"
        },
        "trusted": true,
        "colab": {
          "base_uri": "https://localhost:8080/"
        },
        "id": "12R5I-NCAoR2",
        "outputId": "89ce28e0-2d56-47f5-cea2-f47dab8d0a56"
      },
      "execution_count": 35,
      "outputs": [
        {
          "output_type": "stream",
          "name": "stdout",
          "text": [
            "Epoch 1/20\n",
            "2060/2060 [==============================] - 108s 48ms/step - loss: 0.0184 - tp: 13214.0000 - fp: 3260.0000 - tn: 13214.0000 - fn: 3260.0000 - categorical_cross_entropy: 0.5082 - precision: 0.8021 - recall: 0.8021 - auc: 0.8438 - prc: 0.8102 - accuracy: 0.8021 - val_loss: 0.0107 - val_tp: 3598.0000 - val_fp: 521.0000 - val_tn: 3598.0000 - val_fn: 521.0000 - val_categorical_cross_entropy: 0.4532 - val_precision: 0.8735 - val_recall: 0.8735 - val_auc: 0.8900 - val_prc: 0.8668 - val_accuracy: 0.8735 - lr: 0.0010\n",
            "Epoch 2/20\n",
            "2060/2060 [==============================] - 100s 49ms/step - loss: 0.0116 - tp: 14096.0000 - fp: 2378.0000 - tn: 14096.0000 - fn: 2378.0000 - categorical_cross_entropy: 0.4829 - precision: 0.8557 - recall: 0.8557 - auc: 0.8787 - prc: 0.8506 - accuracy: 0.8557 - val_loss: 0.0100 - val_tp: 3610.0000 - val_fp: 509.0000 - val_tn: 3610.0000 - val_fn: 509.0000 - val_categorical_cross_entropy: 0.4607 - val_precision: 0.8764 - val_recall: 0.8764 - val_auc: 0.8998 - val_prc: 0.8848 - val_accuracy: 0.8764 - lr: 0.0010\n",
            "Epoch 3/20\n",
            "2059/2060 [============================>.] - ETA: 0s - loss: 0.0106 - tp: 14309.0000 - fp: 2163.0000 - tn: 14309.0000 - fn: 2163.0000 - categorical_cross_entropy: 0.4769 - precision: 0.8687 - recall: 0.8687 - auc: 0.8883 - prc: 0.8669 - accuracy: 0.8687\n",
            "Epoch 3: ReduceLROnPlateau reducing learning rate to 0.00020000000949949026.\n",
            "2060/2060 [==============================] - 99s 48ms/step - loss: 0.0106 - tp: 14311.0000 - fp: 2163.0000 - tn: 14311.0000 - fn: 2163.0000 - categorical_cross_entropy: 0.4769 - precision: 0.8687 - recall: 0.8687 - auc: 0.8883 - prc: 0.8669 - accuracy: 0.8687 - val_loss: 0.0099 - val_tp: 3606.0000 - val_fp: 513.0000 - val_tn: 3606.0000 - val_fn: 513.0000 - val_categorical_cross_entropy: 0.4700 - val_precision: 0.8755 - val_recall: 0.8755 - val_auc: 0.9014 - val_prc: 0.8851 - val_accuracy: 0.8755 - lr: 0.0010\n",
            "Epoch 4/20\n",
            "2059/2060 [============================>.] - ETA: 0s - loss: 0.0098 - tp: 14430.0000 - fp: 2042.0000 - tn: 14430.0000 - fn: 2042.0000 - categorical_cross_entropy: 0.4718 - precision: 0.8760 - recall: 0.8760 - auc: 0.9006 - prc: 0.8850 - accuracy: 0.8760\n",
            "Epoch 4: ReduceLROnPlateau reducing learning rate to 4.0000001899898055e-05.\n",
            "2060/2060 [==============================] - 99s 48ms/step - loss: 0.0098 - tp: 14432.0000 - fp: 2042.0000 - tn: 14432.0000 - fn: 2042.0000 - categorical_cross_entropy: 0.4718 - precision: 0.8760 - recall: 0.8760 - auc: 0.9007 - prc: 0.8851 - accuracy: 0.8760 - val_loss: 0.0100 - val_tp: 3607.0000 - val_fp: 512.0000 - val_tn: 3607.0000 - val_fn: 512.0000 - val_categorical_cross_entropy: 0.4716 - val_precision: 0.8757 - val_recall: 0.8757 - val_auc: 0.8999 - val_prc: 0.8835 - val_accuracy: 0.8757 - lr: 2.0000e-04\n",
            "Epoch 5/20\n",
            "2059/2060 [============================>.] - ETA: 0s - loss: 0.0097 - tp: 14436.0000 - fp: 2036.0000 - tn: 14436.0000 - fn: 2036.0000 - categorical_cross_entropy: 0.4708 - precision: 0.8764 - recall: 0.8764 - auc: 0.9023 - prc: 0.8859 - accuracy: 0.8764\n",
            "Epoch 5: ReduceLROnPlateau reducing learning rate to 8.000000525498762e-06.\n",
            "2060/2060 [==============================] - 99s 48ms/step - loss: 0.0097 - tp: 14438.0000 - fp: 2036.0000 - tn: 14438.0000 - fn: 2036.0000 - categorical_cross_entropy: 0.4708 - precision: 0.8764 - recall: 0.8764 - auc: 0.9023 - prc: 0.8859 - accuracy: 0.8764 - val_loss: 0.0098 - val_tp: 3610.0000 - val_fp: 509.0000 - val_tn: 3610.0000 - val_fn: 509.0000 - val_categorical_cross_entropy: 0.4708 - val_precision: 0.8764 - val_recall: 0.8764 - val_auc: 0.9032 - val_prc: 0.8885 - val_accuracy: 0.8764 - lr: 4.0000e-05\n",
            "Epoch 6/20\n",
            "2060/2060 [==============================] - ETA: 0s - loss: 0.0096 - tp: 14438.0000 - fp: 2036.0000 - tn: 14438.0000 - fn: 2036.0000 - categorical_cross_entropy: 0.4702 - precision: 0.8764 - recall: 0.8764 - auc: 0.9049 - prc: 0.8907 - accuracy: 0.8764\n",
            "Epoch 6: ReduceLROnPlateau reducing learning rate to 1.6000001778593287e-06.\n",
            "2060/2060 [==============================] - 99s 48ms/step - loss: 0.0096 - tp: 14438.0000 - fp: 2036.0000 - tn: 14438.0000 - fn: 2036.0000 - categorical_cross_entropy: 0.4702 - precision: 0.8764 - recall: 0.8764 - auc: 0.9049 - prc: 0.8907 - accuracy: 0.8764 - val_loss: 0.0098 - val_tp: 3610.0000 - val_fp: 509.0000 - val_tn: 3610.0000 - val_fn: 509.0000 - val_categorical_cross_entropy: 0.4708 - val_precision: 0.8764 - val_recall: 0.8764 - val_auc: 0.9036 - val_prc: 0.8888 - val_accuracy: 0.8764 - lr: 8.0000e-06\n",
            "Epoch 7/20\n",
            "2060/2060 [==============================] - ETA: 0s - loss: 0.0097 - tp: 14440.0000 - fp: 2034.0000 - tn: 14440.0000 - fn: 2034.0000 - categorical_cross_entropy: 0.4706 - precision: 0.8765 - recall: 0.8765 - auc: 0.9039 - prc: 0.8896 - accuracy: 0.8765\n",
            "Epoch 7: ReduceLROnPlateau reducing learning rate to 3.200000264769187e-07.\n",
            "2060/2060 [==============================] - 99s 48ms/step - loss: 0.0097 - tp: 14440.0000 - fp: 2034.0000 - tn: 14440.0000 - fn: 2034.0000 - categorical_cross_entropy: 0.4706 - precision: 0.8765 - recall: 0.8765 - auc: 0.9039 - prc: 0.8896 - accuracy: 0.8765 - val_loss: 0.0098 - val_tp: 3610.0000 - val_fp: 509.0000 - val_tn: 3610.0000 - val_fn: 509.0000 - val_categorical_cross_entropy: 0.4708 - val_precision: 0.8764 - val_recall: 0.8764 - val_auc: 0.9036 - val_prc: 0.8887 - val_accuracy: 0.8764 - lr: 1.6000e-06\n",
            "Epoch 8/20\n",
            "2059/2060 [============================>.] - ETA: 0s - loss: 0.0096 - tp: 14438.0000 - fp: 2034.0000 - tn: 14438.0000 - fn: 2034.0000 - categorical_cross_entropy: 0.4701 - precision: 0.8765 - recall: 0.8765 - auc: 0.9048 - prc: 0.8898 - accuracy: 0.8765\n",
            "Epoch 8: ReduceLROnPlateau reducing learning rate to 1e-07.\n",
            "2060/2060 [==============================] - 98s 48ms/step - loss: 0.0096 - tp: 14440.0000 - fp: 2034.0000 - tn: 14440.0000 - fn: 2034.0000 - categorical_cross_entropy: 0.4701 - precision: 0.8765 - recall: 0.8765 - auc: 0.9048 - prc: 0.8898 - accuracy: 0.8765 - val_loss: 0.0098 - val_tp: 3610.0000 - val_fp: 509.0000 - val_tn: 3610.0000 - val_fn: 509.0000 - val_categorical_cross_entropy: 0.4708 - val_precision: 0.8764 - val_recall: 0.8764 - val_auc: 0.9035 - val_prc: 0.8887 - val_accuracy: 0.8764 - lr: 3.2000e-07\n",
            "Epoch 9/20\n",
            "2060/2060 [==============================] - 98s 48ms/step - loss: 0.0097 - tp: 14440.0000 - fp: 2034.0000 - tn: 14440.0000 - fn: 2034.0000 - categorical_cross_entropy: 0.4707 - precision: 0.8765 - recall: 0.8765 - auc: 0.9040 - prc: 0.8873 - accuracy: 0.8765 - val_loss: 0.0098 - val_tp: 3610.0000 - val_fp: 509.0000 - val_tn: 3610.0000 - val_fn: 509.0000 - val_categorical_cross_entropy: 0.4708 - val_precision: 0.8764 - val_recall: 0.8764 - val_auc: 0.9035 - val_prc: 0.8886 - val_accuracy: 0.8764 - lr: 1.0000e-07\n",
            "Epoch 10/20\n",
            "2060/2060 [==============================] - 98s 48ms/step - loss: 0.0096 - tp: 14439.0000 - fp: 2035.0000 - tn: 14439.0000 - fn: 2035.0000 - categorical_cross_entropy: 0.4701 - precision: 0.8765 - recall: 0.8765 - auc: 0.9053 - prc: 0.8918 - accuracy: 0.8765 - val_loss: 0.0098 - val_tp: 3610.0000 - val_fp: 509.0000 - val_tn: 3610.0000 - val_fn: 509.0000 - val_categorical_cross_entropy: 0.4708 - val_precision: 0.8764 - val_recall: 0.8764 - val_auc: 0.9035 - val_prc: 0.8886 - val_accuracy: 0.8764 - lr: 1.0000e-07\n"
          ]
        }
      ]
    },
    {
      "cell_type": "code",
      "source": [
        "model.load_weights(checkpoint_filepath)\n",
        "model.evaluate(x_test, y_test)\n",
        "# 0.1,0.1,0.01"
      ],
      "metadata": {
        "execution": {
          "iopub.status.busy": "2022-08-12T10:19:22.607503Z",
          "iopub.execute_input": "2022-08-12T10:19:22.607911Z",
          "iopub.status.idle": "2022-08-12T10:20:22.725534Z",
          "shell.execute_reply.started": "2022-08-12T10:19:22.607880Z",
          "shell.execute_reply": "2022-08-12T10:20:22.724428Z"
        },
        "trusted": true,
        "colab": {
          "base_uri": "https://localhost:8080/"
        },
        "id": "1oxskZgHAoR2",
        "outputId": "779794ee-c32d-4856-9c5a-6ea2d259f740"
      },
      "execution_count": 36,
      "outputs": [
        {
          "output_type": "stream",
          "name": "stdout",
          "text": [
            "129/129 [==============================] - 19s 148ms/step - loss: 0.0099 - tp: 3601.0000 - fp: 518.0000 - tn: 3601.0000 - fn: 518.0000 - categorical_cross_entropy: 0.4598 - precision: 0.8742 - recall: 0.8742 - auc: 0.9013 - prc: 0.8864 - accuracy: 0.8742\n"
          ]
        },
        {
          "output_type": "execute_result",
          "data": {
            "text/plain": [
              "[0.009921510703861713,\n",
              " 3601.0,\n",
              " 518.0,\n",
              " 3601.0,\n",
              " 518.0,\n",
              " 0.4598177969455719,\n",
              " 0.874241292476654,\n",
              " 0.874241292476654,\n",
              " 0.9012849926948547,\n",
              " 0.8863688707351685,\n",
              " 0.874241292476654]"
            ]
          },
          "metadata": {},
          "execution_count": 36
        }
      ]
    },
    {
      "cell_type": "code",
      "source": [
        "print(history.history.keys())"
      ],
      "metadata": {
        "execution": {
          "iopub.status.busy": "2022-08-12T10:20:22.727712Z",
          "iopub.execute_input": "2022-08-12T10:20:22.728113Z",
          "iopub.status.idle": "2022-08-12T10:20:22.733567Z",
          "shell.execute_reply.started": "2022-08-12T10:20:22.728077Z",
          "shell.execute_reply": "2022-08-12T10:20:22.732518Z"
        },
        "trusted": true,
        "colab": {
          "base_uri": "https://localhost:8080/"
        },
        "id": "DKfdRDqvAoR2",
        "outputId": "0776dfd2-7728-4d62-b58f-772dfd7135f3"
      },
      "execution_count": 37,
      "outputs": [
        {
          "output_type": "stream",
          "name": "stdout",
          "text": [
            "dict_keys(['loss', 'tp', 'fp', 'tn', 'fn', 'categorical_cross_entropy', 'precision', 'recall', 'auc', 'prc', 'accuracy', 'val_loss', 'val_tp', 'val_fp', 'val_tn', 'val_fn', 'val_categorical_cross_entropy', 'val_precision', 'val_recall', 'val_auc', 'val_prc', 'val_accuracy', 'lr'])\n"
          ]
        }
      ]
    },
    {
      "cell_type": "code",
      "source": [
        "plt.plot(history.history['loss'], '-o', label='Train Loss')\n",
        "plt.plot(history.history['val_loss'], '-o', label = 'Val Loss')\n",
        "plt.legend()"
      ],
      "metadata": {
        "execution": {
          "iopub.status.busy": "2022-08-12T10:20:22.735402Z",
          "iopub.execute_input": "2022-08-12T10:20:22.735845Z",
          "iopub.status.idle": "2022-08-12T10:20:22.960737Z",
          "shell.execute_reply.started": "2022-08-12T10:20:22.735811Z",
          "shell.execute_reply": "2022-08-12T10:20:22.959850Z"
        },
        "trusted": true,
        "colab": {
          "base_uri": "https://localhost:8080/",
          "height": 282
        },
        "id": "fM6zwngxAoR3",
        "outputId": "46717b82-d397-485b-81ef-a1b83c56a1cf"
      },
      "execution_count": 38,
      "outputs": [
        {
          "output_type": "execute_result",
          "data": {
            "text/plain": [
              "<matplotlib.legend.Legend at 0x7f2a746fef90>"
            ]
          },
          "metadata": {},
          "execution_count": 38
        },
        {
          "output_type": "display_data",
          "data": {
            "text/plain": [
              "<Figure size 432x288 with 1 Axes>"
            ],
            "image/png": "[encoded data removed]"
          },
          "metadata": {
            "needs_background": "light"
          }
        }
      ]
    },
    {
      "cell_type": "code",
      "source": [
        "plt.plot(history.history['accuracy'], '-o', label='Train Accuracy')\n",
        "plt.plot(history.history['val_accuracy'], '-o', label = 'Val Accuracy')\n",
        "plt.legend()"
      ],
      "metadata": {
        "execution": {
          "iopub.status.busy": "2022-08-12T10:20:22.964050Z",
          "iopub.execute_input": "2022-08-12T10:20:22.964369Z",
          "iopub.status.idle": "2022-08-12T10:20:23.169377Z",
          "shell.execute_reply.started": "2022-08-12T10:20:22.964340Z",
          "shell.execute_reply": "2022-08-12T10:20:23.168511Z"
        },
        "trusted": true,
        "colab": {
          "base_uri": "https://localhost:8080/",
          "height": 286
        },
        "id": "mC1o6XQqAoR3",
        "outputId": "bfb3c25a-4d68-48a7-9be7-ed636afa4ed5"
      },
      "execution_count": 39,
      "outputs": [
        {
          "output_type": "execute_result",
          "data": {
            "text/plain": [
              "<matplotlib.legend.Legend at 0x7f2a7473eb10>"
            ]
          },
          "metadata": {},
          "execution_count": 39
        },
        {
          "output_type": "display_data",
          "data": {
            "text/plain": [
              "<Figure size 432x288 with 1 Axes>"
            ],
            "image/png": "[encoded data removed]"
          },
          "metadata": {
            "needs_background": "light"
          }
        }
      ]
    },
    {
      "cell_type": "code",
      "source": [
        "plt.plot(history.history['precision'], '-o', label='Train Precision')\n",
        "plt.plot(history.history['recall'], '-o', label = 'Train Recall')\n",
        "plt.plot(history.history['val_precision'], '-o', label='Val Precision')\n",
        "plt.plot(history.history['val_recall'], '-o', label = 'Val Recall')\n",
        "plt.legend()"
      ],
      "metadata": {
        "execution": {
          "iopub.status.busy": "2022-08-12T10:20:23.170968Z",
          "iopub.execute_input": "2022-08-12T10:20:23.171311Z",
          "iopub.status.idle": "2022-08-12T10:20:23.386781Z",
          "shell.execute_reply.started": "2022-08-12T10:20:23.171267Z",
          "shell.execute_reply": "2022-08-12T10:20:23.385752Z"
        },
        "trusted": true,
        "colab": {
          "base_uri": "https://localhost:8080/",
          "height": 286
        },
        "id": "gh_CnrczAoR3",
        "outputId": "f58f5023-bf6d-4149-b92d-69313db48e48"
      },
      "execution_count": 40,
      "outputs": [
        {
          "output_type": "execute_result",
          "data": {
            "text/plain": [
              "<matplotlib.legend.Legend at 0x7f2a88d2e8d0>"
            ]
          },
          "metadata": {},
          "execution_count": 40
        },
        {
          "output_type": "display_data",
          "data": {
            "text/plain": [
              "<Figure size 432x288 with 1 Axes>"
            ],
            "image/png": "[encoded data removed]"
          },
          "metadata": {
            "needs_background": "light"
          }
        }
      ]
    },
    {
      "cell_type": "code",
      "source": [
        "y_pred2 = model.predict(x_test)"
      ],
      "metadata": {
        "execution": {
          "iopub.status.busy": "2022-08-12T10:20:23.388172Z",
          "iopub.execute_input": "2022-08-12T10:20:23.388637Z",
          "iopub.status.idle": "2022-08-12T10:20:44.366659Z",
          "shell.execute_reply.started": "2022-08-12T10:20:23.388600Z",
          "shell.execute_reply": "2022-08-12T10:20:44.365571Z"
        },
        "trusted": true,
        "id": "ar6djSsXAoR4"
      },
      "execution_count": 41,
      "outputs": []
    },
    {
      "cell_type": "code",
      "source": [
        "y_pred2[2]"
      ],
      "metadata": {
        "execution": {
          "iopub.status.busy": "2022-08-12T10:20:44.368532Z",
          "iopub.execute_input": "2022-08-12T10:20:44.370012Z",
          "iopub.status.idle": "2022-08-12T10:20:44.379708Z",
          "shell.execute_reply.started": "2022-08-12T10:20:44.369973Z",
          "shell.execute_reply": "2022-08-12T10:20:44.378437Z"
        },
        "trusted": true,
        "colab": {
          "base_uri": "https://localhost:8080/"
        },
        "id": "D12WGwGvAoR4",
        "outputId": "c0e8524a-21c7-4b5a-c5c5-f651f3b9b596"
      },
      "execution_count": 42,
      "outputs": [
        {
          "output_type": "execute_result",
          "data": {
            "text/plain": [
              "array([0.44880497, 0.5511951 ], dtype=float32)"
            ]
          },
          "metadata": {},
          "execution_count": 42
        }
      ]
    },
    {
      "cell_type": "code",
      "source": [
        "def get_predictions(y_pred2):\n",
        "    review_predictions2 = []\n",
        "    for prediction in y_pred2:\n",
        "        x = prediction\n",
        "        review_predictions2.append(np.argmax(x))\n",
        "\n",
        "    review_predictions2 = np.array(review_predictions2)\n",
        "    review_predictions2.reshape(1,-1)\n",
        "    print(review_predictions2.shape)\n",
        "    return review_predictions2"
      ],
      "metadata": {
        "execution": {
          "iopub.status.busy": "2022-08-12T10:20:44.384849Z",
          "iopub.execute_input": "2022-08-12T10:20:44.385628Z",
          "iopub.status.idle": "2022-08-12T10:20:44.391850Z",
          "shell.execute_reply.started": "2022-08-12T10:20:44.385589Z",
          "shell.execute_reply": "2022-08-12T10:20:44.390770Z"
        },
        "trusted": true,
        "id": "XDoNN6dtAoR4"
      },
      "execution_count": 43,
      "outputs": []
    },
    {
      "cell_type": "code",
      "source": [
        "review_predictions2 = get_predictions(y_pred2)"
      ],
      "metadata": {
        "execution": {
          "iopub.status.busy": "2022-08-12T10:20:44.393283Z",
          "iopub.execute_input": "2022-08-12T10:20:44.394264Z",
          "iopub.status.idle": "2022-08-12T10:20:44.415293Z",
          "shell.execute_reply.started": "2022-08-12T10:20:44.394218Z",
          "shell.execute_reply": "2022-08-12T10:20:44.414241Z"
        },
        "trusted": true,
        "colab": {
          "base_uri": "https://localhost:8080/"
        },
        "id": "37LAg56-AoR4",
        "outputId": "10ff16b4-6a95-41aa-ce8c-6a4ecf27b474"
      },
      "execution_count": 44,
      "outputs": [
        {
          "output_type": "stream",
          "name": "stdout",
          "text": [
            "(4119,)\n"
          ]
        }
      ]
    },
    {
      "cell_type": "code",
      "source": [
        "review_predictions2"
      ],
      "metadata": {
        "execution": {
          "iopub.status.busy": "2022-08-12T10:20:44.419812Z",
          "iopub.execute_input": "2022-08-12T10:20:44.420140Z",
          "iopub.status.idle": "2022-08-12T10:20:44.431435Z",
          "shell.execute_reply.started": "2022-08-12T10:20:44.420110Z",
          "shell.execute_reply": "2022-08-12T10:20:44.430064Z"
        },
        "trusted": true,
        "colab": {
          "base_uri": "https://localhost:8080/"
        },
        "id": "I-JcZ9htAoR5",
        "outputId": "8b3e1321-325c-4599-a5ec-d8c21c63da90"
      },
      "execution_count": 45,
      "outputs": [
        {
          "output_type": "execute_result",
          "data": {
            "text/plain": [
              "array([0, 0, 1, ..., 0, 0, 0])"
            ]
          },
          "metadata": {},
          "execution_count": 45
        }
      ]
    },
    {
      "cell_type": "code",
      "source": [
        "k = pd.DataFrame(review_predictions2, columns = ['Label'])\n",
        "k.groupby('Label')['Label'].count()"
      ],
      "metadata": {
        "execution": {
          "iopub.status.busy": "2022-08-12T10:20:44.433067Z",
          "iopub.execute_input": "2022-08-12T10:20:44.433932Z",
          "iopub.status.idle": "2022-08-12T10:20:44.446747Z",
          "shell.execute_reply.started": "2022-08-12T10:20:44.433890Z",
          "shell.execute_reply": "2022-08-12T10:20:44.445268Z"
        },
        "trusted": true,
        "colab": {
          "base_uri": "https://localhost:8080/"
        },
        "id": "A5q6bWmaAoR5",
        "outputId": "757cc3ba-6ab9-4aa6-eafb-253540eb3a1e"
      },
      "execution_count": 46,
      "outputs": [
        {
          "output_type": "execute_result",
          "data": {
            "text/plain": [
              "Label\n",
              "0    4108\n",
              "1      11\n",
              "Name: Label, dtype: int64"
            ]
          },
          "metadata": {},
          "execution_count": 46
        }
      ]
    },
    {
      "cell_type": "code",
      "source": [
        "y_test_text"
      ],
      "metadata": {
        "execution": {
          "iopub.status.busy": "2022-08-12T10:20:44.448410Z",
          "iopub.execute_input": "2022-08-12T10:20:44.449152Z",
          "iopub.status.idle": "2022-08-12T10:20:44.458388Z",
          "shell.execute_reply.started": "2022-08-12T10:20:44.449109Z",
          "shell.execute_reply": "2022-08-12T10:20:44.457203Z"
        },
        "trusted": true,
        "colab": {
          "base_uri": "https://localhost:8080/"
        },
        "id": "j7hcF8PKAoR5",
        "outputId": "dabcdab0-cb83-41a7-baf4-09d405a8026e"
      },
      "execution_count": 47,
      "outputs": [
        {
          "output_type": "execute_result",
          "data": {
            "text/plain": [
              "0          need\n",
              "1          need\n",
              "2          need\n",
              "3          need\n",
              "4          need\n",
              "         ...   \n",
              "4114       need\n",
              "4115       need\n",
              "4116    no need\n",
              "4117    no need\n",
              "4118       need\n",
              "Name: maslow, Length: 4119, dtype: object"
            ]
          },
          "metadata": {},
          "execution_count": 47
        }
      ]
    },
    {
      "cell_type": "code",
      "source": [
        "integer_label = original_test_data['maslowLabel']"
      ],
      "metadata": {
        "execution": {
          "iopub.status.busy": "2022-08-12T10:20:44.460021Z",
          "iopub.execute_input": "2022-08-12T10:20:44.460713Z",
          "iopub.status.idle": "2022-08-12T10:20:44.466320Z",
          "shell.execute_reply.started": "2022-08-12T10:20:44.460673Z",
          "shell.execute_reply": "2022-08-12T10:20:44.465275Z"
        },
        "trusted": true,
        "id": "OtTdrnZpAoR6"
      },
      "execution_count": 48,
      "outputs": []
    },
    {
      "cell_type": "code",
      "source": [
        "integer_label = integer_label.reset_index(drop = True)"
      ],
      "metadata": {
        "execution": {
          "iopub.status.busy": "2022-08-12T10:20:44.467938Z",
          "iopub.execute_input": "2022-08-12T10:20:44.468784Z",
          "iopub.status.idle": "2022-08-12T10:20:44.475304Z",
          "shell.execute_reply.started": "2022-08-12T10:20:44.468721Z",
          "shell.execute_reply": "2022-08-12T10:20:44.474414Z"
        },
        "trusted": true,
        "id": "xBX2FRw1AoR6"
      },
      "execution_count": 49,
      "outputs": []
    },
    {
      "cell_type": "code",
      "source": [
        "integer_label"
      ],
      "metadata": {
        "execution": {
          "iopub.status.busy": "2022-08-12T10:20:44.477851Z",
          "iopub.execute_input": "2022-08-12T10:20:44.478975Z",
          "iopub.status.idle": "2022-08-12T10:20:44.487624Z",
          "shell.execute_reply.started": "2022-08-12T10:20:44.478940Z",
          "shell.execute_reply": "2022-08-12T10:20:44.486540Z"
        },
        "trusted": true,
        "colab": {
          "base_uri": "https://localhost:8080/"
        },
        "id": "6F1WpnnJAoR6",
        "outputId": "9ae4e927-a7cd-4353-a7a6-4f9a87983edb"
      },
      "execution_count": 50,
      "outputs": [
        {
          "output_type": "execute_result",
          "data": {
            "text/plain": [
              "0       0\n",
              "1       0\n",
              "2       0\n",
              "3       0\n",
              "4       0\n",
              "       ..\n",
              "4114    0\n",
              "4115    0\n",
              "4116    1\n",
              "4117    1\n",
              "4118    0\n",
              "Name: maslowLabel, Length: 4119, dtype: int64"
            ]
          },
          "metadata": {},
          "execution_count": 50
        }
      ]
    },
    {
      "cell_type": "code",
      "source": [
        "review_predictions2[:10]"
      ],
      "metadata": {
        "execution": {
          "iopub.status.busy": "2022-08-12T10:20:44.490927Z",
          "iopub.execute_input": "2022-08-12T10:20:44.493097Z",
          "iopub.status.idle": "2022-08-12T10:20:44.499663Z",
          "shell.execute_reply.started": "2022-08-12T10:20:44.493070Z",
          "shell.execute_reply": "2022-08-12T10:20:44.498619Z"
        },
        "trusted": true,
        "colab": {
          "base_uri": "https://localhost:8080/"
        },
        "id": "PpdCUQmLAoR6",
        "outputId": "4ceb8c9f-edff-40b5-9445-fe751dd560bb"
      },
      "execution_count": 51,
      "outputs": [
        {
          "output_type": "execute_result",
          "data": {
            "text/plain": [
              "array([0, 0, 1, 0, 0, 0, 0, 0, 0, 0])"
            ]
          },
          "metadata": {},
          "execution_count": 51
        }
      ]
    },
    {
      "cell_type": "code",
      "source": [
        "def make_confusion_matrix(cf,group_names=None,categories='auto',count=True,\n",
        "                          percent=True,\n",
        "                          cbar=True,\n",
        "                          xyticks=True,\n",
        "                          xyplotlabels=True,\n",
        "                          sum_stats=True,\n",
        "                          figsize=None,\n",
        "                          cmap='Blues',\n",
        "                          title=None):\n",
        "    '''\n",
        "    This function will make a pretty plot of an sklearn Confusion Matrix cm using a Seaborn heatmap visualization.\n",
        "    Arguments\n",
        "    ---------\n",
        "    cf:            confusion matrix to be passed in\n",
        "    group_names:   List of strings that represent the labels row by row to be shown in each square.\n",
        "    categories:    List of strings containing the categories to be displayed on the x,y axis. Default is 'auto'\n",
        "    count:         If True, show the raw number in the confusion matrix. Default is True.\n",
        "    normalize:     If True, show the proportions for each category. Default is True.\n",
        "    cbar:          If True, show the color bar. The cbar values are based off the values in the confusion matrix.\n",
        "                   Default is True.\n",
        "    xyticks:       If True, show x and y ticks. Default is True.\n",
        "    xyplotlabels:  If True, show 'True Label' and 'Predicted Label' on the figure. Default is True.\n",
        "    sum_stats:     If True, display summary statistics below the figure. Default is True.\n",
        "    figsize:       Tuple representing the figure size. Default will be the matplotlib rcParams value.\n",
        "    cmap:          Colormap of the values displayed from matplotlib.pyplot.cm. Default is 'Blues'\n",
        "                   See http://matplotlib.org/examples/color/colormaps_reference.html\n",
        "                   \n",
        "    title:         Title for the heatmap. Default is None.\n",
        "    '''\n",
        "\n",
        "\n",
        "    # CODE TO GENERATE TEXT INSIDE EACH SQUARE\n",
        "    blanks = ['' for i in range(cf.size)]\n",
        "\n",
        "    if group_names and len(group_names)==cf.size:\n",
        "        group_labels = [\"{}\\n\".format(value) for value in group_names]\n",
        "    else:\n",
        "        group_labels = blanks\n",
        "\n",
        "    if count:\n",
        "        group_counts = [\"{0:0.0f}\\n\".format(value) for value in cf.flatten()]\n",
        "    else:\n",
        "        group_counts = blanks\n",
        "\n",
        "    if percent:\n",
        "        group_percentages = [\"{0:.2%}\".format(value) for value in cf.flatten()/np.sum(cf)]\n",
        "    else:\n",
        "        group_percentages = blanks\n",
        "\n",
        "    box_labels = [f\"{v1}{v2}{v3}\".strip() for v1, v2, v3 in zip(group_labels,group_counts,group_percentages)]\n",
        "    box_labels = np.asarray(box_labels).reshape(cf.shape[0],cf.shape[1])\n",
        "\n",
        "\n",
        "    # CODE TO GENERATE SUMMARY STATISTICS & TEXT FOR SUMMARY STATS\n",
        "    if sum_stats:\n",
        "        #Accuracy is sum of diagonal divided by total observations\n",
        "        accuracy  = np.trace(cf) / float(np.sum(cf))\n",
        "\n",
        "        #if it is a binary confusion matrix, show some more stats\n",
        "        if len(cf)==2:\n",
        "            #Metrics for Binary Confusion Matrices\n",
        "            precision = cf[1,1] / sum(cf[:,1])\n",
        "            recall    = cf[1,1] / sum(cf[1,:])\n",
        "            f1_score  = 2*precision*recall / (precision + recall)\n",
        "            stats_text = \"\\n\\nAccuracy={:0.3f}\\nPrecision={:0.3f}\\nRecall={:0.3f}\\nF1 Score={:0.3f}\".format(\n",
        "                accuracy,precision,recall,f1_score)\n",
        "        else:\n",
        "            stats_text = \"\\n\\nAccuracy={:0.3f}\".format(accuracy)\n",
        "    else:\n",
        "        stats_text = \"\"\n",
        "\n",
        "\n",
        "    # SET FIGURE PARAMETERS ACCORDING TO OTHER ARGUMENTS\n",
        "    if figsize==None:\n",
        "        #Get default figure size if not set\n",
        "        figsize = plt.rcParams.get('figure.figsize')\n",
        "\n",
        "    if xyticks==False:\n",
        "        #Do not show categories if xyticks is False\n",
        "        categories=False\n",
        "\n",
        "\n",
        "    # MAKE THE HEATMAP VISUALIZATION\n",
        "    plt.figure(figsize=figsize)\n",
        "    sns.heatmap(cf,annot=box_labels,fmt=\"\",cmap=cmap,cbar=cbar,xticklabels=categories,yticklabels=categories)\n",
        "\n",
        "    if xyplotlabels:\n",
        "        plt.ylabel('True label')\n",
        "        plt.xlabel('Predicted label' + stats_text)\n",
        "    else:\n",
        "        plt.xlabel(stats_text)\n",
        "    \n",
        "    if title:\n",
        "        plt.title(title)"
      ],
      "metadata": {
        "execution": {
          "iopub.status.busy": "2022-08-12T10:20:44.501281Z",
          "iopub.execute_input": "2022-08-12T10:20:44.501898Z",
          "iopub.status.idle": "2022-08-12T10:20:44.517120Z",
          "shell.execute_reply.started": "2022-08-12T10:20:44.501862Z",
          "shell.execute_reply": "2022-08-12T10:20:44.516082Z"
        },
        "trusted": true,
        "id": "czwxhTHLAoR7"
      },
      "execution_count": 52,
      "outputs": []
    },
    {
      "cell_type": "code",
      "source": [
        "original_test_data.head()\n",
        "uniqueClassesMaslowLabel2 = list(original_test_data['maslow'].unique())\n",
        "uniqueClassesMaslow2 = list(original_test_data['maslowLabel'].unique())\n",
        "uniqueClassesMaslowLabel2 = ['need','no need']\n",
        "uniqueClassesMaslow2 = [0,1]\n",
        "print(uniqueClassesMaslowLabel2)\n",
        "print(uniqueClassesMaslow2)\n",
        "print(classification_report(review_predictions2, integer_label,target_names = uniqueClassesMaslowLabel2))"
      ],
      "metadata": {
        "execution": {
          "iopub.status.busy": "2022-08-12T10:22:02.270975Z",
          "iopub.execute_input": "2022-08-12T10:22:02.271333Z",
          "iopub.status.idle": "2022-08-12T10:22:02.289527Z",
          "shell.execute_reply.started": "2022-08-12T10:22:02.271303Z",
          "shell.execute_reply": "2022-08-12T10:22:02.288506Z"
        },
        "trusted": true,
        "colab": {
          "base_uri": "https://localhost:8080/"
        },
        "id": "yCqhuSeeAoR7",
        "outputId": "d9f62659-5e4d-4117-c3f4-2692d08f7204"
      },
      "execution_count": 53,
      "outputs": [
        {
          "output_type": "stream",
          "name": "stdout",
          "text": [
            "['need', 'no need']\n",
            "[0, 1]\n",
            "              precision    recall  f1-score   support\n",
            "\n",
            "        need       1.00      0.88      0.93      4108\n",
            "     no need       0.00      0.09      0.00        11\n",
            "\n",
            "    accuracy                           0.87      4119\n",
            "   macro avg       0.50      0.48      0.47      4119\n",
            "weighted avg       0.99      0.87      0.93      4119\n",
            "\n"
          ]
        }
      ]
    },
    {
      "cell_type": "code",
      "source": [
        "review_predictions2"
      ],
      "metadata": {
        "execution": {
          "iopub.status.busy": "2022-08-12T10:22:08.440678Z",
          "iopub.execute_input": "2022-08-12T10:22:08.441374Z",
          "iopub.status.idle": "2022-08-12T10:22:08.448185Z",
          "shell.execute_reply.started": "2022-08-12T10:22:08.441338Z",
          "shell.execute_reply": "2022-08-12T10:22:08.447035Z"
        },
        "trusted": true,
        "colab": {
          "base_uri": "https://localhost:8080/"
        },
        "id": "m8v_JQp7AoR7",
        "outputId": "50b146f8-50dd-4f73-904d-c1728126c68f"
      },
      "execution_count": 54,
      "outputs": [
        {
          "output_type": "execute_result",
          "data": {
            "text/plain": [
              "array([0, 0, 1, ..., 0, 0, 0])"
            ]
          },
          "metadata": {},
          "execution_count": 54
        }
      ]
    },
    {
      "cell_type": "code",
      "source": [
        "import seaborn as sns\n",
        "r2 = sklearn.metrics.confusion_matrix(review_predictions2, integer_label)\n",
        "print(r2)\n",
        "ax = sns.heatmap(r2, annot=True, cmap='Blues')\n",
        "\n",
        "ax.set_title('Seaborn Confusion Matrix with labels\\n\\n');\n",
        "ax.set_xlabel('\\nPredicted Values')\n",
        "ax.set_ylabel('Actual Values ');"
      ],
      "metadata": {
        "execution": {
          "iopub.status.busy": "2022-08-12T10:22:10.089544Z",
          "iopub.execute_input": "2022-08-12T10:22:10.089914Z",
          "iopub.status.idle": "2022-08-12T10:22:10.319592Z",
          "shell.execute_reply.started": "2022-08-12T10:22:10.089884Z",
          "shell.execute_reply": "2022-08-12T10:22:10.318624Z"
        },
        "trusted": true,
        "colab": {
          "base_uri": "https://localhost:8080/",
          "height": 372
        },
        "id": "JwkC_PhKAoR8",
        "outputId": "8ecbd500-fd6d-4fc1-9bc0-4cbddecdc5c6"
      },
      "execution_count": 55,
      "outputs": [
        {
          "output_type": "stream",
          "name": "stdout",
          "text": [
            "[[3600  508]\n",
            " [  10    1]]\n"
          ]
        },
        {
          "output_type": "display_data",
          "data": {
            "text/plain": [
              "<Figure size 432x288 with 2 Axes>"
            ],
            "image/png": "[encoded data removed]"
          },
          "metadata": {
            "needs_background": "light"
          }
        }
      ]
    },
    {
      "cell_type": "code",
      "source": [
        "make_confusion_matrix(r2, group_names=uniqueClassesMaslow2, categories=uniqueClassesMaslowLabel2, cmap='Blues')"
      ],
      "metadata": {
        "execution": {
          "iopub.status.busy": "2022-08-12T10:22:11.937281Z",
          "iopub.execute_input": "2022-08-12T10:22:11.937944Z",
          "iopub.status.idle": "2022-08-12T10:22:12.164523Z",
          "shell.execute_reply.started": "2022-08-12T10:22:11.937907Z",
          "shell.execute_reply": "2022-08-12T10:22:12.163595Z"
        },
        "trusted": true,
        "colab": {
          "base_uri": "https://localhost:8080/",
          "height": 337
        },
        "id": "w9zutvaeAoR8",
        "outputId": "1e1cb193-4ce7-4aa1-83c1-85f8412f44c8"
      },
      "execution_count": 56,
      "outputs": [
        {
          "output_type": "display_data",
          "data": {
            "text/plain": [
              "<Figure size 432x288 with 2 Axes>"
            ],
            "image/png": "[encoded data removed]"
          },
          "metadata": {
            "needs_background": "light"
          }
        }
      ]
    },
    {
      "cell_type": "code",
      "source": [
        "print(uniqueClassesMaslowLabel2)\n",
        "print(uniqueClassesMaslow2)"
      ],
      "metadata": {
        "execution": {
          "iopub.status.busy": "2022-08-12T10:22:13.937656Z",
          "iopub.execute_input": "2022-08-12T10:22:13.938329Z",
          "iopub.status.idle": "2022-08-12T10:22:13.943195Z",
          "shell.execute_reply.started": "2022-08-12T10:22:13.938294Z",
          "shell.execute_reply": "2022-08-12T10:22:13.942216Z"
        },
        "trusted": true,
        "colab": {
          "base_uri": "https://localhost:8080/"
        },
        "id": "TycBJO9iAoR8",
        "outputId": "9a0d817c-d259-4a43-d036-fadf2a3134fd"
      },
      "execution_count": 57,
      "outputs": [
        {
          "output_type": "stream",
          "name": "stdout",
          "text": [
            "['need', 'no need']\n",
            "[0, 1]\n"
          ]
        }
      ]
    },
    {
      "cell_type": "code",
      "source": [
        "x_test_text = x_test_text.reset_index(drop = True)\n",
        "x_test_text[0:5]"
      ],
      "metadata": {
        "execution": {
          "iopub.status.busy": "2022-08-12T10:22:15.977981Z",
          "iopub.execute_input": "2022-08-12T10:22:15.978544Z",
          "iopub.status.idle": "2022-08-12T10:22:15.986531Z",
          "shell.execute_reply.started": "2022-08-12T10:22:15.978510Z",
          "shell.execute_reply": "2022-08-12T10:22:15.985579Z"
        },
        "trusted": true,
        "colab": {
          "base_uri": "https://localhost:8080/"
        },
        "id": "rIULqsGwAoR9",
        "outputId": "83658418-52d4-46f4-fe3b-beee51652e48"
      },
      "execution_count": 58,
      "outputs": [
        {
          "output_type": "execute_result",
          "data": {
            "text/plain": [
              "0    Jamies job requires her to travel a lot.She ha...\n",
              "1    Andy was craving some cereal.He picked out som...\n",
              "2                                 Karl locked his car.\n",
              "3    I was bullied in high school.I had one bully i...\n",
              "4             Kay was at work when a headache started.\n",
              "Name: sentence, dtype: object"
            ]
          },
          "metadata": {},
          "execution_count": 58
        }
      ]
    },
    {
      "cell_type": "code",
      "source": [
        "y_test"
      ],
      "metadata": {
        "execution": {
          "iopub.status.busy": "2022-08-12T10:22:18.969063Z",
          "iopub.execute_input": "2022-08-12T10:22:18.970161Z",
          "iopub.status.idle": "2022-08-12T10:22:18.978225Z",
          "shell.execute_reply.started": "2022-08-12T10:22:18.970118Z",
          "shell.execute_reply": "2022-08-12T10:22:18.977234Z"
        },
        "trusted": true,
        "colab": {
          "base_uri": "https://localhost:8080/"
        },
        "id": "DA-y8-P1AoR9",
        "outputId": "680d6242-d4db-4633-95d0-af550903e93d"
      },
      "execution_count": 59,
      "outputs": [
        {
          "output_type": "execute_result",
          "data": {
            "text/plain": [
              "array([[1., 0.],\n",
              "       [1., 0.],\n",
              "       [1., 0.],\n",
              "       ...,\n",
              "       [0., 1.],\n",
              "       [0., 1.],\n",
              "       [1., 0.]], dtype=float32)"
            ]
          },
          "metadata": {},
          "execution_count": 59
        }
      ]
    },
    {
      "cell_type": "code",
      "source": [
        "print(uniqueClassesMaslowLabel2)\n",
        "print(uniqueClassesMaslow2)"
      ],
      "metadata": {
        "execution": {
          "iopub.status.busy": "2022-08-12T10:22:20.832233Z",
          "iopub.execute_input": "2022-08-12T10:22:20.832581Z",
          "iopub.status.idle": "2022-08-12T10:22:20.837895Z",
          "shell.execute_reply.started": "2022-08-12T10:22:20.832550Z",
          "shell.execute_reply": "2022-08-12T10:22:20.836820Z"
        },
        "trusted": true,
        "colab": {
          "base_uri": "https://localhost:8080/"
        },
        "id": "pgvfYiMGAoR9",
        "outputId": "888d5c42-296a-48cd-9db5-2ea3cce80fb6"
      },
      "execution_count": 60,
      "outputs": [
        {
          "output_type": "stream",
          "name": "stdout",
          "text": [
            "['need', 'no need']\n",
            "[0, 1]\n"
          ]
        }
      ]
    },
    {
      "cell_type": "code",
      "source": [
        "def get_mistakes(prediction_values, actual_values, test_sentences, actual_category, predicted_category,samples_shown):\n",
        "    # Make sure you Map uniqueClassesMaslowLabell2 catgory with the labels mapping as index. If label is 0 then the category index in the list should be 0\n",
        "    count = 0\n",
        "    correct_index = uniqueClassesMaslowLabel2.index(actual_category)\n",
        "    incorrect_index = uniqueClassesMaslowLabel2.index(predicted_category)\n",
        "    print('Text classified as ',uniqueClassesMaslowLabel2[incorrect_index],\" but actual category is \",uniqueClassesMaslowLabel2[correct_index])\n",
        "    for i in range(0,len(prediction_values)):\n",
        "        if prediction_values[i] == incorrect_index and actual_values[i] == correct_index and count != samples_shown:\n",
        "            print(str(i),test_sentences[i])\n",
        "            count = count + 1\n",
        "\n",
        "   \n",
        "get_mistakes(prediction_values = review_predictions2,\n",
        "             actual_values = integer_label,\n",
        "             test_sentences = x_test_text,\n",
        "             actual_category = 'need', \n",
        "             predicted_category = 'no need',\n",
        "             samples_shown = 10)\n"
      ],
      "metadata": {
        "execution": {
          "iopub.status.busy": "2022-08-12T10:22:22.615243Z",
          "iopub.execute_input": "2022-08-12T10:22:22.616265Z",
          "iopub.status.idle": "2022-08-12T10:22:22.626221Z",
          "shell.execute_reply.started": "2022-08-12T10:22:22.616228Z",
          "shell.execute_reply": "2022-08-12T10:22:22.624989Z"
        },
        "trusted": true,
        "colab": {
          "base_uri": "https://localhost:8080/"
        },
        "id": "uY-gKgKmAoSA",
        "outputId": "58baa8f2-de25-4bcd-e600-84cb498deb23"
      },
      "execution_count": 63,
      "outputs": [
        {
          "output_type": "stream",
          "name": "stdout",
          "text": [
            "Text classified as  no need  but actual category is  need\n",
            "2 Karl locked his car.\n",
            "171 A group of thieves broke into the house.\n",
            "1878 The man printed the document.\n",
            "1950 The man drove fast.A cop stopped him.\n",
            "2139 Someone had left a pair of binoculars on the park's bench.\n",
            "2144 The woman drove down the road.She came to a complete stop.She opened her car door.She threw out her cat.Then the woman drove away.\n",
            "2308 Maple is having a few drinks.She leaves to get in her car.She drives down the highway drunk.She is pulled over.\n",
            "2585 My mother gave me the desk that belonged to her grandmother.I kept it in my basement for many years.\n",
            "2755 Gary strolled casually through the antique shop.\n",
            "2785 Karl locked his car.He remembered that the keys were still in the car.\n"
          ]
        }
      ]
    },
    {
      "cell_type": "code",
      "source": [
        "get_mistakes(prediction_values = review_predictions2,\n",
        "             actual_values = integer_label,\n",
        "             test_sentences = x_test_text,\n",
        "             actual_category = 'no need', \n",
        "             predicted_category = 'need',\n",
        "             samples_shown = 10)"
      ],
      "metadata": {
        "execution": {
          "iopub.status.busy": "2022-08-12T09:46:23.805750Z",
          "iopub.execute_input": "2022-08-12T09:46:23.806386Z",
          "iopub.status.idle": "2022-08-12T09:46:23.823797Z",
          "shell.execute_reply.started": "2022-08-12T09:46:23.806348Z",
          "shell.execute_reply": "2022-08-12T09:46:23.822631Z"
        },
        "trusted": true,
        "colab": {
          "base_uri": "https://localhost:8080/"
        },
        "id": "CSr06J5-AoSA",
        "outputId": "d0f81fbf-fc47-46af-aa34-848292f6ee2c"
      },
      "execution_count": 65,
      "outputs": [
        {
          "output_type": "stream",
          "name": "stdout",
          "text": [
            "Text classified as  need  but actual category is  no need\n",
            "5 Kay was taking piano lessons.Her teacher was an accomplished musician.Kay was working on a piece to perform at the annual recital.She learned a lot from her teacher.\n",
            "6 Tim was never good with dates.\n",
            "7 Tammy wanted a new puppy.\n",
            "22 Joe went to the bank to apply for a loan.\n",
            "28 LLoyd was out partying one night.He was having a great time.He was also drinking a little too much.\n",
            "56 Juanita had always wanted to learn how to play the flute.She decided to start taking lessons.At first the flute lessons were very difficult.\n",
            "59 Kate always recycles.She would crush all her cans.One day she slipped and cut her hand bad.\n",
            "71 Amy was looking in her cupboards.She didn't have anything to eat.\n",
            "81 I was walking down the streets of Bombay.I saw a stray dog.I smiled at him and continued walking.The following day, I was walking down the same street.The same stray dog was dead in the middle of the street.\n",
            "82 Cora wanted to get a new dress.\n"
          ]
        }
      ]
    },
    {
      "cell_type": "code",
      "source": [
        "review_predictions2\n",
        "original_test_data\n",
        "integer_label"
      ],
      "metadata": {
        "id": "RTrimZzJXCsR"
      },
      "execution_count": null,
      "outputs": []
    },
    {
      "cell_type": "code",
      "source": [
        "original_test_data.head(10)"
      ],
      "metadata": {
        "colab": {
          "base_uri": "https://localhost:8080/",
          "height": 363
        },
        "id": "3JautRxdXQyR",
        "outputId": "547360b0-b60b-4f39-bb77-0b3d6dc06c39"
      },
      "execution_count": 66,
      "outputs": [
        {
          "output_type": "execute_result",
          "data": {
            "text/plain": [
              "                                            sentence   maslow  maslowLabel\n",
              "0  Jamies job requires her to travel a lot.She ha...     need            0\n",
              "1  Andy was craving some cereal.He picked out som...     need            0\n",
              "2                               Karl locked his car.     need            0\n",
              "3  I was bullied in high school.I had one bully i...     need            0\n",
              "4           Kay was at work when a headache started.     need            0\n",
              "5  Kay was taking piano lessons.Her teacher was a...  no need            1\n",
              "6                     Tim was never good with dates.  no need            1\n",
              "7                          Tammy wanted a new puppy.  no need            1\n",
              "8  One day, Bob's dog ran out the door as Bob was...     need            0\n",
              "9          Lily was flying alone for the first time.     need            0"
            ],
            "text/html": [
              "\n",
              "  <div id=\"df-00fd446b-a366-4eb6-99f8-1577854619fe\">\n",
              "    <div class=\"colab-df-container\">\n",
              "      <div>\n",
              "<style scoped>\n",
              "    .dataframe tbody tr th:only-of-type {\n",
              "        vertical-align: middle;\n",
              "    }\n",
              "\n",
              "    .dataframe tbody tr th {\n",
              "        vertical-align: top;\n",
              "    }\n",
              "\n",
              "    .dataframe thead th {\n",
              "        text-align: right;\n",
              "    }\n",
              "</style>\n",
              "<table border=\"1\" class=\"dataframe\">\n",
              "  <thead>\n",
              "    <tr style=\"text-align: right;\">\n",
              "      <th></th>\n",
              "      <th>sentence</th>\n",
              "      <th>maslow</th>\n",
              "      <th>maslowLabel</th>\n",
              "    </tr>\n",
              "  </thead>\n",
              "  <tbody>\n",
              "    <tr>\n",
              "      <th>0</th>\n",
              "      <td>Jamies job requires her to travel a lot.She ha...</td>\n",
              "      <td>need</td>\n",
              "      <td>0</td>\n",
              "    </tr>\n",
              "    <tr>\n",
              "      <th>1</th>\n",
              "      <td>Andy was craving some cereal.He picked out som...</td>\n",
              "      <td>need</td>\n",
              "      <td>0</td>\n",
              "    </tr>\n",
              "    <tr>\n",
              "      <th>2</th>\n",
              "      <td>Karl locked his car.</td>\n",
              "      <td>need</td>\n",
              "      <td>0</td>\n",
              "    </tr>\n",
              "    <tr>\n",
              "      <th>3</th>\n",
              "      <td>I was bullied in high school.I had one bully i...</td>\n",
              "      <td>need</td>\n",
              "      <td>0</td>\n",
              "    </tr>\n",
              "    <tr>\n",
              "      <th>4</th>\n",
              "      <td>Kay was at work when a headache started.</td>\n",
              "      <td>need</td>\n",
              "      <td>0</td>\n",
              "    </tr>\n",
              "    <tr>\n",
              "      <th>5</th>\n",
              "      <td>Kay was taking piano lessons.Her teacher was a...</td>\n",
              "      <td>no need</td>\n",
              "      <td>1</td>\n",
              "    </tr>\n",
              "    <tr>\n",
              "      <th>6</th>\n",
              "      <td>Tim was never good with dates.</td>\n",
              "      <td>no need</td>\n",
              "      <td>1</td>\n",
              "    </tr>\n",
              "    <tr>\n",
              "      <th>7</th>\n",
              "      <td>Tammy wanted a new puppy.</td>\n",
              "      <td>no need</td>\n",
              "      <td>1</td>\n",
              "    </tr>\n",
              "    <tr>\n",
              "      <th>8</th>\n",
              "      <td>One day, Bob's dog ran out the door as Bob was...</td>\n",
              "      <td>need</td>\n",
              "      <td>0</td>\n",
              "    </tr>\n",
              "    <tr>\n",
              "      <th>9</th>\n",
              "      <td>Lily was flying alone for the first time.</td>\n",
              "      <td>need</td>\n",
              "      <td>0</td>\n",
              "    </tr>\n",
              "  </tbody>\n",
              "</table>\n",
              "</div>\n",
              "      <button class=\"colab-df-convert\" onclick=\"convertToInteractive('df-00fd446b-a366-4eb6-99f8-1577854619fe')\"\n",
              "              title=\"Convert this dataframe to an interactive table.\"\n",
              "              style=\"display:none;\">\n",
              "        \n",
              "  <svg xmlns=\"http://www.w3.org/2000/svg\" height=\"24px\"viewBox=\"0 0 24 24\"\n",
              "       width=\"24px\">\n",
              "    <path d=\"M0 0h24v24H0V0z\" fill=\"none\"/>\n",
              "    <path d=\"M18.56 5.44l.94 2.06.94-2.06 2.06-.94-2.06-.94-.94-2.06-.94 2.06-2.06.94zm-11 1L8.5 8.5l.94-2.06 2.06-.94-2.06-.94L8.5 2.5l-.94 2.06-2.06.94zm10 10l.94 2.06.94-2.06 2.06-.94-2.06-.94-.94-2.06-.94 2.06-2.06.94z\"/><path d=\"M17.41 7.96l-1.37-1.37c-.4-.4-.92-.59-1.43-.59-.52 0-1.04.2-1.43.59L10.3 9.45l-7.72 7.72c-.78.78-.78 2.05 0 2.83L4 21.41c.39.39.9.59 1.41.59.51 0 1.02-.2 1.41-.59l7.78-7.78 2.81-2.81c.8-.78.8-2.07 0-2.86zM5.41 20L4 18.59l7.72-7.72 1.47 1.35L5.41 20z\"/>\n",
              "  </svg>\n",
              "      </button>\n",
              "      \n",
              "  <style>\n",
              "    .colab-df-container {\n",
              "      display:flex;\n",
              "      flex-wrap:wrap;\n",
              "      gap: 12px;\n",
              "    }\n",
              "\n",
              "    .colab-df-convert {\n",
              "      background-color: #E8F0FE;\n",
              "      border: none;\n",
              "      border-radius: 50%;\n",
              "      cursor: pointer;\n",
              "      display: none;\n",
              "      fill: #1967D2;\n",
              "      height: 32px;\n",
              "      padding: 0 0 0 0;\n",
              "      width: 32px;\n",
              "    }\n",
              "\n",
              "    .colab-df-convert:hover {\n",
              "      background-color: #E2EBFA;\n",
              "      box-shadow: 0px 1px 2px rgba(60, 64, 67, 0.3), 0px 1px 3px 1px rgba(60, 64, 67, 0.15);\n",
              "      fill: #174EA6;\n",
              "    }\n",
              "\n",
              "    [theme=dark] .colab-df-convert {\n",
              "      background-color: #3B4455;\n",
              "      fill: #D2E3FC;\n",
              "    }\n",
              "\n",
              "    [theme=dark] .colab-df-convert:hover {\n",
              "      background-color: #434B5C;\n",
              "      box-shadow: 0px 1px 3px 1px rgba(0, 0, 0, 0.15);\n",
              "      filter: drop-shadow(0px 1px 2px rgba(0, 0, 0, 0.3));\n",
              "      fill: #FFFFFF;\n",
              "    }\n",
              "  </style>\n",
              "\n",
              "      <script>\n",
              "        const buttonEl =\n",
              "          document.querySelector('#df-00fd446b-a366-4eb6-99f8-1577854619fe button.colab-df-convert');\n",
              "        buttonEl.style.display =\n",
              "          google.colab.kernel.accessAllowed ? 'block' : 'none';\n",
              "\n",
              "        async function convertToInteractive(key) {\n",
              "          const element = document.querySelector('#df-00fd446b-a366-4eb6-99f8-1577854619fe');\n",
              "          const dataTable =\n",
              "            await google.colab.kernel.invokeFunction('convertToInteractive',\n",
              "                                                     [key], {});\n",
              "          if (!dataTable) return;\n",
              "\n",
              "          const docLinkHtml = 'Like what you see? Visit the ' +\n",
              "            '<a target=\"_blank\" href=https://colab.research.google.com/notebooks/data_table.ipynb>data table notebook</a>'\n",
              "            + ' to learn more about interactive tables.';\n",
              "          element.innerHTML = '';\n",
              "          dataTable['output_type'] = 'display_data';\n",
              "          await google.colab.output.renderOutput(dataTable, element);\n",
              "          const docLink = document.createElement('div');\n",
              "          docLink.innerHTML = docLinkHtml;\n",
              "          element.appendChild(docLink);\n",
              "        }\n",
              "      </script>\n",
              "    </div>\n",
              "  </div>\n",
              "  "
            ]
          },
          "metadata": {},
          "execution_count": 66
        }
      ]
    },
    {
      "cell_type": "code",
      "source": [
        "review_predictions2[:10]"
      ],
      "metadata": {
        "colab": {
          "base_uri": "https://localhost:8080/"
        },
        "id": "jJS2PdamXR3O",
        "outputId": "f3d691bf-446c-4583-8039-30491870bfaa"
      },
      "execution_count": 81,
      "outputs": [
        {
          "output_type": "execute_result",
          "data": {
            "text/plain": [
              "array([0, 0, 1, 0, 0, 0, 0, 0, 0, 0])"
            ]
          },
          "metadata": {},
          "execution_count": 81
        }
      ]
    },
    {
      "cell_type": "code",
      "source": [
        "original_test_data['predictions'] = review_predictions2"
      ],
      "metadata": {
        "id": "UdUiMs6pXTMW"
      },
      "execution_count": 82,
      "outputs": []
    },
    {
      "cell_type": "code",
      "source": [
        "original_test_data.head(10)"
      ],
      "metadata": {
        "colab": {
          "base_uri": "https://localhost:8080/",
          "height": 363
        },
        "id": "EuCaEyX5Xj0Z",
        "outputId": "0b9e8f82-2ca1-45ce-8e40-c2e5e9c740d6"
      },
      "execution_count": 83,
      "outputs": [
        {
          "output_type": "execute_result",
          "data": {
            "text/plain": [
              "                                            sentence   maslow  maslowLabel  \\\n",
              "0  Jamies job requires her to travel a lot.She ha...     need            0   \n",
              "1  Andy was craving some cereal.He picked out som...     need            0   \n",
              "2                               Karl locked his car.     need            0   \n",
              "3  I was bullied in high school.I had one bully i...     need            0   \n",
              "4           Kay was at work when a headache started.     need            0   \n",
              "5  Kay was taking piano lessons.Her teacher was a...  no need            1   \n",
              "6                     Tim was never good with dates.  no need            1   \n",
              "7                          Tammy wanted a new puppy.  no need            1   \n",
              "8  One day, Bob's dog ran out the door as Bob was...     need            0   \n",
              "9          Lily was flying alone for the first time.     need            0   \n",
              "\n",
              "   predictions  \n",
              "0            0  \n",
              "1            0  \n",
              "2            1  \n",
              "3            0  \n",
              "4            0  \n",
              "5            0  \n",
              "6            0  \n",
              "7            0  \n",
              "8            0  \n",
              "9            0  "
            ],
            "text/html": [
              "\n",
              "  <div id=\"df-cdd3c72c-db01-4050-92fd-30ecb3075bbe\">\n",
              "    <div class=\"colab-df-container\">\n",
              "      <div>\n",
              "<style scoped>\n",
              "    .dataframe tbody tr th:only-of-type {\n",
              "        vertical-align: middle;\n",
              "    }\n",
              "\n",
              "    .dataframe tbody tr th {\n",
              "        vertical-align: top;\n",
              "    }\n",
              "\n",
              "    .dataframe thead th {\n",
              "        text-align: right;\n",
              "    }\n",
              "</style>\n",
              "<table border=\"1\" class=\"dataframe\">\n",
              "  <thead>\n",
              "    <tr style=\"text-align: right;\">\n",
              "      <th></th>\n",
              "      <th>sentence</th>\n",
              "      <th>maslow</th>\n",
              "      <th>maslowLabel</th>\n",
              "      <th>predictions</th>\n",
              "    </tr>\n",
              "  </thead>\n",
              "  <tbody>\n",
              "    <tr>\n",
              "      <th>0</th>\n",
              "      <td>Jamies job requires her to travel a lot.She ha...</td>\n",
              "      <td>need</td>\n",
              "      <td>0</td>\n",
              "      <td>0</td>\n",
              "    </tr>\n",
              "    <tr>\n",
              "      <th>1</th>\n",
              "      <td>Andy was craving some cereal.He picked out som...</td>\n",
              "      <td>need</td>\n",
              "      <td>0</td>\n",
              "      <td>0</td>\n",
              "    </tr>\n",
              "    <tr>\n",
              "      <th>2</th>\n",
              "      <td>Karl locked his car.</td>\n",
              "      <td>need</td>\n",
              "      <td>0</td>\n",
              "      <td>1</td>\n",
              "    </tr>\n",
              "    <tr>\n",
              "      <th>3</th>\n",
              "      <td>I was bullied in high school.I had one bully i...</td>\n",
              "      <td>need</td>\n",
              "      <td>0</td>\n",
              "      <td>0</td>\n",
              "    </tr>\n",
              "    <tr>\n",
              "      <th>4</th>\n",
              "      <td>Kay was at work when a headache started.</td>\n",
              "      <td>need</td>\n",
              "      <td>0</td>\n",
              "      <td>0</td>\n",
              "    </tr>\n",
              "    <tr>\n",
              "      <th>5</th>\n",
              "      <td>Kay was taking piano lessons.Her teacher was a...</td>\n",
              "      <td>no need</td>\n",
              "      <td>1</td>\n",
              "      <td>0</td>\n",
              "    </tr>\n",
              "    <tr>\n",
              "      <th>6</th>\n",
              "      <td>Tim was never good with dates.</td>\n",
              "      <td>no need</td>\n",
              "      <td>1</td>\n",
              "      <td>0</td>\n",
              "    </tr>\n",
              "    <tr>\n",
              "      <th>7</th>\n",
              "      <td>Tammy wanted a new puppy.</td>\n",
              "      <td>no need</td>\n",
              "      <td>1</td>\n",
              "      <td>0</td>\n",
              "    </tr>\n",
              "    <tr>\n",
              "      <th>8</th>\n",
              "      <td>One day, Bob's dog ran out the door as Bob was...</td>\n",
              "      <td>need</td>\n",
              "      <td>0</td>\n",
              "      <td>0</td>\n",
              "    </tr>\n",
              "    <tr>\n",
              "      <th>9</th>\n",
              "      <td>Lily was flying alone for the first time.</td>\n",
              "      <td>need</td>\n",
              "      <td>0</td>\n",
              "      <td>0</td>\n",
              "    </tr>\n",
              "  </tbody>\n",
              "</table>\n",
              "</div>\n",
              "      <button class=\"colab-df-convert\" onclick=\"convertToInteractive('df-cdd3c72c-db01-4050-92fd-30ecb3075bbe')\"\n",
              "              title=\"Convert this dataframe to an interactive table.\"\n",
              "              style=\"display:none;\">\n",
              "        \n",
              "  <svg xmlns=\"http://www.w3.org/2000/svg\" height=\"24px\"viewBox=\"0 0 24 24\"\n",
              "       width=\"24px\">\n",
              "    <path d=\"M0 0h24v24H0V0z\" fill=\"none\"/>\n",
              "    <path d=\"M18.56 5.44l.94 2.06.94-2.06 2.06-.94-2.06-.94-.94-2.06-.94 2.06-2.06.94zm-11 1L8.5 8.5l.94-2.06 2.06-.94-2.06-.94L8.5 2.5l-.94 2.06-2.06.94zm10 10l.94 2.06.94-2.06 2.06-.94-2.06-.94-.94-2.06-.94 2.06-2.06.94z\"/><path d=\"M17.41 7.96l-1.37-1.37c-.4-.4-.92-.59-1.43-.59-.52 0-1.04.2-1.43.59L10.3 9.45l-7.72 7.72c-.78.78-.78 2.05 0 2.83L4 21.41c.39.39.9.59 1.41.59.51 0 1.02-.2 1.41-.59l7.78-7.78 2.81-2.81c.8-.78.8-2.07 0-2.86zM5.41 20L4 18.59l7.72-7.72 1.47 1.35L5.41 20z\"/>\n",
              "  </svg>\n",
              "      </button>\n",
              "      \n",
              "  <style>\n",
              "    .colab-df-container {\n",
              "      display:flex;\n",
              "      flex-wrap:wrap;\n",
              "      gap: 12px;\n",
              "    }\n",
              "\n",
              "    .colab-df-convert {\n",
              "      background-color: #E8F0FE;\n",
              "      border: none;\n",
              "      border-radius: 50%;\n",
              "      cursor: pointer;\n",
              "      display: none;\n",
              "      fill: #1967D2;\n",
              "      height: 32px;\n",
              "      padding: 0 0 0 0;\n",
              "      width: 32px;\n",
              "    }\n",
              "\n",
              "    .colab-df-convert:hover {\n",
              "      background-color: #E2EBFA;\n",
              "      box-shadow: 0px 1px 2px rgba(60, 64, 67, 0.3), 0px 1px 3px 1px rgba(60, 64, 67, 0.15);\n",
              "      fill: #174EA6;\n",
              "    }\n",
              "\n",
              "    [theme=dark] .colab-df-convert {\n",
              "      background-color: #3B4455;\n",
              "      fill: #D2E3FC;\n",
              "    }\n",
              "\n",
              "    [theme=dark] .colab-df-convert:hover {\n",
              "      background-color: #434B5C;\n",
              "      box-shadow: 0px 1px 3px 1px rgba(0, 0, 0, 0.15);\n",
              "      filter: drop-shadow(0px 1px 2px rgba(0, 0, 0, 0.3));\n",
              "      fill: #FFFFFF;\n",
              "    }\n",
              "  </style>\n",
              "\n",
              "      <script>\n",
              "        const buttonEl =\n",
              "          document.querySelector('#df-cdd3c72c-db01-4050-92fd-30ecb3075bbe button.colab-df-convert');\n",
              "        buttonEl.style.display =\n",
              "          google.colab.kernel.accessAllowed ? 'block' : 'none';\n",
              "\n",
              "        async function convertToInteractive(key) {\n",
              "          const element = document.querySelector('#df-cdd3c72c-db01-4050-92fd-30ecb3075bbe');\n",
              "          const dataTable =\n",
              "            await google.colab.kernel.invokeFunction('convertToInteractive',\n",
              "                                                     [key], {});\n",
              "          if (!dataTable) return;\n",
              "\n",
              "          const docLinkHtml = 'Like what you see? Visit the ' +\n",
              "            '<a target=\"_blank\" href=https://colab.research.google.com/notebooks/data_table.ipynb>data table notebook</a>'\n",
              "            + ' to learn more about interactive tables.';\n",
              "          element.innerHTML = '';\n",
              "          dataTable['output_type'] = 'display_data';\n",
              "          await google.colab.output.renderOutput(dataTable, element);\n",
              "          const docLink = document.createElement('div');\n",
              "          docLink.innerHTML = docLinkHtml;\n",
              "          element.appendChild(docLink);\n",
              "        }\n",
              "      </script>\n",
              "    </div>\n",
              "  </div>\n",
              "  "
            ]
          },
          "metadata": {},
          "execution_count": 83
        }
      ]
    },
    {
      "cell_type": "code",
      "source": [
        "from google.colab import files\n",
        "original_test_data.to_csv('original_test_data_with_predictions.csv')\n",
        "files.download('original_test_data_with_predictions.csv')"
      ],
      "metadata": {
        "colab": {
          "base_uri": "https://localhost:8080/",
          "height": 17
        },
        "id": "BsdS3Ce5XkpX",
        "outputId": "5a5df85a-f59c-4129-983d-f8b76f4a8a5f"
      },
      "execution_count": 84,
      "outputs": [
        {
          "output_type": "display_data",
          "data": {
            "text/plain": [
              "<IPython.core.display.Javascript object>"
            ],
            "application/javascript": [
              "\n",
              "    async function download(id, filename, size) {\n",
              "      if (!google.colab.kernel.accessAllowed) {\n",
              "        return;\n",
              "      }\n",
              "      const div = document.createElement('div');\n",
              "      const label = document.createElement('label');\n",
              "      label.textContent = `Downloading \"${filename}\": `;\n",
              "      div.appendChild(label);\n",
              "      const progress = document.createElement('progress');\n",
              "      progress.max = size;\n",
              "      div.appendChild(progress);\n",
              "      document.body.appendChild(div);\n",
              "\n",
              "      const buffers = [];\n",
              "      let downloaded = 0;\n",
              "\n",
              "      const channel = await google.colab.kernel.comms.open(id);\n",
              "      // Send a message to notify the kernel that we're ready.\n",
              "      channel.send({})\n",
              "\n",
              "      for await (const message of channel.messages) {\n",
              "        // Send a message to notify the kernel that we're ready.\n",
              "        channel.send({})\n",
              "        if (message.buffers) {\n",
              "          for (const buffer of message.buffers) {\n",
              "            buffers.push(buffer);\n",
              "            downloaded += buffer.byteLength;\n",
              "            progress.value = downloaded;\n",
              "          }\n",
              "        }\n",
              "      }\n",
              "      const blob = new Blob(buffers, {type: 'application/binary'});\n",
              "      const a = document.createElement('a');\n",
              "      a.href = window.URL.createObjectURL(blob);\n",
              "      a.download = filename;\n",
              "      div.appendChild(a);\n",
              "      a.click();\n",
              "      div.remove();\n",
              "    }\n",
              "  "
            ]
          },
          "metadata": {}
        },
        {
          "output_type": "display_data",
          "data": {
            "text/plain": [
              "<IPython.core.display.Javascript object>"
            ],
            "application/javascript": [
              "download(\"download_939d84df-c678-4ea4-ab64-3249fa6739ae\", \"original_test_data_with_predictions.csv\", 604626)"
            ]
          },
          "metadata": {}
        }
      ]
    },
    {
      "cell_type": "code",
      "source": [
        "no_need_label = original_test_data[original_test_data['maslow'] == 'no need']"
      ],
      "metadata": {
        "id": "UrLtQcVKXqVv"
      },
      "execution_count": 92,
      "outputs": []
    },
    {
      "cell_type": "code",
      "source": [
        "no_need_label.head()"
      ],
      "metadata": {
        "colab": {
          "base_uri": "https://localhost:8080/",
          "height": 206
        },
        "id": "EaXahNVBY__w",
        "outputId": "ece71be2-809c-465d-c46c-be199fe942b1"
      },
      "execution_count": 89,
      "outputs": [
        {
          "output_type": "execute_result",
          "data": {
            "text/plain": [
              "                                             sentence   maslow  maslowLabel  \\\n",
              "5   Kay was taking piano lessons.Her teacher was a...  no need            1   \n",
              "6                      Tim was never good with dates.  no need            1   \n",
              "7                           Tammy wanted a new puppy.  no need            1   \n",
              "22          Joe went to the bank to apply for a loan.  no need            1   \n",
              "28  LLoyd was out partying one night.He was having...  no need            1   \n",
              "\n",
              "    predictions  \n",
              "5             0  \n",
              "6             0  \n",
              "7             0  \n",
              "22            0  \n",
              "28            0  "
            ],
            "text/html": [
              "\n",
              "  <div id=\"df-50380d87-5a05-400f-98d2-1aea974c8f3d\">\n",
              "    <div class=\"colab-df-container\">\n",
              "      <div>\n",
              "<style scoped>\n",
              "    .dataframe tbody tr th:only-of-type {\n",
              "        vertical-align: middle;\n",
              "    }\n",
              "\n",
              "    .dataframe tbody tr th {\n",
              "        vertical-align: top;\n",
              "    }\n",
              "\n",
              "    .dataframe thead th {\n",
              "        text-align: right;\n",
              "    }\n",
              "</style>\n",
              "<table border=\"1\" class=\"dataframe\">\n",
              "  <thead>\n",
              "    <tr style=\"text-align: right;\">\n",
              "      <th></th>\n",
              "      <th>sentence</th>\n",
              "      <th>maslow</th>\n",
              "      <th>maslowLabel</th>\n",
              "      <th>predictions</th>\n",
              "    </tr>\n",
              "  </thead>\n",
              "  <tbody>\n",
              "    <tr>\n",
              "      <th>5</th>\n",
              "      <td>Kay was taking piano lessons.Her teacher was a...</td>\n",
              "      <td>no need</td>\n",
              "      <td>1</td>\n",
              "      <td>0</td>\n",
              "    </tr>\n",
              "    <tr>\n",
              "      <th>6</th>\n",
              "      <td>Tim was never good with dates.</td>\n",
              "      <td>no need</td>\n",
              "      <td>1</td>\n",
              "      <td>0</td>\n",
              "    </tr>\n",
              "    <tr>\n",
              "      <th>7</th>\n",
              "      <td>Tammy wanted a new puppy.</td>\n",
              "      <td>no need</td>\n",
              "      <td>1</td>\n",
              "      <td>0</td>\n",
              "    </tr>\n",
              "    <tr>\n",
              "      <th>22</th>\n",
              "      <td>Joe went to the bank to apply for a loan.</td>\n",
              "      <td>no need</td>\n",
              "      <td>1</td>\n",
              "      <td>0</td>\n",
              "    </tr>\n",
              "    <tr>\n",
              "      <th>28</th>\n",
              "      <td>LLoyd was out partying one night.He was having...</td>\n",
              "      <td>no need</td>\n",
              "      <td>1</td>\n",
              "      <td>0</td>\n",
              "    </tr>\n",
              "  </tbody>\n",
              "</table>\n",
              "</div>\n",
              "      <button class=\"colab-df-convert\" onclick=\"convertToInteractive('df-50380d87-5a05-400f-98d2-1aea974c8f3d')\"\n",
              "              title=\"Convert this dataframe to an interactive table.\"\n",
              "              style=\"display:none;\">\n",
              "        \n",
              "  <svg xmlns=\"http://www.w3.org/2000/svg\" height=\"24px\"viewBox=\"0 0 24 24\"\n",
              "       width=\"24px\">\n",
              "    <path d=\"M0 0h24v24H0V0z\" fill=\"none\"/>\n",
              "    <path d=\"M18.56 5.44l.94 2.06.94-2.06 2.06-.94-2.06-.94-.94-2.06-.94 2.06-2.06.94zm-11 1L8.5 8.5l.94-2.06 2.06-.94-2.06-.94L8.5 2.5l-.94 2.06-2.06.94zm10 10l.94 2.06.94-2.06 2.06-.94-2.06-.94-.94-2.06-.94 2.06-2.06.94z\"/><path d=\"M17.41 7.96l-1.37-1.37c-.4-.4-.92-.59-1.43-.59-.52 0-1.04.2-1.43.59L10.3 9.45l-7.72 7.72c-.78.78-.78 2.05 0 2.83L4 21.41c.39.39.9.59 1.41.59.51 0 1.02-.2 1.41-.59l7.78-7.78 2.81-2.81c.8-.78.8-2.07 0-2.86zM5.41 20L4 18.59l7.72-7.72 1.47 1.35L5.41 20z\"/>\n",
              "  </svg>\n",
              "      </button>\n",
              "      \n",
              "  <style>\n",
              "    .colab-df-container {\n",
              "      display:flex;\n",
              "      flex-wrap:wrap;\n",
              "      gap: 12px;\n",
              "    }\n",
              "\n",
              "    .colab-df-convert {\n",
              "      background-color: #E8F0FE;\n",
              "      border: none;\n",
              "      border-radius: 50%;\n",
              "      cursor: pointer;\n",
              "      display: none;\n",
              "      fill: #1967D2;\n",
              "      height: 32px;\n",
              "      padding: 0 0 0 0;\n",
              "      width: 32px;\n",
              "    }\n",
              "\n",
              "    .colab-df-convert:hover {\n",
              "      background-color: #E2EBFA;\n",
              "      box-shadow: 0px 1px 2px rgba(60, 64, 67, 0.3), 0px 1px 3px 1px rgba(60, 64, 67, 0.15);\n",
              "      fill: #174EA6;\n",
              "    }\n",
              "\n",
              "    [theme=dark] .colab-df-convert {\n",
              "      background-color: #3B4455;\n",
              "      fill: #D2E3FC;\n",
              "    }\n",
              "\n",
              "    [theme=dark] .colab-df-convert:hover {\n",
              "      background-color: #434B5C;\n",
              "      box-shadow: 0px 1px 3px 1px rgba(0, 0, 0, 0.15);\n",
              "      filter: drop-shadow(0px 1px 2px rgba(0, 0, 0, 0.3));\n",
              "      fill: #FFFFFF;\n",
              "    }\n",
              "  </style>\n",
              "\n",
              "      <script>\n",
              "        const buttonEl =\n",
              "          document.querySelector('#df-50380d87-5a05-400f-98d2-1aea974c8f3d button.colab-df-convert');\n",
              "        buttonEl.style.display =\n",
              "          google.colab.kernel.accessAllowed ? 'block' : 'none';\n",
              "\n",
              "        async function convertToInteractive(key) {\n",
              "          const element = document.querySelector('#df-50380d87-5a05-400f-98d2-1aea974c8f3d');\n",
              "          const dataTable =\n",
              "            await google.colab.kernel.invokeFunction('convertToInteractive',\n",
              "                                                     [key], {});\n",
              "          if (!dataTable) return;\n",
              "\n",
              "          const docLinkHtml = 'Like what you see? Visit the ' +\n",
              "            '<a target=\"_blank\" href=https://colab.research.google.com/notebooks/data_table.ipynb>data table notebook</a>'\n",
              "            + ' to learn more about interactive tables.';\n",
              "          element.innerHTML = '';\n",
              "          dataTable['output_type'] = 'display_data';\n",
              "          await google.colab.output.renderOutput(dataTable, element);\n",
              "          const docLink = document.createElement('div');\n",
              "          docLink.innerHTML = docLinkHtml;\n",
              "          element.appendChild(docLink);\n",
              "        }\n",
              "      </script>\n",
              "    </div>\n",
              "  </div>\n",
              "  "
            ]
          },
          "metadata": {},
          "execution_count": 89
        }
      ]
    },
    {
      "cell_type": "code",
      "source": [
        "no_need_label['predictions'] = no_need_label['predictions'].replace([0,1],['need','no need'])"
      ],
      "metadata": {
        "colab": {
          "base_uri": "https://localhost:8080/"
        },
        "id": "bwGLKSsKZBB2",
        "outputId": "562312fd-622a-4071-87a4-c88232785311"
      },
      "execution_count": 93,
      "outputs": [
        {
          "output_type": "stream",
          "name": "stderr",
          "text": [
            "/usr/local/lib/python3.7/dist-packages/ipykernel_launcher.py:1: SettingWithCopyWarning: \n",
            "A value is trying to be set on a copy of a slice from a DataFrame.\n",
            "Try using .loc[row_indexer,col_indexer] = value instead\n",
            "\n",
            "See the caveats in the documentation: https://pandas.pydata.org/pandas-docs/stable/user_guide/indexing.html#returning-a-view-versus-a-copy\n",
            "  \"\"\"Entry point for launching an IPython kernel.\n"
          ]
        }
      ]
    },
    {
      "cell_type": "code",
      "source": [
        "no_need_label.head()"
      ],
      "metadata": {
        "colab": {
          "base_uri": "https://localhost:8080/",
          "height": 206
        },
        "id": "bt961_iobGog",
        "outputId": "f476336b-249b-49cb-f372-65705e05028b"
      },
      "execution_count": 94,
      "outputs": [
        {
          "output_type": "execute_result",
          "data": {
            "text/plain": [
              "                                             sentence   maslow  maslowLabel  \\\n",
              "5   Kay was taking piano lessons.Her teacher was a...  no need            1   \n",
              "6                      Tim was never good with dates.  no need            1   \n",
              "7                           Tammy wanted a new puppy.  no need            1   \n",
              "22          Joe went to the bank to apply for a loan.  no need            1   \n",
              "28  LLoyd was out partying one night.He was having...  no need            1   \n",
              "\n",
              "   predictions  \n",
              "5         need  \n",
              "6         need  \n",
              "7         need  \n",
              "22        need  \n",
              "28        need  "
            ],
            "text/html": [
              "\n",
              "  <div id=\"df-c386a942-869f-4db7-b460-8fa639fe2281\">\n",
              "    <div class=\"colab-df-container\">\n",
              "      <div>\n",
              "<style scoped>\n",
              "    .dataframe tbody tr th:only-of-type {\n",
              "        vertical-align: middle;\n",
              "    }\n",
              "\n",
              "    .dataframe tbody tr th {\n",
              "        vertical-align: top;\n",
              "    }\n",
              "\n",
              "    .dataframe thead th {\n",
              "        text-align: right;\n",
              "    }\n",
              "</style>\n",
              "<table border=\"1\" class=\"dataframe\">\n",
              "  <thead>\n",
              "    <tr style=\"text-align: right;\">\n",
              "      <th></th>\n",
              "      <th>sentence</th>\n",
              "      <th>maslow</th>\n",
              "      <th>maslowLabel</th>\n",
              "      <th>predictions</th>\n",
              "    </tr>\n",
              "  </thead>\n",
              "  <tbody>\n",
              "    <tr>\n",
              "      <th>5</th>\n",
              "      <td>Kay was taking piano lessons.Her teacher was a...</td>\n",
              "      <td>no need</td>\n",
              "      <td>1</td>\n",
              "      <td>need</td>\n",
              "    </tr>\n",
              "    <tr>\n",
              "      <th>6</th>\n",
              "      <td>Tim was never good with dates.</td>\n",
              "      <td>no need</td>\n",
              "      <td>1</td>\n",
              "      <td>need</td>\n",
              "    </tr>\n",
              "    <tr>\n",
              "      <th>7</th>\n",
              "      <td>Tammy wanted a new puppy.</td>\n",
              "      <td>no need</td>\n",
              "      <td>1</td>\n",
              "      <td>need</td>\n",
              "    </tr>\n",
              "    <tr>\n",
              "      <th>22</th>\n",
              "      <td>Joe went to the bank to apply for a loan.</td>\n",
              "      <td>no need</td>\n",
              "      <td>1</td>\n",
              "      <td>need</td>\n",
              "    </tr>\n",
              "    <tr>\n",
              "      <th>28</th>\n",
              "      <td>LLoyd was out partying one night.He was having...</td>\n",
              "      <td>no need</td>\n",
              "      <td>1</td>\n",
              "      <td>need</td>\n",
              "    </tr>\n",
              "  </tbody>\n",
              "</table>\n",
              "</div>\n",
              "      <button class=\"colab-df-convert\" onclick=\"convertToInteractive('df-c386a942-869f-4db7-b460-8fa639fe2281')\"\n",
              "              title=\"Convert this dataframe to an interactive table.\"\n",
              "              style=\"display:none;\">\n",
              "        \n",
              "  <svg xmlns=\"http://www.w3.org/2000/svg\" height=\"24px\"viewBox=\"0 0 24 24\"\n",
              "       width=\"24px\">\n",
              "    <path d=\"M0 0h24v24H0V0z\" fill=\"none\"/>\n",
              "    <path d=\"M18.56 5.44l.94 2.06.94-2.06 2.06-.94-2.06-.94-.94-2.06-.94 2.06-2.06.94zm-11 1L8.5 8.5l.94-2.06 2.06-.94-2.06-.94L8.5 2.5l-.94 2.06-2.06.94zm10 10l.94 2.06.94-2.06 2.06-.94-2.06-.94-.94-2.06-.94 2.06-2.06.94z\"/><path d=\"M17.41 7.96l-1.37-1.37c-.4-.4-.92-.59-1.43-.59-.52 0-1.04.2-1.43.59L10.3 9.45l-7.72 7.72c-.78.78-.78 2.05 0 2.83L4 21.41c.39.39.9.59 1.41.59.51 0 1.02-.2 1.41-.59l7.78-7.78 2.81-2.81c.8-.78.8-2.07 0-2.86zM5.41 20L4 18.59l7.72-7.72 1.47 1.35L5.41 20z\"/>\n",
              "  </svg>\n",
              "      </button>\n",
              "      \n",
              "  <style>\n",
              "    .colab-df-container {\n",
              "      display:flex;\n",
              "      flex-wrap:wrap;\n",
              "      gap: 12px;\n",
              "    }\n",
              "\n",
              "    .colab-df-convert {\n",
              "      background-color: #E8F0FE;\n",
              "      border: none;\n",
              "      border-radius: 50%;\n",
              "      cursor: pointer;\n",
              "      display: none;\n",
              "      fill: #1967D2;\n",
              "      height: 32px;\n",
              "      padding: 0 0 0 0;\n",
              "      width: 32px;\n",
              "    }\n",
              "\n",
              "    .colab-df-convert:hover {\n",
              "      background-color: #E2EBFA;\n",
              "      box-shadow: 0px 1px 2px rgba(60, 64, 67, 0.3), 0px 1px 3px 1px rgba(60, 64, 67, 0.15);\n",
              "      fill: #174EA6;\n",
              "    }\n",
              "\n",
              "    [theme=dark] .colab-df-convert {\n",
              "      background-color: #3B4455;\n",
              "      fill: #D2E3FC;\n",
              "    }\n",
              "\n",
              "    [theme=dark] .colab-df-convert:hover {\n",
              "      background-color: #434B5C;\n",
              "      box-shadow: 0px 1px 3px 1px rgba(0, 0, 0, 0.15);\n",
              "      filter: drop-shadow(0px 1px 2px rgba(0, 0, 0, 0.3));\n",
              "      fill: #FFFFFF;\n",
              "    }\n",
              "  </style>\n",
              "\n",
              "      <script>\n",
              "        const buttonEl =\n",
              "          document.querySelector('#df-c386a942-869f-4db7-b460-8fa639fe2281 button.colab-df-convert');\n",
              "        buttonEl.style.display =\n",
              "          google.colab.kernel.accessAllowed ? 'block' : 'none';\n",
              "\n",
              "        async function convertToInteractive(key) {\n",
              "          const element = document.querySelector('#df-c386a942-869f-4db7-b460-8fa639fe2281');\n",
              "          const dataTable =\n",
              "            await google.colab.kernel.invokeFunction('convertToInteractive',\n",
              "                                                     [key], {});\n",
              "          if (!dataTable) return;\n",
              "\n",
              "          const docLinkHtml = 'Like what you see? Visit the ' +\n",
              "            '<a target=\"_blank\" href=https://colab.research.google.com/notebooks/data_table.ipynb>data table notebook</a>'\n",
              "            + ' to learn more about interactive tables.';\n",
              "          element.innerHTML = '';\n",
              "          dataTable['output_type'] = 'display_data';\n",
              "          await google.colab.output.renderOutput(dataTable, element);\n",
              "          const docLink = document.createElement('div');\n",
              "          docLink.innerHTML = docLinkHtml;\n",
              "          element.appendChild(docLink);\n",
              "        }\n",
              "      </script>\n",
              "    </div>\n",
              "  </div>\n",
              "  "
            ]
          },
          "metadata": {},
          "execution_count": 94
        }
      ]
    },
    {
      "cell_type": "code",
      "source": [
        "from google.colab import files\n",
        "no_need_label.to_excel('test_data_noneed_with_predictions.xlsx')\n",
        "files.download('test_data_noneed_with_predictions.xlsx')"
      ],
      "metadata": {
        "colab": {
          "base_uri": "https://localhost:8080/",
          "height": 17
        },
        "id": "HpRDAfItbHpT",
        "outputId": "3f856aa5-fb5a-4483-89ca-194a7fd90451"
      },
      "execution_count": 96,
      "outputs": [
        {
          "output_type": "display_data",
          "data": {
            "text/plain": [
              "<IPython.core.display.Javascript object>"
            ],
            "application/javascript": [
              "\n",
              "    async function download(id, filename, size) {\n",
              "      if (!google.colab.kernel.accessAllowed) {\n",
              "        return;\n",
              "      }\n",
              "      const div = document.createElement('div');\n",
              "      const label = document.createElement('label');\n",
              "      label.textContent = `Downloading \"${filename}\": `;\n",
              "      div.appendChild(label);\n",
              "      const progress = document.createElement('progress');\n",
              "      progress.max = size;\n",
              "      div.appendChild(progress);\n",
              "      document.body.appendChild(div);\n",
              "\n",
              "      const buffers = [];\n",
              "      let downloaded = 0;\n",
              "\n",
              "      const channel = await google.colab.kernel.comms.open(id);\n",
              "      // Send a message to notify the kernel that we're ready.\n",
              "      channel.send({})\n",
              "\n",
              "      for await (const message of channel.messages) {\n",
              "        // Send a message to notify the kernel that we're ready.\n",
              "        channel.send({})\n",
              "        if (message.buffers) {\n",
              "          for (const buffer of message.buffers) {\n",
              "            buffers.push(buffer);\n",
              "            downloaded += buffer.byteLength;\n",
              "            progress.value = downloaded;\n",
              "          }\n",
              "        }\n",
              "      }\n",
              "      const blob = new Blob(buffers, {type: 'application/binary'});\n",
              "      const a = document.createElement('a');\n",
              "      a.href = window.URL.createObjectURL(blob);\n",
              "      a.download = filename;\n",
              "      div.appendChild(a);\n",
              "      a.click();\n",
              "      div.remove();\n",
              "    }\n",
              "  "
            ]
          },
          "metadata": {}
        },
        {
          "output_type": "display_data",
          "data": {
            "text/plain": [
              "<IPython.core.display.Javascript object>"
            ],
            "application/javascript": [
              "download(\"download_771f38ba-9313-480f-acfd-1f5b984d08e6\", \"test_data_noneed_with_predictions.xlsx\", 44845)"
            ]
          },
          "metadata": {}
        }
      ]
    },
    {
      "cell_type": "code",
      "source": [
        "509/4"
      ],
      "metadata": {
        "colab": {
          "base_uri": "https://localhost:8080/"
        },
        "id": "6KRKoA9VcP3z",
        "outputId": "fdbc210c-5699-4361-df7d-998e67d38c7c"
      },
      "execution_count": 102,
      "outputs": [
        {
          "output_type": "execute_result",
          "data": {
            "text/plain": [
              "127.25"
            ]
          },
          "metadata": {},
          "execution_count": 102
        }
      ]
    },
    {
      "cell_type": "code",
      "source": [
        "t = no_need_label.iloc[383:509][:]\n",
        "t.to_excel('test_data_noneed_with_predictions_set_4.xlsx')\n",
        "files.download('test_data_noneed_with_predictions_set_4.xlsx')"
      ],
      "metadata": {
        "colab": {
          "base_uri": "https://localhost:8080/",
          "height": 17
        },
        "id": "HBkwopzxckPG",
        "outputId": "0e8f9452-e322-4565-dfdf-16c408159ef5"
      },
      "execution_count": 111,
      "outputs": [
        {
          "output_type": "display_data",
          "data": {
            "text/plain": [
              "<IPython.core.display.Javascript object>"
            ],
            "application/javascript": [
              "\n",
              "    async function download(id, filename, size) {\n",
              "      if (!google.colab.kernel.accessAllowed) {\n",
              "        return;\n",
              "      }\n",
              "      const div = document.createElement('div');\n",
              "      const label = document.createElement('label');\n",
              "      label.textContent = `Downloading \"${filename}\": `;\n",
              "      div.appendChild(label);\n",
              "      const progress = document.createElement('progress');\n",
              "      progress.max = size;\n",
              "      div.appendChild(progress);\n",
              "      document.body.appendChild(div);\n",
              "\n",
              "      const buffers = [];\n",
              "      let downloaded = 0;\n",
              "\n",
              "      const channel = await google.colab.kernel.comms.open(id);\n",
              "      // Send a message to notify the kernel that we're ready.\n",
              "      channel.send({})\n",
              "\n",
              "      for await (const message of channel.messages) {\n",
              "        // Send a message to notify the kernel that we're ready.\n",
              "        channel.send({})\n",
              "        if (message.buffers) {\n",
              "          for (const buffer of message.buffers) {\n",
              "            buffers.push(buffer);\n",
              "            downloaded += buffer.byteLength;\n",
              "            progress.value = downloaded;\n",
              "          }\n",
              "        }\n",
              "      }\n",
              "      const blob = new Blob(buffers, {type: 'application/binary'});\n",
              "      const a = document.createElement('a');\n",
              "      a.href = window.URL.createObjectURL(blob);\n",
              "      a.download = filename;\n",
              "      div.appendChild(a);\n",
              "      a.click();\n",
              "      div.remove();\n",
              "    }\n",
              "  "
            ]
          },
          "metadata": {}
        },
        {
          "output_type": "display_data",
          "data": {
            "text/plain": [
              "<IPython.core.display.Javascript object>"
            ],
            "application/javascript": [
              "download(\"download_c49cc6a0-6790-415e-938c-bc77c851649c\", \"test_data_noneed_with_predictions_set_4.xlsx\", 15118)"
            ]
          },
          "metadata": {}
        }
      ]
    },
    {
      "cell_type": "markdown",
      "source": [
        "### Predicting on Reddit Data"
      ],
      "metadata": {
        "id": "Rga7A48bevvY"
      }
    },
    {
      "cell_type": "code",
      "source": [
        "reddit_data = pd.read_csv('Reddit.csv')\n",
        "reddit_data.columns = ['sentence']\n",
        "reddit_data.head()"
      ],
      "metadata": {
        "colab": {
          "base_uri": "https://localhost:8080/",
          "height": 206
        },
        "id": "HTBCUaXedHjY",
        "outputId": "4dac7d71-a6e6-4b27-efd1-805a2d615c5a"
      },
      "execution_count": 116,
      "outputs": [
        {
          "output_type": "execute_result",
          "data": {
            "text/plain": [
              "                                            sentence\n",
              "0  It feels like everyone else is passing me by a...\n",
              "1  Idk why but no matter what I do, life just con...\n",
              "2  Recently I have been having obsessive thoughts...\n",
              "3  He hides it from his friends whom he plays gam...\n",
              "4  Hello, I have (22F) struggled with my mental h..."
            ],
            "text/html": [
              "\n",
              "  <div id=\"df-805e7eea-61e4-4bf4-b042-3f08a7faa6bb\">\n",
              "    <div class=\"colab-df-container\">\n",
              "      <div>\n",
              "<style scoped>\n",
              "    .dataframe tbody tr th:only-of-type {\n",
              "        vertical-align: middle;\n",
              "    }\n",
              "\n",
              "    .dataframe tbody tr th {\n",
              "        vertical-align: top;\n",
              "    }\n",
              "\n",
              "    .dataframe thead th {\n",
              "        text-align: right;\n",
              "    }\n",
              "</style>\n",
              "<table border=\"1\" class=\"dataframe\">\n",
              "  <thead>\n",
              "    <tr style=\"text-align: right;\">\n",
              "      <th></th>\n",
              "      <th>sentence</th>\n",
              "    </tr>\n",
              "  </thead>\n",
              "  <tbody>\n",
              "    <tr>\n",
              "      <th>0</th>\n",
              "      <td>It feels like everyone else is passing me by a...</td>\n",
              "    </tr>\n",
              "    <tr>\n",
              "      <th>1</th>\n",
              "      <td>Idk why but no matter what I do, life just con...</td>\n",
              "    </tr>\n",
              "    <tr>\n",
              "      <th>2</th>\n",
              "      <td>Recently I have been having obsessive thoughts...</td>\n",
              "    </tr>\n",
              "    <tr>\n",
              "      <th>3</th>\n",
              "      <td>He hides it from his friends whom he plays gam...</td>\n",
              "    </tr>\n",
              "    <tr>\n",
              "      <th>4</th>\n",
              "      <td>Hello, I have (22F) struggled with my mental h...</td>\n",
              "    </tr>\n",
              "  </tbody>\n",
              "</table>\n",
              "</div>\n",
              "      <button class=\"colab-df-convert\" onclick=\"convertToInteractive('df-805e7eea-61e4-4bf4-b042-3f08a7faa6bb')\"\n",
              "              title=\"Convert this dataframe to an interactive table.\"\n",
              "              style=\"display:none;\">\n",
              "        \n",
              "  <svg xmlns=\"http://www.w3.org/2000/svg\" height=\"24px\"viewBox=\"0 0 24 24\"\n",
              "       width=\"24px\">\n",
              "    <path d=\"M0 0h24v24H0V0z\" fill=\"none\"/>\n",
              "    <path d=\"M18.56 5.44l.94 2.06.94-2.06 2.06-.94-2.06-.94-.94-2.06-.94 2.06-2.06.94zm-11 1L8.5 8.5l.94-2.06 2.06-.94-2.06-.94L8.5 2.5l-.94 2.06-2.06.94zm10 10l.94 2.06.94-2.06 2.06-.94-2.06-.94-.94-2.06-.94 2.06-2.06.94z\"/><path d=\"M17.41 7.96l-1.37-1.37c-.4-.4-.92-.59-1.43-.59-.52 0-1.04.2-1.43.59L10.3 9.45l-7.72 7.72c-.78.78-.78 2.05 0 2.83L4 21.41c.39.39.9.59 1.41.59.51 0 1.02-.2 1.41-.59l7.78-7.78 2.81-2.81c.8-.78.8-2.07 0-2.86zM5.41 20L4 18.59l7.72-7.72 1.47 1.35L5.41 20z\"/>\n",
              "  </svg>\n",
              "      </button>\n",
              "      \n",
              "  <style>\n",
              "    .colab-df-container {\n",
              "      display:flex;\n",
              "      flex-wrap:wrap;\n",
              "      gap: 12px;\n",
              "    }\n",
              "\n",
              "    .colab-df-convert {\n",
              "      background-color: #E8F0FE;\n",
              "      border: none;\n",
              "      border-radius: 50%;\n",
              "      cursor: pointer;\n",
              "      display: none;\n",
              "      fill: #1967D2;\n",
              "      height: 32px;\n",
              "      padding: 0 0 0 0;\n",
              "      width: 32px;\n",
              "    }\n",
              "\n",
              "    .colab-df-convert:hover {\n",
              "      background-color: #E2EBFA;\n",
              "      box-shadow: 0px 1px 2px rgba(60, 64, 67, 0.3), 0px 1px 3px 1px rgba(60, 64, 67, 0.15);\n",
              "      fill: #174EA6;\n",
              "    }\n",
              "\n",
              "    [theme=dark] .colab-df-convert {\n",
              "      background-color: #3B4455;\n",
              "      fill: #D2E3FC;\n",
              "    }\n",
              "\n",
              "    [theme=dark] .colab-df-convert:hover {\n",
              "      background-color: #434B5C;\n",
              "      box-shadow: 0px 1px 3px 1px rgba(0, 0, 0, 0.15);\n",
              "      filter: drop-shadow(0px 1px 2px rgba(0, 0, 0, 0.3));\n",
              "      fill: #FFFFFF;\n",
              "    }\n",
              "  </style>\n",
              "\n",
              "      <script>\n",
              "        const buttonEl =\n",
              "          document.querySelector('#df-805e7eea-61e4-4bf4-b042-3f08a7faa6bb button.colab-df-convert');\n",
              "        buttonEl.style.display =\n",
              "          google.colab.kernel.accessAllowed ? 'block' : 'none';\n",
              "\n",
              "        async function convertToInteractive(key) {\n",
              "          const element = document.querySelector('#df-805e7eea-61e4-4bf4-b042-3f08a7faa6bb');\n",
              "          const dataTable =\n",
              "            await google.colab.kernel.invokeFunction('convertToInteractive',\n",
              "                                                     [key], {});\n",
              "          if (!dataTable) return;\n",
              "\n",
              "          const docLinkHtml = 'Like what you see? Visit the ' +\n",
              "            '<a target=\"_blank\" href=https://colab.research.google.com/notebooks/data_table.ipynb>data table notebook</a>'\n",
              "            + ' to learn more about interactive tables.';\n",
              "          element.innerHTML = '';\n",
              "          dataTable['output_type'] = 'display_data';\n",
              "          await google.colab.output.renderOutput(dataTable, element);\n",
              "          const docLink = document.createElement('div');\n",
              "          docLink.innerHTML = docLinkHtml;\n",
              "          element.appendChild(docLink);\n",
              "        }\n",
              "      </script>\n",
              "    </div>\n",
              "  </div>\n",
              "  "
            ]
          },
          "metadata": {},
          "execution_count": 116
        }
      ]
    },
    {
      "cell_type": "code",
      "source": [
        "reddit_data_test = reddit_data['sentence']"
      ],
      "metadata": {
        "id": "poJw5PlReE4Q"
      },
      "execution_count": 119,
      "outputs": []
    },
    {
      "cell_type": "code",
      "source": [
        "y_pred2 = model.predict(reddit_data_test)\n",
        "y_pred2[2]"
      ],
      "metadata": {
        "colab": {
          "base_uri": "https://localhost:8080/"
        },
        "id": "Dxl8zG6GeMoJ",
        "outputId": "95aaceeb-91a9-40d3-b297-00b691f4ef07"
      },
      "execution_count": 121,
      "outputs": [
        {
          "output_type": "execute_result",
          "data": {
            "text/plain": [
              "array([0.74735355, 0.25264645], dtype=float32)"
            ]
          },
          "metadata": {},
          "execution_count": 121
        }
      ]
    },
    {
      "cell_type": "code",
      "source": [
        "def get_predictions(y_pred2):\n",
        "    review_predictions2 = []\n",
        "    for prediction in y_pred2:\n",
        "        x = prediction\n",
        "        review_predictions2.append(np.argmax(x))\n",
        "\n",
        "    review_predictions2 = np.array(review_predictions2)\n",
        "    review_predictions2.reshape(1,-1)\n",
        "    print(review_predictions2.shape)\n",
        "    return review_predictions2\n",
        "\n",
        "review_predictions2 = get_predictions(y_pred2)"
      ],
      "metadata": {
        "colab": {
          "base_uri": "https://localhost:8080/"
        },
        "id": "WklKZ6wOe2KU",
        "outputId": "aaef530a-5b0b-4842-e34c-7461349a870a"
      },
      "execution_count": 122,
      "outputs": [
        {
          "output_type": "stream",
          "name": "stdout",
          "text": [
            "(49,)\n"
          ]
        }
      ]
    },
    {
      "cell_type": "code",
      "source": [
        "review_predictions2[:10]"
      ],
      "metadata": {
        "colab": {
          "base_uri": "https://localhost:8080/"
        },
        "id": "YSS_ykoyfPOB",
        "outputId": "47a42493-d338-424d-dd2a-3c18728ebb2d"
      },
      "execution_count": 124,
      "outputs": [
        {
          "output_type": "execute_result",
          "data": {
            "text/plain": [
              "array([0, 1, 0, 0, 0, 0, 0, 0, 0, 0])"
            ]
          },
          "metadata": {},
          "execution_count": 124
        }
      ]
    },
    {
      "cell_type": "code",
      "source": [
        "k = pd.DataFrame(review_predictions2, columns = ['Label'])\n",
        "k.groupby('Label')['Label'].count()"
      ],
      "metadata": {
        "colab": {
          "base_uri": "https://localhost:8080/"
        },
        "id": "PV_yKNfYe3RP",
        "outputId": "b5711bea-5e5c-484e-dff0-206de152538e"
      },
      "execution_count": 123,
      "outputs": [
        {
          "output_type": "execute_result",
          "data": {
            "text/plain": [
              "Label\n",
              "0    47\n",
              "1     2\n",
              "Name: Label, dtype: int64"
            ]
          },
          "metadata": {},
          "execution_count": 123
        }
      ]
    },
    {
      "cell_type": "code",
      "source": [
        "reddit_data['predictions'] = review_predictions2\n",
        "reddit_data.head(3)"
      ],
      "metadata": {
        "colab": {
          "base_uri": "https://localhost:8080/",
          "height": 143
        },
        "id": "GPkgYbiGfHVS",
        "outputId": "7b9747d5-b7ce-47f0-fbaa-a9d2ecca00b7"
      },
      "execution_count": 125,
      "outputs": [
        {
          "output_type": "execute_result",
          "data": {
            "text/plain": [
              "                                            sentence  predictions\n",
              "0  It feels like everyone else is passing me by a...            0\n",
              "1  Idk why but no matter what I do, life just con...            1\n",
              "2  Recently I have been having obsessive thoughts...            0"
            ],
            "text/html": [
              "\n",
              "  <div id=\"df-a08330f3-a4e4-4690-bbae-2099b81a402b\">\n",
              "    <div class=\"colab-df-container\">\n",
              "      <div>\n",
              "<style scoped>\n",
              "    .dataframe tbody tr th:only-of-type {\n",
              "        vertical-align: middle;\n",
              "    }\n",
              "\n",
              "    .dataframe tbody tr th {\n",
              "        vertical-align: top;\n",
              "    }\n",
              "\n",
              "    .dataframe thead th {\n",
              "        text-align: right;\n",
              "    }\n",
              "</style>\n",
              "<table border=\"1\" class=\"dataframe\">\n",
              "  <thead>\n",
              "    <tr style=\"text-align: right;\">\n",
              "      <th></th>\n",
              "      <th>sentence</th>\n",
              "      <th>predictions</th>\n",
              "    </tr>\n",
              "  </thead>\n",
              "  <tbody>\n",
              "    <tr>\n",
              "      <th>0</th>\n",
              "      <td>It feels like everyone else is passing me by a...</td>\n",
              "      <td>0</td>\n",
              "    </tr>\n",
              "    <tr>\n",
              "      <th>1</th>\n",
              "      <td>Idk why but no matter what I do, life just con...</td>\n",
              "      <td>1</td>\n",
              "    </tr>\n",
              "    <tr>\n",
              "      <th>2</th>\n",
              "      <td>Recently I have been having obsessive thoughts...</td>\n",
              "      <td>0</td>\n",
              "    </tr>\n",
              "  </tbody>\n",
              "</table>\n",
              "</div>\n",
              "      <button class=\"colab-df-convert\" onclick=\"convertToInteractive('df-a08330f3-a4e4-4690-bbae-2099b81a402b')\"\n",
              "              title=\"Convert this dataframe to an interactive table.\"\n",
              "              style=\"display:none;\">\n",
              "        \n",
              "  <svg xmlns=\"http://www.w3.org/2000/svg\" height=\"24px\"viewBox=\"0 0 24 24\"\n",
              "       width=\"24px\">\n",
              "    <path d=\"M0 0h24v24H0V0z\" fill=\"none\"/>\n",
              "    <path d=\"M18.56 5.44l.94 2.06.94-2.06 2.06-.94-2.06-.94-.94-2.06-.94 2.06-2.06.94zm-11 1L8.5 8.5l.94-2.06 2.06-.94-2.06-.94L8.5 2.5l-.94 2.06-2.06.94zm10 10l.94 2.06.94-2.06 2.06-.94-2.06-.94-.94-2.06-.94 2.06-2.06.94z\"/><path d=\"M17.41 7.96l-1.37-1.37c-.4-.4-.92-.59-1.43-.59-.52 0-1.04.2-1.43.59L10.3 9.45l-7.72 7.72c-.78.78-.78 2.05 0 2.83L4 21.41c.39.39.9.59 1.41.59.51 0 1.02-.2 1.41-.59l7.78-7.78 2.81-2.81c.8-.78.8-2.07 0-2.86zM5.41 20L4 18.59l7.72-7.72 1.47 1.35L5.41 20z\"/>\n",
              "  </svg>\n",
              "      </button>\n",
              "      \n",
              "  <style>\n",
              "    .colab-df-container {\n",
              "      display:flex;\n",
              "      flex-wrap:wrap;\n",
              "      gap: 12px;\n",
              "    }\n",
              "\n",
              "    .colab-df-convert {\n",
              "      background-color: #E8F0FE;\n",
              "      border: none;\n",
              "      border-radius: 50%;\n",
              "      cursor: pointer;\n",
              "      display: none;\n",
              "      fill: #1967D2;\n",
              "      height: 32px;\n",
              "      padding: 0 0 0 0;\n",
              "      width: 32px;\n",
              "    }\n",
              "\n",
              "    .colab-df-convert:hover {\n",
              "      background-color: #E2EBFA;\n",
              "      box-shadow: 0px 1px 2px rgba(60, 64, 67, 0.3), 0px 1px 3px 1px rgba(60, 64, 67, 0.15);\n",
              "      fill: #174EA6;\n",
              "    }\n",
              "\n",
              "    [theme=dark] .colab-df-convert {\n",
              "      background-color: #3B4455;\n",
              "      fill: #D2E3FC;\n",
              "    }\n",
              "\n",
              "    [theme=dark] .colab-df-convert:hover {\n",
              "      background-color: #434B5C;\n",
              "      box-shadow: 0px 1px 3px 1px rgba(0, 0, 0, 0.15);\n",
              "      filter: drop-shadow(0px 1px 2px rgba(0, 0, 0, 0.3));\n",
              "      fill: #FFFFFF;\n",
              "    }\n",
              "  </style>\n",
              "\n",
              "      <script>\n",
              "        const buttonEl =\n",
              "          document.querySelector('#df-a08330f3-a4e4-4690-bbae-2099b81a402b button.colab-df-convert');\n",
              "        buttonEl.style.display =\n",
              "          google.colab.kernel.accessAllowed ? 'block' : 'none';\n",
              "\n",
              "        async function convertToInteractive(key) {\n",
              "          const element = document.querySelector('#df-a08330f3-a4e4-4690-bbae-2099b81a402b');\n",
              "          const dataTable =\n",
              "            await google.colab.kernel.invokeFunction('convertToInteractive',\n",
              "                                                     [key], {});\n",
              "          if (!dataTable) return;\n",
              "\n",
              "          const docLinkHtml = 'Like what you see? Visit the ' +\n",
              "            '<a target=\"_blank\" href=https://colab.research.google.com/notebooks/data_table.ipynb>data table notebook</a>'\n",
              "            + ' to learn more about interactive tables.';\n",
              "          element.innerHTML = '';\n",
              "          dataTable['output_type'] = 'display_data';\n",
              "          await google.colab.output.renderOutput(dataTable, element);\n",
              "          const docLink = document.createElement('div');\n",
              "          docLink.innerHTML = docLinkHtml;\n",
              "          element.appendChild(docLink);\n",
              "        }\n",
              "      </script>\n",
              "    </div>\n",
              "  </div>\n",
              "  "
            ]
          },
          "metadata": {},
          "execution_count": 125
        }
      ]
    },
    {
      "cell_type": "code",
      "source": [
        "reddit_data['predictions'] = reddit_data['predictions'].replace([0,1],['need','no need'])"
      ],
      "metadata": {
        "id": "tCZcD2wLfTQ5"
      },
      "execution_count": 126,
      "outputs": []
    },
    {
      "cell_type": "code",
      "source": [
        "from google.colab import files\n",
        "reddit_data.to_excel('reddit_data_with_predictions.xlsx')\n",
        "files.download('reddit_data_with_predictions.xlsx')"
      ],
      "metadata": {
        "colab": {
          "base_uri": "https://localhost:8080/",
          "height": 17
        },
        "id": "I2lxsp4Gfbha",
        "outputId": "f29e56b1-fc56-4388-f2bd-4f5d6430919a"
      },
      "execution_count": 127,
      "outputs": [
        {
          "output_type": "display_data",
          "data": {
            "text/plain": [
              "<IPython.core.display.Javascript object>"
            ],
            "application/javascript": [
              "\n",
              "    async function download(id, filename, size) {\n",
              "      if (!google.colab.kernel.accessAllowed) {\n",
              "        return;\n",
              "      }\n",
              "      const div = document.createElement('div');\n",
              "      const label = document.createElement('label');\n",
              "      label.textContent = `Downloading \"${filename}\": `;\n",
              "      div.appendChild(label);\n",
              "      const progress = document.createElement('progress');\n",
              "      progress.max = size;\n",
              "      div.appendChild(progress);\n",
              "      document.body.appendChild(div);\n",
              "\n",
              "      const buffers = [];\n",
              "      let downloaded = 0;\n",
              "\n",
              "      const channel = await google.colab.kernel.comms.open(id);\n",
              "      // Send a message to notify the kernel that we're ready.\n",
              "      channel.send({})\n",
              "\n",
              "      for await (const message of channel.messages) {\n",
              "        // Send a message to notify the kernel that we're ready.\n",
              "        channel.send({})\n",
              "        if (message.buffers) {\n",
              "          for (const buffer of message.buffers) {\n",
              "            buffers.push(buffer);\n",
              "            downloaded += buffer.byteLength;\n",
              "            progress.value = downloaded;\n",
              "          }\n",
              "        }\n",
              "      }\n",
              "      const blob = new Blob(buffers, {type: 'application/binary'});\n",
              "      const a = document.createElement('a');\n",
              "      a.href = window.URL.createObjectURL(blob);\n",
              "      a.download = filename;\n",
              "      div.appendChild(a);\n",
              "      a.click();\n",
              "      div.remove();\n",
              "    }\n",
              "  "
            ]
          },
          "metadata": {}
        },
        {
          "output_type": "display_data",
          "data": {
            "text/plain": [
              "<IPython.core.display.Javascript object>"
            ],
            "application/javascript": [
              "download(\"download_17646910-ff44-41f9-8018-84b18fb4c635\", \"reddit_data_with_predictions.xlsx\", 27729)"
            ]
          },
          "metadata": {}
        }
      ]
    },
    {
      "cell_type": "code",
      "source": [
        ""
      ],
      "metadata": {
        "id": "DtpXdGyWfhs1"
      },
      "execution_count": null,
      "outputs": []
    }
  ]
}