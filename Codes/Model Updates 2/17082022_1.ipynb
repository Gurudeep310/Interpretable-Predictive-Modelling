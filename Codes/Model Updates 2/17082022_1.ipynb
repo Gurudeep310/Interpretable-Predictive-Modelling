{
  "metadata": {
    "kernelspec": {
      "language": "python",
      "display_name": "Python 3",
      "name": "python3"
    },
    "language_info": {
      "name": "python",
      "version": "3.7.12",
      "mimetype": "text/x-python",
      "codemirror_mode": {
        "name": "ipython",
        "version": 3
      },
      "pygments_lexer": "ipython3",
      "nbconvert_exporter": "python",
      "file_extension": ".py"
    },
    "colab": {
      "name": "17082022_1.ipynb",
      "provenance": []
    },
    "gpuClass": "standard",
    "accelerator": "GPU"
  },
  "nbformat_minor": 0,
  "nbformat": 4,
  "cells": [
    {
      "cell_type": "code",
      "source": [
        "!pip install -q -U \"tensorflow-text==2.8.*\"\n",
        "!pip install -q tf-models-official==2.7.0\n",
        "!pip install transformers\n",
        "#!pip install focal_loss\n",
        "#!pip install focal-loss"
      ],
      "metadata": {
        "execution": {
          "iopub.status.busy": "2022-08-12T08:29:10.541362Z",
          "iopub.execute_input": "2022-08-12T08:29:10.541966Z",
          "iopub.status.idle": "2022-08-12T08:31:16.727768Z",
          "shell.execute_reply.started": "2022-08-12T08:29:10.541922Z",
          "shell.execute_reply": "2022-08-12T08:31:16.726598Z"
        },
        "trusted": true,
        "colab": {
          "base_uri": "https://localhost:8080/"
        },
        "id": "svYAJzJFnUhW",
        "outputId": "ef223906-d251-4f85-843f-8b4364689e5e"
      },
      "execution_count": 1,
      "outputs": [
        {
          "output_type": "stream",
          "name": "stdout",
          "text": [
            "\u001b[K     |████████████████████████████████| 4.9 MB 36.3 MB/s \n",
            "\u001b[K     |████████████████████████████████| 1.8 MB 28.6 MB/s \n",
            "\u001b[K     |████████████████████████████████| 99 kB 10.5 MB/s \n",
            "\u001b[K     |████████████████████████████████| 238 kB 69.0 MB/s \n",
            "\u001b[K     |████████████████████████████████| 43 kB 2.3 MB/s \n",
            "\u001b[K     |████████████████████████████████| 352 kB 62.0 MB/s \n",
            "\u001b[K     |████████████████████████████████| 1.1 MB 60.8 MB/s \n",
            "\u001b[K     |████████████████████████████████| 596 kB 72.8 MB/s \n",
            "\u001b[K     |████████████████████████████████| 116 kB 75.3 MB/s \n",
            "\u001b[K     |████████████████████████████████| 1.3 MB 66.7 MB/s \n",
            "\u001b[?25h  Building wheel for py-cpuinfo (setup.py) ... \u001b[?25l\u001b[?25hdone\n",
            "  Building wheel for seqeval (setup.py) ... \u001b[?25l\u001b[?25hdone\n",
            "Looking in indexes: https://pypi.org/simple, https://us-python.pkg.dev/colab-wheels/public/simple/\n",
            "Collecting transformers\n",
            "  Downloading transformers-4.21.1-py3-none-any.whl (4.7 MB)\n",
            "\u001b[K     |████████████████████████████████| 4.7 MB 24.4 MB/s \n",
            "\u001b[?25hRequirement already satisfied: tqdm>=4.27 in /usr/local/lib/python3.7/dist-packages (from transformers) (4.64.0)\n",
            "Requirement already satisfied: numpy>=1.17 in /usr/local/lib/python3.7/dist-packages (from transformers) (1.21.6)\n",
            "Requirement already satisfied: importlib-metadata in /usr/local/lib/python3.7/dist-packages (from transformers) (4.12.0)\n",
            "Requirement already satisfied: requests in /usr/local/lib/python3.7/dist-packages (from transformers) (2.23.0)\n",
            "Collecting huggingface-hub<1.0,>=0.1.0\n",
            "  Downloading huggingface_hub-0.8.1-py3-none-any.whl (101 kB)\n",
            "\u001b[K     |████████████████████████████████| 101 kB 12.9 MB/s \n",
            "\u001b[?25hRequirement already satisfied: filelock in /usr/local/lib/python3.7/dist-packages (from transformers) (3.8.0)\n",
            "Requirement already satisfied: packaging>=20.0 in /usr/local/lib/python3.7/dist-packages (from transformers) (21.3)\n",
            "Collecting tokenizers!=0.11.3,<0.13,>=0.11.1\n",
            "  Downloading tokenizers-0.12.1-cp37-cp37m-manylinux_2_12_x86_64.manylinux2010_x86_64.whl (6.6 MB)\n",
            "\u001b[K     |████████████████████████████████| 6.6 MB 57.7 MB/s \n",
            "\u001b[?25hRequirement already satisfied: regex!=2019.12.17 in /usr/local/lib/python3.7/dist-packages (from transformers) (2022.6.2)\n",
            "Requirement already satisfied: pyyaml>=5.1 in /usr/local/lib/python3.7/dist-packages (from transformers) (6.0)\n",
            "Requirement already satisfied: typing-extensions>=3.7.4.3 in /usr/local/lib/python3.7/dist-packages (from huggingface-hub<1.0,>=0.1.0->transformers) (4.1.1)\n",
            "Requirement already satisfied: pyparsing!=3.0.5,>=2.0.2 in /usr/local/lib/python3.7/dist-packages (from packaging>=20.0->transformers) (3.0.9)\n",
            "Requirement already satisfied: zipp>=0.5 in /usr/local/lib/python3.7/dist-packages (from importlib-metadata->transformers) (3.8.1)\n",
            "Requirement already satisfied: idna<3,>=2.5 in /usr/local/lib/python3.7/dist-packages (from requests->transformers) (2.10)\n",
            "Requirement already satisfied: chardet<4,>=3.0.2 in /usr/local/lib/python3.7/dist-packages (from requests->transformers) (3.0.4)\n",
            "Requirement already satisfied: urllib3!=1.25.0,!=1.25.1,<1.26,>=1.21.1 in /usr/local/lib/python3.7/dist-packages (from requests->transformers) (1.24.3)\n",
            "Requirement already satisfied: certifi>=2017.4.17 in /usr/local/lib/python3.7/dist-packages (from requests->transformers) (2022.6.15)\n",
            "Installing collected packages: tokenizers, huggingface-hub, transformers\n",
            "Successfully installed huggingface-hub-0.8.1 tokenizers-0.12.1 transformers-4.21.1\n"
          ]
        }
      ]
    },
    {
      "cell_type": "code",
      "source": [
        "import pandas as pd \n",
        "import numpy as np\n",
        "import seaborn as sns \n",
        "import matplotlib.pyplot as plt\n",
        "from sklearn.utils import shuffle\n",
        "from sklearn.preprocessing import LabelEncoder\n",
        "from sklearn.model_selection import train_test_split\n",
        "#from tensorflow.keras.utils import to_categorical\n",
        "from sklearn.metrics import classification_report\n",
        "import sklearn\n",
        "from sklearn.utils import shuffle\n",
        "\n",
        "#from focal_loss import SparseCategoricalFocalLoss\n",
        "import os\n",
        "import shutil\n",
        "import tensorflow as tf\n",
        "import tensorflow_hub as hub\n",
        "import tensorflow_text as text\n",
        "from official.nlp import optimization  # to create AdamW optimizer\n",
        "import keras\n",
        "from sklearn.model_selection import StratifiedKFold\n",
        "tf.get_logger().setLevel('ERROR')\n",
        "\n",
        "#from nltk.corpus import stopwords  \n",
        "#from nltk.stem import WordNetLemmatizer\n",
        "#from nltk.stem import PorterStemmer\n",
        "#from string import punctuation\n",
        "#from collections import Counter \n",
        "#import wordcloud\n",
        "#from nltk.corpus import stopwords \n",
        "#from textblob import Word \n",
        "#import re\n",
        "#import nltk"
      ],
      "metadata": {
        "execution": {
          "iopub.status.busy": "2022-08-12T08:31:16.730409Z",
          "iopub.execute_input": "2022-08-12T08:31:16.730791Z",
          "iopub.status.idle": "2022-08-12T08:31:21.108713Z",
          "shell.execute_reply.started": "2022-08-12T08:31:16.730734Z",
          "shell.execute_reply": "2022-08-12T08:31:21.107554Z"
        },
        "trusted": true,
        "id": "3AtB_lXcnUhY"
      },
      "execution_count": 2,
      "outputs": []
    },
    {
      "cell_type": "code",
      "source": [
        "#nltk.download('stopwords')\n",
        "#nltk.download('wordnet')\n",
        "#nltk.download('omw-1.4')\n",
        "#nltk.download('punkt')"
      ],
      "metadata": {
        "execution": {
          "iopub.status.busy": "2022-08-12T08:31:21.110704Z",
          "iopub.execute_input": "2022-08-12T08:31:21.111406Z",
          "iopub.status.idle": "2022-08-12T08:31:21.118138Z",
          "shell.execute_reply.started": "2022-08-12T08:31:21.111366Z",
          "shell.execute_reply": "2022-08-12T08:31:21.116917Z"
        },
        "trusted": true,
        "id": "9JXH5vf0nUhZ"
      },
      "execution_count": 3,
      "outputs": []
    },
    {
      "cell_type": "code",
      "source": [
        "oversampled_train_augmented = pd.read_csv(\"/content/oversampled_train_data.csv\")\n",
        "original_test_data = pd.read_csv(\"/content/original_test_data.csv\")\n",
        "original_test_data = original_test_data[['sentence','maslow']]\n",
        "oversampled_train_augmented = oversampled_train_augmented[['sentence','maslow']]\n",
        "original_test_data['maslow'] = original_test_data['maslow'].replace(['physiological','love','stability','esteem','spiritual growth'],['basic_needs','basic_needs','basic_needs','advanced_needs','advanced_needs'])\n",
        "oversampled_train_augmented['maslow'] = oversampled_train_augmented['maslow'].replace(['physiological','love','stability','esteem','spiritual growth'],['basic_needs','basic_needs','basic_needs','advanced_needs','advanced_needs'])"
      ],
      "metadata": {
        "execution": {
          "iopub.status.busy": "2022-08-12T08:31:21.121307Z",
          "iopub.execute_input": "2022-08-12T08:31:21.121985Z",
          "iopub.status.idle": "2022-08-12T08:31:21.252321Z",
          "shell.execute_reply.started": "2022-08-12T08:31:21.121947Z",
          "shell.execute_reply": "2022-08-12T08:31:21.251344Z"
        },
        "trusted": true,
        "id": "O6Mys1hnnUha",
        "colab": {
          "base_uri": "https://localhost:8080/"
        },
        "outputId": "d49e2ae9-da96-4483-86db-5f0b4f65c299"
      },
      "execution_count": 4,
      "outputs": [
        {
          "output_type": "stream",
          "name": "stderr",
          "text": [
            "/usr/local/lib/python3.7/dist-packages/ipykernel_launcher.py:5: SettingWithCopyWarning: \n",
            "A value is trying to be set on a copy of a slice from a DataFrame.\n",
            "Try using .loc[row_indexer,col_indexer] = value instead\n",
            "\n",
            "See the caveats in the documentation: https://pandas.pydata.org/pandas-docs/stable/user_guide/indexing.html#returning-a-view-versus-a-copy\n",
            "  \"\"\"\n",
            "/usr/local/lib/python3.7/dist-packages/ipykernel_launcher.py:6: SettingWithCopyWarning: \n",
            "A value is trying to be set on a copy of a slice from a DataFrame.\n",
            "Try using .loc[row_indexer,col_indexer] = value instead\n",
            "\n",
            "See the caveats in the documentation: https://pandas.pydata.org/pandas-docs/stable/user_guide/indexing.html#returning-a-view-versus-a-copy\n",
            "  \n"
          ]
        }
      ]
    },
    {
      "cell_type": "code",
      "source": [
        "oversampled_train_augmented.head(2)"
      ],
      "metadata": {
        "execution": {
          "iopub.status.busy": "2022-08-12T08:31:21.254679Z",
          "iopub.execute_input": "2022-08-12T08:31:21.255350Z",
          "iopub.status.idle": "2022-08-12T08:31:21.271637Z",
          "shell.execute_reply.started": "2022-08-12T08:31:21.255310Z",
          "shell.execute_reply": "2022-08-12T08:31:21.270573Z"
        },
        "trusted": true,
        "colab": {
          "base_uri": "https://localhost:8080/",
          "height": 112
        },
        "id": "FGEBUSrQnUhb",
        "outputId": "4a06a670-ec1d-48f6-98b6-90009f55fea1"
      },
      "execution_count": 5,
      "outputs": [
        {
          "output_type": "execute_result",
          "data": {
            "text/plain": [
              "                                            sentence       maslow\n",
              "0  Melissa never drank wine.Melissa broke up with...  basic_needs\n",
              "1  Ray couldn't get an irritating tune out of his...         none"
            ],
            "text/html": [
              "\n",
              "  <div id=\"df-87d8fcc8-7ffb-4f87-8f25-fc572aa9e2da\">\n",
              "    <div class=\"colab-df-container\">\n",
              "      <div>\n",
              "<style scoped>\n",
              "    .dataframe tbody tr th:only-of-type {\n",
              "        vertical-align: middle;\n",
              "    }\n",
              "\n",
              "    .dataframe tbody tr th {\n",
              "        vertical-align: top;\n",
              "    }\n",
              "\n",
              "    .dataframe thead th {\n",
              "        text-align: right;\n",
              "    }\n",
              "</style>\n",
              "<table border=\"1\" class=\"dataframe\">\n",
              "  <thead>\n",
              "    <tr style=\"text-align: right;\">\n",
              "      <th></th>\n",
              "      <th>sentence</th>\n",
              "      <th>maslow</th>\n",
              "    </tr>\n",
              "  </thead>\n",
              "  <tbody>\n",
              "    <tr>\n",
              "      <th>0</th>\n",
              "      <td>Melissa never drank wine.Melissa broke up with...</td>\n",
              "      <td>basic_needs</td>\n",
              "    </tr>\n",
              "    <tr>\n",
              "      <th>1</th>\n",
              "      <td>Ray couldn't get an irritating tune out of his...</td>\n",
              "      <td>none</td>\n",
              "    </tr>\n",
              "  </tbody>\n",
              "</table>\n",
              "</div>\n",
              "      <button class=\"colab-df-convert\" onclick=\"convertToInteractive('df-87d8fcc8-7ffb-4f87-8f25-fc572aa9e2da')\"\n",
              "              title=\"Convert this dataframe to an interactive table.\"\n",
              "              style=\"display:none;\">\n",
              "        \n",
              "  <svg xmlns=\"http://www.w3.org/2000/svg\" height=\"24px\"viewBox=\"0 0 24 24\"\n",
              "       width=\"24px\">\n",
              "    <path d=\"M0 0h24v24H0V0z\" fill=\"none\"/>\n",
              "    <path d=\"M18.56 5.44l.94 2.06.94-2.06 2.06-.94-2.06-.94-.94-2.06-.94 2.06-2.06.94zm-11 1L8.5 8.5l.94-2.06 2.06-.94-2.06-.94L8.5 2.5l-.94 2.06-2.06.94zm10 10l.94 2.06.94-2.06 2.06-.94-2.06-.94-.94-2.06-.94 2.06-2.06.94z\"/><path d=\"M17.41 7.96l-1.37-1.37c-.4-.4-.92-.59-1.43-.59-.52 0-1.04.2-1.43.59L10.3 9.45l-7.72 7.72c-.78.78-.78 2.05 0 2.83L4 21.41c.39.39.9.59 1.41.59.51 0 1.02-.2 1.41-.59l7.78-7.78 2.81-2.81c.8-.78.8-2.07 0-2.86zM5.41 20L4 18.59l7.72-7.72 1.47 1.35L5.41 20z\"/>\n",
              "  </svg>\n",
              "      </button>\n",
              "      \n",
              "  <style>\n",
              "    .colab-df-container {\n",
              "      display:flex;\n",
              "      flex-wrap:wrap;\n",
              "      gap: 12px;\n",
              "    }\n",
              "\n",
              "    .colab-df-convert {\n",
              "      background-color: #E8F0FE;\n",
              "      border: none;\n",
              "      border-radius: 50%;\n",
              "      cursor: pointer;\n",
              "      display: none;\n",
              "      fill: #1967D2;\n",
              "      height: 32px;\n",
              "      padding: 0 0 0 0;\n",
              "      width: 32px;\n",
              "    }\n",
              "\n",
              "    .colab-df-convert:hover {\n",
              "      background-color: #E2EBFA;\n",
              "      box-shadow: 0px 1px 2px rgba(60, 64, 67, 0.3), 0px 1px 3px 1px rgba(60, 64, 67, 0.15);\n",
              "      fill: #174EA6;\n",
              "    }\n",
              "\n",
              "    [theme=dark] .colab-df-convert {\n",
              "      background-color: #3B4455;\n",
              "      fill: #D2E3FC;\n",
              "    }\n",
              "\n",
              "    [theme=dark] .colab-df-convert:hover {\n",
              "      background-color: #434B5C;\n",
              "      box-shadow: 0px 1px 3px 1px rgba(0, 0, 0, 0.15);\n",
              "      filter: drop-shadow(0px 1px 2px rgba(0, 0, 0, 0.3));\n",
              "      fill: #FFFFFF;\n",
              "    }\n",
              "  </style>\n",
              "\n",
              "      <script>\n",
              "        const buttonEl =\n",
              "          document.querySelector('#df-87d8fcc8-7ffb-4f87-8f25-fc572aa9e2da button.colab-df-convert');\n",
              "        buttonEl.style.display =\n",
              "          google.colab.kernel.accessAllowed ? 'block' : 'none';\n",
              "\n",
              "        async function convertToInteractive(key) {\n",
              "          const element = document.querySelector('#df-87d8fcc8-7ffb-4f87-8f25-fc572aa9e2da');\n",
              "          const dataTable =\n",
              "            await google.colab.kernel.invokeFunction('convertToInteractive',\n",
              "                                                     [key], {});\n",
              "          if (!dataTable) return;\n",
              "\n",
              "          const docLinkHtml = 'Like what you see? Visit the ' +\n",
              "            '<a target=\"_blank\" href=https://colab.research.google.com/notebooks/data_table.ipynb>data table notebook</a>'\n",
              "            + ' to learn more about interactive tables.';\n",
              "          element.innerHTML = '';\n",
              "          dataTable['output_type'] = 'display_data';\n",
              "          await google.colab.output.renderOutput(dataTable, element);\n",
              "          const docLink = document.createElement('div');\n",
              "          docLink.innerHTML = docLinkHtml;\n",
              "          element.appendChild(docLink);\n",
              "        }\n",
              "      </script>\n",
              "    </div>\n",
              "  </div>\n",
              "  "
            ]
          },
          "metadata": {},
          "execution_count": 5
        }
      ]
    },
    {
      "cell_type": "code",
      "source": [
        "original_test_data.head(2)"
      ],
      "metadata": {
        "execution": {
          "iopub.status.busy": "2022-08-12T08:31:21.273405Z",
          "iopub.execute_input": "2022-08-12T08:31:21.273811Z",
          "iopub.status.idle": "2022-08-12T08:31:21.283277Z",
          "shell.execute_reply.started": "2022-08-12T08:31:21.273773Z",
          "shell.execute_reply": "2022-08-12T08:31:21.282072Z"
        },
        "trusted": true,
        "colab": {
          "base_uri": "https://localhost:8080/",
          "height": 112
        },
        "id": "Ge0VneoDnUhc",
        "outputId": "8fed9e01-0853-4956-846c-80725bd0db73"
      },
      "execution_count": 6,
      "outputs": [
        {
          "output_type": "execute_result",
          "data": {
            "text/plain": [
              "                                            sentence          maslow\n",
              "0  Jamies job requires her to travel a lot.She ha...  advanced_needs\n",
              "1  Andy was craving some cereal.He picked out som...     basic_needs"
            ],
            "text/html": [
              "\n",
              "  <div id=\"df-7aa433a4-661a-4c72-9624-ca2d88d65005\">\n",
              "    <div class=\"colab-df-container\">\n",
              "      <div>\n",
              "<style scoped>\n",
              "    .dataframe tbody tr th:only-of-type {\n",
              "        vertical-align: middle;\n",
              "    }\n",
              "\n",
              "    .dataframe tbody tr th {\n",
              "        vertical-align: top;\n",
              "    }\n",
              "\n",
              "    .dataframe thead th {\n",
              "        text-align: right;\n",
              "    }\n",
              "</style>\n",
              "<table border=\"1\" class=\"dataframe\">\n",
              "  <thead>\n",
              "    <tr style=\"text-align: right;\">\n",
              "      <th></th>\n",
              "      <th>sentence</th>\n",
              "      <th>maslow</th>\n",
              "    </tr>\n",
              "  </thead>\n",
              "  <tbody>\n",
              "    <tr>\n",
              "      <th>0</th>\n",
              "      <td>Jamies job requires her to travel a lot.She ha...</td>\n",
              "      <td>advanced_needs</td>\n",
              "    </tr>\n",
              "    <tr>\n",
              "      <th>1</th>\n",
              "      <td>Andy was craving some cereal.He picked out som...</td>\n",
              "      <td>basic_needs</td>\n",
              "    </tr>\n",
              "  </tbody>\n",
              "</table>\n",
              "</div>\n",
              "      <button class=\"colab-df-convert\" onclick=\"convertToInteractive('df-7aa433a4-661a-4c72-9624-ca2d88d65005')\"\n",
              "              title=\"Convert this dataframe to an interactive table.\"\n",
              "              style=\"display:none;\">\n",
              "        \n",
              "  <svg xmlns=\"http://www.w3.org/2000/svg\" height=\"24px\"viewBox=\"0 0 24 24\"\n",
              "       width=\"24px\">\n",
              "    <path d=\"M0 0h24v24H0V0z\" fill=\"none\"/>\n",
              "    <path d=\"M18.56 5.44l.94 2.06.94-2.06 2.06-.94-2.06-.94-.94-2.06-.94 2.06-2.06.94zm-11 1L8.5 8.5l.94-2.06 2.06-.94-2.06-.94L8.5 2.5l-.94 2.06-2.06.94zm10 10l.94 2.06.94-2.06 2.06-.94-2.06-.94-.94-2.06-.94 2.06-2.06.94z\"/><path d=\"M17.41 7.96l-1.37-1.37c-.4-.4-.92-.59-1.43-.59-.52 0-1.04.2-1.43.59L10.3 9.45l-7.72 7.72c-.78.78-.78 2.05 0 2.83L4 21.41c.39.39.9.59 1.41.59.51 0 1.02-.2 1.41-.59l7.78-7.78 2.81-2.81c.8-.78.8-2.07 0-2.86zM5.41 20L4 18.59l7.72-7.72 1.47 1.35L5.41 20z\"/>\n",
              "  </svg>\n",
              "      </button>\n",
              "      \n",
              "  <style>\n",
              "    .colab-df-container {\n",
              "      display:flex;\n",
              "      flex-wrap:wrap;\n",
              "      gap: 12px;\n",
              "    }\n",
              "\n",
              "    .colab-df-convert {\n",
              "      background-color: #E8F0FE;\n",
              "      border: none;\n",
              "      border-radius: 50%;\n",
              "      cursor: pointer;\n",
              "      display: none;\n",
              "      fill: #1967D2;\n",
              "      height: 32px;\n",
              "      padding: 0 0 0 0;\n",
              "      width: 32px;\n",
              "    }\n",
              "\n",
              "    .colab-df-convert:hover {\n",
              "      background-color: #E2EBFA;\n",
              "      box-shadow: 0px 1px 2px rgba(60, 64, 67, 0.3), 0px 1px 3px 1px rgba(60, 64, 67, 0.15);\n",
              "      fill: #174EA6;\n",
              "    }\n",
              "\n",
              "    [theme=dark] .colab-df-convert {\n",
              "      background-color: #3B4455;\n",
              "      fill: #D2E3FC;\n",
              "    }\n",
              "\n",
              "    [theme=dark] .colab-df-convert:hover {\n",
              "      background-color: #434B5C;\n",
              "      box-shadow: 0px 1px 3px 1px rgba(0, 0, 0, 0.15);\n",
              "      filter: drop-shadow(0px 1px 2px rgba(0, 0, 0, 0.3));\n",
              "      fill: #FFFFFF;\n",
              "    }\n",
              "  </style>\n",
              "\n",
              "      <script>\n",
              "        const buttonEl =\n",
              "          document.querySelector('#df-7aa433a4-661a-4c72-9624-ca2d88d65005 button.colab-df-convert');\n",
              "        buttonEl.style.display =\n",
              "          google.colab.kernel.accessAllowed ? 'block' : 'none';\n",
              "\n",
              "        async function convertToInteractive(key) {\n",
              "          const element = document.querySelector('#df-7aa433a4-661a-4c72-9624-ca2d88d65005');\n",
              "          const dataTable =\n",
              "            await google.colab.kernel.invokeFunction('convertToInteractive',\n",
              "                                                     [key], {});\n",
              "          if (!dataTable) return;\n",
              "\n",
              "          const docLinkHtml = 'Like what you see? Visit the ' +\n",
              "            '<a target=\"_blank\" href=https://colab.research.google.com/notebooks/data_table.ipynb>data table notebook</a>'\n",
              "            + ' to learn more about interactive tables.';\n",
              "          element.innerHTML = '';\n",
              "          dataTable['output_type'] = 'display_data';\n",
              "          await google.colab.output.renderOutput(dataTable, element);\n",
              "          const docLink = document.createElement('div');\n",
              "          docLink.innerHTML = docLinkHtml;\n",
              "          element.appendChild(docLink);\n",
              "        }\n",
              "      </script>\n",
              "    </div>\n",
              "  </div>\n",
              "  "
            ]
          },
          "metadata": {},
          "execution_count": 6
        }
      ]
    },
    {
      "cell_type": "code",
      "source": [
        "lb = LabelEncoder() \n",
        "oversampled_train_augmented['maslowLabel'] = lb.fit_transform(oversampled_train_augmented['maslow'])\n",
        "original_test_data['maslowLabel'] = lb.fit_transform(original_test_data['maslow'])\n",
        "print(oversampled_train_augmented['maslow'].unique())\n",
        "print(oversampled_train_augmented['maslowLabel'].unique())"
      ],
      "metadata": {
        "execution": {
          "iopub.status.busy": "2022-08-12T08:31:21.285235Z",
          "iopub.execute_input": "2022-08-12T08:31:21.285946Z",
          "iopub.status.idle": "2022-08-12T08:31:21.307506Z",
          "shell.execute_reply.started": "2022-08-12T08:31:21.285909Z",
          "shell.execute_reply": "2022-08-12T08:31:21.306444Z"
        },
        "trusted": true,
        "colab": {
          "base_uri": "https://localhost:8080/"
        },
        "id": "fpPOzxk6nUhf",
        "outputId": "ce4d2757-bcf5-4dbd-f86d-82abb2bf2bd3"
      },
      "execution_count": 7,
      "outputs": [
        {
          "output_type": "stream",
          "name": "stdout",
          "text": [
            "['basic_needs' 'none' 'advanced_needs']\n",
            "[1 2 0]\n"
          ]
        }
      ]
    },
    {
      "cell_type": "code",
      "source": [
        "print(original_test_data['maslow'].unique())\n",
        "print(original_test_data['maslowLabel'].unique())"
      ],
      "metadata": {
        "execution": {
          "iopub.status.busy": "2022-08-12T08:31:21.309119Z",
          "iopub.execute_input": "2022-08-12T08:31:21.309454Z",
          "iopub.status.idle": "2022-08-12T08:31:21.316082Z",
          "shell.execute_reply.started": "2022-08-12T08:31:21.309420Z",
          "shell.execute_reply": "2022-08-12T08:31:21.315089Z"
        },
        "trusted": true,
        "colab": {
          "base_uri": "https://localhost:8080/"
        },
        "id": "koecrnhmnUhi",
        "outputId": "fb09cb67-eda8-40d7-a56f-f4ae1796f14c"
      },
      "execution_count": 8,
      "outputs": [
        {
          "output_type": "stream",
          "name": "stdout",
          "text": [
            "['advanced_needs' 'basic_needs' 'none']\n",
            "[0 1 2]\n"
          ]
        }
      ]
    },
    {
      "cell_type": "code",
      "source": [
        "oversampled_train_augmented.head(2)"
      ],
      "metadata": {
        "execution": {
          "iopub.status.busy": "2022-08-12T08:31:21.317414Z",
          "iopub.execute_input": "2022-08-12T08:31:21.317951Z",
          "iopub.status.idle": "2022-08-12T08:31:21.333247Z",
          "shell.execute_reply.started": "2022-08-12T08:31:21.317914Z",
          "shell.execute_reply": "2022-08-12T08:31:21.332305Z"
        },
        "trusted": true,
        "colab": {
          "base_uri": "https://localhost:8080/",
          "height": 112
        },
        "id": "midsBe0VnUhl",
        "outputId": "06f0b5dd-b58d-4469-a3dd-c6c572f04ee7"
      },
      "execution_count": 9,
      "outputs": [
        {
          "output_type": "execute_result",
          "data": {
            "text/plain": [
              "                                            sentence       maslow  maslowLabel\n",
              "0  Melissa never drank wine.Melissa broke up with...  basic_needs            1\n",
              "1  Ray couldn't get an irritating tune out of his...         none            2"
            ],
            "text/html": [
              "\n",
              "  <div id=\"df-e6e82f23-3e15-416e-b11b-a1bafa76f87e\">\n",
              "    <div class=\"colab-df-container\">\n",
              "      <div>\n",
              "<style scoped>\n",
              "    .dataframe tbody tr th:only-of-type {\n",
              "        vertical-align: middle;\n",
              "    }\n",
              "\n",
              "    .dataframe tbody tr th {\n",
              "        vertical-align: top;\n",
              "    }\n",
              "\n",
              "    .dataframe thead th {\n",
              "        text-align: right;\n",
              "    }\n",
              "</style>\n",
              "<table border=\"1\" class=\"dataframe\">\n",
              "  <thead>\n",
              "    <tr style=\"text-align: right;\">\n",
              "      <th></th>\n",
              "      <th>sentence</th>\n",
              "      <th>maslow</th>\n",
              "      <th>maslowLabel</th>\n",
              "    </tr>\n",
              "  </thead>\n",
              "  <tbody>\n",
              "    <tr>\n",
              "      <th>0</th>\n",
              "      <td>Melissa never drank wine.Melissa broke up with...</td>\n",
              "      <td>basic_needs</td>\n",
              "      <td>1</td>\n",
              "    </tr>\n",
              "    <tr>\n",
              "      <th>1</th>\n",
              "      <td>Ray couldn't get an irritating tune out of his...</td>\n",
              "      <td>none</td>\n",
              "      <td>2</td>\n",
              "    </tr>\n",
              "  </tbody>\n",
              "</table>\n",
              "</div>\n",
              "      <button class=\"colab-df-convert\" onclick=\"convertToInteractive('df-e6e82f23-3e15-416e-b11b-a1bafa76f87e')\"\n",
              "              title=\"Convert this dataframe to an interactive table.\"\n",
              "              style=\"display:none;\">\n",
              "        \n",
              "  <svg xmlns=\"http://www.w3.org/2000/svg\" height=\"24px\"viewBox=\"0 0 24 24\"\n",
              "       width=\"24px\">\n",
              "    <path d=\"M0 0h24v24H0V0z\" fill=\"none\"/>\n",
              "    <path d=\"M18.56 5.44l.94 2.06.94-2.06 2.06-.94-2.06-.94-.94-2.06-.94 2.06-2.06.94zm-11 1L8.5 8.5l.94-2.06 2.06-.94-2.06-.94L8.5 2.5l-.94 2.06-2.06.94zm10 10l.94 2.06.94-2.06 2.06-.94-2.06-.94-.94-2.06-.94 2.06-2.06.94z\"/><path d=\"M17.41 7.96l-1.37-1.37c-.4-.4-.92-.59-1.43-.59-.52 0-1.04.2-1.43.59L10.3 9.45l-7.72 7.72c-.78.78-.78 2.05 0 2.83L4 21.41c.39.39.9.59 1.41.59.51 0 1.02-.2 1.41-.59l7.78-7.78 2.81-2.81c.8-.78.8-2.07 0-2.86zM5.41 20L4 18.59l7.72-7.72 1.47 1.35L5.41 20z\"/>\n",
              "  </svg>\n",
              "      </button>\n",
              "      \n",
              "  <style>\n",
              "    .colab-df-container {\n",
              "      display:flex;\n",
              "      flex-wrap:wrap;\n",
              "      gap: 12px;\n",
              "    }\n",
              "\n",
              "    .colab-df-convert {\n",
              "      background-color: #E8F0FE;\n",
              "      border: none;\n",
              "      border-radius: 50%;\n",
              "      cursor: pointer;\n",
              "      display: none;\n",
              "      fill: #1967D2;\n",
              "      height: 32px;\n",
              "      padding: 0 0 0 0;\n",
              "      width: 32px;\n",
              "    }\n",
              "\n",
              "    .colab-df-convert:hover {\n",
              "      background-color: #E2EBFA;\n",
              "      box-shadow: 0px 1px 2px rgba(60, 64, 67, 0.3), 0px 1px 3px 1px rgba(60, 64, 67, 0.15);\n",
              "      fill: #174EA6;\n",
              "    }\n",
              "\n",
              "    [theme=dark] .colab-df-convert {\n",
              "      background-color: #3B4455;\n",
              "      fill: #D2E3FC;\n",
              "    }\n",
              "\n",
              "    [theme=dark] .colab-df-convert:hover {\n",
              "      background-color: #434B5C;\n",
              "      box-shadow: 0px 1px 3px 1px rgba(0, 0, 0, 0.15);\n",
              "      filter: drop-shadow(0px 1px 2px rgba(0, 0, 0, 0.3));\n",
              "      fill: #FFFFFF;\n",
              "    }\n",
              "  </style>\n",
              "\n",
              "      <script>\n",
              "        const buttonEl =\n",
              "          document.querySelector('#df-e6e82f23-3e15-416e-b11b-a1bafa76f87e button.colab-df-convert');\n",
              "        buttonEl.style.display =\n",
              "          google.colab.kernel.accessAllowed ? 'block' : 'none';\n",
              "\n",
              "        async function convertToInteractive(key) {\n",
              "          const element = document.querySelector('#df-e6e82f23-3e15-416e-b11b-a1bafa76f87e');\n",
              "          const dataTable =\n",
              "            await google.colab.kernel.invokeFunction('convertToInteractive',\n",
              "                                                     [key], {});\n",
              "          if (!dataTable) return;\n",
              "\n",
              "          const docLinkHtml = 'Like what you see? Visit the ' +\n",
              "            '<a target=\"_blank\" href=https://colab.research.google.com/notebooks/data_table.ipynb>data table notebook</a>'\n",
              "            + ' to learn more about interactive tables.';\n",
              "          element.innerHTML = '';\n",
              "          dataTable['output_type'] = 'display_data';\n",
              "          await google.colab.output.renderOutput(dataTable, element);\n",
              "          const docLink = document.createElement('div');\n",
              "          docLink.innerHTML = docLinkHtml;\n",
              "          element.appendChild(docLink);\n",
              "        }\n",
              "      </script>\n",
              "    </div>\n",
              "  </div>\n",
              "  "
            ]
          },
          "metadata": {},
          "execution_count": 9
        }
      ]
    },
    {
      "cell_type": "code",
      "source": [
        "print(\"Num GPUs Available: \", len(tf.config.list_physical_devices('GPU')))"
      ],
      "metadata": {
        "execution": {
          "iopub.status.busy": "2022-08-12T08:31:21.434015Z",
          "iopub.execute_input": "2022-08-12T08:31:21.435197Z",
          "iopub.status.idle": "2022-08-12T08:31:21.608491Z",
          "shell.execute_reply.started": "2022-08-12T08:31:21.435157Z",
          "shell.execute_reply": "2022-08-12T08:31:21.607004Z"
        },
        "trusted": true,
        "colab": {
          "base_uri": "https://localhost:8080/"
        },
        "id": "RUiPeVpQnUhy",
        "outputId": "e094c316-3633-484f-cc1e-96de0369f9be"
      },
      "execution_count": 10,
      "outputs": [
        {
          "output_type": "stream",
          "name": "stdout",
          "text": [
            "Num GPUs Available:  1\n"
          ]
        }
      ]
    },
    {
      "cell_type": "code",
      "source": [
        "bert_model_name = 'small_bert/bert_en_uncased_L-4_H-768_A-12' \n",
        "\n",
        "map_name_to_handle = {\n",
        "    'bert_en_uncased_L-12_H-768_A-12':\n",
        "        'https://tfhub.dev/tensorflow/bert_en_uncased_L-12_H-768_A-12/3',\n",
        "    'bert_en_cased_L-12_H-768_A-12':\n",
        "        'https://tfhub.dev/tensorflow/bert_en_cased_L-12_H-768_A-12/3',\n",
        "    'bert_multi_cased_L-12_H-768_A-12':\n",
        "        'https://tfhub.dev/tensorflow/bert_multi_cased_L-12_H-768_A-12/3',\n",
        "    'small_bert/bert_en_uncased_L-2_H-128_A-2':\n",
        "        'https://tfhub.dev/tensorflow/small_bert/bert_en_uncased_L-2_H-128_A-2/1',\n",
        "    'small_bert/bert_en_uncased_L-2_H-256_A-4':\n",
        "        'https://tfhub.dev/tensorflow/small_bert/bert_en_uncased_L-2_H-256_A-4/1',\n",
        "    'small_bert/bert_en_uncased_L-2_H-512_A-8':\n",
        "        'https://tfhub.dev/tensorflow/small_bert/bert_en_uncased_L-2_H-512_A-8/1',\n",
        "    'small_bert/bert_en_uncased_L-2_H-768_A-12':\n",
        "        'https://tfhub.dev/tensorflow/small_bert/bert_en_uncased_L-2_H-768_A-12/1',\n",
        "    'small_bert/bert_en_uncased_L-4_H-128_A-2':\n",
        "        'https://tfhub.dev/tensorflow/small_bert/bert_en_uncased_L-4_H-128_A-2/1',\n",
        "    'small_bert/bert_en_uncased_L-4_H-256_A-4':\n",
        "        'https://tfhub.dev/tensorflow/small_bert/bert_en_uncased_L-4_H-256_A-4/1',\n",
        "    'small_bert/bert_en_uncased_L-4_H-512_A-8':\n",
        "        'https://tfhub.dev/tensorflow/small_bert/bert_en_uncased_L-4_H-512_A-8/1',\n",
        "    'small_bert/bert_en_uncased_L-4_H-768_A-12':\n",
        "        'https://tfhub.dev/tensorflow/small_bert/bert_en_uncased_L-4_H-768_A-12/1',\n",
        "    'small_bert/bert_en_uncased_L-6_H-128_A-2':\n",
        "        'https://tfhub.dev/tensorflow/small_bert/bert_en_uncased_L-6_H-128_A-2/1',\n",
        "    'small_bert/bert_en_uncased_L-6_H-256_A-4':\n",
        "        'https://tfhub.dev/tensorflow/small_bert/bert_en_uncased_L-6_H-256_A-4/1',\n",
        "    'small_bert/bert_en_uncased_L-6_H-512_A-8':\n",
        "        'https://tfhub.dev/tensorflow/small_bert/bert_en_uncased_L-6_H-512_A-8/1',\n",
        "    'small_bert/bert_en_uncased_L-6_H-768_A-12':\n",
        "        'https://tfhub.dev/tensorflow/small_bert/bert_en_uncased_L-6_H-768_A-12/1',\n",
        "    'small_bert/bert_en_uncased_L-8_H-128_A-2':\n",
        "        'https://tfhub.dev/tensorflow/small_bert/bert_en_uncased_L-8_H-128_A-2/1',\n",
        "    'small_bert/bert_en_uncased_L-8_H-256_A-4':\n",
        "        'https://tfhub.dev/tensorflow/small_bert/bert_en_uncased_L-8_H-256_A-4/1',\n",
        "    'small_bert/bert_en_uncased_L-8_H-512_A-8':\n",
        "        'https://tfhub.dev/tensorflow/small_bert/bert_en_uncased_L-8_H-512_A-8/1',\n",
        "    'small_bert/bert_en_uncased_L-8_H-768_A-12':\n",
        "        'https://tfhub.dev/tensorflow/small_bert/bert_en_uncased_L-8_H-768_A-12/1',\n",
        "    'small_bert/bert_en_uncased_L-10_H-128_A-2':\n",
        "        'https://tfhub.dev/tensorflow/small_bert/bert_en_uncased_L-10_H-128_A-2/1',\n",
        "    'small_bert/bert_en_uncased_L-10_H-256_A-4':\n",
        "        'https://tfhub.dev/tensorflow/small_bert/bert_en_uncased_L-10_H-256_A-4/1',\n",
        "    'small_bert/bert_en_uncased_L-10_H-512_A-8':\n",
        "        'https://tfhub.dev/tensorflow/small_bert/bert_en_uncased_L-10_H-512_A-8/1',\n",
        "    'small_bert/bert_en_uncased_L-10_H-768_A-12':\n",
        "        'https://tfhub.dev/tensorflow/small_bert/bert_en_uncased_L-10_H-768_A-12/1',\n",
        "    'small_bert/bert_en_uncased_L-12_H-128_A-2':\n",
        "        'https://tfhub.dev/tensorflow/small_bert/bert_en_uncased_L-12_H-128_A-2/1',\n",
        "    'small_bert/bert_en_uncased_L-12_H-256_A-4':\n",
        "        'https://tfhub.dev/tensorflow/small_bert/bert_en_uncased_L-12_H-256_A-4/1',\n",
        "    'small_bert/bert_en_uncased_L-12_H-512_A-8':\n",
        "        'https://tfhub.dev/tensorflow/small_bert/bert_en_uncased_L-12_H-512_A-8/1',\n",
        "    'small_bert/bert_en_uncased_L-12_H-768_A-12':\n",
        "        'https://tfhub.dev/tensorflow/small_bert/bert_en_uncased_L-12_H-768_A-12/1',\n",
        "    'albert_en_base':\n",
        "        'https://tfhub.dev/tensorflow/albert_en_base/2',\n",
        "    'electra_small':\n",
        "        'https://tfhub.dev/google/electra_small/2',\n",
        "    'electra_base':\n",
        "        'https://tfhub.dev/google/electra_base/2',\n",
        "    'experts_pubmed':\n",
        "        'https://tfhub.dev/google/experts/bert/pubmed/2',\n",
        "    'experts_wiki_books':\n",
        "        'https://tfhub.dev/google/experts/bert/wiki_books/2',\n",
        "    'talking-heads_base':\n",
        "        'https://tfhub.dev/tensorflow/talkheads_ggelu_bert_en_base/1',\n",
        "}\n",
        "\n",
        "map_model_to_preprocess = {\n",
        "    'bert_en_uncased_L-12_H-768_A-12':\n",
        "        'https://tfhub.dev/tensorflow/bert_en_uncased_preprocess/3',\n",
        "    'bert_en_cased_L-12_H-768_A-12':\n",
        "        'https://tfhub.dev/tensorflow/bert_en_cased_preprocess/3',\n",
        "    'small_bert/bert_en_uncased_L-2_H-128_A-2':\n",
        "        'https://tfhub.dev/tensorflow/bert_en_uncased_preprocess/3',\n",
        "    'small_bert/bert_en_uncased_L-2_H-256_A-4':\n",
        "        'https://tfhub.dev/tensorflow/bert_en_uncased_preprocess/3',\n",
        "    'small_bert/bert_en_uncased_L-2_H-512_A-8':\n",
        "        'https://tfhub.dev/tensorflow/bert_en_uncased_preprocess/3',\n",
        "    'small_bert/bert_en_uncased_L-2_H-768_A-12':\n",
        "        'https://tfhub.dev/tensorflow/bert_en_uncased_preprocess/3',\n",
        "    'small_bert/bert_en_uncased_L-4_H-128_A-2':\n",
        "        'https://tfhub.dev/tensorflow/bert_en_uncased_preprocess/3',\n",
        "    'small_bert/bert_en_uncased_L-4_H-256_A-4':\n",
        "        'https://tfhub.dev/tensorflow/bert_en_uncased_preprocess/3',\n",
        "    'small_bert/bert_en_uncased_L-4_H-512_A-8':\n",
        "        'https://tfhub.dev/tensorflow/bert_en_uncased_preprocess/3',\n",
        "    'small_bert/bert_en_uncased_L-4_H-768_A-12':\n",
        "        'https://tfhub.dev/tensorflow/bert_en_uncased_preprocess/3',\n",
        "    'small_bert/bert_en_uncased_L-6_H-128_A-2':\n",
        "        'https://tfhub.dev/tensorflow/bert_en_uncased_preprocess/3',\n",
        "    'small_bert/bert_en_uncased_L-6_H-256_A-4':\n",
        "        'https://tfhub.dev/tensorflow/bert_en_uncased_preprocess/3',\n",
        "    'small_bert/bert_en_uncased_L-6_H-512_A-8':\n",
        "        'https://tfhub.dev/tensorflow/bert_en_uncased_preprocess/3',\n",
        "    'small_bert/bert_en_uncased_L-6_H-768_A-12':\n",
        "        'https://tfhub.dev/tensorflow/bert_en_uncased_preprocess/3',\n",
        "    'small_bert/bert_en_uncased_L-8_H-128_A-2':\n",
        "        'https://tfhub.dev/tensorflow/bert_en_uncased_preprocess/3',\n",
        "    'small_bert/bert_en_uncased_L-8_H-256_A-4':\n",
        "        'https://tfhub.dev/tensorflow/bert_en_uncased_preprocess/3',\n",
        "    'small_bert/bert_en_uncased_L-8_H-512_A-8':\n",
        "        'https://tfhub.dev/tensorflow/bert_en_uncased_preprocess/3',\n",
        "    'small_bert/bert_en_uncased_L-8_H-768_A-12':\n",
        "        'https://tfhub.dev/tensorflow/bert_en_uncased_preprocess/3',\n",
        "    'small_bert/bert_en_uncased_L-10_H-128_A-2':\n",
        "        'https://tfhub.dev/tensorflow/bert_en_uncased_preprocess/3',\n",
        "    'small_bert/bert_en_uncased_L-10_H-256_A-4':\n",
        "        'https://tfhub.dev/tensorflow/bert_en_uncased_preprocess/3',\n",
        "    'small_bert/bert_en_uncased_L-10_H-512_A-8':\n",
        "        'https://tfhub.dev/tensorflow/bert_en_uncased_preprocess/3',\n",
        "    'small_bert/bert_en_uncased_L-10_H-768_A-12':\n",
        "        'https://tfhub.dev/tensorflow/bert_en_uncased_preprocess/3',\n",
        "    'small_bert/bert_en_uncased_L-12_H-128_A-2':\n",
        "        'https://tfhub.dev/tensorflow/bert_en_uncased_preprocess/3',\n",
        "    'small_bert/bert_en_uncased_L-12_H-256_A-4':\n",
        "        'https://tfhub.dev/tensorflow/bert_en_uncased_preprocess/3',\n",
        "    'small_bert/bert_en_uncased_L-12_H-512_A-8':\n",
        "        'https://tfhub.dev/tensorflow/bert_en_uncased_preprocess/3',\n",
        "    'small_bert/bert_en_uncased_L-12_H-768_A-12':\n",
        "        'https://tfhub.dev/tensorflow/bert_en_uncased_preprocess/3',\n",
        "    'bert_multi_cased_L-12_H-768_A-12':\n",
        "        'https://tfhub.dev/tensorflow/bert_multi_cased_preprocess/3',\n",
        "    'albert_en_base':\n",
        "        'https://tfhub.dev/tensorflow/albert_en_preprocess/3',\n",
        "    'electra_small':\n",
        "        'https://tfhub.dev/tensorflow/bert_en_uncased_preprocess/3',\n",
        "    'electra_base':\n",
        "        'https://tfhub.dev/tensorflow/bert_en_uncased_preprocess/3',\n",
        "    'experts_pubmed':\n",
        "        'https://tfhub.dev/tensorflow/bert_en_uncased_preprocess/3',\n",
        "    'experts_wiki_books':\n",
        "        'https://tfhub.dev/tensorflow/bert_en_uncased_preprocess/3',\n",
        "    'talking-heads_base':\n",
        "        'https://tfhub.dev/tensorflow/bert_en_uncased_preprocess/3',\n",
        "}\n",
        "\n",
        "bert_encoder = map_name_to_handle[bert_model_name]\n",
        "bert_preprocess = map_model_to_preprocess[bert_model_name]\n",
        "\n",
        "print(f'BERT model selected           : {bert_encoder}')\n",
        "print(f'Preprocess model auto-selected: {bert_preprocess}')"
      ],
      "metadata": {
        "execution": {
          "iopub.status.busy": "2022-08-12T08:31:21.611825Z",
          "iopub.execute_input": "2022-08-12T08:31:21.612382Z",
          "iopub.status.idle": "2022-08-12T08:31:21.629095Z",
          "shell.execute_reply.started": "2022-08-12T08:31:21.612352Z",
          "shell.execute_reply": "2022-08-12T08:31:21.627833Z"
        },
        "trusted": true,
        "colab": {
          "base_uri": "https://localhost:8080/"
        },
        "id": "pktA2pPEnUhz",
        "outputId": "ad324683-168f-4d8b-d287-c8f823b461a8"
      },
      "execution_count": 11,
      "outputs": [
        {
          "output_type": "stream",
          "name": "stdout",
          "text": [
            "BERT model selected           : https://tfhub.dev/tensorflow/small_bert/bert_en_uncased_L-4_H-768_A-12/1\n",
            "Preprocess model auto-selected: https://tfhub.dev/tensorflow/bert_en_uncased_preprocess/3\n"
          ]
        }
      ]
    },
    {
      "cell_type": "code",
      "source": [
        "bert_preprocess = hub.KerasLayer(\"https://tfhub.dev/tensorflow/bert_en_uncased_preprocess/3\")\n",
        "bert_encoder = hub.KerasLayer(\"https://tfhub.dev/tensorflow/small_bert/bert_en_uncased_L-4_H-768_A-12/1\")"
      ],
      "metadata": {
        "execution": {
          "iopub.status.busy": "2022-08-12T08:31:21.630928Z",
          "iopub.execute_input": "2022-08-12T08:31:21.631764Z",
          "iopub.status.idle": "2022-08-12T08:31:32.647171Z",
          "shell.execute_reply.started": "2022-08-12T08:31:21.631702Z",
          "shell.execute_reply": "2022-08-12T08:31:32.646181Z"
        },
        "trusted": true,
        "id": "2pErH2IEnUh3"
      },
      "execution_count": 12,
      "outputs": []
    },
    {
      "cell_type": "code",
      "source": [
        "#!pip install keras-tuner --upgrade\n",
        "#import keras_tuner"
      ],
      "metadata": {
        "execution": {
          "iopub.status.busy": "2022-08-12T08:31:32.648711Z",
          "iopub.execute_input": "2022-08-12T08:31:32.649078Z",
          "iopub.status.idle": "2022-08-12T08:31:32.653597Z",
          "shell.execute_reply.started": "2022-08-12T08:31:32.649042Z",
          "shell.execute_reply": "2022-08-12T08:31:32.652609Z"
        },
        "trusted": true,
        "id": "0BOuQ9ZXnUh4"
      },
      "execution_count": 13,
      "outputs": []
    },
    {
      "cell_type": "code",
      "source": [
        "def focal_loss(gamma=2., alpha=4.):   \n",
        "\n",
        "    gamma = float(gamma)\n",
        "    alpha = float(alpha)\n",
        "\n",
        "    def focal_loss_fixed(y_true, y_pred):\n",
        "        \"\"\"Focal loss for multi-classification\n",
        "        FL(p_t)=-alpha(1-p_t)^{gamma}ln(p_t)\n",
        "        Notice: y_pred is probability after softmax\n",
        "        gradient is d(Fl)/d(p_t) not d(Fl)/d(x) as described in paper\n",
        "        d(Fl)/d(p_t) * [p_t(1-p_t)] = d(Fl)/d(x)\n",
        "        Focal Loss for Dense Object Detection\n",
        "        https://arxiv.org/abs/1708.02002\n",
        "\n",
        "        Arguments:\n",
        "            y_true {tensor} -- ground truth labels, shape of [batch_size, num_cls]\n",
        "            y_pred {tensor} -- model's output, shape of [batch_size, num_cls]\n",
        "\n",
        "        Keyword Arguments:\n",
        "            gamma {float} -- (default: {2.0})\n",
        "            alpha {float} -- (default: {4.0})\n",
        "\n",
        "        Returns:\n",
        "            [tensor] -- loss.\n",
        "        \"\"\"\n",
        "        epsilon = 1.e-9\n",
        "        y_true = tf.convert_to_tensor(y_true, tf.float32)\n",
        "        y_pred = tf.convert_to_tensor(y_pred, tf.float32)\n",
        "\n",
        "        model_out = tf.add(y_pred, epsilon)\n",
        "        ce = tf.multiply(y_true, -tf.math.log(model_out))\n",
        "        weight = tf.multiply(y_true, tf.pow(tf.subtract(1., model_out), gamma))\n",
        "        fl = tf.multiply(alpha, tf.multiply(weight, ce))\n",
        "        reduced_fl = tf.reduce_max(fl, axis=1)\n",
        "        return tf.reduce_mean(reduced_fl)\n",
        "    return focal_loss_fixed\n",
        "\n",
        "METRICS = [\n",
        "      keras.metrics.TruePositives(name='tp'),\n",
        "      keras.metrics.FalsePositives(name='fp'),\n",
        "      keras.metrics.TrueNegatives(name='tn'),\n",
        "      keras.metrics.FalseNegatives(name='fn'), \n",
        "      keras.metrics.CategoricalCrossentropy(name='categorical_cross_entropy'),\n",
        "      keras.metrics.Precision(name='precision'),\n",
        "      keras.metrics.Recall(name='recall'),\n",
        "      keras.metrics.AUC(name='auc'),\n",
        "      keras.metrics.AUC(name='prc', curve='PR'), # precision-recall curve\n",
        "      'accuracy'\n",
        "]"
      ],
      "metadata": {
        "execution": {
          "iopub.status.busy": "2022-08-12T08:31:32.655151Z",
          "iopub.execute_input": "2022-08-12T08:31:32.655786Z",
          "iopub.status.idle": "2022-08-12T08:31:32.695011Z",
          "shell.execute_reply.started": "2022-08-12T08:31:32.655720Z",
          "shell.execute_reply": "2022-08-12T08:31:32.694140Z"
        },
        "trusted": true,
        "id": "OO07YnE6nUh5"
      },
      "execution_count": 14,
      "outputs": []
    },
    {
      "cell_type": "code",
      "source": [
        "\n",
        "# Note the training variable in the Batch Normalization function. This is required because Batch Normalization operates differently during training vs. the application stage– during training the z score is computed using the batch mean and variance, while in inference, it’s computed using a mean and variance estimated from the entire training set.\n",
        "text_input = tf.keras.layers.Input(shape=(), dtype=tf.string, name='text')\n",
        "preprocessed_text = bert_preprocess(text_input)\n",
        "outputs = bert_encoder(preprocessed_text)\n",
        "l = tf.keras.layers.Dropout(0.6, name=\"dropout1\")(outputs['pooled_output'])\n",
        "l = tf.keras.layers.Dense(units = 128, activation = 'relu', kernel_initializer = 'he_uniform',name = 'layer1')(l)\n",
        "l = tf.keras.layers.BatchNormalization()(l, training= True)\n",
        "\n",
        "l = tf.keras.layers.Dropout(0.5, name=\"dropout2\")(l)\n",
        "l = tf.keras.layers.Dense(units = 128, activation = None, kernel_initializer = 'he_uniform',name = 'layer2')(l)\n",
        "l = tf.keras.layers.BatchNormalization()(l, training= True)\n",
        "\n",
        "l = tf.keras.layers.Dropout(0.6, name=\"dropout3\")(l)\n",
        "l = tf.keras.layers.Dense(units = 128, activation = None, kernel_initializer = 'he_uniform',name = 'layer3')(l)\n",
        "l = tf.keras.layers.Dense(3, activation='softmax', name=\"output\")(l)\n",
        "model = tf.keras.Model(inputs=[text_input], outputs = [l])\n",
        "model.compile(loss= focal_loss(alpha=0.1, gamma = 2) , optimizer='adam', metrics=METRICS)"
      ],
      "metadata": {
        "execution": {
          "iopub.status.busy": "2022-08-12T08:31:52.155906Z",
          "iopub.execute_input": "2022-08-12T08:31:52.156586Z",
          "iopub.status.idle": "2022-08-12T08:31:53.078912Z",
          "shell.execute_reply.started": "2022-08-12T08:31:52.156551Z",
          "shell.execute_reply": "2022-08-12T08:31:53.077938Z"
        },
        "trusted": true,
        "id": "Tba8GlrqnUh7"
      },
      "execution_count": 20,
      "outputs": []
    },
    {
      "cell_type": "code",
      "source": [
        "X = oversampled_train_augmented['sentence']\n",
        "Y = oversampled_train_augmented['maslowLabel']\n",
        "\n",
        "skf = StratifiedKFold(n_splits=5, shuffle=True, random_state=1)\n",
        "# enumerate the splits and summarize the distributions\n",
        "for train_index, val_index in skf.split(X, Y):\n",
        "    print(\"TRAIN:\", train_index, \"TEST:\", val_index)\n",
        "    X_train, X_val = X[train_index], X[val_index]\n",
        "    y_train, y_val = Y[train_index], Y[val_index]\n"
      ],
      "metadata": {
        "colab": {
          "base_uri": "https://localhost:8080/"
        },
        "id": "6lMK_V9ttd81",
        "outputId": "806dfb2b-bdda-49d0-9a89-65eced365ad1"
      },
      "execution_count": 21,
      "outputs": [
        {
          "output_type": "stream",
          "name": "stdout",
          "text": [
            "TRAIN: [    0     1     2 ... 25204 25205 25208] TEST: [   10    17    18 ... 25196 25206 25207]\n",
            "TRAIN: [    1     3     4 ... 25206 25207 25208] TEST: [    0     2     8 ... 25194 25197 25198]\n",
            "TRAIN: [    0     1     2 ... 25206 25207 25208] TEST: [    4     7    13 ... 25193 25202 25205]\n",
            "TRAIN: [    0     2     3 ... 25205 25206 25207] TEST: [    1     5     6 ... 25191 25200 25208]\n",
            "TRAIN: [    0     1     2 ... 25206 25207 25208] TEST: [    3     9    15 ... 25201 25203 25204]\n"
          ]
        }
      ]
    },
    {
      "cell_type": "code",
      "source": [
        "def get_model_name(k):\n",
        "    return 'model_'+str(k)+'.h5'\n",
        "\n",
        "VALIDATION_ACCURACY = []\n",
        "VALIDATION_LOSS = []\n",
        "VALIDATION_F1SCORE = []\n",
        "VALIDATION_PRECISION = []\n",
        "VALIDATION_RECALL = []\n",
        "\n",
        "save_dir = '/tmp/checkpoint/'\n",
        "fold_var = 1"
      ],
      "metadata": {
        "id": "e9YZEGfZuKVO"
      },
      "execution_count": 22,
      "outputs": []
    },
    {
      "cell_type": "code",
      "source": [
        "skf = StratifiedKFold(n_splits=5, shuffle=True, random_state=1)\n",
        "# enumerate the splits and summarize the distributions\n",
        "for train_index, val_index in skf.split(X, Y):\n",
        "    print(\"TRAIN:\", train_index, \"TEST:\", val_index)\n",
        "    X_train, X_val = X[train_index], X[val_index]\n",
        "    y_train, y_val = Y[train_index], Y[val_index]\n",
        "    y_train = tf.keras.utils.to_categorical(y_train)\n",
        "    y_val =  tf.keras.utils.to_categorical(y_val)\n",
        "    model = tf.keras.Model(inputs=[text_input], outputs = [l])\n",
        "    model.compile(loss= focal_loss(alpha=0.1, gamma = 2) , optimizer='adam', metrics=METRICS)\n",
        "    model_checkpoint_callback = tf.keras.callbacks.ModelCheckpoint(save_dir+get_model_name(fold_var), \n",
        "\t\t\t\t\t\t\tmonitor='val_accuracy', verbose=1, \n",
        "\t\t\t\t\t\t\tsave_best_only=True, mode='max')\n",
        "    callback = tf.keras.callbacks.EarlyStopping(\n",
        "        monitor='val_loss',\n",
        "        min_delta=0,\n",
        "        patience=5,\n",
        "        verbose=0,\n",
        "        mode='auto',\n",
        "        baseline=None,\n",
        "        restore_best_weights=False,\n",
        "    )\n",
        "    reduce_lr = tf.keras.callbacks.ReduceLROnPlateau(monitor = 'val_accuracy',\n",
        "                                                    factor = 0.2,\n",
        "                                                    patience = 1,\n",
        "                                                    verbose = 1,\n",
        "                                                    min_delta = 1e-4,\n",
        "                                                    min_lr = 1e-7,\n",
        "                                                    mode = 'max') \n",
        "    model.fit(X_train, y_train,epochs=5, verbose=1, validation_data = (X_val,y_val), batch_size  = 8,callbacks=[model_checkpoint_callback,callback, reduce_lr])\n",
        "    model.load_weights(\"/tmp/checkpoint/model_\"+str(fold_var)+\".h5\")\n",
        "    results = model.evaluate(X_val,y_val)\n",
        "    results = dict(zip(model.metrics_names,results))\n",
        "    VALIDATION_ACCURACY.append(results['accuracy'])\n",
        "    VALIDATION_LOSS.append(results['loss'])\n",
        "    VALIDATION_PRECISION.append(results['precision'])\n",
        "    VALIDATION_PRECISION.append(results['recall'])\n",
        "    f1score = (results['precision'] * results['recall'])/(results['precision'] + results['recall'])\n",
        "    VALIDATION_F1SCORE.append(f1score)\n",
        "    tf.keras.backend.clear_session()\n",
        "    fold_var += 1"
      ],
      "metadata": {
        "colab": {
          "base_uri": "https://localhost:8080/"
        },
        "id": "VZ91bcNBtcKO",
        "outputId": "e9acb9ba-40da-4aa4-d70f-f8eec68a102d"
      },
      "execution_count": 23,
      "outputs": [
        {
          "output_type": "stream",
          "name": "stdout",
          "text": [
            "TRAIN: [    0     1     2 ... 25204 25205 25208] TEST: [   10    17    18 ... 25196 25206 25207]\n",
            "Epoch 1/5\n",
            "2521/2521 [==============================] - ETA: 0s - loss: 0.0671 - tp: 3510.0000 - fp: 5792.0000 - tn: 41390.0000 - fn: 20081.0000 - categorical_cross_entropy: 1.1898 - precision: 0.3773 - recall: 0.1488 - auc: 0.5417 - prc: 0.3615 - accuracy: 0.3596\n",
            "Epoch 1: val_accuracy improved from -inf to 0.40758, saving model to /tmp/checkpoint/model_1.h5\n",
            "2521/2521 [==============================] - 122s 47ms/step - loss: 0.0671 - tp: 3510.0000 - fp: 5792.0000 - tn: 41390.0000 - fn: 20081.0000 - categorical_cross_entropy: 1.1898 - precision: 0.3773 - recall: 0.1488 - auc: 0.5417 - prc: 0.3615 - accuracy: 0.3596 - val_loss: 0.0527 - val_tp: 665.0000 - val_fp: 708.0000 - val_tn: 9376.0000 - val_fn: 4377.0000 - val_categorical_cross_entropy: 1.0945 - val_precision: 0.4843 - val_recall: 0.1319 - val_auc: 0.5821 - val_prc: 0.4140 - val_accuracy: 0.4076 - lr: 0.0010\n",
            "Epoch 2/5\n",
            "2521/2521 [==============================] - ETA: 0s - loss: 0.0502 - tp: 1794.0000 - fp: 1902.0000 - tn: 38432.0000 - fn: 18373.0000 - categorical_cross_entropy: 1.0814 - precision: 0.4854 - recall: 0.0890 - auc: 0.5893 - prc: 0.4106 - accuracy: 0.4143\n",
            "Epoch 2: val_accuracy improved from 0.40758 to 0.42285, saving model to /tmp/checkpoint/model_1.h5\n",
            "2521/2521 [==============================] - 118s 47ms/step - loss: 0.0502 - tp: 1794.0000 - fp: 1902.0000 - tn: 38432.0000 - fn: 18373.0000 - categorical_cross_entropy: 1.0814 - precision: 0.4854 - recall: 0.0890 - auc: 0.5893 - prc: 0.4106 - accuracy: 0.4143 - val_loss: 0.0488 - val_tp: 588.0000 - val_fp: 494.0000 - val_tn: 9590.0000 - val_fn: 4454.0000 - val_categorical_cross_entropy: 1.0631 - val_precision: 0.5434 - val_recall: 0.1166 - val_auc: 0.6115 - val_prc: 0.4423 - val_accuracy: 0.4228 - lr: 0.0010\n",
            "Epoch 3/5\n",
            "2520/2521 [============================>.] - ETA: 0s - loss: 0.0468 - tp: 1522.0000 - fp: 1007.0000 - tn: 39313.0000 - fn: 18638.0000 - categorical_cross_entropy: 1.0520 - precision: 0.6018 - recall: 0.0755 - auc: 0.6306 - prc: 0.4545 - accuracy: 0.4466\n",
            "Epoch 3: val_accuracy improved from 0.42285 to 0.42562, saving model to /tmp/checkpoint/model_1.h5\n",
            "2521/2521 [==============================] - 118s 47ms/step - loss: 0.0468 - tp: 1522.0000 - fp: 1007.0000 - tn: 39327.0000 - fn: 18645.0000 - categorical_cross_entropy: 1.0520 - precision: 0.6018 - recall: 0.0755 - auc: 0.6305 - prc: 0.4544 - accuracy: 0.4465 - val_loss: 0.0492 - val_tp: 510.0000 - val_fp: 441.0000 - val_tn: 9643.0000 - val_fn: 4532.0000 - val_categorical_cross_entropy: 1.0705 - val_precision: 0.5363 - val_recall: 0.1012 - val_auc: 0.6057 - val_prc: 0.4346 - val_accuracy: 0.4256 - lr: 0.0010\n",
            "Epoch 4/5\n",
            "2520/2521 [============================>.] - ETA: 0s - loss: 0.0463 - tp: 1282.0000 - fp: 819.0000 - tn: 39501.0000 - fn: 18878.0000 - categorical_cross_entropy: 1.0483 - precision: 0.6102 - recall: 0.0636 - auc: 0.6389 - prc: 0.4638 - accuracy: 0.4572\n",
            "Epoch 4: val_accuracy improved from 0.42562 to 0.43356, saving model to /tmp/checkpoint/model_1.h5\n",
            "2521/2521 [==============================] - 118s 47ms/step - loss: 0.0463 - tp: 1282.0000 - fp: 819.0000 - tn: 39515.0000 - fn: 18885.0000 - categorical_cross_entropy: 1.0483 - precision: 0.6102 - recall: 0.0636 - auc: 0.6389 - prc: 0.4639 - accuracy: 0.4572 - val_loss: 0.0481 - val_tp: 286.0000 - val_fp: 242.0000 - val_tn: 9842.0000 - val_fn: 4756.0000 - val_categorical_cross_entropy: 1.0670 - val_precision: 0.5417 - val_recall: 0.0567 - val_auc: 0.6082 - val_prc: 0.4347 - val_accuracy: 0.4336 - lr: 0.0010\n",
            "Epoch 5/5\n",
            "2520/2521 [============================>.] - ETA: 0s - loss: 0.0459 - tp: 1254.0000 - fp: 785.0000 - tn: 39535.0000 - fn: 18906.0000 - categorical_cross_entropy: 1.0449 - precision: 0.6150 - recall: 0.0622 - auc: 0.6464 - prc: 0.4711 - accuracy: 0.4656\n",
            "Epoch 5: val_accuracy improved from 0.43356 to 0.44050, saving model to /tmp/checkpoint/model_1.h5\n",
            "2521/2521 [==============================] - 117s 47ms/step - loss: 0.0459 - tp: 1254.0000 - fp: 785.0000 - tn: 39549.0000 - fn: 18913.0000 - categorical_cross_entropy: 1.0448 - precision: 0.6150 - recall: 0.0622 - auc: 0.6464 - prc: 0.4711 - accuracy: 0.4656 - val_loss: 0.0472 - val_tp: 226.0000 - val_fp: 146.0000 - val_tn: 9938.0000 - val_fn: 4816.0000 - val_categorical_cross_entropy: 1.0609 - val_precision: 0.6075 - val_recall: 0.0448 - val_auc: 0.6182 - val_prc: 0.4479 - val_accuracy: 0.4405 - lr: 0.0010\n",
            "158/158 [==============================] - 23s 145ms/step - loss: 0.0469 - tp: 279.0000 - fp: 172.0000 - tn: 9912.0000 - fn: 4763.0000 - categorical_cross_entropy: 1.0569 - precision: 0.6186 - recall: 0.0553 - auc: 0.6255 - prc: 0.4540 - accuracy: 0.4494\n",
            "TRAIN: [    1     3     4 ... 25206 25207 25208] TEST: [    0     2     8 ... 25194 25197 25198]\n",
            "Epoch 1/5\n",
            "2521/2521 [==============================] - ETA: 0s - loss: 0.0457 - tp: 1426.0000 - fp: 865.0000 - tn: 49553.0000 - fn: 23783.0000 - categorical_cross_entropy: 1.0462 - precision: 0.6224 - recall: 0.0566 - auc: 0.6449 - prc: 0.4713 - accuracy: 0.4698\n",
            "Epoch 1: val_accuracy improved from -inf to 0.45101, saving model to /tmp/checkpoint/model_2.h5\n",
            "2521/2521 [==============================] - 124s 48ms/step - loss: 0.0457 - tp: 1426.0000 - fp: 865.0000 - tn: 49553.0000 - fn: 23783.0000 - categorical_cross_entropy: 1.0462 - precision: 0.6224 - recall: 0.0566 - auc: 0.6449 - prc: 0.4713 - accuracy: 0.4698 - val_loss: 0.0481 - val_tp: 387.0000 - val_fp: 362.0000 - val_tn: 9722.0000 - val_fn: 4655.0000 - val_categorical_cross_entropy: 1.0632 - val_precision: 0.5167 - val_recall: 0.0768 - val_auc: 0.6178 - val_prc: 0.4392 - val_accuracy: 0.4510 - lr: 0.0010\n",
            "Epoch 2/5\n",
            "2520/2521 [============================>.] - ETA: 0s - loss: 0.0454 - tp: 1069.0000 - fp: 665.0000 - tn: 39655.0000 - fn: 19091.0000 - categorical_cross_entropy: 1.0409 - precision: 0.6165 - recall: 0.0530 - auc: 0.6565 - prc: 0.4813 - accuracy: 0.4803\n",
            "Epoch 2: val_accuracy improved from 0.45101 to 0.46410, saving model to /tmp/checkpoint/model_2.h5\n",
            "2521/2521 [==============================] - 118s 47ms/step - loss: 0.0454 - tp: 1069.0000 - fp: 665.0000 - tn: 39669.0000 - fn: 19098.0000 - categorical_cross_entropy: 1.0409 - precision: 0.6165 - recall: 0.0530 - auc: 0.6566 - prc: 0.4814 - accuracy: 0.4803 - val_loss: 0.0468 - val_tp: 390.0000 - val_fp: 238.0000 - val_tn: 9846.0000 - val_fn: 4652.0000 - val_categorical_cross_entropy: 1.0511 - val_precision: 0.6210 - val_recall: 0.0774 - val_auc: 0.6342 - val_prc: 0.4627 - val_accuracy: 0.4641 - lr: 0.0010\n",
            "Epoch 3/5\n",
            "2521/2521 [==============================] - ETA: 0s - loss: 0.0452 - tp: 1169.0000 - fp: 594.0000 - tn: 39740.0000 - fn: 18998.0000 - categorical_cross_entropy: 1.0382 - precision: 0.6631 - recall: 0.0580 - auc: 0.6596 - prc: 0.4864 - accuracy: 0.4802\n",
            "Epoch 3: val_accuracy did not improve from 0.46410\n",
            "\n",
            "Epoch 3: ReduceLROnPlateau reducing learning rate to 0.00020000000949949026.\n",
            "2521/2521 [==============================] - 118s 47ms/step - loss: 0.0452 - tp: 1169.0000 - fp: 594.0000 - tn: 39740.0000 - fn: 18998.0000 - categorical_cross_entropy: 1.0382 - precision: 0.6631 - recall: 0.0580 - auc: 0.6596 - prc: 0.4864 - accuracy: 0.4802 - val_loss: 0.0476 - val_tp: 67.0000 - val_fp: 60.0000 - val_tn: 10024.0000 - val_fn: 4975.0000 - val_categorical_cross_entropy: 1.0702 - val_precision: 0.5276 - val_recall: 0.0133 - val_auc: 0.6092 - val_prc: 0.4310 - val_accuracy: 0.4528 - lr: 0.0010\n",
            "Epoch 4/5\n",
            "2521/2521 [==============================] - ETA: 0s - loss: 0.0448 - tp: 912.0000 - fp: 447.0000 - tn: 39887.0000 - fn: 19255.0000 - categorical_cross_entropy: 1.0363 - precision: 0.6711 - recall: 0.0452 - auc: 0.6663 - prc: 0.4957 - accuracy: 0.4848\n",
            "Epoch 4: val_accuracy did not improve from 0.46410\n",
            "\n",
            "Epoch 4: ReduceLROnPlateau reducing learning rate to 4.0000001899898055e-05.\n",
            "2521/2521 [==============================] - 117s 47ms/step - loss: 0.0448 - tp: 912.0000 - fp: 447.0000 - tn: 39887.0000 - fn: 19255.0000 - categorical_cross_entropy: 1.0363 - precision: 0.6711 - recall: 0.0452 - auc: 0.6663 - prc: 0.4957 - accuracy: 0.4848 - val_loss: 0.0469 - val_tp: 380.0000 - val_fp: 237.0000 - val_tn: 9847.0000 - val_fn: 4662.0000 - val_categorical_cross_entropy: 1.0521 - val_precision: 0.6159 - val_recall: 0.0754 - val_auc: 0.6327 - val_prc: 0.4618 - val_accuracy: 0.4585 - lr: 2.0000e-04\n",
            "Epoch 5/5\n",
            "2521/2521 [==============================] - ETA: 0s - loss: 0.0445 - tp: 1094.0000 - fp: 528.0000 - tn: 39806.0000 - fn: 19073.0000 - categorical_cross_entropy: 1.0318 - precision: 0.6745 - recall: 0.0542 - auc: 0.6714 - prc: 0.5011 - accuracy: 0.4927\n",
            "Epoch 5: val_accuracy did not improve from 0.46410\n",
            "\n",
            "Epoch 5: ReduceLROnPlateau reducing learning rate to 8.000000525498762e-06.\n",
            "2521/2521 [==============================] - 117s 47ms/step - loss: 0.0445 - tp: 1094.0000 - fp: 528.0000 - tn: 39806.0000 - fn: 19073.0000 - categorical_cross_entropy: 1.0318 - precision: 0.6745 - recall: 0.0542 - auc: 0.6714 - prc: 0.5011 - accuracy: 0.4927 - val_loss: 0.0469 - val_tp: 370.0000 - val_fp: 239.0000 - val_tn: 9845.0000 - val_fn: 4672.0000 - val_categorical_cross_entropy: 1.0524 - val_precision: 0.6076 - val_recall: 0.0734 - val_auc: 0.6328 - val_prc: 0.4614 - val_accuracy: 0.4589 - lr: 4.0000e-05\n",
            "158/158 [==============================] - 23s 144ms/step - loss: 0.0464 - tp: 406.0000 - fp: 250.0000 - tn: 9834.0000 - fn: 4636.0000 - categorical_cross_entropy: 1.0456 - precision: 0.6189 - recall: 0.0805 - auc: 0.6446 - prc: 0.4722 - accuracy: 0.4736\n",
            "TRAIN: [    0     1     2 ... 25206 25207 25208] TEST: [    4     7    13 ... 25193 25202 25205]\n",
            "Epoch 1/5\n",
            "2521/2521 [==============================] - ETA: 0s - loss: 0.0451 - tp: 1704.0000 - fp: 922.0000 - tn: 49496.0000 - fn: 23505.0000 - categorical_cross_entropy: 1.0379 - precision: 0.6489 - recall: 0.0676 - auc: 0.6589 - prc: 0.4863 - accuracy: 0.4857\n",
            "Epoch 1: val_accuracy improved from -inf to 0.44328, saving model to /tmp/checkpoint/model_3.h5\n",
            "2521/2521 [==============================] - 123s 48ms/step - loss: 0.0451 - tp: 1704.0000 - fp: 922.0000 - tn: 49496.0000 - fn: 23505.0000 - categorical_cross_entropy: 1.0379 - precision: 0.6489 - recall: 0.0676 - auc: 0.6589 - prc: 0.4863 - accuracy: 0.4857 - val_loss: 0.0475 - val_tp: 209.0000 - val_fp: 136.0000 - val_tn: 9948.0000 - val_fn: 4833.0000 - val_categorical_cross_entropy: 1.0642 - val_precision: 0.6058 - val_recall: 0.0415 - val_auc: 0.6150 - val_prc: 0.4446 - val_accuracy: 0.4433 - lr: 0.0010\n",
            "Epoch 2/5\n",
            "2520/2521 [============================>.] - ETA: 0s - loss: 0.0450 - tp: 1149.0000 - fp: 624.0000 - tn: 39696.0000 - fn: 19011.0000 - categorical_cross_entropy: 1.0362 - precision: 0.6481 - recall: 0.0570 - auc: 0.6634 - prc: 0.4892 - accuracy: 0.4822\n",
            "Epoch 2: val_accuracy improved from 0.44328 to 0.44764, saving model to /tmp/checkpoint/model_3.h5\n",
            "2521/2521 [==============================] - 119s 47ms/step - loss: 0.0450 - tp: 1149.0000 - fp: 624.0000 - tn: 39710.0000 - fn: 19018.0000 - categorical_cross_entropy: 1.0362 - precision: 0.6481 - recall: 0.0570 - auc: 0.6633 - prc: 0.4892 - accuracy: 0.4821 - val_loss: 0.0475 - val_tp: 405.0000 - val_fp: 291.0000 - val_tn: 9793.0000 - val_fn: 4637.0000 - val_categorical_cross_entropy: 1.0570 - val_precision: 0.5819 - val_recall: 0.0803 - val_auc: 0.6227 - val_prc: 0.4496 - val_accuracy: 0.4476 - lr: 0.0010\n",
            "Epoch 3/5\n",
            "2520/2521 [============================>.] - ETA: 0s - loss: 0.0449 - tp: 1136.0000 - fp: 610.0000 - tn: 39710.0000 - fn: 19024.0000 - categorical_cross_entropy: 1.0355 - precision: 0.6506 - recall: 0.0563 - auc: 0.6649 - prc: 0.4937 - accuracy: 0.4877\n",
            "Epoch 3: val_accuracy did not improve from 0.44764\n",
            "\n",
            "Epoch 3: ReduceLROnPlateau reducing learning rate to 0.00020000000949949026.\n",
            "2521/2521 [==============================] - 118s 47ms/step - loss: 0.0449 - tp: 1136.0000 - fp: 610.0000 - tn: 39724.0000 - fn: 19031.0000 - categorical_cross_entropy: 1.0355 - precision: 0.6506 - recall: 0.0563 - auc: 0.6649 - prc: 0.4937 - accuracy: 0.4877 - val_loss: 0.0480 - val_tp: 408.0000 - val_fp: 304.0000 - val_tn: 9780.0000 - val_fn: 4634.0000 - val_categorical_cross_entropy: 1.0630 - val_precision: 0.5730 - val_recall: 0.0809 - val_auc: 0.6146 - val_prc: 0.4441 - val_accuracy: 0.4399 - lr: 0.0010\n",
            "Epoch 4/5\n",
            "2520/2521 [============================>.] - ETA: 0s - loss: 0.0445 - tp: 1280.0000 - fp: 596.0000 - tn: 39724.0000 - fn: 18880.0000 - categorical_cross_entropy: 1.0299 - precision: 0.6823 - recall: 0.0635 - auc: 0.6728 - prc: 0.5037 - accuracy: 0.4929\n",
            "Epoch 4: val_accuracy did not improve from 0.44764\n",
            "\n",
            "Epoch 4: ReduceLROnPlateau reducing learning rate to 4.0000001899898055e-05.\n",
            "2521/2521 [==============================] - 118s 47ms/step - loss: 0.0445 - tp: 1280.0000 - fp: 596.0000 - tn: 39738.0000 - fn: 18887.0000 - categorical_cross_entropy: 1.0299 - precision: 0.6823 - recall: 0.0635 - auc: 0.6727 - prc: 0.5036 - accuracy: 0.4928 - val_loss: 0.0473 - val_tp: 274.0000 - val_fp: 178.0000 - val_tn: 9906.0000 - val_fn: 4768.0000 - val_categorical_cross_entropy: 1.0598 - val_precision: 0.6062 - val_recall: 0.0543 - val_auc: 0.6207 - val_prc: 0.4483 - val_accuracy: 0.4441 - lr: 2.0000e-04\n",
            "Epoch 5/5\n",
            "2520/2521 [============================>.] - ETA: 0s - loss: 0.0443 - tp: 1115.0000 - fp: 527.0000 - tn: 39793.0000 - fn: 19045.0000 - categorical_cross_entropy: 1.0289 - precision: 0.6790 - recall: 0.0553 - auc: 0.6762 - prc: 0.5078 - accuracy: 0.4965\n",
            "Epoch 5: val_accuracy did not improve from 0.44764\n",
            "\n",
            "Epoch 5: ReduceLROnPlateau reducing learning rate to 8.000000525498762e-06.\n",
            "2521/2521 [==============================] - 119s 47ms/step - loss: 0.0443 - tp: 1115.0000 - fp: 527.0000 - tn: 39807.0000 - fn: 19052.0000 - categorical_cross_entropy: 1.0288 - precision: 0.6790 - recall: 0.0553 - auc: 0.6762 - prc: 0.5079 - accuracy: 0.4966 - val_loss: 0.0476 - val_tp: 348.0000 - val_fp: 248.0000 - val_tn: 9836.0000 - val_fn: 4694.0000 - val_categorical_cross_entropy: 1.0603 - val_precision: 0.5839 - val_recall: 0.0690 - val_auc: 0.6195 - val_prc: 0.4473 - val_accuracy: 0.4437 - lr: 4.0000e-05\n",
            "158/158 [==============================] - 23s 147ms/step - loss: 0.0471 - tp: 449.0000 - fp: 309.0000 - tn: 9775.0000 - fn: 4593.0000 - categorical_cross_entropy: 1.0519 - precision: 0.5923 - recall: 0.0891 - auc: 0.6307 - prc: 0.4585 - accuracy: 0.4546\n",
            "TRAIN: [    0     2     3 ... 25205 25206 25207] TEST: [    1     5     6 ... 25191 25200 25208]\n",
            "Epoch 1/5\n",
            "2521/2521 [==============================] - ETA: 0s - loss: 0.0449 - tp: 1638.0000 - fp: 943.0000 - tn: 49475.0000 - fn: 23571.0000 - categorical_cross_entropy: 1.0387 - precision: 0.6346 - recall: 0.0650 - auc: 0.6575 - prc: 0.4843 - accuracy: 0.4840\n",
            "Epoch 1: val_accuracy improved from -inf to 0.45161, saving model to /tmp/checkpoint/model_4.h5\n",
            "2521/2521 [==============================] - 127s 49ms/step - loss: 0.0449 - tp: 1638.0000 - fp: 943.0000 - tn: 49475.0000 - fn: 23571.0000 - categorical_cross_entropy: 1.0387 - precision: 0.6346 - recall: 0.0650 - auc: 0.6575 - prc: 0.4843 - accuracy: 0.4840 - val_loss: 0.0468 - val_tp: 234.0000 - val_fp: 159.0000 - val_tn: 9925.0000 - val_fn: 4808.0000 - val_categorical_cross_entropy: 1.0587 - val_precision: 0.5954 - val_recall: 0.0464 - val_auc: 0.6253 - val_prc: 0.4494 - val_accuracy: 0.4516 - lr: 0.0010\n",
            "Epoch 2/5\n",
            "2521/2521 [==============================] - ETA: 0s - loss: 0.0449 - tp: 1102.0000 - fp: 572.0000 - tn: 39762.0000 - fn: 19065.0000 - categorical_cross_entropy: 1.0362 - precision: 0.6583 - recall: 0.0546 - auc: 0.6644 - prc: 0.4912 - accuracy: 0.4868\n",
            "Epoch 2: val_accuracy did not improve from 0.45161\n",
            "\n",
            "Epoch 2: ReduceLROnPlateau reducing learning rate to 0.00020000000949949026.\n",
            "2521/2521 [==============================] - 122s 48ms/step - loss: 0.0449 - tp: 1102.0000 - fp: 572.0000 - tn: 39762.0000 - fn: 19065.0000 - categorical_cross_entropy: 1.0362 - precision: 0.6583 - recall: 0.0546 - auc: 0.6644 - prc: 0.4912 - accuracy: 0.4868 - val_loss: 0.0487 - val_tp: 423.0000 - val_fp: 383.0000 - val_tn: 9701.0000 - val_fn: 4619.0000 - val_categorical_cross_entropy: 1.0677 - val_precision: 0.5248 - val_recall: 0.0839 - val_auc: 0.6130 - val_prc: 0.4323 - val_accuracy: 0.4478 - lr: 0.0010\n",
            "Epoch 3/5\n",
            "2521/2521 [==============================] - ETA: 0s - loss: 0.0445 - tp: 1191.0000 - fp: 572.0000 - tn: 39762.0000 - fn: 18976.0000 - categorical_cross_entropy: 1.0308 - precision: 0.6756 - recall: 0.0591 - auc: 0.6722 - prc: 0.5016 - accuracy: 0.4928\n",
            "Epoch 3: val_accuracy improved from 0.45161 to 0.45339, saving model to /tmp/checkpoint/model_4.h5\n",
            "2521/2521 [==============================] - 120s 48ms/step - loss: 0.0445 - tp: 1191.0000 - fp: 572.0000 - tn: 39762.0000 - fn: 18976.0000 - categorical_cross_entropy: 1.0308 - precision: 0.6756 - recall: 0.0591 - auc: 0.6722 - prc: 0.5016 - accuracy: 0.4928 - val_loss: 0.0475 - val_tp: 323.0000 - val_fp: 259.0000 - val_tn: 9825.0000 - val_fn: 4719.0000 - val_categorical_cross_entropy: 1.0606 - val_precision: 0.5550 - val_recall: 0.0641 - val_auc: 0.6204 - val_prc: 0.4411 - val_accuracy: 0.4534 - lr: 2.0000e-04\n",
            "Epoch 4/5\n",
            "2520/2521 [============================>.] - ETA: 0s - loss: 0.0442 - tp: 1318.0000 - fp: 614.0000 - tn: 39706.0000 - fn: 18842.0000 - categorical_cross_entropy: 1.0259 - precision: 0.6822 - recall: 0.0654 - auc: 0.6797 - prc: 0.5109 - accuracy: 0.4977\n",
            "Epoch 4: val_accuracy improved from 0.45339 to 0.45359, saving model to /tmp/checkpoint/model_4.h5\n",
            "2521/2521 [==============================] - 120s 48ms/step - loss: 0.0442 - tp: 1319.0000 - fp: 614.0000 - tn: 39720.0000 - fn: 18848.0000 - categorical_cross_entropy: 1.0259 - precision: 0.6824 - recall: 0.0654 - auc: 0.6797 - prc: 0.5108 - accuracy: 0.4976 - val_loss: 0.0477 - val_tp: 387.0000 - val_fp: 308.0000 - val_tn: 9776.0000 - val_fn: 4655.0000 - val_categorical_cross_entropy: 1.0592 - val_precision: 0.5568 - val_recall: 0.0768 - val_auc: 0.6223 - val_prc: 0.4447 - val_accuracy: 0.4536 - lr: 2.0000e-04\n",
            "Epoch 5/5\n",
            "2520/2521 [============================>.] - ETA: 0s - loss: 0.0445 - tp: 1160.0000 - fp: 570.0000 - tn: 39750.0000 - fn: 19000.0000 - categorical_cross_entropy: 1.0304 - precision: 0.6705 - recall: 0.0575 - auc: 0.6735 - prc: 0.5032 - accuracy: 0.4935\n",
            "Epoch 5: val_accuracy improved from 0.45359 to 0.45478, saving model to /tmp/checkpoint/model_4.h5\n",
            "2521/2521 [==============================] - 120s 47ms/step - loss: 0.0445 - tp: 1163.0000 - fp: 570.0000 - tn: 39764.0000 - fn: 19004.0000 - categorical_cross_entropy: 1.0303 - precision: 0.6711 - recall: 0.0577 - auc: 0.6736 - prc: 0.5033 - accuracy: 0.4935 - val_loss: 0.0479 - val_tp: 363.0000 - val_fp: 294.0000 - val_tn: 9790.0000 - val_fn: 4679.0000 - val_categorical_cross_entropy: 1.0624 - val_precision: 0.5525 - val_recall: 0.0720 - val_auc: 0.6181 - val_prc: 0.4392 - val_accuracy: 0.4548 - lr: 2.0000e-04\n",
            "158/158 [==============================] - 24s 149ms/step - loss: 0.0474 - tp: 402.0000 - fp: 290.0000 - tn: 9794.0000 - fn: 4640.0000 - categorical_cross_entropy: 1.0565 - precision: 0.5809 - recall: 0.0797 - auc: 0.6288 - prc: 0.4520 - accuracy: 0.4593\n",
            "TRAIN: [    0     1     2 ... 25206 25207 25208] TEST: [    3     9    15 ... 25201 25203 25204]\n",
            "Epoch 1/5\n",
            "2521/2521 [==============================] - ETA: 0s - loss: 0.0446 - tp: 1702.0000 - fp: 941.0000 - tn: 49479.0000 - fn: 23508.0000 - categorical_cross_entropy: 1.0358 - precision: 0.6440 - recall: 0.0675 - auc: 0.6625 - prc: 0.4888 - accuracy: 0.4913\n",
            "Epoch 1: val_accuracy improved from -inf to 0.45051, saving model to /tmp/checkpoint/model_5.h5\n",
            "2521/2521 [==============================] - 122s 47ms/step - loss: 0.0446 - tp: 1702.0000 - fp: 941.0000 - tn: 49479.0000 - fn: 23508.0000 - categorical_cross_entropy: 1.0358 - precision: 0.6440 - recall: 0.0675 - auc: 0.6625 - prc: 0.4888 - accuracy: 0.4913 - val_loss: 0.0480 - val_tp: 487.0000 - val_fp: 349.0000 - val_tn: 9733.0000 - val_fn: 4554.0000 - val_categorical_cross_entropy: 1.0612 - val_precision: 0.5825 - val_recall: 0.0966 - val_auc: 0.6189 - val_prc: 0.4474 - val_accuracy: 0.4505 - lr: 0.0010\n",
            "Epoch 2/5\n",
            "2520/2521 [============================>.] - ETA: 0s - loss: 0.0448 - tp: 1206.0000 - fp: 675.0000 - tn: 39645.0000 - fn: 18954.0000 - categorical_cross_entropy: 1.0334 - precision: 0.6411 - recall: 0.0598 - auc: 0.6682 - prc: 0.4970 - accuracy: 0.4891\n",
            "Epoch 2: val_accuracy improved from 0.45051 to 0.45388, saving model to /tmp/checkpoint/model_5.h5\n",
            "2521/2521 [==============================] - 118s 47ms/step - loss: 0.0448 - tp: 1208.0000 - fp: 675.0000 - tn: 39661.0000 - fn: 18960.0000 - categorical_cross_entropy: 1.0334 - precision: 0.6415 - recall: 0.0599 - auc: 0.6682 - prc: 0.4970 - accuracy: 0.4890 - val_loss: 0.0476 - val_tp: 424.0000 - val_fp: 303.0000 - val_tn: 9779.0000 - val_fn: 4617.0000 - val_categorical_cross_entropy: 1.0585 - val_precision: 0.5832 - val_recall: 0.0841 - val_auc: 0.6227 - val_prc: 0.4533 - val_accuracy: 0.4539 - lr: 0.0010\n",
            "Epoch 3/5\n",
            "2521/2521 [==============================] - ETA: 0s - loss: 0.0448 - tp: 1142.0000 - fp: 577.0000 - tn: 39759.0000 - fn: 19026.0000 - categorical_cross_entropy: 1.0345 - precision: 0.6643 - recall: 0.0566 - auc: 0.6668 - prc: 0.4963 - accuracy: 0.4884\n",
            "Epoch 3: val_accuracy did not improve from 0.45388\n",
            "\n",
            "Epoch 3: ReduceLROnPlateau reducing learning rate to 0.00020000000949949026.\n",
            "2521/2521 [==============================] - 118s 47ms/step - loss: 0.0448 - tp: 1142.0000 - fp: 577.0000 - tn: 39759.0000 - fn: 19026.0000 - categorical_cross_entropy: 1.0345 - precision: 0.6643 - recall: 0.0566 - auc: 0.6668 - prc: 0.4963 - accuracy: 0.4884 - val_loss: 0.0480 - val_tp: 472.0000 - val_fp: 374.0000 - val_tn: 9708.0000 - val_fn: 4569.0000 - val_categorical_cross_entropy: 1.0614 - val_precision: 0.5579 - val_recall: 0.0936 - val_auc: 0.6181 - val_prc: 0.4437 - val_accuracy: 0.4495 - lr: 0.0010\n",
            "Epoch 4/5\n",
            "2521/2521 [==============================] - ETA: 0s - loss: 0.0446 - tp: 1170.0000 - fp: 561.0000 - tn: 39775.0000 - fn: 18998.0000 - categorical_cross_entropy: 1.0314 - precision: 0.6759 - recall: 0.0580 - auc: 0.6714 - prc: 0.5024 - accuracy: 0.4914\n",
            "Epoch 4: val_accuracy did not improve from 0.45388\n",
            "\n",
            "Epoch 4: ReduceLROnPlateau reducing learning rate to 4.0000001899898055e-05.\n",
            "2521/2521 [==============================] - 118s 47ms/step - loss: 0.0446 - tp: 1170.0000 - fp: 561.0000 - tn: 39775.0000 - fn: 18998.0000 - categorical_cross_entropy: 1.0314 - precision: 0.6759 - recall: 0.0580 - auc: 0.6714 - prc: 0.5024 - accuracy: 0.4914 - val_loss: 0.0476 - val_tp: 334.0000 - val_fp: 236.0000 - val_tn: 9846.0000 - val_fn: 4707.0000 - val_categorical_cross_entropy: 1.0606 - val_precision: 0.5860 - val_recall: 0.0663 - val_auc: 0.6206 - val_prc: 0.4487 - val_accuracy: 0.4527 - lr: 2.0000e-04\n",
            "Epoch 5/5\n",
            "2521/2521 [==============================] - ETA: 0s - loss: 0.0444 - tp: 1196.0000 - fp: 548.0000 - tn: 39788.0000 - fn: 18972.0000 - categorical_cross_entropy: 1.0295 - precision: 0.6858 - recall: 0.0593 - auc: 0.6744 - prc: 0.5055 - accuracy: 0.4975\n",
            "Epoch 5: val_accuracy did not improve from 0.45388\n",
            "\n",
            "Epoch 5: ReduceLROnPlateau reducing learning rate to 8.000000525498762e-06.\n",
            "2521/2521 [==============================] - 118s 47ms/step - loss: 0.0444 - tp: 1196.0000 - fp: 548.0000 - tn: 39788.0000 - fn: 18972.0000 - categorical_cross_entropy: 1.0295 - precision: 0.6858 - recall: 0.0593 - auc: 0.6744 - prc: 0.5055 - accuracy: 0.4975 - val_loss: 0.0475 - val_tp: 345.0000 - val_fp: 242.0000 - val_tn: 9840.0000 - val_fn: 4696.0000 - val_categorical_cross_entropy: 1.0595 - val_precision: 0.5877 - val_recall: 0.0684 - val_auc: 0.6218 - val_prc: 0.4516 - val_accuracy: 0.4523 - lr: 4.0000e-05\n",
            "158/158 [==============================] - 23s 146ms/step - loss: 0.0470 - tp: 448.0000 - fp: 288.0000 - tn: 9794.0000 - fn: 4593.0000 - categorical_cross_entropy: 1.0513 - precision: 0.6087 - recall: 0.0889 - auc: 0.6335 - prc: 0.4631 - accuracy: 0.4644\n"
          ]
        }
      ]
    },
    {
      "cell_type": "code",
      "source": [
        "VALIDATION_F1SCORE"
      ],
      "metadata": {
        "colab": {
          "base_uri": "https://localhost:8080/"
        },
        "id": "3_fLr1dk8BhW",
        "outputId": "eb955afa-67d1-4389-d0a2-1e1f76e4c41a"
      },
      "execution_count": 27,
      "outputs": [
        {
          "output_type": "execute_result",
          "data": {
            "text/plain": [
              "[0.050791915548406154,\n",
              " 0.0712530720498256,\n",
              " 0.07741379176223037,\n",
              " 0.07010812643742503,\n",
              " 0.07754890025113939]"
            ]
          },
          "metadata": {},
          "execution_count": 27
        }
      ]
    },
    {
      "cell_type": "code",
      "source": [
        "x_test = original_test_data['sentence']\n",
        "y_test = original_test_data['maslowLabel'] \n",
        "y_test = tf.keras.utils.to_categorical(y_test)\n",
        "model.load_weights(\"/tmp/checkpoint/model_5\"+\".h5\")\n",
        "model.evaluate(x_test, y_test)\n",
        "# 0.1,0.1,0.01"
      ],
      "metadata": {
        "execution": {
          "iopub.status.busy": "2022-08-12T08:59:56.000499Z",
          "iopub.execute_input": "2022-08-12T08:59:56.000902Z",
          "iopub.status.idle": "2022-08-12T09:01:04.543157Z",
          "shell.execute_reply.started": "2022-08-12T08:59:56.000869Z",
          "shell.execute_reply": "2022-08-12T09:01:04.542233Z"
        },
        "trusted": true,
        "id": "z6Mu2DNunUiA",
        "colab": {
          "base_uri": "https://localhost:8080/"
        },
        "outputId": "9998cbf3-b338-46c8-d99d-f4ee28d2dd5d"
      },
      "execution_count": 30,
      "outputs": [
        {
          "output_type": "stream",
          "name": "stdout",
          "text": [
            "129/129 [==============================] - 19s 145ms/step - loss: 0.0433 - tp: 467.0000 - fp: 166.0000 - tn: 8072.0000 - fn: 3652.0000 - categorical_cross_entropy: 1.0108 - precision: 0.7378 - recall: 0.1134 - auc: 0.6939 - prc: 0.5429 - accuracy: 0.5098\n"
          ]
        },
        {
          "output_type": "execute_result",
          "data": {
            "text/plain": [
              "[0.04330361261963844,\n",
              " 467.0,\n",
              " 166.0,\n",
              " 8072.0,\n",
              " 3652.0,\n",
              " 1.010827898979187,\n",
              " 0.7377567291259766,\n",
              " 0.11337703466415405,\n",
              " 0.6938753724098206,\n",
              " 0.5428684949874878,\n",
              " 0.509832501411438]"
            ]
          },
          "metadata": {},
          "execution_count": 30
        }
      ]
    },
    {
      "cell_type": "code",
      "source": [
        "y_pred2 = model.predict(x_test)"
      ],
      "metadata": {
        "execution": {
          "iopub.status.busy": "2022-08-12T09:01:05.258793Z",
          "iopub.execute_input": "2022-08-12T09:01:05.259402Z",
          "iopub.status.idle": "2022-08-12T09:01:21.393928Z",
          "shell.execute_reply.started": "2022-08-12T09:01:05.259363Z",
          "shell.execute_reply": "2022-08-12T09:01:21.392893Z"
        },
        "trusted": true,
        "id": "QFu9Zl4PnUiF"
      },
      "execution_count": 32,
      "outputs": []
    },
    {
      "cell_type": "code",
      "source": [
        "y_pred2[2]"
      ],
      "metadata": {
        "execution": {
          "iopub.status.busy": "2022-08-12T09:01:21.395650Z",
          "iopub.execute_input": "2022-08-12T09:01:21.396036Z",
          "iopub.status.idle": "2022-08-12T09:01:21.405900Z",
          "shell.execute_reply.started": "2022-08-12T09:01:21.396000Z",
          "shell.execute_reply": "2022-08-12T09:01:21.404312Z"
        },
        "trusted": true,
        "id": "MUJAjhsXnUiG",
        "colab": {
          "base_uri": "https://localhost:8080/"
        },
        "outputId": "3fdd14c2-54ae-42fb-fd8d-2f4a74843e86"
      },
      "execution_count": 33,
      "outputs": [
        {
          "output_type": "execute_result",
          "data": {
            "text/plain": [
              "array([0.20479715, 0.258494  , 0.53670883], dtype=float32)"
            ]
          },
          "metadata": {},
          "execution_count": 33
        }
      ]
    },
    {
      "cell_type": "code",
      "source": [
        "def get_predictions(y_pred2):\n",
        "    review_predictions2 = []\n",
        "    for prediction in y_pred2:\n",
        "        x = prediction\n",
        "        review_predictions2.append(np.argmax(x))\n",
        "\n",
        "    review_predictions2 = np.array(review_predictions2)\n",
        "    review_predictions2.reshape(1,-1)\n",
        "    print(review_predictions2.shape)\n",
        "    return review_predictions2"
      ],
      "metadata": {
        "execution": {
          "iopub.status.busy": "2022-08-12T09:01:21.408149Z",
          "iopub.execute_input": "2022-08-12T09:01:21.408564Z",
          "iopub.status.idle": "2022-08-12T09:01:21.415510Z",
          "shell.execute_reply.started": "2022-08-12T09:01:21.408530Z",
          "shell.execute_reply": "2022-08-12T09:01:21.414577Z"
        },
        "trusted": true,
        "id": "4xSBhyeynUiH"
      },
      "execution_count": 34,
      "outputs": []
    },
    {
      "cell_type": "code",
      "source": [
        "review_predictions2 = get_predictions(y_pred2)"
      ],
      "metadata": {
        "execution": {
          "iopub.status.busy": "2022-08-12T09:01:21.416971Z",
          "iopub.execute_input": "2022-08-12T09:01:21.418029Z",
          "iopub.status.idle": "2022-08-12T09:01:21.437063Z",
          "shell.execute_reply.started": "2022-08-12T09:01:21.417993Z",
          "shell.execute_reply": "2022-08-12T09:01:21.435891Z"
        },
        "trusted": true,
        "id": "p5QYizyenUiI",
        "colab": {
          "base_uri": "https://localhost:8080/"
        },
        "outputId": "7a36e4a6-77ad-43ef-93e0-e63669944946"
      },
      "execution_count": 35,
      "outputs": [
        {
          "output_type": "stream",
          "name": "stdout",
          "text": [
            "(4119,)\n"
          ]
        }
      ]
    },
    {
      "cell_type": "code",
      "source": [
        "review_predictions2"
      ],
      "metadata": {
        "execution": {
          "iopub.status.busy": "2022-08-12T09:01:21.441847Z",
          "iopub.execute_input": "2022-08-12T09:01:21.442498Z",
          "iopub.status.idle": "2022-08-12T09:01:21.451255Z",
          "shell.execute_reply.started": "2022-08-12T09:01:21.442457Z",
          "shell.execute_reply": "2022-08-12T09:01:21.449989Z"
        },
        "trusted": true,
        "id": "WsAWvs6xnUiI",
        "colab": {
          "base_uri": "https://localhost:8080/"
        },
        "outputId": "5aee22a5-1d07-4f3a-d4de-8fd873ad0bc7"
      },
      "execution_count": 36,
      "outputs": [
        {
          "output_type": "execute_result",
          "data": {
            "text/plain": [
              "array([1, 1, 2, ..., 1, 2, 1])"
            ]
          },
          "metadata": {},
          "execution_count": 36
        }
      ]
    },
    {
      "cell_type": "code",
      "source": [
        "k = pd.DataFrame(review_predictions2, columns = ['Label'])\n",
        "k.groupby('Label')['Label'].count()"
      ],
      "metadata": {
        "execution": {
          "iopub.status.busy": "2022-08-12T09:01:21.453134Z",
          "iopub.execute_input": "2022-08-12T09:01:21.454623Z",
          "iopub.status.idle": "2022-08-12T09:01:21.467394Z",
          "shell.execute_reply.started": "2022-08-12T09:01:21.454581Z",
          "shell.execute_reply": "2022-08-12T09:01:21.466255Z"
        },
        "trusted": true,
        "id": "bhC1e9y8nUiJ",
        "colab": {
          "base_uri": "https://localhost:8080/"
        },
        "outputId": "d7d4ec87-8d45-4ddf-e0d1-bf6ca586735f"
      },
      "execution_count": 37,
      "outputs": [
        {
          "output_type": "execute_result",
          "data": {
            "text/plain": [
              "Label\n",
              "0    1292\n",
              "1    1500\n",
              "2    1327\n",
              "Name: Label, dtype: int64"
            ]
          },
          "metadata": {},
          "execution_count": 37
        }
      ]
    },
    {
      "cell_type": "code",
      "source": [
        "integer_label = original_test_data['maslowLabel']"
      ],
      "metadata": {
        "execution": {
          "iopub.status.busy": "2022-08-12T09:01:21.481979Z",
          "iopub.execute_input": "2022-08-12T09:01:21.483051Z",
          "iopub.status.idle": "2022-08-12T09:01:21.488274Z",
          "shell.execute_reply.started": "2022-08-12T09:01:21.483011Z",
          "shell.execute_reply": "2022-08-12T09:01:21.487082Z"
        },
        "trusted": true,
        "id": "0lgpWXCsnUiL"
      },
      "execution_count": 39,
      "outputs": []
    },
    {
      "cell_type": "code",
      "source": [
        "integer_label = integer_label.reset_index(drop = True)"
      ],
      "metadata": {
        "execution": {
          "iopub.status.busy": "2022-08-12T09:01:21.491125Z",
          "iopub.execute_input": "2022-08-12T09:01:21.491552Z",
          "iopub.status.idle": "2022-08-12T09:01:21.498576Z",
          "shell.execute_reply.started": "2022-08-12T09:01:21.491512Z",
          "shell.execute_reply": "2022-08-12T09:01:21.497164Z"
        },
        "trusted": true,
        "id": "QWhwn65TnUiM"
      },
      "execution_count": 40,
      "outputs": []
    },
    {
      "cell_type": "code",
      "source": [
        "integer_label"
      ],
      "metadata": {
        "execution": {
          "iopub.status.busy": "2022-08-12T09:01:21.500289Z",
          "iopub.execute_input": "2022-08-12T09:01:21.501558Z",
          "iopub.status.idle": "2022-08-12T09:01:21.512404Z",
          "shell.execute_reply.started": "2022-08-12T09:01:21.501514Z",
          "shell.execute_reply": "2022-08-12T09:01:21.511145Z"
        },
        "trusted": true,
        "id": "yfl5atoJnUiM",
        "colab": {
          "base_uri": "https://localhost:8080/"
        },
        "outputId": "ebe45f96-a11b-4300-90e4-595b7d98a4de"
      },
      "execution_count": 41,
      "outputs": [
        {
          "output_type": "execute_result",
          "data": {
            "text/plain": [
              "0       0\n",
              "1       1\n",
              "2       1\n",
              "3       1\n",
              "4       1\n",
              "       ..\n",
              "4114    0\n",
              "4115    1\n",
              "4116    2\n",
              "4117    2\n",
              "4118    1\n",
              "Name: maslowLabel, Length: 4119, dtype: int64"
            ]
          },
          "metadata": {},
          "execution_count": 41
        }
      ]
    },
    {
      "cell_type": "code",
      "source": [
        "review_predictions2[:10]"
      ],
      "metadata": {
        "execution": {
          "iopub.status.busy": "2022-08-12T09:01:21.514450Z",
          "iopub.execute_input": "2022-08-12T09:01:21.515116Z",
          "iopub.status.idle": "2022-08-12T09:01:21.523494Z",
          "shell.execute_reply.started": "2022-08-12T09:01:21.515071Z",
          "shell.execute_reply": "2022-08-12T09:01:21.522185Z"
        },
        "trusted": true,
        "id": "CDTZRMxKnUiN",
        "colab": {
          "base_uri": "https://localhost:8080/"
        },
        "outputId": "03945c27-0ace-4aa7-bd72-6abee1cf5985"
      },
      "execution_count": 42,
      "outputs": [
        {
          "output_type": "execute_result",
          "data": {
            "text/plain": [
              "array([1, 1, 2, 0, 2, 0, 2, 2, 2, 2])"
            ]
          },
          "metadata": {},
          "execution_count": 42
        }
      ]
    },
    {
      "cell_type": "code",
      "source": [
        "def make_confusion_matrix(cf,group_names=None,categories='auto',count=True,\n",
        "                          percent=True,\n",
        "                          cbar=True,\n",
        "                          xyticks=True,\n",
        "                          xyplotlabels=True,\n",
        "                          sum_stats=True,\n",
        "                          figsize=None,\n",
        "                          cmap='Blues',\n",
        "                          title=None):\n",
        "    '''\n",
        "    This function will make a pretty plot of an sklearn Confusion Matrix cm using a Seaborn heatmap visualization.\n",
        "    Arguments\n",
        "    ---------\n",
        "    cf:            confusion matrix to be passed in\n",
        "    group_names:   List of strings that represent the labels row by row to be shown in each square.\n",
        "    categories:    List of strings containing the categories to be displayed on the x,y axis. Default is 'auto'\n",
        "    count:         If True, show the raw number in the confusion matrix. Default is True.\n",
        "    normalize:     If True, show the proportions for each category. Default is True.\n",
        "    cbar:          If True, show the color bar. The cbar values are based off the values in the confusion matrix.\n",
        "                   Default is True.\n",
        "    xyticks:       If True, show x and y ticks. Default is True.\n",
        "    xyplotlabels:  If True, show 'True Label' and 'Predicted Label' on the figure. Default is True.\n",
        "    sum_stats:     If True, display summary statistics below the figure. Default is True.\n",
        "    figsize:       Tuple representing the figure size. Default will be the matplotlib rcParams value.\n",
        "    cmap:          Colormap of the values displayed from matplotlib.pyplot.cm. Default is 'Blues'\n",
        "                   See http://matplotlib.org/examples/color/colormaps_reference.html\n",
        "                   \n",
        "    title:         Title for the heatmap. Default is None.\n",
        "    '''\n",
        "\n",
        "\n",
        "    # CODE TO GENERATE TEXT INSIDE EACH SQUARE\n",
        "    blanks = ['' for i in range(cf.size)]\n",
        "\n",
        "    if group_names and len(group_names)==cf.size:\n",
        "        group_labels = [\"{}\\n\".format(value) for value in group_names]\n",
        "    else:\n",
        "        group_labels = blanks\n",
        "\n",
        "    if count:\n",
        "        group_counts = [\"{0:0.0f}\\n\".format(value) for value in cf.flatten()]\n",
        "    else:\n",
        "        group_counts = blanks\n",
        "\n",
        "    if percent:\n",
        "        group_percentages = [\"{0:.2%}\".format(value) for value in cf.flatten()/np.sum(cf)]\n",
        "    else:\n",
        "        group_percentages = blanks\n",
        "\n",
        "    box_labels = [f\"{v1}{v2}{v3}\".strip() for v1, v2, v3 in zip(group_labels,group_counts,group_percentages)]\n",
        "    box_labels = np.asarray(box_labels).reshape(cf.shape[0],cf.shape[1])\n",
        "\n",
        "\n",
        "    # CODE TO GENERATE SUMMARY STATISTICS & TEXT FOR SUMMARY STATS\n",
        "    if sum_stats:\n",
        "        #Accuracy is sum of diagonal divided by total observations\n",
        "        accuracy  = np.trace(cf) / float(np.sum(cf))\n",
        "\n",
        "        #if it is a binary confusion matrix, show some more stats\n",
        "        if len(cf)==2:\n",
        "            #Metrics for Binary Confusion Matrices\n",
        "            precision = cf[1,1] / sum(cf[:,1])\n",
        "            recall    = cf[1,1] / sum(cf[1,:])\n",
        "            f1_score  = 2*precision*recall / (precision + recall)\n",
        "            stats_text = \"\\n\\nAccuracy={:0.3f}\\nPrecision={:0.3f}\\nRecall={:0.3f}\\nF1 Score={:0.3f}\".format(\n",
        "                accuracy,precision,recall,f1_score)\n",
        "        else:\n",
        "            stats_text = \"\\n\\nAccuracy={:0.3f}\".format(accuracy)\n",
        "    else:\n",
        "        stats_text = \"\"\n",
        "\n",
        "\n",
        "    # SET FIGURE PARAMETERS ACCORDING TO OTHER ARGUMENTS\n",
        "    if figsize==None:\n",
        "        #Get default figure size if not set\n",
        "        figsize = plt.rcParams.get('figure.figsize')\n",
        "\n",
        "    if xyticks==False:\n",
        "        #Do not show categories if xyticks is False\n",
        "        categories=False\n",
        "\n",
        "\n",
        "    # MAKE THE HEATMAP VISUALIZATION\n",
        "    plt.figure(figsize=figsize)\n",
        "    sns.heatmap(cf,annot=box_labels,fmt=\"\",cmap=cmap,cbar=cbar,xticklabels=categories,yticklabels=categories)\n",
        "\n",
        "    if xyplotlabels:\n",
        "        plt.ylabel('True label')\n",
        "        plt.xlabel('Predicted label' + stats_text)\n",
        "    else:\n",
        "        plt.xlabel(stats_text)\n",
        "    \n",
        "    if title:\n",
        "        plt.title(title)"
      ],
      "metadata": {
        "execution": {
          "iopub.status.busy": "2022-08-12T09:01:21.525498Z",
          "iopub.execute_input": "2022-08-12T09:01:21.526362Z",
          "iopub.status.idle": "2022-08-12T09:01:21.542825Z",
          "shell.execute_reply.started": "2022-08-12T09:01:21.526295Z",
          "shell.execute_reply": "2022-08-12T09:01:21.541876Z"
        },
        "trusted": true,
        "id": "Nyjl-C9FnUiO"
      },
      "execution_count": 43,
      "outputs": []
    },
    {
      "cell_type": "code",
      "source": [
        "original_test_data.head()\n",
        "uniqueClassesMaslowLabel2 = list(original_test_data['maslow'].unique())\n",
        "uniqueClassesMaslow2 = list(original_test_data['maslowLabel'].unique())\n",
        "uniqueClassesMaslowLabel2 = ['advanced_needs','basic_needs','none']\n",
        "uniqueClassesMaslow2 = [0,1,2]\n",
        "print(uniqueClassesMaslowLabel2)\n",
        "print(uniqueClassesMaslow2)\n",
        "print(classification_report(review_predictions2, integer_label,target_names = uniqueClassesMaslowLabel2))"
      ],
      "metadata": {
        "execution": {
          "iopub.status.busy": "2022-08-12T09:01:21.546209Z",
          "iopub.execute_input": "2022-08-12T09:01:21.546494Z",
          "iopub.status.idle": "2022-08-12T09:01:21.568974Z",
          "shell.execute_reply.started": "2022-08-12T09:01:21.546468Z",
          "shell.execute_reply": "2022-08-12T09:01:21.567944Z"
        },
        "trusted": true,
        "id": "oQAO-UO2nUiP",
        "colab": {
          "base_uri": "https://localhost:8080/"
        },
        "outputId": "184f0244-38a2-4033-aa22-808fa88f2466"
      },
      "execution_count": 44,
      "outputs": [
        {
          "output_type": "stream",
          "name": "stdout",
          "text": [
            "['advanced_needs', 'basic_needs', 'none']\n",
            "[0, 1, 2]\n",
            "                precision    recall  f1-score   support\n",
            "\n",
            "advanced_needs       0.53      0.62      0.58      1292\n",
            "   basic_needs       0.49      0.69      0.58      1500\n",
            "          none       0.51      0.19      0.28      1327\n",
            "\n",
            "      accuracy                           0.51      4119\n",
            "     macro avg       0.51      0.50      0.48      4119\n",
            "  weighted avg       0.51      0.51      0.48      4119\n",
            "\n"
          ]
        }
      ]
    },
    {
      "cell_type": "code",
      "source": [
        "review_predictions2"
      ],
      "metadata": {
        "execution": {
          "iopub.status.busy": "2022-08-12T09:01:21.570595Z",
          "iopub.execute_input": "2022-08-12T09:01:21.570960Z",
          "iopub.status.idle": "2022-08-12T09:01:21.577820Z",
          "shell.execute_reply.started": "2022-08-12T09:01:21.570927Z",
          "shell.execute_reply": "2022-08-12T09:01:21.576638Z"
        },
        "trusted": true,
        "id": "GN2qlDJSnUiQ",
        "colab": {
          "base_uri": "https://localhost:8080/"
        },
        "outputId": "602fd30e-daff-452c-a099-851c2136e2b9"
      },
      "execution_count": 45,
      "outputs": [
        {
          "output_type": "execute_result",
          "data": {
            "text/plain": [
              "array([1, 1, 2, ..., 1, 2, 1])"
            ]
          },
          "metadata": {},
          "execution_count": 45
        }
      ]
    },
    {
      "cell_type": "code",
      "source": [
        "import seaborn as sns\n",
        "r2 = sklearn.metrics.confusion_matrix(review_predictions2, integer_label)\n",
        "print(r2)\n",
        "ax = sns.heatmap(r2, annot=True, cmap='Blues')\n",
        "\n",
        "ax.set_title('Seaborn Confusion Matrix with labels\\n\\n');\n",
        "ax.set_xlabel('\\nPredicted Values')\n",
        "ax.set_ylabel('Actual Values ');"
      ],
      "metadata": {
        "execution": {
          "iopub.status.busy": "2022-08-12T09:01:21.579440Z",
          "iopub.execute_input": "2022-08-12T09:01:21.580715Z",
          "iopub.status.idle": "2022-08-12T09:01:21.854627Z",
          "shell.execute_reply.started": "2022-08-12T09:01:21.580674Z",
          "shell.execute_reply": "2022-08-12T09:01:21.853697Z"
        },
        "trusted": true,
        "id": "k2sNSBDYnUiR",
        "colab": {
          "base_uri": "https://localhost:8080/",
          "height": 389
        },
        "outputId": "9a1446b7-c241-4256-d0ff-8194f1d8d956"
      },
      "execution_count": 46,
      "outputs": [
        {
          "output_type": "stream",
          "name": "stdout",
          "text": [
            "[[ 807  378  107]\n",
            " [ 321 1035  144]\n",
            " [ 382  687  258]]\n"
          ]
        },
        {
          "output_type": "display_data",
          "data": {
            "text/plain": [
              "<Figure size 432x288 with 2 Axes>"
            ],
            "image/png": "[encoded data removed]"
          },
          "metadata": {
            "needs_background": "light"
          }
        }
      ]
    },
    {
      "cell_type": "code",
      "source": [
        "make_confusion_matrix(r2, group_names=uniqueClassesMaslow2, categories=uniqueClassesMaslowLabel2, cmap='Blues')"
      ],
      "metadata": {
        "execution": {
          "iopub.status.busy": "2022-08-12T09:01:21.856080Z",
          "iopub.execute_input": "2022-08-12T09:01:21.856615Z",
          "iopub.status.idle": "2022-08-12T09:01:22.115899Z",
          "shell.execute_reply.started": "2022-08-12T09:01:21.856573Z",
          "shell.execute_reply": "2022-08-12T09:01:22.114938Z"
        },
        "trusted": true,
        "id": "wjt3DXTFnUiS",
        "colab": {
          "base_uri": "https://localhost:8080/",
          "height": 303
        },
        "outputId": "7e3a0490-3818-4bb2-e72e-812c866a1540"
      },
      "execution_count": 47,
      "outputs": [
        {
          "output_type": "display_data",
          "data": {
            "text/plain": [
              "<Figure size 432x288 with 2 Axes>"
            ],
            "image/png": "[encoded data removed]"
          },
          "metadata": {
            "needs_background": "light"
          }
        }
      ]
    },
    {
      "cell_type": "code",
      "source": [
        "print(uniqueClassesMaslowLabel2)\n",
        "print(uniqueClassesMaslow2)"
      ],
      "metadata": {
        "execution": {
          "iopub.status.busy": "2022-08-12T09:01:22.117224Z",
          "iopub.execute_input": "2022-08-12T09:01:22.117889Z",
          "iopub.status.idle": "2022-08-12T09:01:22.124621Z",
          "shell.execute_reply.started": "2022-08-12T09:01:22.117850Z",
          "shell.execute_reply": "2022-08-12T09:01:22.123362Z"
        },
        "trusted": true,
        "id": "HTcJH-HCnUiS",
        "colab": {
          "base_uri": "https://localhost:8080/"
        },
        "outputId": "5ab1ff8a-c5ce-493c-8c49-e72a51e70d1a"
      },
      "execution_count": 48,
      "outputs": [
        {
          "output_type": "stream",
          "name": "stdout",
          "text": [
            "['advanced_needs', 'basic_needs', 'none']\n",
            "[0, 1, 2]\n"
          ]
        }
      ]
    },
    {
      "cell_type": "code",
      "source": [
        "x_test_text = original_test_data['sentence']\n",
        "x_test_text[0:5]"
      ],
      "metadata": {
        "execution": {
          "iopub.status.busy": "2022-08-12T09:01:22.126534Z",
          "iopub.execute_input": "2022-08-12T09:01:22.126918Z",
          "iopub.status.idle": "2022-08-12T09:01:22.137594Z",
          "shell.execute_reply.started": "2022-08-12T09:01:22.126883Z",
          "shell.execute_reply": "2022-08-12T09:01:22.136292Z"
        },
        "trusted": true,
        "id": "7H1wOzZ4nUiT",
        "colab": {
          "base_uri": "https://localhost:8080/"
        },
        "outputId": "4eaea471-8e86-4ce3-d6f7-b6c9df3ed2ee"
      },
      "execution_count": 53,
      "outputs": [
        {
          "output_type": "execute_result",
          "data": {
            "text/plain": [
              "0    Jamies job requires her to travel a lot.She ha...\n",
              "1    Andy was craving some cereal.He picked out som...\n",
              "2                                 Karl locked his car.\n",
              "3    I was bullied in high school.I had one bully i...\n",
              "4             Kay was at work when a headache started.\n",
              "Name: sentence, dtype: object"
            ]
          },
          "metadata": {},
          "execution_count": 53
        }
      ]
    },
    {
      "cell_type": "code",
      "source": [
        "y_test"
      ],
      "metadata": {
        "execution": {
          "iopub.status.busy": "2022-08-12T09:01:22.139645Z",
          "iopub.execute_input": "2022-08-12T09:01:22.140512Z",
          "iopub.status.idle": "2022-08-12T09:01:22.148490Z",
          "shell.execute_reply.started": "2022-08-12T09:01:22.140477Z",
          "shell.execute_reply": "2022-08-12T09:01:22.147386Z"
        },
        "trusted": true,
        "id": "gE8QK-fKnUiU",
        "colab": {
          "base_uri": "https://localhost:8080/"
        },
        "outputId": "09299f8d-9f6c-43af-b46a-a07d7443da62"
      },
      "execution_count": 54,
      "outputs": [
        {
          "output_type": "execute_result",
          "data": {
            "text/plain": [
              "array([[1., 0., 0.],\n",
              "       [0., 1., 0.],\n",
              "       [0., 1., 0.],\n",
              "       ...,\n",
              "       [0., 0., 1.],\n",
              "       [0., 0., 1.],\n",
              "       [0., 1., 0.]], dtype=float32)"
            ]
          },
          "metadata": {},
          "execution_count": 54
        }
      ]
    },
    {
      "cell_type": "code",
      "source": [
        "print(uniqueClassesMaslowLabel2)\n",
        "print(uniqueClassesMaslow2)"
      ],
      "metadata": {
        "execution": {
          "iopub.status.busy": "2022-08-12T09:01:22.150707Z",
          "iopub.execute_input": "2022-08-12T09:01:22.151486Z",
          "iopub.status.idle": "2022-08-12T09:01:22.157249Z",
          "shell.execute_reply.started": "2022-08-12T09:01:22.151450Z",
          "shell.execute_reply": "2022-08-12T09:01:22.156029Z"
        },
        "trusted": true,
        "id": "RkUd9ynLnUiU",
        "colab": {
          "base_uri": "https://localhost:8080/"
        },
        "outputId": "f7e34607-e93d-4dc1-f0fc-57cfcd847234"
      },
      "execution_count": 55,
      "outputs": [
        {
          "output_type": "stream",
          "name": "stdout",
          "text": [
            "['advanced_needs', 'basic_needs', 'none']\n",
            "[0, 1, 2]\n"
          ]
        }
      ]
    },
    {
      "cell_type": "code",
      "source": [
        "def get_mistakes(prediction_values, actual_values, test_sentences, actual_category, predicted_category,samples_shown):\n",
        "    # Make sure you Map uniqueClassesMaslowLabell2 catgory with the labels mapping as index. If label is 0 then the category index in the list should be 0\n",
        "    count = 0\n",
        "    correct_index = uniqueClassesMaslowLabel2.index(actual_category)\n",
        "    incorrect_index = uniqueClassesMaslowLabel2.index(predicted_category)\n",
        "    print('Text classified as ',uniqueClassesMaslowLabel2[incorrect_index],\" but actual category is \",uniqueClassesMaslowLabel2[correct_index])\n",
        "    for i in range(0,len(prediction_values)):\n",
        "        if prediction_values[i] == incorrect_index and actual_values[i] == correct_index and count != samples_shown:\n",
        "            print(str(i),test_sentences[i])\n",
        "            count = count + 1\n",
        "\n",
        "    \n",
        "get_mistakes(prediction_values = review_predictions2,\n",
        "             actual_values = integer_label,\n",
        "             test_sentences = x_test_text,\n",
        "             actual_category = 'none', \n",
        "             predicted_category = 'basic_needs',\n",
        "             samples_shown = 10)"
      ],
      "metadata": {
        "execution": {
          "iopub.status.busy": "2022-08-12T09:01:22.158836Z",
          "iopub.execute_input": "2022-08-12T09:01:22.159969Z",
          "iopub.status.idle": "2022-08-12T09:01:22.175323Z",
          "shell.execute_reply.started": "2022-08-12T09:01:22.159931Z",
          "shell.execute_reply": "2022-08-12T09:01:22.174197Z"
        },
        "trusted": true,
        "id": "Tb9LVXT4nUiV",
        "colab": {
          "base_uri": "https://localhost:8080/"
        },
        "outputId": "81d1baed-d216-4434-997c-cdfbb0ab62b5"
      },
      "execution_count": 56,
      "outputs": [
        {
          "output_type": "stream",
          "name": "stdout",
          "text": [
            "Text classified as  basic_needs  but actual category is  none\n",
            "22 Joe went to the bank to apply for a loan.\n",
            "28 LLoyd was out partying one night.He was having a great time.He was also drinking a little too much.\n",
            "87 Tom gave me a shirt for my birthday.I thought the shirt was very ugly and not my style.Mary's birthday was coming up next month.I put the shirt back in the box and rewrapped it.\n",
            "121 Emily wanted to go on a vacation.She searched for good deals on flights everyday.Eventually she found a great deal.She booked tickets to the Bahamas.\n",
            "180 Monday was making fudge with her mom.It was the holidays, the perfect time for fudge.She was stirring and stirring the hot fudge.She then slipped and threw the pan of hot fudge into the air.The fudge landed on a plate of cookies covering them all.\n",
            "214 Gina's brother had a friend named Joe.Gina disliked like Joe and always left when he came around.\n",
            "240 Sam needed help to move a couch in his house.\n",
            "251 My aunt lives on an island in Lake Michigan.You have to take a ferry to get there.\n",
            "298 Jen was at home.She decided to wash her hair.After she was done she looked into the mirror.Her hair was a different color.She realized she used the wrong bottle when washing her hair.\n",
            "316 Sally was so excited because today was the day the package would come.She had ordered a gift for her mother online.The mailman came to the door and dropped off the package.\n"
          ]
        }
      ]
    },
    {
      "cell_type": "code",
      "source": [
        "get_mistakes(prediction_values = review_predictions2,\n",
        "             actual_values = integer_label,\n",
        "             test_sentences = x_test_text,\n",
        "             actual_category = 'advanced_needs', \n",
        "             predicted_category = 'basic_needs',\n",
        "             samples_shown = 10)"
      ],
      "metadata": {
        "execution": {
          "iopub.status.busy": "2022-08-12T09:01:22.177005Z",
          "iopub.execute_input": "2022-08-12T09:01:22.177378Z",
          "iopub.status.idle": "2022-08-12T09:01:22.195898Z",
          "shell.execute_reply.started": "2022-08-12T09:01:22.177319Z",
          "shell.execute_reply": "2022-08-12T09:01:22.194861Z"
        },
        "trusted": true,
        "id": "9DBAfiFRnUiW",
        "colab": {
          "base_uri": "https://localhost:8080/"
        },
        "outputId": "f92781e4-37f8-45ff-b4ec-3fac42f9b30b"
      },
      "execution_count": 57,
      "outputs": [
        {
          "output_type": "stream",
          "name": "stdout",
          "text": [
            "Text classified as  basic_needs  but actual category is  advanced_needs\n",
            "0 Jamies job requires her to travel a lot.She has no family of her own so she doesn't mind.Her friends feel sorry for her.They think at her age she should have a family.She promised herself to take her time with it and just be happy.\n",
            "17 In August Billy is going overseas for the war.\n",
            "26 Carrie had met a cute guy at the bar.She had given him her phone number when he asked.He promised to text her the next morning.When Carrie woke up, she tried to brace for disappointment.\n",
            "33 Amy and Charles were going shopping for an engagement ring.They went to the mall and visited Kay Jewelers.They saw many rings within their price range.Amy finally saw the ring of her dreams.\n",
            "38 A carnival was coming to town.Dalton loved to ride the ferris wheel.Dalton's mother warned him not to eat before getting on the ride.Dalton ate lots of carnival food that night.Dalton got sick on the ride.\n",
            "44 Jerry went fishing last Sunday.He caught a lot of catfish, but one snapped his pole in half.Jerry went to the store to buy a new fishing pole.Jerry came home with two because he couldn't decide.\n",
            "53 Jack wanted to throw a dinner party.He went shopping for the food he would cook.Jake told the butcher he wanted to purchase veal.\n",
            "108 Zoey was wondering where to go on spring break.She couldn't decide in time.All her friends went to Malibu.\n",
            "113 Ron wanted a car.He knew his mom and dad couldn't afford one, though.So he began working after school washing dishes.\n",
            "123 Tim loved riding his motorcycle off road.He would enjoy getting muddy.He thought about which activities brought him the most fun.\n"
          ]
        }
      ]
    },
    {
      "cell_type": "code",
      "source": [
        "get_mistakes(prediction_values = review_predictions2,\n",
        "             actual_values = integer_label,\n",
        "             test_sentences = x_test_text,\n",
        "             actual_category = 'basic_needs', \n",
        "             predicted_category = 'advanced_needs',\n",
        "             samples_shown = 10)"
      ],
      "metadata": {
        "execution": {
          "iopub.status.busy": "2022-08-12T09:01:22.200613Z",
          "iopub.execute_input": "2022-08-12T09:01:22.201237Z",
          "iopub.status.idle": "2022-08-12T09:01:22.214562Z",
          "shell.execute_reply.started": "2022-08-12T09:01:22.201210Z",
          "shell.execute_reply": "2022-08-12T09:01:22.213552Z"
        },
        "trusted": true,
        "id": "oilay50OnUiW",
        "colab": {
          "base_uri": "https://localhost:8080/"
        },
        "outputId": "e0ac17c8-6dba-4544-de80-e476d3f5d71a"
      },
      "execution_count": 58,
      "outputs": [
        {
          "output_type": "stream",
          "name": "stdout",
          "text": [
            "Text classified as  advanced_needs  but actual category is  basic_needs\n",
            "3 I was bullied in high school.I had one bully in particular.She terrorized me almost everyday in school.\n",
            "12 It was the year coming up to the millennium and Cody was scared.Everyone was saying it was the end of the world and technology.So to keep his mind off of it Cody played Pokemon Blue on his gameboy.\n",
            "13 Jones exercised every night.\n",
            "27 Lisa had a job interview in three days.She was nervous and unprepared.Lisa decided to study for the interview.She practiced for nine hours every day.\n",
            "29 One day in 1982 my cousin called me.She works for a state agency.She told me she heard her agency was hiring.I scoffed at her, as the agency was very political.I managed to get a job.\n",
            "36 Rena and Jerry went to highschool together.They immediately fell in love.\n",
            "42 Cora was sad her father had passed away.She was having trouble dealing with her grief.She sat down at her piano and began to mess around.Cora's noodling turned into a full song.She dedicated the beautiful song to her father's memory.\n",
            "54 Kyle wanted to make an omelette for breakfast.He had four eggs left.He knew he could make a small omelette with two eggs.He could also make a big omelette with four eggs.\n",
            "60 Margery was making toast with butter.Then she realized she was out of butter.She decided to use margarine instead.Then Margery realized something amusing.She was Margery making margarine.\n",
            "65 Kate needed a new hat.She decided to make her own.She gathered the materials and she found a tutorial.\n"
          ]
        }
      ]
    },
    {
      "cell_type": "code",
      "source": [
        "get_mistakes(prediction_values = review_predictions2,\n",
        "             actual_values = integer_label,\n",
        "             test_sentences = x_test_text,\n",
        "             actual_category = 'none', \n",
        "             predicted_category = 'advanced_needs',\n",
        "             samples_shown = 10)"
      ],
      "metadata": {
        "execution": {
          "iopub.status.busy": "2022-08-12T09:01:22.216024Z",
          "iopub.execute_input": "2022-08-12T09:01:22.216643Z",
          "iopub.status.idle": "2022-08-12T09:01:22.229170Z",
          "shell.execute_reply.started": "2022-08-12T09:01:22.216605Z",
          "shell.execute_reply": "2022-08-12T09:01:22.228191Z"
        },
        "trusted": true,
        "id": "OV5NEGcunUiX",
        "colab": {
          "base_uri": "https://localhost:8080/"
        },
        "outputId": "1a86c0b4-f6ea-4aab-aa68-b5c2bb6900fb"
      },
      "execution_count": 59,
      "outputs": [
        {
          "output_type": "stream",
          "name": "stdout",
          "text": [
            "Text classified as  advanced_needs  but actual category is  none\n",
            "5 Kay was taking piano lessons.Her teacher was an accomplished musician.Kay was working on a piece to perform at the annual recital.She learned a lot from her teacher.\n",
            "56 Juanita had always wanted to learn how to play the flute.She decided to start taking lessons.At first the flute lessons were very difficult.\n",
            "59 Kate always recycles.She would crush all her cans.One day she slipped and cut her hand bad.\n",
            "82 Cora wanted to get a new dress.\n",
            "88 Milly's class was learning about alternative medicine.They visited an acupuncturist to learn more about it.Milly was shocked by how long the needles were.The practitioner asked for a volunteer to have a needle inserted.Milly moved to the back of the line to make sure he didn't pick her.\n",
            "228 Karen rejected the supplemental coverage on her insurance.\n",
            "236 Jerry was a great comedian.Everyone loved watching his routine.\n",
            "321 Dennis loved comic books.He collected many different kinds.His favourites were Beano and Marvel.Beeno was a favourite because of Dennis the Menace.\n",
            "342 Fred was a high school student at a small school.\n",
            "358 Pablo moved from Puerto Rico at age 5.He began school in the United States.School was hard for him because he knew no english.\n"
          ]
        }
      ]
    },
    {
      "cell_type": "code",
      "source": [
        "get_mistakes(prediction_values = review_predictions2,\n",
        "             actual_values = integer_label,\n",
        "             test_sentences = x_test_text,\n",
        "             actual_category = 'basic_needs', \n",
        "             predicted_category = 'none',\n",
        "             samples_shown = 10)"
      ],
      "metadata": {
        "execution": {
          "iopub.status.busy": "2022-08-12T09:01:22.230644Z",
          "iopub.execute_input": "2022-08-12T09:01:22.231258Z",
          "iopub.status.idle": "2022-08-12T09:01:22.244484Z",
          "shell.execute_reply.started": "2022-08-12T09:01:22.231222Z",
          "shell.execute_reply": "2022-08-12T09:01:22.243306Z"
        },
        "trusted": true,
        "id": "NMRtkh6KnUiY",
        "colab": {
          "base_uri": "https://localhost:8080/"
        },
        "outputId": "d459054a-2f3f-49f6-c857-6b38518b3a6a"
      },
      "execution_count": 60,
      "outputs": [
        {
          "output_type": "stream",
          "name": "stdout",
          "text": [
            "Text classified as  none  but actual category is  basic_needs\n",
            "2 Karl locked his car.\n",
            "4 Kay was at work when a headache started.\n",
            "8 One day, Bob's dog ran out the door as Bob was leaving the house.Bob called the dog's name, but he kept running away and disappeared.\n",
            "10 Cat has a science test in the morning.She decided to pull an all nighter to get ready.Since she stayed up all night she could barely stay awake.When she got to school, she fell asleep at her desk.Cat slept right through her test.\n",
            "37 Shelly let her dogs out in the backyard to play.Moments later she noticed a groundhog peeking out from under the shed.She called the dogs back inside before they saw the critter.Once inside, the dogs saw the groundhog and started barking.The little groundhog ran under the fence to the neighbor's yard.\n",
            "41 Carlos just got a new apartment.He needed a refrigerator.So Carlos went to the store.He found a very nice refrigerator and bought.Carlos now had a new refrigerator.\n",
            "45 When Jon felt alone, he always went to the lake.He liked to scatter breadcrumbs for the ducks.Sometimes he played with dogs and talked to their owners.He also greeted a few people he knew by sight.Only to return home and feel alone again.\n",
            "47 John was always easily spooked.John went to the movies with his friends.They saw a very scary horror movie.John was pretty shaken up by the content of the movie.\n",
            "58 Jenny pushed the stroller up the stairs while watching the apes.The stroller hit a bump in the stairs.The baby in the stroller proceeded to fall out of the bottom.The baby was passed seamlessly between 3 people.The baby settled in Chad's lap at the bottom of the stairs.\n",
            "62 John was sitting at his desk.\n"
          ]
        }
      ]
    },
    {
      "cell_type": "code",
      "source": [
        "get_mistakes(prediction_values = review_predictions2,\n",
        "             actual_values = integer_label,\n",
        "             test_sentences = x_test_text,\n",
        "             actual_category = 'advanced_needs', \n",
        "             predicted_category = 'none',\n",
        "             samples_shown = 10)"
      ],
      "metadata": {
        "execution": {
          "iopub.status.busy": "2022-08-12T09:01:22.246173Z",
          "iopub.execute_input": "2022-08-12T09:01:22.246915Z",
          "iopub.status.idle": "2022-08-12T09:01:22.260367Z",
          "shell.execute_reply.started": "2022-08-12T09:01:22.246879Z",
          "shell.execute_reply": "2022-08-12T09:01:22.259263Z"
        },
        "trusted": true,
        "id": "yS3dK6o5nUiZ",
        "colab": {
          "base_uri": "https://localhost:8080/"
        },
        "outputId": "018b4785-30b7-4132-f9ca-d703f2416975"
      },
      "execution_count": 61,
      "outputs": [
        {
          "output_type": "stream",
          "name": "stdout",
          "text": [
            "Text classified as  none  but actual category is  advanced_needs\n",
            "9 Lily was flying alone for the first time.\n",
            "20 The horse showed up to our house.It was brown and white.No one knew where it came from.She was broken and let us ride here.\n",
            "30 I was in the river fishing one day.At the bottom of the river I saw something glittery.\n",
            "35 Dave had entered a raffle at work this past weekend.\n",
            "40 Drawing had been an escape for Jenna since childhood in an angry home.With sidewalk chalk, she drew magical places where no one yelled.\n",
            "52 Emily wanted to go on a vacation.\n",
            "69 Sarah owned a small business.\n",
            "83 Alex was on a camping trip.\n",
            "100 Sara bought a lottery ticket.\n",
            "102 The man got angry.He did something.He regretted it later.He apologized for what he did.He was never quite forgiven.\n"
          ]
        }
      ]
    },
    {
      "cell_type": "code",
      "source": [
        ""
      ],
      "metadata": {
        "id": "5U-ztbfZ9dQm"
      },
      "execution_count": null,
      "outputs": []
    }
  ]
}