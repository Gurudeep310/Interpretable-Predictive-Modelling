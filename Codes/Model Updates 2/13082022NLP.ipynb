{
  "metadata": {
    "kernelspec": {
      "language": "python",
      "display_name": "Python 3",
      "name": "python3"
    },
    "language_info": {
      "name": "python",
      "version": "3.7.12",
      "mimetype": "text/x-python",
      "codemirror_mode": {
        "name": "ipython",
        "version": 3
      },
      "pygments_lexer": "ipython3",
      "nbconvert_exporter": "python",
      "file_extension": ".py"
    },
    "colab": {
      "name": "12082022_4.ipynb",
      "provenance": []
    }
  },
  "nbformat_minor": 0,
  "nbformat": 4,
  "cells": [
    {
      "cell_type": "code",
      "source": [
        "!pip install -q -U \"tensorflow-text==2.8.*\"\n",
        "!pip install -q tf-models-official==2.7.0"
      ],
      "metadata": {
        "execution": {
          "iopub.status.busy": "2022-08-12T08:29:10.541362Z",
          "iopub.execute_input": "2022-08-12T08:29:10.541966Z",
          "iopub.status.idle": "2022-08-12T08:31:16.727768Z",
          "shell.execute_reply.started": "2022-08-12T08:29:10.541922Z",
          "shell.execute_reply": "2022-08-12T08:31:16.726598Z"
        },
        "trusted": true,
        "id": "O3UHzvUDUhhi"
      },
      "execution_count": null,
      "outputs": []
    },
    {
      "cell_type": "code",
      "source": [
        "import pandas as pd \n",
        "import numpy as np\n",
        "from sklearn.preprocessing import LabelEncoder\n",
        "from sklearn.model_selection import train_test_split\n",
        "\n",
        "import tensorflow as tf\n",
        "import tensorflow_hub as hub\n",
        "import keras\n"
      ],
      "metadata": {
        "execution": {
          "iopub.status.busy": "2022-08-12T09:57:05.286552Z",
          "iopub.execute_input": "2022-08-12T09:57:05.286926Z",
          "iopub.status.idle": "2022-08-12T09:57:05.294384Z",
          "shell.execute_reply.started": "2022-08-12T09:57:05.286895Z",
          "shell.execute_reply": "2022-08-12T09:57:05.293171Z"
        },
        "trusted": true,
        "id": "3wKt3YyWUhhj"
      },
      "execution_count": null,
      "outputs": []
    },
    {
      "cell_type": "code",
      "source": [
        "final_train_augmented = pd.read_csv(\"\")\n",
        "original_test_data = pd.read_csv(\"\")"
      ],
      "metadata": {
        "execution": {
          "iopub.status.busy": "2022-08-12T10:25:03.806492Z",
          "iopub.execute_input": "2022-08-12T10:25:03.807013Z",
          "iopub.status.idle": "2022-08-12T10:25:03.868321Z",
          "shell.execute_reply.started": "2022-08-12T10:25:03.806977Z",
          "shell.execute_reply": "2022-08-12T10:25:03.867320Z"
        },
        "trusted": true,
        "id": "gziHDbWBUhhj"
      },
      "execution_count": null,
      "outputs": []
    },
    {
      "cell_type": "code",
      "source": [
        "x_train = final_train_augmented['sentence']\n",
        "y_train = final_train_augmented['maslow']\n",
        "x_test = original_test_data['sentence']\n",
        "y_test = original_test_data['maslow']"
      ],
      "metadata": {
        "execution": {
          "iopub.status.busy": "2022-08-12T10:00:52.321172Z",
          "iopub.execute_input": "2022-08-12T10:00:52.321549Z",
          "iopub.status.idle": "2022-08-12T10:00:52.328998Z",
          "shell.execute_reply.started": "2022-08-12T10:00:52.321519Z",
          "shell.execute_reply": "2022-08-12T10:00:52.327700Z"
        },
        "trusted": true,
        "id": "4YJkQqehUhhm"
      },
      "execution_count": null,
      "outputs": []
    },
    {
      "cell_type": "code",
      "source": [
        "y_train = tf.keras.utils.to_categorical(y_train)\n",
        "y_test =  tf.keras.utils.to_categorical(y_test)\n",
        "y_train"
      ],
      "metadata": {
        "execution": {
          "iopub.status.busy": "2022-08-12T10:01:11.023497Z",
          "iopub.execute_input": "2022-08-12T10:01:11.023952Z",
          "iopub.status.idle": "2022-08-12T10:01:11.034116Z",
          "shell.execute_reply.started": "2022-08-12T10:01:11.023918Z",
          "shell.execute_reply": "2022-08-12T10:01:11.032565Z"
        },
        "trusted": true,
        "id": "eTDnF0ZZUhhn"
      },
      "execution_count": null,
      "outputs": []
    },
    {
      "cell_type": "code",
      "source": [
        "bert_preprocess = hub.KerasLayer(\"https://tfhub.dev/tensorflow/bert_en_uncased_preprocess/3\")\n",
        "bert_encoder = hub.KerasLayer(\"https://tfhub.dev/tensorflow/small_bert/bert_en_uncased_L-4_H-768_A-12/1\")"
      ],
      "metadata": {
        "execution": {
          "iopub.status.busy": "2022-08-12T10:01:17.397635Z",
          "iopub.execute_input": "2022-08-12T10:01:17.398318Z",
          "iopub.status.idle": "2022-08-12T10:01:24.666762Z",
          "shell.execute_reply.started": "2022-08-12T10:01:17.398283Z",
          "shell.execute_reply": "2022-08-12T10:01:24.665784Z"
        },
        "trusted": true,
        "id": "50I8e8RAUhho"
      },
      "execution_count": null,
      "outputs": []
    },
    {
      "cell_type": "code",
      "source": [
        "def focal_loss(gamma=2., alpha=4.):   \n",
        "\n",
        "    gamma = float(gamma)\n",
        "    alpha = float(alpha)\n",
        "\n",
        "    def focal_loss_fixed(y_true, y_pred):\n",
        "        epsilon = 1.e-9\n",
        "        y_true = tf.convert_to_tensor(y_true, tf.float32)\n",
        "        y_pred = tf.convert_to_tensor(y_pred, tf.float32)\n",
        "\n",
        "        model_out = tf.add(y_pred, epsilon)\n",
        "        ce = tf.multiply(y_true, -tf.math.log(model_out))\n",
        "        weight = tf.multiply(y_true, tf.pow(tf.subtract(1., model_out), gamma))\n",
        "        fl = tf.multiply(alpha, tf.multiply(weight, ce))\n",
        "        reduced_fl = tf.reduce_max(fl, axis=1)\n",
        "        return tf.reduce_mean(reduced_fl)\n",
        "    return focal_loss_fixed"
      ],
      "metadata": {
        "execution": {
          "iopub.status.busy": "2022-08-12T10:01:24.668801Z",
          "iopub.execute_input": "2022-08-12T10:01:24.669160Z",
          "iopub.status.idle": "2022-08-12T10:01:24.699935Z",
          "shell.execute_reply.started": "2022-08-12T10:01:24.669125Z",
          "shell.execute_reply": "2022-08-12T10:01:24.699055Z"
        },
        "trusted": true,
        "id": "X6XYowbxUhhp"
      },
      "execution_count": null,
      "outputs": []
    },
    {
      "cell_type": "code",
      "source": [
        "text_input = tf.keras.layers.Input(shape=(), dtype=tf.string, name='text')\n",
        "preprocessed_text = bert_preprocess(text_input)\n",
        "outputs = bert_encoder(preprocessed_text)\n",
        "model = tf.keras.Model(inputs=[text_input], outputs = [l])\n",
        "model.compile(loss= focal_loss(alpha=0.1, gamma = 2) , optimizer='adam', metrics=METRICS)"
      ],
      "metadata": {
        "execution": {
          "iopub.status.busy": "2022-08-12T10:01:24.701496Z",
          "iopub.execute_input": "2022-08-12T10:01:24.701896Z",
          "iopub.status.idle": "2022-08-12T10:01:24.931952Z",
          "shell.execute_reply.started": "2022-08-12T10:01:24.701861Z",
          "shell.execute_reply": "2022-08-12T10:01:24.930920Z"
        },
        "trusted": true,
        "id": "18jFwBGFUhhp"
      },
      "execution_count": null,
      "outputs": []
    },
    {
      "cell_type": "code",
      "source": [
        "callback = tf.keras.callbacks.EarlyStopping(\n",
        "    monitor='val_loss',\n",
        "    min_delta=0,\n",
        "    patience=5,\n",
        "    verbose=0,\n",
        "    mode='auto',\n",
        "    baseline=None,\n",
        "    restore_best_weights=False,\n",
        "\n",
        ")\n",
        "\n",
        "reduce_lr = tf.keras.callbacks.ReduceLROnPlateau(monitor = 'val_accuracy',\n",
        "                                                 factor = 0.2,\n",
        "                                                 patience = 1,\n",
        "                                                 verbose = 1,\n",
        "                                                 min_delta = 1e-4,\n",
        "                                                 min_lr = 1e-7,\n",
        "                                                 mode = 'max')          \n",
        "\n",
        "model.compile(loss= focal_loss(alpha=0.1, gamma = 2) , metrics='accuracy')\n",
        "history = model.fit(x_train, y_train,epochs=1, validation_data = (x_test,y_test),callbacks=[callback, reduce_lr])"
      ],
      "metadata": {
        "execution": {
          "iopub.status.busy": "2022-08-12T10:01:34.214830Z",
          "iopub.execute_input": "2022-08-12T10:01:34.215622Z",
          "iopub.status.idle": "2022-08-12T10:13:34.006174Z",
          "shell.execute_reply.started": "2022-08-12T10:01:34.215585Z",
          "shell.execute_reply": "2022-08-12T10:13:34.005156Z"
        },
        "trusted": true,
        "id": "9BirKMOtUhhq"
      },
      "execution_count": null,
      "outputs": []
    },
    {
      "cell_type": "code",
      "source": [
        "model.evaluate(x_test, y_test)"
      ],
      "metadata": {
        "execution": {
          "iopub.status.busy": "2022-08-12T10:19:22.607503Z",
          "iopub.execute_input": "2022-08-12T10:19:22.607911Z",
          "iopub.status.idle": "2022-08-12T10:20:22.725534Z",
          "shell.execute_reply.started": "2022-08-12T10:19:22.607880Z",
          "shell.execute_reply": "2022-08-12T10:20:22.724428Z"
        },
        "trusted": true,
        "id": "W3AcNHFRUhhq"
      },
      "execution_count": null,
      "outputs": []
    },
    {
      "cell_type": "code",
      "source": [
        "y_pred2 = model.predict(x_test)"
      ],
      "metadata": {
        "execution": {
          "iopub.status.busy": "2022-08-12T10:20:23.388172Z",
          "iopub.execute_input": "2022-08-12T10:20:23.388637Z",
          "iopub.status.idle": "2022-08-12T10:20:44.366659Z",
          "shell.execute_reply.started": "2022-08-12T10:20:23.388600Z",
          "shell.execute_reply": "2022-08-12T10:20:44.365571Z"
        },
        "trusted": true,
        "id": "uZpHQbDgUhhr"
      },
      "execution_count": null,
      "outputs": []
    }
  ]
}